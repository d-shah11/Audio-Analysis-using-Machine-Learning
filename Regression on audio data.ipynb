{
 "cells": [
  {
   "cell_type": "markdown",
   "metadata": {},
   "source": [
    "# Project 1 - Regression Task"
   ]
  },
  {
   "cell_type": "markdown",
   "metadata": {},
   "source": [
    "## Importing csv file using Pandas"
   ]
  },
  {
   "cell_type": "code",
   "execution_count": 1,
   "metadata": {},
   "outputs": [],
   "source": [
    "import pandas as pd\n",
    "import numpy as np\n",
    "import matplotlib.pyplot as plt\n",
    "import seaborn as sns"
   ]
  },
  {
   "cell_type": "code",
   "execution_count": 2,
   "metadata": {},
   "outputs": [],
   "source": [
    "from sklearn.neighbors import KNeighborsRegressor\n",
    "from sklearn.linear_model import LinearRegression\n",
    "from sklearn.linear_model import Ridge\n",
    "from sklearn.linear_model import Lasso\n",
    "from sklearn.preprocessing import PolynomialFeatures\n",
    "from sklearn.svm import SVR\n",
    "from sklearn.svm import LinearSVR"
   ]
  },
  {
   "cell_type": "code",
   "execution_count": 3,
   "metadata": {},
   "outputs": [],
   "source": [
    "data = pd.read_csv(\"data1.csv\")"
   ]
  },
  {
   "cell_type": "code",
   "execution_count": 4,
   "metadata": {},
   "outputs": [],
   "source": [
    "df=pd.DataFrame(data)"
   ]
  },
  {
   "cell_type": "markdown",
   "metadata": {},
   "source": [
    "## Exploring data"
   ]
  },
  {
   "cell_type": "code",
   "execution_count": 5,
   "metadata": {},
   "outputs": [
    {
     "data": {
      "text/plain": [
       "(2017, 17)"
      ]
     },
     "execution_count": 5,
     "metadata": {},
     "output_type": "execute_result"
    }
   ],
   "source": [
    "df.shape"
   ]
  },
  {
   "cell_type": "code",
   "execution_count": 6,
   "metadata": {},
   "outputs": [
    {
     "name": "stdout",
     "output_type": "stream",
     "text": [
      "<class 'pandas.core.frame.DataFrame'>\n",
      "RangeIndex: 2017 entries, 0 to 2016\n",
      "Data columns (total 17 columns):\n",
      "id                  2017 non-null int64\n",
      "acousticness        2016 non-null float64\n",
      "danceability        2015 non-null float64\n",
      "duration_ms         2017 non-null int64\n",
      "energy              2017 non-null float64\n",
      "instrumentalness    1978 non-null float64\n",
      "key                 2015 non-null float64\n",
      "liveness            2016 non-null float64\n",
      "loudness            2017 non-null float64\n",
      "mode                1995 non-null float64\n",
      "speechiness         2017 non-null float64\n",
      "tempo               2016 non-null float64\n",
      "time_signature      1984 non-null float64\n",
      "valence             2016 non-null float64\n",
      "target              2017 non-null int64\n",
      "song_title          2017 non-null object\n",
      "artist              2017 non-null object\n",
      "dtypes: float64(12), int64(3), object(2)\n",
      "memory usage: 268.0+ KB\n"
     ]
    }
   ],
   "source": [
    "df.info()"
   ]
  },
  {
   "cell_type": "code",
   "execution_count": 7,
   "metadata": {},
   "outputs": [
    {
     "data": {
      "text/html": [
       "<div>\n",
       "<style scoped>\n",
       "    .dataframe tbody tr th:only-of-type {\n",
       "        vertical-align: middle;\n",
       "    }\n",
       "\n",
       "    .dataframe tbody tr th {\n",
       "        vertical-align: top;\n",
       "    }\n",
       "\n",
       "    .dataframe thead th {\n",
       "        text-align: right;\n",
       "    }\n",
       "</style>\n",
       "<table border=\"1\" class=\"dataframe\">\n",
       "  <thead>\n",
       "    <tr style=\"text-align: right;\">\n",
       "      <th></th>\n",
       "      <th>id</th>\n",
       "      <th>acousticness</th>\n",
       "      <th>danceability</th>\n",
       "      <th>duration_ms</th>\n",
       "      <th>energy</th>\n",
       "      <th>instrumentalness</th>\n",
       "      <th>key</th>\n",
       "      <th>liveness</th>\n",
       "      <th>loudness</th>\n",
       "      <th>mode</th>\n",
       "      <th>speechiness</th>\n",
       "      <th>tempo</th>\n",
       "      <th>time_signature</th>\n",
       "      <th>valence</th>\n",
       "      <th>target</th>\n",
       "      <th>song_title</th>\n",
       "      <th>artist</th>\n",
       "    </tr>\n",
       "  </thead>\n",
       "  <tbody>\n",
       "    <tr>\n",
       "      <th>0</th>\n",
       "      <td>0</td>\n",
       "      <td>0.0102</td>\n",
       "      <td>0.833</td>\n",
       "      <td>204600</td>\n",
       "      <td>0.434</td>\n",
       "      <td>0.021900</td>\n",
       "      <td>2.0</td>\n",
       "      <td>0.1650</td>\n",
       "      <td>-8.795</td>\n",
       "      <td>1.0</td>\n",
       "      <td>0.4310</td>\n",
       "      <td>150.062</td>\n",
       "      <td>4.0</td>\n",
       "      <td>0.286</td>\n",
       "      <td>1</td>\n",
       "      <td>Mask Off</td>\n",
       "      <td>Future</td>\n",
       "    </tr>\n",
       "    <tr>\n",
       "      <th>1</th>\n",
       "      <td>1</td>\n",
       "      <td>0.1990</td>\n",
       "      <td>0.743</td>\n",
       "      <td>326933</td>\n",
       "      <td>0.359</td>\n",
       "      <td>0.006110</td>\n",
       "      <td>1.0</td>\n",
       "      <td>0.1370</td>\n",
       "      <td>-10.401</td>\n",
       "      <td>1.0</td>\n",
       "      <td>0.0794</td>\n",
       "      <td>160.083</td>\n",
       "      <td>4.0</td>\n",
       "      <td>0.588</td>\n",
       "      <td>1</td>\n",
       "      <td>Redbone</td>\n",
       "      <td>Childish Gambino</td>\n",
       "    </tr>\n",
       "    <tr>\n",
       "      <th>2</th>\n",
       "      <td>2</td>\n",
       "      <td>0.0344</td>\n",
       "      <td>0.838</td>\n",
       "      <td>185707</td>\n",
       "      <td>0.412</td>\n",
       "      <td>0.000234</td>\n",
       "      <td>2.0</td>\n",
       "      <td>0.1590</td>\n",
       "      <td>-7.148</td>\n",
       "      <td>1.0</td>\n",
       "      <td>0.2890</td>\n",
       "      <td>75.044</td>\n",
       "      <td>4.0</td>\n",
       "      <td>0.173</td>\n",
       "      <td>1</td>\n",
       "      <td>Xanny Family</td>\n",
       "      <td>Future</td>\n",
       "    </tr>\n",
       "    <tr>\n",
       "      <th>3</th>\n",
       "      <td>3</td>\n",
       "      <td>0.6040</td>\n",
       "      <td>0.494</td>\n",
       "      <td>199413</td>\n",
       "      <td>0.338</td>\n",
       "      <td>0.510000</td>\n",
       "      <td>5.0</td>\n",
       "      <td>0.0922</td>\n",
       "      <td>-15.236</td>\n",
       "      <td>1.0</td>\n",
       "      <td>0.0261</td>\n",
       "      <td>86.468</td>\n",
       "      <td>4.0</td>\n",
       "      <td>0.230</td>\n",
       "      <td>1</td>\n",
       "      <td>Master Of None</td>\n",
       "      <td>Beach House</td>\n",
       "    </tr>\n",
       "    <tr>\n",
       "      <th>4</th>\n",
       "      <td>4</td>\n",
       "      <td>0.1800</td>\n",
       "      <td>0.678</td>\n",
       "      <td>392893</td>\n",
       "      <td>0.561</td>\n",
       "      <td>0.512000</td>\n",
       "      <td>5.0</td>\n",
       "      <td>0.4390</td>\n",
       "      <td>-11.648</td>\n",
       "      <td>0.0</td>\n",
       "      <td>0.0694</td>\n",
       "      <td>174.004</td>\n",
       "      <td>4.0</td>\n",
       "      <td>0.904</td>\n",
       "      <td>1</td>\n",
       "      <td>Parallel Lines</td>\n",
       "      <td>Junior Boys</td>\n",
       "    </tr>\n",
       "  </tbody>\n",
       "</table>\n",
       "</div>"
      ],
      "text/plain": [
       "   id  acousticness  danceability  duration_ms  energy  instrumentalness  key  \\\n",
       "0   0        0.0102         0.833       204600   0.434          0.021900  2.0   \n",
       "1   1        0.1990         0.743       326933   0.359          0.006110  1.0   \n",
       "2   2        0.0344         0.838       185707   0.412          0.000234  2.0   \n",
       "3   3        0.6040         0.494       199413   0.338          0.510000  5.0   \n",
       "4   4        0.1800         0.678       392893   0.561          0.512000  5.0   \n",
       "\n",
       "   liveness  loudness  mode  speechiness    tempo  time_signature  valence  \\\n",
       "0    0.1650    -8.795   1.0       0.4310  150.062             4.0    0.286   \n",
       "1    0.1370   -10.401   1.0       0.0794  160.083             4.0    0.588   \n",
       "2    0.1590    -7.148   1.0       0.2890   75.044             4.0    0.173   \n",
       "3    0.0922   -15.236   1.0       0.0261   86.468             4.0    0.230   \n",
       "4    0.4390   -11.648   0.0       0.0694  174.004             4.0    0.904   \n",
       "\n",
       "   target      song_title            artist  \n",
       "0       1        Mask Off            Future  \n",
       "1       1         Redbone  Childish Gambino  \n",
       "2       1    Xanny Family            Future  \n",
       "3       1  Master Of None       Beach House  \n",
       "4       1  Parallel Lines       Junior Boys  "
      ]
     },
     "execution_count": 7,
     "metadata": {},
     "output_type": "execute_result"
    }
   ],
   "source": [
    "df.head()"
   ]
  },
  {
   "cell_type": "code",
   "execution_count": 8,
   "metadata": {},
   "outputs": [
    {
     "data": {
      "text/html": [
       "<div>\n",
       "<style scoped>\n",
       "    .dataframe tbody tr th:only-of-type {\n",
       "        vertical-align: middle;\n",
       "    }\n",
       "\n",
       "    .dataframe tbody tr th {\n",
       "        vertical-align: top;\n",
       "    }\n",
       "\n",
       "    .dataframe thead th {\n",
       "        text-align: right;\n",
       "    }\n",
       "</style>\n",
       "<table border=\"1\" class=\"dataframe\">\n",
       "  <thead>\n",
       "    <tr style=\"text-align: right;\">\n",
       "      <th></th>\n",
       "      <th>id</th>\n",
       "      <th>acousticness</th>\n",
       "      <th>danceability</th>\n",
       "      <th>duration_ms</th>\n",
       "      <th>energy</th>\n",
       "      <th>instrumentalness</th>\n",
       "      <th>key</th>\n",
       "      <th>liveness</th>\n",
       "      <th>loudness</th>\n",
       "      <th>mode</th>\n",
       "      <th>speechiness</th>\n",
       "      <th>tempo</th>\n",
       "      <th>time_signature</th>\n",
       "      <th>valence</th>\n",
       "      <th>target</th>\n",
       "      <th>song_title</th>\n",
       "      <th>artist</th>\n",
       "    </tr>\n",
       "  </thead>\n",
       "  <tbody>\n",
       "    <tr>\n",
       "      <th>2012</th>\n",
       "      <td>2012</td>\n",
       "      <td>0.00106</td>\n",
       "      <td>0.584</td>\n",
       "      <td>274404</td>\n",
       "      <td>0.932</td>\n",
       "      <td>0.002690</td>\n",
       "      <td>1.0</td>\n",
       "      <td>0.1290</td>\n",
       "      <td>-3.501</td>\n",
       "      <td>1.0</td>\n",
       "      <td>0.333</td>\n",
       "      <td>74.976</td>\n",
       "      <td>4.0</td>\n",
       "      <td>0.211</td>\n",
       "      <td>0</td>\n",
       "      <td>Like A Bitch - Kill The Noise Remix</td>\n",
       "      <td>Kill The Noise</td>\n",
       "    </tr>\n",
       "    <tr>\n",
       "      <th>2013</th>\n",
       "      <td>2013</td>\n",
       "      <td>0.08770</td>\n",
       "      <td>0.894</td>\n",
       "      <td>182182</td>\n",
       "      <td>0.892</td>\n",
       "      <td>0.001670</td>\n",
       "      <td>1.0</td>\n",
       "      <td>0.0528</td>\n",
       "      <td>-2.663</td>\n",
       "      <td>1.0</td>\n",
       "      <td>0.131</td>\n",
       "      <td>110.041</td>\n",
       "      <td>4.0</td>\n",
       "      <td>0.867</td>\n",
       "      <td>0</td>\n",
       "      <td>Candy</td>\n",
       "      <td>Dillon Francis</td>\n",
       "    </tr>\n",
       "    <tr>\n",
       "      <th>2014</th>\n",
       "      <td>2014</td>\n",
       "      <td>0.00857</td>\n",
       "      <td>0.637</td>\n",
       "      <td>207200</td>\n",
       "      <td>0.935</td>\n",
       "      <td>0.003990</td>\n",
       "      <td>0.0</td>\n",
       "      <td>0.2140</td>\n",
       "      <td>-2.467</td>\n",
       "      <td>1.0</td>\n",
       "      <td>0.107</td>\n",
       "      <td>150.082</td>\n",
       "      <td>4.0</td>\n",
       "      <td>0.470</td>\n",
       "      <td>0</td>\n",
       "      <td>Habit - Dack Janiels &amp; Wenzday Remix</td>\n",
       "      <td>Rain Man</td>\n",
       "    </tr>\n",
       "    <tr>\n",
       "      <th>2015</th>\n",
       "      <td>2015</td>\n",
       "      <td>0.00164</td>\n",
       "      <td>0.557</td>\n",
       "      <td>185600</td>\n",
       "      <td>0.992</td>\n",
       "      <td>0.677000</td>\n",
       "      <td>1.0</td>\n",
       "      <td>0.0913</td>\n",
       "      <td>-2.735</td>\n",
       "      <td>1.0</td>\n",
       "      <td>0.133</td>\n",
       "      <td>150.011</td>\n",
       "      <td>4.0</td>\n",
       "      <td>0.623</td>\n",
       "      <td>0</td>\n",
       "      <td>First Contact</td>\n",
       "      <td>Twin Moons</td>\n",
       "    </tr>\n",
       "    <tr>\n",
       "      <th>2016</th>\n",
       "      <td>2016</td>\n",
       "      <td>0.00281</td>\n",
       "      <td>0.446</td>\n",
       "      <td>204520</td>\n",
       "      <td>0.915</td>\n",
       "      <td>0.000039</td>\n",
       "      <td>9.0</td>\n",
       "      <td>0.2180</td>\n",
       "      <td>-6.221</td>\n",
       "      <td>1.0</td>\n",
       "      <td>0.141</td>\n",
       "      <td>190.013</td>\n",
       "      <td>4.0</td>\n",
       "      <td>0.402</td>\n",
       "      <td>0</td>\n",
       "      <td>I Wanna Get Better</td>\n",
       "      <td>Bleachers</td>\n",
       "    </tr>\n",
       "  </tbody>\n",
       "</table>\n",
       "</div>"
      ],
      "text/plain": [
       "        id  acousticness  danceability  duration_ms  energy  instrumentalness  \\\n",
       "2012  2012       0.00106         0.584       274404   0.932          0.002690   \n",
       "2013  2013       0.08770         0.894       182182   0.892          0.001670   \n",
       "2014  2014       0.00857         0.637       207200   0.935          0.003990   \n",
       "2015  2015       0.00164         0.557       185600   0.992          0.677000   \n",
       "2016  2016       0.00281         0.446       204520   0.915          0.000039   \n",
       "\n",
       "      key  liveness  loudness  mode  speechiness    tempo  time_signature  \\\n",
       "2012  1.0    0.1290    -3.501   1.0        0.333   74.976             4.0   \n",
       "2013  1.0    0.0528    -2.663   1.0        0.131  110.041             4.0   \n",
       "2014  0.0    0.2140    -2.467   1.0        0.107  150.082             4.0   \n",
       "2015  1.0    0.0913    -2.735   1.0        0.133  150.011             4.0   \n",
       "2016  9.0    0.2180    -6.221   1.0        0.141  190.013             4.0   \n",
       "\n",
       "      valence  target                            song_title          artist  \n",
       "2012    0.211       0   Like A Bitch - Kill The Noise Remix  Kill The Noise  \n",
       "2013    0.867       0                                 Candy  Dillon Francis  \n",
       "2014    0.470       0  Habit - Dack Janiels & Wenzday Remix        Rain Man  \n",
       "2015    0.623       0                         First Contact      Twin Moons  \n",
       "2016    0.402       0                    I Wanna Get Better       Bleachers  "
      ]
     },
     "execution_count": 8,
     "metadata": {},
     "output_type": "execute_result"
    }
   ],
   "source": [
    "df.tail()"
   ]
  },
  {
   "cell_type": "code",
   "execution_count": 9,
   "metadata": {},
   "outputs": [
    {
     "data": {
      "text/html": [
       "<div>\n",
       "<style scoped>\n",
       "    .dataframe tbody tr th:only-of-type {\n",
       "        vertical-align: middle;\n",
       "    }\n",
       "\n",
       "    .dataframe tbody tr th {\n",
       "        vertical-align: top;\n",
       "    }\n",
       "\n",
       "    .dataframe thead th {\n",
       "        text-align: right;\n",
       "    }\n",
       "</style>\n",
       "<table border=\"1\" class=\"dataframe\">\n",
       "  <thead>\n",
       "    <tr style=\"text-align: right;\">\n",
       "      <th></th>\n",
       "      <th>id</th>\n",
       "      <th>acousticness</th>\n",
       "      <th>danceability</th>\n",
       "      <th>duration_ms</th>\n",
       "      <th>energy</th>\n",
       "      <th>instrumentalness</th>\n",
       "      <th>key</th>\n",
       "      <th>liveness</th>\n",
       "      <th>loudness</th>\n",
       "      <th>mode</th>\n",
       "      <th>speechiness</th>\n",
       "      <th>tempo</th>\n",
       "      <th>time_signature</th>\n",
       "      <th>valence</th>\n",
       "      <th>target</th>\n",
       "    </tr>\n",
       "  </thead>\n",
       "  <tbody>\n",
       "    <tr>\n",
       "      <th>count</th>\n",
       "      <td>2017.000000</td>\n",
       "      <td>2016.000000</td>\n",
       "      <td>2015.000000</td>\n",
       "      <td>2.017000e+03</td>\n",
       "      <td>2017.000000</td>\n",
       "      <td>1978.000000</td>\n",
       "      <td>2015.000000</td>\n",
       "      <td>2016.000000</td>\n",
       "      <td>2017.000000</td>\n",
       "      <td>1995.00000</td>\n",
       "      <td>2017.000000</td>\n",
       "      <td>2016.000000</td>\n",
       "      <td>1984.000000</td>\n",
       "      <td>2016.000000</td>\n",
       "      <td>2017.000000</td>\n",
       "    </tr>\n",
       "    <tr>\n",
       "      <th>mean</th>\n",
       "      <td>1008.000000</td>\n",
       "      <td>0.187678</td>\n",
       "      <td>0.618478</td>\n",
       "      <td>2.463062e+05</td>\n",
       "      <td>0.681577</td>\n",
       "      <td>0.135335</td>\n",
       "      <td>5.347891</td>\n",
       "      <td>0.190888</td>\n",
       "      <td>-7.085624</td>\n",
       "      <td>0.61604</td>\n",
       "      <td>0.092664</td>\n",
       "      <td>121.607967</td>\n",
       "      <td>3.967742</td>\n",
       "      <td>0.496683</td>\n",
       "      <td>0.505702</td>\n",
       "    </tr>\n",
       "    <tr>\n",
       "      <th>std</th>\n",
       "      <td>582.402066</td>\n",
       "      <td>0.260024</td>\n",
       "      <td>0.161029</td>\n",
       "      <td>8.198181e+04</td>\n",
       "      <td>0.210273</td>\n",
       "      <td>0.274875</td>\n",
       "      <td>3.646163</td>\n",
       "      <td>0.155479</td>\n",
       "      <td>3.761684</td>\n",
       "      <td>0.48647</td>\n",
       "      <td>0.089931</td>\n",
       "      <td>26.691391</td>\n",
       "      <td>0.257940</td>\n",
       "      <td>0.247186</td>\n",
       "      <td>0.500091</td>\n",
       "    </tr>\n",
       "    <tr>\n",
       "      <th>min</th>\n",
       "      <td>0.000000</td>\n",
       "      <td>0.000003</td>\n",
       "      <td>0.122000</td>\n",
       "      <td>1.604200e+04</td>\n",
       "      <td>0.014800</td>\n",
       "      <td>0.000000</td>\n",
       "      <td>0.000000</td>\n",
       "      <td>0.018800</td>\n",
       "      <td>-33.097000</td>\n",
       "      <td>0.00000</td>\n",
       "      <td>0.023100</td>\n",
       "      <td>47.859000</td>\n",
       "      <td>1.000000</td>\n",
       "      <td>0.034800</td>\n",
       "      <td>0.000000</td>\n",
       "    </tr>\n",
       "    <tr>\n",
       "      <th>25%</th>\n",
       "      <td>504.000000</td>\n",
       "      <td>0.009590</td>\n",
       "      <td>0.514000</td>\n",
       "      <td>2.000150e+05</td>\n",
       "      <td>0.563000</td>\n",
       "      <td>0.000000</td>\n",
       "      <td>2.000000</td>\n",
       "      <td>0.092275</td>\n",
       "      <td>-8.394000</td>\n",
       "      <td>0.00000</td>\n",
       "      <td>0.037500</td>\n",
       "      <td>100.164000</td>\n",
       "      <td>4.000000</td>\n",
       "      <td>0.295000</td>\n",
       "      <td>0.000000</td>\n",
       "    </tr>\n",
       "    <tr>\n",
       "      <th>50%</th>\n",
       "      <td>1008.000000</td>\n",
       "      <td>0.063500</td>\n",
       "      <td>0.631000</td>\n",
       "      <td>2.292610e+05</td>\n",
       "      <td>0.715000</td>\n",
       "      <td>0.000093</td>\n",
       "      <td>6.000000</td>\n",
       "      <td>0.127000</td>\n",
       "      <td>-6.248000</td>\n",
       "      <td>1.00000</td>\n",
       "      <td>0.054900</td>\n",
       "      <td>121.468000</td>\n",
       "      <td>4.000000</td>\n",
       "      <td>0.492000</td>\n",
       "      <td>1.000000</td>\n",
       "    </tr>\n",
       "    <tr>\n",
       "      <th>75%</th>\n",
       "      <td>1512.000000</td>\n",
       "      <td>0.265000</td>\n",
       "      <td>0.738000</td>\n",
       "      <td>2.703330e+05</td>\n",
       "      <td>0.846000</td>\n",
       "      <td>0.056600</td>\n",
       "      <td>9.000000</td>\n",
       "      <td>0.247000</td>\n",
       "      <td>-4.746000</td>\n",
       "      <td>1.00000</td>\n",
       "      <td>0.108000</td>\n",
       "      <td>137.860500</td>\n",
       "      <td>4.000000</td>\n",
       "      <td>0.690250</td>\n",
       "      <td>1.000000</td>\n",
       "    </tr>\n",
       "    <tr>\n",
       "      <th>max</th>\n",
       "      <td>2016.000000</td>\n",
       "      <td>0.995000</td>\n",
       "      <td>0.984000</td>\n",
       "      <td>1.004627e+06</td>\n",
       "      <td>0.998000</td>\n",
       "      <td>0.976000</td>\n",
       "      <td>11.000000</td>\n",
       "      <td>0.969000</td>\n",
       "      <td>-0.307000</td>\n",
       "      <td>1.00000</td>\n",
       "      <td>0.816000</td>\n",
       "      <td>219.331000</td>\n",
       "      <td>5.000000</td>\n",
       "      <td>0.992000</td>\n",
       "      <td>1.000000</td>\n",
       "    </tr>\n",
       "  </tbody>\n",
       "</table>\n",
       "</div>"
      ],
      "text/plain": [
       "                id  acousticness  danceability   duration_ms       energy  \\\n",
       "count  2017.000000   2016.000000   2015.000000  2.017000e+03  2017.000000   \n",
       "mean   1008.000000      0.187678      0.618478  2.463062e+05     0.681577   \n",
       "std     582.402066      0.260024      0.161029  8.198181e+04     0.210273   \n",
       "min       0.000000      0.000003      0.122000  1.604200e+04     0.014800   \n",
       "25%     504.000000      0.009590      0.514000  2.000150e+05     0.563000   \n",
       "50%    1008.000000      0.063500      0.631000  2.292610e+05     0.715000   \n",
       "75%    1512.000000      0.265000      0.738000  2.703330e+05     0.846000   \n",
       "max    2016.000000      0.995000      0.984000  1.004627e+06     0.998000   \n",
       "\n",
       "       instrumentalness          key     liveness     loudness        mode  \\\n",
       "count       1978.000000  2015.000000  2016.000000  2017.000000  1995.00000   \n",
       "mean           0.135335     5.347891     0.190888    -7.085624     0.61604   \n",
       "std            0.274875     3.646163     0.155479     3.761684     0.48647   \n",
       "min            0.000000     0.000000     0.018800   -33.097000     0.00000   \n",
       "25%            0.000000     2.000000     0.092275    -8.394000     0.00000   \n",
       "50%            0.000093     6.000000     0.127000    -6.248000     1.00000   \n",
       "75%            0.056600     9.000000     0.247000    -4.746000     1.00000   \n",
       "max            0.976000    11.000000     0.969000    -0.307000     1.00000   \n",
       "\n",
       "       speechiness        tempo  time_signature      valence       target  \n",
       "count  2017.000000  2016.000000     1984.000000  2016.000000  2017.000000  \n",
       "mean      0.092664   121.607967        3.967742     0.496683     0.505702  \n",
       "std       0.089931    26.691391        0.257940     0.247186     0.500091  \n",
       "min       0.023100    47.859000        1.000000     0.034800     0.000000  \n",
       "25%       0.037500   100.164000        4.000000     0.295000     0.000000  \n",
       "50%       0.054900   121.468000        4.000000     0.492000     1.000000  \n",
       "75%       0.108000   137.860500        4.000000     0.690250     1.000000  \n",
       "max       0.816000   219.331000        5.000000     0.992000     1.000000  "
      ]
     },
     "execution_count": 9,
     "metadata": {},
     "output_type": "execute_result"
    }
   ],
   "source": [
    "df.describe()"
   ]
  },
  {
   "cell_type": "code",
   "execution_count": 10,
   "metadata": {},
   "outputs": [
    {
     "data": {
      "text/plain": [
       "id                    int64\n",
       "acousticness        float64\n",
       "danceability        float64\n",
       "duration_ms           int64\n",
       "energy              float64\n",
       "instrumentalness    float64\n",
       "key                 float64\n",
       "liveness            float64\n",
       "loudness            float64\n",
       "mode                float64\n",
       "speechiness         float64\n",
       "tempo               float64\n",
       "time_signature      float64\n",
       "valence             float64\n",
       "target                int64\n",
       "song_title           object\n",
       "artist               object\n",
       "dtype: object"
      ]
     },
     "execution_count": 10,
     "metadata": {},
     "output_type": "execute_result"
    }
   ],
   "source": [
    "df.dtypes"
   ]
  },
  {
   "cell_type": "code",
   "execution_count": 11,
   "metadata": {},
   "outputs": [
    {
     "data": {
      "text/plain": [
       "<matplotlib.axes._subplots.AxesSubplot at 0x23dc7e1c748>"
      ]
     },
     "execution_count": 11,
     "metadata": {},
     "output_type": "execute_result"
    },
    {
     "data": {
      "image/png": "[encoded data removed]",
      "text/plain": [
       "<Figure size 1080x360 with 1 Axes>"
      ]
     },
     "metadata": {
      "needs_background": "light"
     },
     "output_type": "display_data"
    }
   ],
   "source": [
    "df.plot(x = 'id',y = 'loudness',kind = 'scatter',figsize = (15,5))"
   ]
  },
  {
   "cell_type": "markdown",
   "metadata": {},
   "source": [
    "## Checking for missing data and imputing"
   ]
  },
  {
   "cell_type": "code",
   "execution_count": 12,
   "metadata": {
    "scrolled": true
   },
   "outputs": [
    {
     "data": {
      "text/plain": [
       "id                   0\n",
       "acousticness         1\n",
       "danceability         2\n",
       "duration_ms          0\n",
       "energy               0\n",
       "instrumentalness    39\n",
       "key                  2\n",
       "liveness             1\n",
       "loudness             0\n",
       "mode                22\n",
       "speechiness          0\n",
       "tempo                1\n",
       "time_signature      33\n",
       "valence              1\n",
       "target               0\n",
       "song_title           0\n",
       "artist               0\n",
       "dtype: int64"
      ]
     },
     "execution_count": 12,
     "metadata": {},
     "output_type": "execute_result"
    }
   ],
   "source": [
    "df.isnull().sum()"
   ]
  },
  {
   "cell_type": "code",
   "execution_count": 13,
   "metadata": {},
   "outputs": [
    {
     "name": "stdout",
     "output_type": "stream",
     "text": [
      "0.187677678288691\n"
     ]
    }
   ],
   "source": [
    "print(df['acousticness'].mean())"
   ]
  },
  {
   "cell_type": "code",
   "execution_count": 14,
   "metadata": {},
   "outputs": [],
   "source": [
    "df['acousticness'].fillna(0.1876,inplace=True)"
   ]
  },
  {
   "cell_type": "code",
   "execution_count": 15,
   "metadata": {},
   "outputs": [
    {
     "data": {
      "text/plain": [
       "id                    int64\n",
       "acousticness        float64\n",
       "danceability        float64\n",
       "duration_ms           int64\n",
       "energy              float64\n",
       "instrumentalness    float64\n",
       "key                 float64\n",
       "liveness            float64\n",
       "loudness            float64\n",
       "mode                float64\n",
       "speechiness         float64\n",
       "tempo               float64\n",
       "time_signature      float64\n",
       "valence             float64\n",
       "target                int64\n",
       "song_title           object\n",
       "artist               object\n",
       "dtype: object"
      ]
     },
     "execution_count": 15,
     "metadata": {},
     "output_type": "execute_result"
    }
   ],
   "source": [
    "df.dtypes"
   ]
  },
  {
   "cell_type": "code",
   "execution_count": 16,
   "metadata": {},
   "outputs": [
    {
     "data": {
      "text/plain": [
       "id                   0\n",
       "acousticness         0\n",
       "danceability         2\n",
       "duration_ms          0\n",
       "energy               0\n",
       "instrumentalness    39\n",
       "key                  2\n",
       "liveness             1\n",
       "loudness             0\n",
       "mode                22\n",
       "speechiness          0\n",
       "tempo                1\n",
       "time_signature      33\n",
       "valence              1\n",
       "target               0\n",
       "song_title           0\n",
       "artist               0\n",
       "dtype: int64"
      ]
     },
     "execution_count": 16,
     "metadata": {},
     "output_type": "execute_result"
    }
   ],
   "source": [
    "df.isnull().sum()"
   ]
  },
  {
   "cell_type": "code",
   "execution_count": 17,
   "metadata": {},
   "outputs": [
    {
     "name": "stdout",
     "output_type": "stream",
     "text": [
      "0.6184779156327529\n"
     ]
    }
   ],
   "source": [
    "print(df['danceability'].mean())"
   ]
  },
  {
   "cell_type": "code",
   "execution_count": 18,
   "metadata": {},
   "outputs": [],
   "source": [
    "df['danceability'].fillna(0.6185,inplace=True)"
   ]
  },
  {
   "cell_type": "code",
   "execution_count": 19,
   "metadata": {},
   "outputs": [
    {
     "data": {
      "text/plain": [
       "id                   0\n",
       "acousticness         0\n",
       "danceability         0\n",
       "duration_ms          0\n",
       "energy               0\n",
       "instrumentalness    39\n",
       "key                  2\n",
       "liveness             1\n",
       "loudness             0\n",
       "mode                22\n",
       "speechiness          0\n",
       "tempo                1\n",
       "time_signature      33\n",
       "valence              1\n",
       "target               0\n",
       "song_title           0\n",
       "artist               0\n",
       "dtype: int64"
      ]
     },
     "execution_count": 19,
     "metadata": {},
     "output_type": "execute_result"
    }
   ],
   "source": [
    "df.isnull().sum()"
   ]
  },
  {
   "cell_type": "code",
   "execution_count": 20,
   "metadata": {},
   "outputs": [
    {
     "name": "stdout",
     "output_type": "stream",
     "text": [
      "0.1353349620424672\n"
     ]
    }
   ],
   "source": [
    "print(df['instrumentalness'].mean())"
   ]
  },
  {
   "cell_type": "code",
   "execution_count": 21,
   "metadata": {},
   "outputs": [],
   "source": [
    "df['instrumentalness'].fillna(0.1353,inplace=True)"
   ]
  },
  {
   "cell_type": "code",
   "execution_count": 22,
   "metadata": {},
   "outputs": [
    {
     "name": "stdout",
     "output_type": "stream",
     "text": [
      "5.347890818858561\n"
     ]
    }
   ],
   "source": [
    "print(df['key'].mean())"
   ]
  },
  {
   "cell_type": "code",
   "execution_count": 23,
   "metadata": {},
   "outputs": [],
   "source": [
    "df['key'].fillna(0.3479,inplace=True)"
   ]
  },
  {
   "cell_type": "code",
   "execution_count": 24,
   "metadata": {},
   "outputs": [
    {
     "name": "stdout",
     "output_type": "stream",
     "text": [
      "0.19088759920634923\n"
     ]
    }
   ],
   "source": [
    "print(df['liveness'].mean())"
   ]
  },
  {
   "cell_type": "code",
   "execution_count": 25,
   "metadata": {},
   "outputs": [],
   "source": [
    "df['liveness'].fillna(0.1909,inplace=True)"
   ]
  },
  {
   "cell_type": "code",
   "execution_count": 26,
   "metadata": {},
   "outputs": [],
   "source": [
    "df['mode'].fillna(0,inplace=True)"
   ]
  },
  {
   "cell_type": "code",
   "execution_count": 27,
   "metadata": {},
   "outputs": [
    {
     "name": "stdout",
     "output_type": "stream",
     "text": [
      "121.60796726190478\n"
     ]
    }
   ],
   "source": [
    "print(df['tempo'].mean())"
   ]
  },
  {
   "cell_type": "code",
   "execution_count": 28,
   "metadata": {},
   "outputs": [],
   "source": [
    "df['tempo'].fillna(121.6080,inplace=True)"
   ]
  },
  {
   "cell_type": "code",
   "execution_count": 29,
   "metadata": {},
   "outputs": [],
   "source": [
    "df['time_signature'].fillna(3,inplace=True)"
   ]
  },
  {
   "cell_type": "code",
   "execution_count": 30,
   "metadata": {},
   "outputs": [
    {
     "name": "stdout",
     "output_type": "stream",
     "text": [
      "0.49668298611111134\n"
     ]
    }
   ],
   "source": [
    "print(df['valence'].mean())"
   ]
  },
  {
   "cell_type": "code",
   "execution_count": 31,
   "metadata": {},
   "outputs": [],
   "source": [
    "df['valence'].fillna(0.4969,inplace=True)"
   ]
  },
  {
   "cell_type": "code",
   "execution_count": 32,
   "metadata": {},
   "outputs": [
    {
     "data": {
      "text/plain": [
       "id                    int64\n",
       "acousticness        float64\n",
       "danceability        float64\n",
       "duration_ms           int64\n",
       "energy              float64\n",
       "instrumentalness    float64\n",
       "key                 float64\n",
       "liveness            float64\n",
       "loudness            float64\n",
       "mode                float64\n",
       "speechiness         float64\n",
       "tempo               float64\n",
       "time_signature      float64\n",
       "valence             float64\n",
       "target                int64\n",
       "song_title           object\n",
       "artist               object\n",
       "dtype: object"
      ]
     },
     "execution_count": 32,
     "metadata": {},
     "output_type": "execute_result"
    }
   ],
   "source": [
    "df.dtypes"
   ]
  },
  {
   "cell_type": "code",
   "execution_count": 33,
   "metadata": {},
   "outputs": [
    {
     "data": {
      "text/plain": [
       "id                  0\n",
       "acousticness        0\n",
       "danceability        0\n",
       "duration_ms         0\n",
       "energy              0\n",
       "instrumentalness    0\n",
       "key                 0\n",
       "liveness            0\n",
       "loudness            0\n",
       "mode                0\n",
       "speechiness         0\n",
       "tempo               0\n",
       "time_signature      0\n",
       "valence             0\n",
       "target              0\n",
       "song_title          0\n",
       "artist              0\n",
       "dtype: int64"
      ]
     },
     "execution_count": 33,
     "metadata": {},
     "output_type": "execute_result"
    }
   ],
   "source": [
    "df.isnull().sum()"
   ]
  },
  {
   "cell_type": "code",
   "execution_count": 34,
   "metadata": {},
   "outputs": [],
   "source": [
    "df.drop(['song_title','artist'],axis=1,inplace=True)"
   ]
  },
  {
   "cell_type": "code",
   "execution_count": 35,
   "metadata": {},
   "outputs": [
    {
     "data": {
      "text/plain": [
       "<matplotlib.axes._subplots.AxesSubplot at 0x23dc7da7cf8>"
      ]
     },
     "execution_count": 35,
     "metadata": {},
     "output_type": "execute_result"
    },
    {
     "data": {
      "image/png": "[encoded data removed]",
      "text/plain": [
       "<Figure size 432x288 with 1 Axes>"
      ]
     },
     "metadata": {
      "needs_background": "light"
     },
     "output_type": "display_data"
    }
   ],
   "source": [
    "sns.scatterplot(x='loudness',y='energy',data=df)"
   ]
  },
  {
   "cell_type": "code",
   "execution_count": 36,
   "metadata": {},
   "outputs": [
    {
     "data": {
      "text/plain": [
       "(2017, 15)"
      ]
     },
     "execution_count": 36,
     "metadata": {},
     "output_type": "execute_result"
    }
   ],
   "source": [
    "df.shape"
   ]
  },
  {
   "cell_type": "code",
   "execution_count": 37,
   "metadata": {},
   "outputs": [
    {
     "data": {
      "text/plain": [
       "<matplotlib.axes._subplots.AxesSubplot at 0x23dc7ded8d0>"
      ]
     },
     "execution_count": 37,
     "metadata": {},
     "output_type": "execute_result"
    },
    {
     "data": {
      "image/png": "[encoded data removed]",
      "text/plain": [
       "<Figure size 432x288 with 1 Axes>"
      ]
     },
     "metadata": {
      "needs_background": "light"
     },
     "output_type": "display_data"
    }
   ],
   "source": [
    "sns.boxplot(x='target',y='liveness',data=df)"
   ]
  },
  {
   "cell_type": "code",
   "execution_count": 38,
   "metadata": {},
   "outputs": [
    {
     "data": {
      "text/plain": [
       "<matplotlib.axes._subplots.AxesSubplot at 0x23dc826a780>"
      ]
     },
     "execution_count": 38,
     "metadata": {},
     "output_type": "execute_result"
    },
    {
     "data": {
      "image/png": "[encoded data removed]",
      "text/plain": [
       "<Figure size 432x288 with 1 Axes>"
      ]
     },
     "metadata": {
      "needs_background": "light"
     },
     "output_type": "display_data"
    }
   ],
   "source": [
    "sns.scatterplot(x='acousticness',y='energy',data=df)"
   ]
  },
  {
   "cell_type": "code",
   "execution_count": 39,
   "metadata": {},
   "outputs": [
    {
     "data": {
      "text/plain": [
       "<matplotlib.axes._subplots.AxesSubplot at 0x23dc82b9f60>"
      ]
     },
     "execution_count": 39,
     "metadata": {},
     "output_type": "execute_result"
    },
    {
     "data": {
      "image/png": "[encoded data removed]",
      "text/plain": [
       "<Figure size 432x288 with 1 Axes>"
      ]
     },
     "metadata": {
      "needs_background": "light"
     },
     "output_type": "display_data"
    }
   ],
   "source": [
    "sns.boxplot(x='mode',y='tempo',data=df)"
   ]
  },
  {
   "cell_type": "code",
   "execution_count": 40,
   "metadata": {},
   "outputs": [
    {
     "data": {
      "text/plain": [
       "<matplotlib.axes._subplots.AxesSubplot at 0x23dc84cd240>"
      ]
     },
     "execution_count": 40,
     "metadata": {},
     "output_type": "execute_result"
    },
    {
     "data": {
      "image/png": "[encoded data removed]",
      "text/plain": [
       "<Figure size 432x288 with 1 Axes>"
      ]
     },
     "metadata": {
      "needs_background": "light"
     },
     "output_type": "display_data"
    }
   ],
   "source": [
    "sns.scatterplot(x='tempo',y='energy',data=df)"
   ]
  },
  {
   "cell_type": "code",
   "execution_count": 41,
   "metadata": {},
   "outputs": [
    {
     "data": {
      "text/plain": [
       "<matplotlib.axes._subplots.AxesSubplot at 0x23dc853a160>"
      ]
     },
     "execution_count": 41,
     "metadata": {},
     "output_type": "execute_result"
    },
    {
     "data": {
      "image/png": "[encoded data removed]",
      "text/plain": [
       "<Figure size 432x288 with 1 Axes>"
      ]
     },
     "metadata": {
      "needs_background": "light"
     },
     "output_type": "display_data"
    }
   ],
   "source": [
    "sns.boxplot(x='key',y='instrumentalness',data=df)"
   ]
  },
  {
   "cell_type": "code",
   "execution_count": 42,
   "metadata": {},
   "outputs": [
    {
     "data": {
      "text/plain": [
       "<matplotlib.axes._subplots.AxesSubplot at 0x23dc8697748>"
      ]
     },
     "execution_count": 42,
     "metadata": {},
     "output_type": "execute_result"
    },
    {
     "data": {
      "image/png": "[encoded data removed]",
      "text/plain": [
       "<Figure size 432x288 with 1 Axes>"
      ]
     },
     "metadata": {
      "needs_background": "light"
     },
     "output_type": "display_data"
    }
   ],
   "source": [
    "sns.scatterplot(x='valence',y='energy',data=df)"
   ]
  },
  {
   "cell_type": "code",
   "execution_count": 43,
   "metadata": {},
   "outputs": [
    {
     "data": {
      "text/plain": [
       "<matplotlib.axes._subplots.AxesSubplot at 0x23dc8689dd8>"
      ]
     },
     "execution_count": 43,
     "metadata": {},
     "output_type": "execute_result"
    },
    {
     "data": {
      "image/png": "[encoded data removed]",
      "text/plain": [
       "<Figure size 432x288 with 1 Axes>"
      ]
     },
     "metadata": {
      "needs_background": "light"
     },
     "output_type": "display_data"
    }
   ],
   "source": [
    "sns.boxplot(x='target',y='speechiness',data=df)"
   ]
  },
  {
   "cell_type": "markdown",
   "metadata": {},
   "source": [
    "## Checking correlation between variables"
   ]
  },
  {
   "cell_type": "code",
   "execution_count": 44,
   "metadata": {},
   "outputs": [
    {
     "data": {
      "image/png": "[encoded data removed]",
      "text/plain": [
       "<Figure size 864x720 with 2 Axes>"
      ]
     },
     "metadata": {
      "needs_background": "light"
     },
     "output_type": "display_data"
    }
   ],
   "source": [
    "plt.figure(figsize=(12,10))\n",
    "cor = df.corr()\n",
    "sns.heatmap(cor, annot=True, cmap=plt.cm.Reds)\n",
    "plt.show()"
   ]
  },
  {
   "cell_type": "markdown",
   "metadata": {},
   "source": [
    "## Applying MinMaxScaler technique for scaling\n",
    "\n",
    "### MinMaxScaler subtracts the minimum value in the feature and then divides by the range. The range is the difference between original maximum and original minimum. MinMaxScaler preserves the shape of the original distribution. It doesn't meaningfully change the information embedded in the original data. MinMaxScaler doesn't reduce the importance of outliers. So, we decided to use this scaling method.  "
   ]
  },
  {
   "cell_type": "code",
   "execution_count": 45,
   "metadata": {},
   "outputs": [],
   "source": [
    "from sklearn.preprocessing import \n",
    "from sklearn.model_selection import train_test_split"
   ]
  },
  {
   "cell_type": "code",
   "execution_count": 46,
   "metadata": {},
   "outputs": [],
   "source": [
    "y = df.energy.values\n",
    "X = df.drop('energy',axis = 1).values"
   ]
  },
  {
   "cell_type": "code",
   "execution_count": 47,
   "metadata": {},
   "outputs": [],
   "source": [
    "X_train_org, X_test_org, y_train, y_test = train_test_split(X, y, random_state = 0)\n",
    "\n",
    "scaler = MinMaxScaler()\n",
    "X_train = scaler.fit_transform(X_train_org)\n",
    "X_test = scaler.transform(X_test_org)"
   ]
  },
  {
   "cell_type": "code",
   "execution_count": 48,
   "metadata": {},
   "outputs": [
    {
     "data": {
      "text/plain": [
       "(1512, 14)"
      ]
     },
     "execution_count": 48,
     "metadata": {},
     "output_type": "execute_result"
    }
   ],
   "source": [
    "X_train_org.shape"
   ]
  },
  {
   "cell_type": "code",
   "execution_count": 49,
   "metadata": {},
   "outputs": [
    {
     "data": {
      "text/plain": [
       "(505, 14)"
      ]
     },
     "execution_count": 49,
     "metadata": {},
     "output_type": "execute_result"
    }
   ],
   "source": [
    "X_test_org.shape"
   ]
  },
  {
   "cell_type": "code",
   "execution_count": 50,
   "metadata": {},
   "outputs": [
    {
     "data": {
      "text/plain": [
       "(1512,)"
      ]
     },
     "execution_count": 50,
     "metadata": {},
     "output_type": "execute_result"
    }
   ],
   "source": [
    "y_train.shape"
   ]
  },
  {
   "cell_type": "code",
   "execution_count": 51,
   "metadata": {},
   "outputs": [
    {
     "data": {
      "text/plain": [
       "(505,)"
      ]
     },
     "execution_count": 51,
     "metadata": {},
     "output_type": "execute_result"
    }
   ],
   "source": [
    "y_test.shape"
   ]
  },
  {
   "cell_type": "markdown",
   "metadata": {},
   "source": [
    "## Linear Regression"
   ]
  },
  {
   "cell_type": "code",
   "execution_count": 52,
   "metadata": {},
   "outputs": [
    {
     "name": "stdout",
     "output_type": "stream",
     "text": [
      "Best parameters: {'normalize': True}\n",
      "Best cross-validation score: 0.7111\n"
     ]
    }
   ],
   "source": [
    "from sklearn.model_selection import GridSearchCV\n",
    "model = LinearRegression()\n",
    "parameters = {'normalize':[True,False]}\n",
    "grid_search_lr = GridSearchCV(model,parameters, cv=6, return_train_score=True)\n",
    "grid_search_lr.fit(X_train_org, y_train)\n",
    "print(\"Best parameters: {}\".format(grid_search_lr.best_params_))\n",
    "print(\"Best cross-validation score: {:.4f}\".format(grid_search_lr.best_score_))"
   ]
  },
  {
   "cell_type": "code",
   "execution_count": 53,
   "metadata": {},
   "outputs": [
    {
     "data": {
      "text/html": [
       "<div>\n",
       "<style scoped>\n",
       "    .dataframe tbody tr th:only-of-type {\n",
       "        vertical-align: middle;\n",
       "    }\n",
       "\n",
       "    .dataframe tbody tr th {\n",
       "        vertical-align: top;\n",
       "    }\n",
       "\n",
       "    .dataframe thead th {\n",
       "        text-align: right;\n",
       "    }\n",
       "</style>\n",
       "<table border=\"1\" class=\"dataframe\">\n",
       "  <thead>\n",
       "    <tr style=\"text-align: right;\">\n",
       "      <th></th>\n",
       "      <th>mean_fit_time</th>\n",
       "      <th>std_fit_time</th>\n",
       "      <th>mean_score_time</th>\n",
       "      <th>std_score_time</th>\n",
       "      <th>param_normalize</th>\n",
       "      <th>params</th>\n",
       "      <th>split0_test_score</th>\n",
       "      <th>split1_test_score</th>\n",
       "      <th>split2_test_score</th>\n",
       "      <th>split3_test_score</th>\n",
       "      <th>...</th>\n",
       "      <th>std_test_score</th>\n",
       "      <th>rank_test_score</th>\n",
       "      <th>split0_train_score</th>\n",
       "      <th>split1_train_score</th>\n",
       "      <th>split2_train_score</th>\n",
       "      <th>split3_train_score</th>\n",
       "      <th>split4_train_score</th>\n",
       "      <th>split5_train_score</th>\n",
       "      <th>mean_train_score</th>\n",
       "      <th>std_train_score</th>\n",
       "    </tr>\n",
       "  </thead>\n",
       "  <tbody>\n",
       "    <tr>\n",
       "      <th>0</th>\n",
       "      <td>0.000997</td>\n",
       "      <td>0.000576</td>\n",
       "      <td>0.000665</td>\n",
       "      <td>0.00047</td>\n",
       "      <td>True</td>\n",
       "      <td>{'normalize': True}</td>\n",
       "      <td>0.694874</td>\n",
       "      <td>0.730112</td>\n",
       "      <td>0.712176</td>\n",
       "      <td>0.713991</td>\n",
       "      <td>...</td>\n",
       "      <td>0.0167</td>\n",
       "      <td>1</td>\n",
       "      <td>0.720877</td>\n",
       "      <td>0.714072</td>\n",
       "      <td>0.718125</td>\n",
       "      <td>0.717896</td>\n",
       "      <td>0.714576</td>\n",
       "      <td>0.723268</td>\n",
       "      <td>0.718135</td>\n",
       "      <td>0.003243</td>\n",
       "    </tr>\n",
       "    <tr>\n",
       "      <th>1</th>\n",
       "      <td>0.000665</td>\n",
       "      <td>0.000470</td>\n",
       "      <td>0.000333</td>\n",
       "      <td>0.00047</td>\n",
       "      <td>False</td>\n",
       "      <td>{'normalize': False}</td>\n",
       "      <td>0.694874</td>\n",
       "      <td>0.730112</td>\n",
       "      <td>0.712176</td>\n",
       "      <td>0.713991</td>\n",
       "      <td>...</td>\n",
       "      <td>0.0167</td>\n",
       "      <td>2</td>\n",
       "      <td>0.720877</td>\n",
       "      <td>0.714072</td>\n",
       "      <td>0.718125</td>\n",
       "      <td>0.717896</td>\n",
       "      <td>0.714576</td>\n",
       "      <td>0.723268</td>\n",
       "      <td>0.718135</td>\n",
       "      <td>0.003243</td>\n",
       "    </tr>\n",
       "  </tbody>\n",
       "</table>\n",
       "<p>2 rows × 23 columns</p>\n",
       "</div>"
      ],
      "text/plain": [
       "   mean_fit_time  std_fit_time  mean_score_time  std_score_time  \\\n",
       "0       0.000997      0.000576         0.000665         0.00047   \n",
       "1       0.000665      0.000470         0.000333         0.00047   \n",
       "\n",
       "  param_normalize                params  split0_test_score  split1_test_score  \\\n",
       "0            True   {'normalize': True}           0.694874           0.730112   \n",
       "1           False  {'normalize': False}           0.694874           0.730112   \n",
       "\n",
       "   split2_test_score  split3_test_score  ...  std_test_score  rank_test_score  \\\n",
       "0           0.712176           0.713991  ...          0.0167                1   \n",
       "1           0.712176           0.713991  ...          0.0167                2   \n",
       "\n",
       "   split0_train_score  split1_train_score  split2_train_score  \\\n",
       "0            0.720877            0.714072            0.718125   \n",
       "1            0.720877            0.714072            0.718125   \n",
       "\n",
       "   split3_train_score  split4_train_score  split5_train_score  \\\n",
       "0            0.717896            0.714576            0.723268   \n",
       "1            0.717896            0.714576            0.723268   \n",
       "\n",
       "   mean_train_score  std_train_score  \n",
       "0          0.718135         0.003243  \n",
       "1          0.718135         0.003243  \n",
       "\n",
       "[2 rows x 23 columns]"
      ]
     },
     "execution_count": 53,
     "metadata": {},
     "output_type": "execute_result"
    }
   ],
   "source": [
    "results = pd.DataFrame(grid_search_lr.cv_results_)\n",
    "results"
   ]
  },
  {
   "cell_type": "code",
   "execution_count": 54,
   "metadata": {},
   "outputs": [
    {
     "name": "stdout",
     "output_type": "stream",
     "text": [
      "Train score: 0.7177\n",
      "Test score: 0.7076\n"
     ]
    }
   ],
   "source": [
    "lreg = LinearRegression(normalize = True)\n",
    "lreg.fit(X_train_org, y_train)\n",
    "print(\"Train score: %.4f\"%lreg.score(X_train_org, y_train))\n",
    "print(\"Test score: %.4f\"%lreg.score(X_test_org, y_test))"
   ]
  },
  {
   "cell_type": "code",
   "execution_count": 55,
   "metadata": {},
   "outputs": [
    {
     "name": "stdout",
     "output_type": "stream",
     "text": [
      "Cross-validation scores: [0.69487396 0.73011237 0.71217605 0.71399114 0.73017682 0.68511507]\n",
      "Mean Score: 0.7110742337553724\n"
     ]
    }
   ],
   "source": [
    "from sklearn.model_selection import KFold\n",
    "from sklearn.model_selection import cross_val_score\n",
    "\n",
    "kfold = KFold(n_splits=6)\n",
    "print(\"Cross-validation scores: {}\".format(cross_val_score(lreg , X_train_org, y_train, cv=kfold)))\n",
    "scores = cross_val_score(lreg , X_train_org, y_train, cv=kfold)\n",
    "print(\"Mean Score: {}\".format(np.mean(scores)))"
   ]
  },
  {
   "cell_type": "code",
   "execution_count": 56,
   "metadata": {},
   "outputs": [
    {
     "data": {
      "text/plain": [
       "Text(0.5, 0, 'liveness')"
      ]
     },
     "execution_count": 56,
     "metadata": {},
     "output_type": "execute_result"
    },
    {
     "data": {
      "image/png": "[encoded data removed]",
      "text/plain": [
       "<Figure size 432x288 with 1 Axes>"
      ]
     },
     "metadata": {
      "needs_background": "light"
     },
     "output_type": "display_data"
    }
   ],
   "source": [
    "#PLOT\n",
    "\n",
    "%matplotlib inline\n",
    "import matplotlib.pyplot as plt\n",
    "\n",
    "X_train_rm = X_train_org[:,7].reshape(-1,1)\n",
    "lreg.fit(X_train_rm, y_train)\n",
    "y_predict = lreg.predict(X_train_rm)\n",
    "\n",
    "plt.plot(X_train_rm, y_predict, c = 'r')\n",
    "plt.scatter(X_train_rm,y_train)\n",
    "plt.xlabel('liveness')"
   ]
  },
  {
   "cell_type": "markdown",
   "metadata": {},
   "source": [
    "### Linear Regression Result:\n",
    "\n",
    "#### Best Parameter: {'normalize': True}\n",
    "\n",
    "#### Test Score: 0.7076\n",
    "\n",
    "#### Mean Cross - Validation Score:  0.7111"
   ]
  },
  {
   "cell_type": "markdown",
   "metadata": {},
   "source": [
    "## KNN Regression"
   ]
  },
  {
   "cell_type": "code",
   "execution_count": 57,
   "metadata": {},
   "outputs": [],
   "source": [
    "grid_parms_knn = {'n_neighbors':[1,5,10,15,20]}"
   ]
  },
  {
   "cell_type": "code",
   "execution_count": 58,
   "metadata": {},
   "outputs": [
    {
     "data": {
      "text/plain": [
       "GridSearchCV(cv=6, error_score='raise-deprecating',\n",
       "             estimator=KNeighborsRegressor(algorithm='auto', leaf_size=30,\n",
       "                                           metric='minkowski',\n",
       "                                           metric_params=None, n_jobs=None,\n",
       "                                           n_neighbors=5, p=2,\n",
       "                                           weights='uniform'),\n",
       "             iid='warn', n_jobs=-1,\n",
       "             param_grid={'n_neighbors': [1, 5, 10, 15, 20]},\n",
       "             pre_dispatch='2*n_jobs', refit=True, return_train_score=True,\n",
       "             scoring=None, verbose=0)"
      ]
     },
     "execution_count": 58,
     "metadata": {},
     "output_type": "execute_result"
    }
   ],
   "source": [
    "knn = KNeighborsRegressor()\n",
    "grid_search_knn = GridSearchCV(knn, grid_parms_knn,cv=6,return_train_score=True,n_jobs= -1)\n",
    "grid_search_knn.fit(X_train, y_train)"
   ]
  },
  {
   "cell_type": "code",
   "execution_count": 59,
   "metadata": {},
   "outputs": [
    {
     "name": "stdout",
     "output_type": "stream",
     "text": [
      "Best parameters: {'n_neighbors': 10}\n",
      "Best cross-validation score: 0.5501\n"
     ]
    },
    {
     "data": {
      "text/html": [
       "<div>\n",
       "<style scoped>\n",
       "    .dataframe tbody tr th:only-of-type {\n",
       "        vertical-align: middle;\n",
       "    }\n",
       "\n",
       "    .dataframe tbody tr th {\n",
       "        vertical-align: top;\n",
       "    }\n",
       "\n",
       "    .dataframe thead th {\n",
       "        text-align: right;\n",
       "    }\n",
       "</style>\n",
       "<table border=\"1\" class=\"dataframe\">\n",
       "  <thead>\n",
       "    <tr style=\"text-align: right;\">\n",
       "      <th></th>\n",
       "      <th>mean_fit_time</th>\n",
       "      <th>std_fit_time</th>\n",
       "      <th>mean_score_time</th>\n",
       "      <th>std_score_time</th>\n",
       "      <th>param_n_neighbors</th>\n",
       "      <th>params</th>\n",
       "      <th>split0_test_score</th>\n",
       "      <th>split1_test_score</th>\n",
       "      <th>split2_test_score</th>\n",
       "      <th>split3_test_score</th>\n",
       "      <th>...</th>\n",
       "      <th>std_test_score</th>\n",
       "      <th>rank_test_score</th>\n",
       "      <th>split0_train_score</th>\n",
       "      <th>split1_train_score</th>\n",
       "      <th>split2_train_score</th>\n",
       "      <th>split3_train_score</th>\n",
       "      <th>split4_train_score</th>\n",
       "      <th>split5_train_score</th>\n",
       "      <th>mean_train_score</th>\n",
       "      <th>std_train_score</th>\n",
       "    </tr>\n",
       "  </thead>\n",
       "  <tbody>\n",
       "    <tr>\n",
       "      <th>0</th>\n",
       "      <td>0.001994</td>\n",
       "      <td>7.380714e-07</td>\n",
       "      <td>0.009475</td>\n",
       "      <td>0.003442</td>\n",
       "      <td>1</td>\n",
       "      <td>{'n_neighbors': 1}</td>\n",
       "      <td>0.216676</td>\n",
       "      <td>0.416423</td>\n",
       "      <td>0.221351</td>\n",
       "      <td>0.294812</td>\n",
       "      <td>...</td>\n",
       "      <td>0.072117</td>\n",
       "      <td>5</td>\n",
       "      <td>1.000000</td>\n",
       "      <td>1.000000</td>\n",
       "      <td>1.000000</td>\n",
       "      <td>1.000000</td>\n",
       "      <td>1.000000</td>\n",
       "      <td>1.000000</td>\n",
       "      <td>1.000000</td>\n",
       "      <td>0.000000</td>\n",
       "    </tr>\n",
       "    <tr>\n",
       "      <th>1</th>\n",
       "      <td>0.001828</td>\n",
       "      <td>3.713717e-04</td>\n",
       "      <td>0.008644</td>\n",
       "      <td>0.001371</td>\n",
       "      <td>5</td>\n",
       "      <td>{'n_neighbors': 5}</td>\n",
       "      <td>0.528467</td>\n",
       "      <td>0.592313</td>\n",
       "      <td>0.518887</td>\n",
       "      <td>0.496779</td>\n",
       "      <td>...</td>\n",
       "      <td>0.030758</td>\n",
       "      <td>4</td>\n",
       "      <td>0.688873</td>\n",
       "      <td>0.673805</td>\n",
       "      <td>0.687439</td>\n",
       "      <td>0.698619</td>\n",
       "      <td>0.683401</td>\n",
       "      <td>0.699383</td>\n",
       "      <td>0.688587</td>\n",
       "      <td>0.008794</td>\n",
       "    </tr>\n",
       "    <tr>\n",
       "      <th>2</th>\n",
       "      <td>0.001828</td>\n",
       "      <td>3.721016e-04</td>\n",
       "      <td>0.009973</td>\n",
       "      <td>0.000997</td>\n",
       "      <td>10</td>\n",
       "      <td>{'n_neighbors': 10}</td>\n",
       "      <td>0.538240</td>\n",
       "      <td>0.575581</td>\n",
       "      <td>0.578191</td>\n",
       "      <td>0.537606</td>\n",
       "      <td>...</td>\n",
       "      <td>0.023180</td>\n",
       "      <td>1</td>\n",
       "      <td>0.622419</td>\n",
       "      <td>0.620212</td>\n",
       "      <td>0.622489</td>\n",
       "      <td>0.629707</td>\n",
       "      <td>0.620659</td>\n",
       "      <td>0.630951</td>\n",
       "      <td>0.624406</td>\n",
       "      <td>0.004285</td>\n",
       "    </tr>\n",
       "    <tr>\n",
       "      <th>3</th>\n",
       "      <td>0.002327</td>\n",
       "      <td>4.700218e-04</td>\n",
       "      <td>0.016124</td>\n",
       "      <td>0.008490</td>\n",
       "      <td>15</td>\n",
       "      <td>{'n_neighbors': 15}</td>\n",
       "      <td>0.537996</td>\n",
       "      <td>0.566426</td>\n",
       "      <td>0.578569</td>\n",
       "      <td>0.523534</td>\n",
       "      <td>...</td>\n",
       "      <td>0.024001</td>\n",
       "      <td>2</td>\n",
       "      <td>0.598072</td>\n",
       "      <td>0.596351</td>\n",
       "      <td>0.596637</td>\n",
       "      <td>0.603655</td>\n",
       "      <td>0.593035</td>\n",
       "      <td>0.607091</td>\n",
       "      <td>0.599140</td>\n",
       "      <td>0.004762</td>\n",
       "    </tr>\n",
       "    <tr>\n",
       "      <th>4</th>\n",
       "      <td>0.001662</td>\n",
       "      <td>4.702466e-04</td>\n",
       "      <td>0.010638</td>\n",
       "      <td>0.002351</td>\n",
       "      <td>20</td>\n",
       "      <td>{'n_neighbors': 20}</td>\n",
       "      <td>0.541154</td>\n",
       "      <td>0.562589</td>\n",
       "      <td>0.555201</td>\n",
       "      <td>0.505556</td>\n",
       "      <td>...</td>\n",
       "      <td>0.022395</td>\n",
       "      <td>3</td>\n",
       "      <td>0.579491</td>\n",
       "      <td>0.570311</td>\n",
       "      <td>0.576724</td>\n",
       "      <td>0.583245</td>\n",
       "      <td>0.573666</td>\n",
       "      <td>0.587022</td>\n",
       "      <td>0.578410</td>\n",
       "      <td>0.005622</td>\n",
       "    </tr>\n",
       "  </tbody>\n",
       "</table>\n",
       "<p>5 rows × 23 columns</p>\n",
       "</div>"
      ],
      "text/plain": [
       "   mean_fit_time  std_fit_time  mean_score_time  std_score_time  \\\n",
       "0       0.001994  7.380714e-07         0.009475        0.003442   \n",
       "1       0.001828  3.713717e-04         0.008644        0.001371   \n",
       "2       0.001828  3.721016e-04         0.009973        0.000997   \n",
       "3       0.002327  4.700218e-04         0.016124        0.008490   \n",
       "4       0.001662  4.702466e-04         0.010638        0.002351   \n",
       "\n",
       "  param_n_neighbors               params  split0_test_score  \\\n",
       "0                 1   {'n_neighbors': 1}           0.216676   \n",
       "1                 5   {'n_neighbors': 5}           0.528467   \n",
       "2                10  {'n_neighbors': 10}           0.538240   \n",
       "3                15  {'n_neighbors': 15}           0.537996   \n",
       "4                20  {'n_neighbors': 20}           0.541154   \n",
       "\n",
       "   split1_test_score  split2_test_score  split3_test_score  ...  \\\n",
       "0           0.416423           0.221351           0.294812  ...   \n",
       "1           0.592313           0.518887           0.496779  ...   \n",
       "2           0.575581           0.578191           0.537606  ...   \n",
       "3           0.566426           0.578569           0.523534  ...   \n",
       "4           0.562589           0.555201           0.505556  ...   \n",
       "\n",
       "   std_test_score  rank_test_score  split0_train_score  split1_train_score  \\\n",
       "0        0.072117                5            1.000000            1.000000   \n",
       "1        0.030758                4            0.688873            0.673805   \n",
       "2        0.023180                1            0.622419            0.620212   \n",
       "3        0.024001                2            0.598072            0.596351   \n",
       "4        0.022395                3            0.579491            0.570311   \n",
       "\n",
       "   split2_train_score  split3_train_score  split4_train_score  \\\n",
       "0            1.000000            1.000000            1.000000   \n",
       "1            0.687439            0.698619            0.683401   \n",
       "2            0.622489            0.629707            0.620659   \n",
       "3            0.596637            0.603655            0.593035   \n",
       "4            0.576724            0.583245            0.573666   \n",
       "\n",
       "   split5_train_score  mean_train_score  std_train_score  \n",
       "0            1.000000          1.000000         0.000000  \n",
       "1            0.699383          0.688587         0.008794  \n",
       "2            0.630951          0.624406         0.004285  \n",
       "3            0.607091          0.599140         0.004762  \n",
       "4            0.587022          0.578410         0.005622  \n",
       "\n",
       "[5 rows x 23 columns]"
      ]
     },
     "execution_count": 59,
     "metadata": {},
     "output_type": "execute_result"
    }
   ],
   "source": [
    "print(\"Best parameters: {}\".format(grid_search_knn.best_params_))\n",
    "print(\"Best cross-validation score: {:.4f}\".format(grid_search_knn.best_score_))\n",
    "pd.DataFrame(grid_search_knn.cv_results_)"
   ]
  },
  {
   "cell_type": "code",
   "execution_count": 60,
   "metadata": {},
   "outputs": [
    {
     "name": "stdout",
     "output_type": "stream",
     "text": [
      "Train score: 0.6304\n",
      "Test score: 0.5436\n"
     ]
    }
   ],
   "source": [
    "knn = KNeighborsRegressor(n_neighbors = 10)\n",
    "knn.fit(X_train, y_train)\n",
    "print(\"Train score: %.4f\"%knn.score(X_train, y_train))\n",
    "print(\"Test score: %.4f\"%knn.score(X_test, y_test))"
   ]
  },
  {
   "cell_type": "code",
   "execution_count": 61,
   "metadata": {},
   "outputs": [
    {
     "name": "stdout",
     "output_type": "stream",
     "text": [
      "Cross-validation scores:[0.53823978 0.57558145 0.57819096 0.53760581 0.55872164 0.51249119]\n",
      "Mean score: 0.5501384708780596\n"
     ]
    }
   ],
   "source": [
    "from sklearn.model_selection import KFold\n",
    "from sklearn.model_selection import cross_val_score\n",
    "\n",
    "  \n",
    "kfold = KFold(n_splits=6)\n",
    "print(\"Cross-validation scores:{}\".format(cross_val_score(knn , X_train, y_train, cv=kfold)))\n",
    "scores = cross_val_score(knn , X_train, y_train, cv=kfold)\n",
    "print(\"Mean score: {}\".format(np.mean(scores)))"
   ]
  },
  {
   "cell_type": "code",
   "execution_count": 62,
   "metadata": {},
   "outputs": [
    {
     "data": {
      "text/plain": [
       "Text(0.5, 0, 'liveness')"
      ]
     },
     "execution_count": 62,
     "metadata": {},
     "output_type": "execute_result"
    },
    {
     "data": {
      "image/png": "[encoded data removed]",
      "text/plain": [
       "<Figure size 432x288 with 1 Axes>"
      ]
     },
     "metadata": {
      "needs_background": "light"
     },
     "output_type": "display_data"
    }
   ],
   "source": [
    "X_b = X_train_org[:50,7].reshape(-1,1)\n",
    "y_b = y_train[:50]\n",
    "\n",
    "knn_reg = KNeighborsRegressor(10)\n",
    "knn_reg.fit(X_b, y_b)\n",
    "\n",
    "X_new=np.linspace(X_b.min(), X_b.max(), 50).reshape(50, 1)\n",
    "y_predict = knn_reg.predict(X_new)\n",
    "\n",
    "plt.plot(X_new, y_predict, c = 'r')\n",
    "plt.scatter(X_b, y_b)\n",
    "plt.xlabel('liveness')"
   ]
  },
  {
   "cell_type": "markdown",
   "metadata": {},
   "source": [
    "### KNN Regression Result:\n",
    "\n",
    "#### Best Parameter: {'n_neighbours': 10}\n",
    "\n",
    "#### Test Score: 0.5436\n",
    "\n",
    "#### Mean Cross - Validation Score: 0.5501"
   ]
  },
  {
   "cell_type": "markdown",
   "metadata": {},
   "source": [
    "## Ridge Regression"
   ]
  },
  {
   "cell_type": "code",
   "execution_count": 63,
   "metadata": {},
   "outputs": [],
   "source": [
    "grid_parms_ridge = {'alpha': [0.01, 0.1, 1, 10, 100]}"
   ]
  },
  {
   "cell_type": "code",
   "execution_count": 64,
   "metadata": {},
   "outputs": [
    {
     "name": "stdout",
     "output_type": "stream",
     "text": [
      "Best parameters: {'alpha': 1}\n",
      "Best cross-validation score: 0.7097\n"
     ]
    }
   ],
   "source": [
    "ridge = Ridge()\n",
    "grid_search_ridge = GridSearchCV(estimator = ridge,param_grid = grid_parms_ridge,return_train_score=True,n_jobs= -1,cv=5)\n",
    "grid_search_ridge.fit(X_train_org, y_train)\n",
    "print(\"Best parameters: {}\".format(grid_search_ridge.best_params_))\n",
    "\n",
    "print(\"Best cross-validation score: {:.4f}\".format(grid_search_ridge.best_score_))"
   ]
  },
  {
   "cell_type": "code",
   "execution_count": 65,
   "metadata": {},
   "outputs": [
    {
     "name": "stdout",
     "output_type": "stream",
     "text": [
      "Train score: 0.7176\n",
      "Test score: 0.7081\n"
     ]
    }
   ],
   "source": [
    "ridge = Ridge(alpha = 1)\n",
    "ridge.fit(X_train_org, y_train)\n",
    "print(\"Train score: %.4f\"%ridge.score(X_train_org, y_train))\n",
    "print(\"Test score: %.4f\"%ridge.score(X_test_org, y_test))"
   ]
  },
  {
   "cell_type": "code",
   "execution_count": 66,
   "metadata": {},
   "outputs": [
    {
     "name": "stdout",
     "output_type": "stream",
     "text": [
      "Cross-validation scores:[0.69700194 0.72995941 0.71118561 0.71444322 0.72959769 0.68447566]\n",
      "Mean Score: 0.7111105884030096\n"
     ]
    }
   ],
   "source": [
    "from sklearn.model_selection import KFold\n",
    "from sklearn.model_selection import cross_val_score\n",
    "\n",
    "  \n",
    "kfold = KFold(n_splits=6)\n",
    "print(\"Cross-validation scores:{}\".format(cross_val_score(ridge , X_train_org, y_train, cv=kfold)))\n",
    "scores = cross_val_score(ridge , X_train_org, y_train, cv=kfold)\n",
    "print(\"Mean Score: {}\".format(np.mean(scores)))"
   ]
  },
  {
   "cell_type": "code",
   "execution_count": 67,
   "metadata": {},
   "outputs": [
    {
     "data": {
      "text/html": [
       "<div>\n",
       "<style scoped>\n",
       "    .dataframe tbody tr th:only-of-type {\n",
       "        vertical-align: middle;\n",
       "    }\n",
       "\n",
       "    .dataframe tbody tr th {\n",
       "        vertical-align: top;\n",
       "    }\n",
       "\n",
       "    .dataframe thead th {\n",
       "        text-align: right;\n",
       "    }\n",
       "</style>\n",
       "<table border=\"1\" class=\"dataframe\">\n",
       "  <thead>\n",
       "    <tr style=\"text-align: right;\">\n",
       "      <th></th>\n",
       "      <th>mean_fit_time</th>\n",
       "      <th>std_fit_time</th>\n",
       "      <th>mean_score_time</th>\n",
       "      <th>std_score_time</th>\n",
       "      <th>param_alpha</th>\n",
       "      <th>params</th>\n",
       "      <th>split0_test_score</th>\n",
       "      <th>split1_test_score</th>\n",
       "      <th>split2_test_score</th>\n",
       "      <th>split3_test_score</th>\n",
       "      <th>...</th>\n",
       "      <th>mean_test_score</th>\n",
       "      <th>std_test_score</th>\n",
       "      <th>rank_test_score</th>\n",
       "      <th>split0_train_score</th>\n",
       "      <th>split1_train_score</th>\n",
       "      <th>split2_train_score</th>\n",
       "      <th>split3_train_score</th>\n",
       "      <th>split4_train_score</th>\n",
       "      <th>mean_train_score</th>\n",
       "      <th>std_train_score</th>\n",
       "    </tr>\n",
       "  </thead>\n",
       "  <tbody>\n",
       "    <tr>\n",
       "      <th>0</th>\n",
       "      <td>0.002594</td>\n",
       "      <td>0.001197</td>\n",
       "      <td>0.000997</td>\n",
       "      <td>0.000630</td>\n",
       "      <td>0.01</td>\n",
       "      <td>{'alpha': 0.01}</td>\n",
       "      <td>0.689522</td>\n",
       "      <td>0.727080</td>\n",
       "      <td>0.704408</td>\n",
       "      <td>0.710773</td>\n",
       "      <td>...</td>\n",
       "      <td>0.709612</td>\n",
       "      <td>0.012514</td>\n",
       "      <td>3</td>\n",
       "      <td>0.722661</td>\n",
       "      <td>0.713869</td>\n",
       "      <td>0.719999</td>\n",
       "      <td>0.718210</td>\n",
       "      <td>0.717316</td>\n",
       "      <td>0.718411</td>\n",
       "      <td>0.002914</td>\n",
       "    </tr>\n",
       "    <tr>\n",
       "      <th>1</th>\n",
       "      <td>0.001795</td>\n",
       "      <td>0.000746</td>\n",
       "      <td>0.000598</td>\n",
       "      <td>0.000489</td>\n",
       "      <td>0.1</td>\n",
       "      <td>{'alpha': 0.1}</td>\n",
       "      <td>0.689755</td>\n",
       "      <td>0.727051</td>\n",
       "      <td>0.704312</td>\n",
       "      <td>0.710811</td>\n",
       "      <td>...</td>\n",
       "      <td>0.709628</td>\n",
       "      <td>0.012433</td>\n",
       "      <td>2</td>\n",
       "      <td>0.722659</td>\n",
       "      <td>0.713868</td>\n",
       "      <td>0.719998</td>\n",
       "      <td>0.718208</td>\n",
       "      <td>0.717315</td>\n",
       "      <td>0.718410</td>\n",
       "      <td>0.002914</td>\n",
       "    </tr>\n",
       "    <tr>\n",
       "      <th>2</th>\n",
       "      <td>0.000997</td>\n",
       "      <td>0.000001</td>\n",
       "      <td>0.000598</td>\n",
       "      <td>0.000488</td>\n",
       "      <td>1</td>\n",
       "      <td>{'alpha': 1}</td>\n",
       "      <td>0.691825</td>\n",
       "      <td>0.726692</td>\n",
       "      <td>0.703320</td>\n",
       "      <td>0.711009</td>\n",
       "      <td>...</td>\n",
       "      <td>0.709673</td>\n",
       "      <td>0.011710</td>\n",
       "      <td>1</td>\n",
       "      <td>0.722528</td>\n",
       "      <td>0.713759</td>\n",
       "      <td>0.719904</td>\n",
       "      <td>0.718092</td>\n",
       "      <td>0.717219</td>\n",
       "      <td>0.718300</td>\n",
       "      <td>0.002908</td>\n",
       "    </tr>\n",
       "    <tr>\n",
       "      <th>3</th>\n",
       "      <td>0.000598</td>\n",
       "      <td>0.000489</td>\n",
       "      <td>0.000598</td>\n",
       "      <td>0.000488</td>\n",
       "      <td>10</td>\n",
       "      <td>{'alpha': 10}</td>\n",
       "      <td>0.700032</td>\n",
       "      <td>0.719805</td>\n",
       "      <td>0.692404</td>\n",
       "      <td>0.705378</td>\n",
       "      <td>...</td>\n",
       "      <td>0.704993</td>\n",
       "      <td>0.009037</td>\n",
       "      <td>4</td>\n",
       "      <td>0.716261</td>\n",
       "      <td>0.708256</td>\n",
       "      <td>0.715058</td>\n",
       "      <td>0.712528</td>\n",
       "      <td>0.712235</td>\n",
       "      <td>0.712868</td>\n",
       "      <td>0.002760</td>\n",
       "    </tr>\n",
       "    <tr>\n",
       "      <th>4</th>\n",
       "      <td>0.000399</td>\n",
       "      <td>0.000489</td>\n",
       "      <td>0.000399</td>\n",
       "      <td>0.000489</td>\n",
       "      <td>100</td>\n",
       "      <td>{'alpha': 100}</td>\n",
       "      <td>0.677542</td>\n",
       "      <td>0.666238</td>\n",
       "      <td>0.631053</td>\n",
       "      <td>0.641720</td>\n",
       "      <td>...</td>\n",
       "      <td>0.654891</td>\n",
       "      <td>0.016687</td>\n",
       "      <td>5</td>\n",
       "      <td>0.659856</td>\n",
       "      <td>0.657195</td>\n",
       "      <td>0.667271</td>\n",
       "      <td>0.663157</td>\n",
       "      <td>0.662430</td>\n",
       "      <td>0.661982</td>\n",
       "      <td>0.003376</td>\n",
       "    </tr>\n",
       "  </tbody>\n",
       "</table>\n",
       "<p>5 rows × 21 columns</p>\n",
       "</div>"
      ],
      "text/plain": [
       "   mean_fit_time  std_fit_time  mean_score_time  std_score_time param_alpha  \\\n",
       "0       0.002594      0.001197         0.000997        0.000630        0.01   \n",
       "1       0.001795      0.000746         0.000598        0.000489         0.1   \n",
       "2       0.000997      0.000001         0.000598        0.000488           1   \n",
       "3       0.000598      0.000489         0.000598        0.000488          10   \n",
       "4       0.000399      0.000489         0.000399        0.000489         100   \n",
       "\n",
       "            params  split0_test_score  split1_test_score  split2_test_score  \\\n",
       "0  {'alpha': 0.01}           0.689522           0.727080           0.704408   \n",
       "1   {'alpha': 0.1}           0.689755           0.727051           0.704312   \n",
       "2     {'alpha': 1}           0.691825           0.726692           0.703320   \n",
       "3    {'alpha': 10}           0.700032           0.719805           0.692404   \n",
       "4   {'alpha': 100}           0.677542           0.666238           0.631053   \n",
       "\n",
       "   split3_test_score  ...  mean_test_score  std_test_score  rank_test_score  \\\n",
       "0           0.710773  ...         0.709612        0.012514                3   \n",
       "1           0.710811  ...         0.709628        0.012433                2   \n",
       "2           0.711009  ...         0.709673        0.011710                1   \n",
       "3           0.705378  ...         0.704993        0.009037                4   \n",
       "4           0.641720  ...         0.654891        0.016687                5   \n",
       "\n",
       "   split0_train_score  split1_train_score  split2_train_score  \\\n",
       "0            0.722661            0.713869            0.719999   \n",
       "1            0.722659            0.713868            0.719998   \n",
       "2            0.722528            0.713759            0.719904   \n",
       "3            0.716261            0.708256            0.715058   \n",
       "4            0.659856            0.657195            0.667271   \n",
       "\n",
       "   split3_train_score  split4_train_score  mean_train_score  std_train_score  \n",
       "0            0.718210            0.717316          0.718411         0.002914  \n",
       "1            0.718208            0.717315          0.718410         0.002914  \n",
       "2            0.718092            0.717219          0.718300         0.002908  \n",
       "3            0.712528            0.712235          0.712868         0.002760  \n",
       "4            0.663157            0.662430          0.661982         0.003376  \n",
       "\n",
       "[5 rows x 21 columns]"
      ]
     },
     "execution_count": 67,
     "metadata": {},
     "output_type": "execute_result"
    }
   ],
   "source": [
    "result_ridge = pd.DataFrame(grid_search_ridge.cv_results_)\n",
    "result_ridge"
   ]
  },
  {
   "cell_type": "code",
   "execution_count": 68,
   "metadata": {},
   "outputs": [
    {
     "data": {
      "text/plain": [
       "Text(0.5, 0, 'Alpha')"
      ]
     },
     "execution_count": 68,
     "metadata": {},
     "output_type": "execute_result"
    },
    {
     "data": {
      "image/png": "[encoded data removed]",
      "text/plain": [
       "<Figure size 432x288 with 1 Axes>"
      ]
     },
     "metadata": {
      "needs_background": "light"
     },
     "output_type": "display_data"
    }
   ],
   "source": [
    "import matplotlib.pyplot as plt\n",
    "%matplotlib inline\n",
    "\n",
    "plt.plot(range(result_ridge.shape[0]), result_ridge['mean_train_score'], label = 'mean train score')\n",
    "plt.plot(range(result_ridge.shape[0]), result_ridge['mean_test_score'], label = 'mean test score')\n",
    "plt.xticks(range(result_ridge.shape[0]), result_ridge['param_alpha'], rotation = 90)\n",
    "plt.plot([grid_search_ridge.best_index_], result_ridge['mean_train_score'][grid_search_ridge.best_index_], 'o', markersize = 10, fillstyle = \"none\")\n",
    "plt.plot([grid_search_ridge.best_index_], result_ridge['mean_test_score'][grid_search_ridge.best_index_], 'o', markersize = 10, fillstyle = \"none\")\n",
    "plt.grid()\n",
    "plt.legend()\n",
    "plt.xlabel('Alpha')"
   ]
  },
  {
   "cell_type": "markdown",
   "metadata": {},
   "source": [
    "### Ridge Regression Result:\n",
    "\n",
    "#### Best Parameter: {'alpha': 1}\n",
    "\n",
    "#### Test Score: 0.7081\n",
    "\n",
    "####  Mean Cross - Validation Score: 0.7111"
   ]
  },
  {
   "cell_type": "markdown",
   "metadata": {},
   "source": [
    "## Lasso Regression"
   ]
  },
  {
   "cell_type": "code",
   "execution_count": 69,
   "metadata": {},
   "outputs": [],
   "source": [
    "grid_parms_lasso = {'alpha': [0.01, 0.1, 1, 10,100]}"
   ]
  },
  {
   "cell_type": "code",
   "execution_count": 70,
   "metadata": {},
   "outputs": [
    {
     "name": "stdout",
     "output_type": "stream",
     "text": [
      "Best parameters: {'alpha': 0.01}\n",
      "Best cross-validation score: 0.6019\n"
     ]
    }
   ],
   "source": [
    "lasso = Lasso()\n",
    "grid_search_lasso = GridSearchCV(estimator = lasso,param_grid = grid_parms_lasso,return_train_score=True,n_jobs=-1,cv=5)\n",
    "grid_search_lasso.fit(X_train_org, y_train)\n",
    "print(\"Best parameters: {}\".format(grid_search_lasso.best_params_))\n",
    "print(\"Best cross-validation score: {:.4f}\".format(grid_search_lasso.best_score_))"
   ]
  },
  {
   "cell_type": "code",
   "execution_count": 71,
   "metadata": {},
   "outputs": [
    {
     "name": "stdout",
     "output_type": "stream",
     "text": [
      "Train score: 0.0242\n",
      "Test score: 0.0109\n"
     ]
    }
   ],
   "source": [
    "lass = Lasso(alpha = 10)\n",
    "lass.fit(X_train_org, y_train)\n",
    "print(\"Train score: %.4f\"%lass.score(X_train_org, y_train))\n",
    "print(\"Test score: %.4f\"%lass.score(X_test_org, y_test))"
   ]
  },
  {
   "cell_type": "code",
   "execution_count": 72,
   "metadata": {},
   "outputs": [
    {
     "name": "stdout",
     "output_type": "stream",
     "text": [
      "Cross-validation scores:[-0.01768529  0.03496816  0.02732426  0.02545754  0.04235233  0.0180592 ]\n",
      "Mean score: 0.021746031736557203\n"
     ]
    }
   ],
   "source": [
    "from sklearn.model_selection import KFold\n",
    "from sklearn.model_selection import cross_val_score\n",
    "\n",
    "  \n",
    "kfold = KFold(n_splits=6)\n",
    "print(\"Cross-validation scores:{}\".format(cross_val_score(lass , X_train_org, y_train, cv=kfold)))\n",
    "scores = cross_val_score(lass , X_train_org, y_train, cv=kfold)\n",
    "print(\"Mean score: {}\".format(np.mean(scores)))"
   ]
  },
  {
   "cell_type": "code",
   "execution_count": 73,
   "metadata": {},
   "outputs": [
    {
     "data": {
      "text/html": [
       "<div>\n",
       "<style scoped>\n",
       "    .dataframe tbody tr th:only-of-type {\n",
       "        vertical-align: middle;\n",
       "    }\n",
       "\n",
       "    .dataframe tbody tr th {\n",
       "        vertical-align: top;\n",
       "    }\n",
       "\n",
       "    .dataframe thead th {\n",
       "        text-align: right;\n",
       "    }\n",
       "</style>\n",
       "<table border=\"1\" class=\"dataframe\">\n",
       "  <thead>\n",
       "    <tr style=\"text-align: right;\">\n",
       "      <th></th>\n",
       "      <th>mean_fit_time</th>\n",
       "      <th>std_fit_time</th>\n",
       "      <th>mean_score_time</th>\n",
       "      <th>std_score_time</th>\n",
       "      <th>param_alpha</th>\n",
       "      <th>params</th>\n",
       "      <th>split0_test_score</th>\n",
       "      <th>split1_test_score</th>\n",
       "      <th>split2_test_score</th>\n",
       "      <th>split3_test_score</th>\n",
       "      <th>...</th>\n",
       "      <th>mean_test_score</th>\n",
       "      <th>std_test_score</th>\n",
       "      <th>rank_test_score</th>\n",
       "      <th>split0_train_score</th>\n",
       "      <th>split1_train_score</th>\n",
       "      <th>split2_train_score</th>\n",
       "      <th>split3_train_score</th>\n",
       "      <th>split4_train_score</th>\n",
       "      <th>mean_train_score</th>\n",
       "      <th>std_train_score</th>\n",
       "    </tr>\n",
       "  </thead>\n",
       "  <tbody>\n",
       "    <tr>\n",
       "      <th>0</th>\n",
       "      <td>0.001089</td>\n",
       "      <td>0.000212</td>\n",
       "      <td>0.000399</td>\n",
       "      <td>0.000489</td>\n",
       "      <td>0.01</td>\n",
       "      <td>{'alpha': 0.01}</td>\n",
       "      <td>0.639759</td>\n",
       "      <td>0.610485</td>\n",
       "      <td>0.576364</td>\n",
       "      <td>0.570934</td>\n",
       "      <td>...</td>\n",
       "      <td>0.601946</td>\n",
       "      <td>0.025383</td>\n",
       "      <td>1</td>\n",
       "      <td>0.614529</td>\n",
       "      <td>0.599882</td>\n",
       "      <td>0.616139</td>\n",
       "      <td>0.607712</td>\n",
       "      <td>0.611319</td>\n",
       "      <td>0.609916</td>\n",
       "      <td>0.005788</td>\n",
       "    </tr>\n",
       "    <tr>\n",
       "      <th>1</th>\n",
       "      <td>0.000798</td>\n",
       "      <td>0.000399</td>\n",
       "      <td>0.000598</td>\n",
       "      <td>0.000489</td>\n",
       "      <td>0.1</td>\n",
       "      <td>{'alpha': 0.1}</td>\n",
       "      <td>0.609687</td>\n",
       "      <td>0.581296</td>\n",
       "      <td>0.541413</td>\n",
       "      <td>0.531421</td>\n",
       "      <td>...</td>\n",
       "      <td>0.571430</td>\n",
       "      <td>0.030115</td>\n",
       "      <td>2</td>\n",
       "      <td>0.567337</td>\n",
       "      <td>0.571830</td>\n",
       "      <td>0.584173</td>\n",
       "      <td>0.583689</td>\n",
       "      <td>0.575168</td>\n",
       "      <td>0.576440</td>\n",
       "      <td>0.006604</td>\n",
       "    </tr>\n",
       "    <tr>\n",
       "      <th>2</th>\n",
       "      <td>0.000598</td>\n",
       "      <td>0.000488</td>\n",
       "      <td>0.000399</td>\n",
       "      <td>0.000489</td>\n",
       "      <td>1</td>\n",
       "      <td>{'alpha': 1}</td>\n",
       "      <td>-0.018465</td>\n",
       "      <td>0.050071</td>\n",
       "      <td>0.034092</td>\n",
       "      <td>0.000459</td>\n",
       "      <td>...</td>\n",
       "      <td>0.022188</td>\n",
       "      <td>0.026682</td>\n",
       "      <td>3</td>\n",
       "      <td>0.037479</td>\n",
       "      <td>0.019034</td>\n",
       "      <td>0.026856</td>\n",
       "      <td>0.039255</td>\n",
       "      <td>0.022611</td>\n",
       "      <td>0.029047</td>\n",
       "      <td>0.008022</td>\n",
       "    </tr>\n",
       "    <tr>\n",
       "      <th>3</th>\n",
       "      <td>0.000399</td>\n",
       "      <td>0.000488</td>\n",
       "      <td>0.000403</td>\n",
       "      <td>0.000493</td>\n",
       "      <td>10</td>\n",
       "      <td>{'alpha': 10}</td>\n",
       "      <td>-0.017375</td>\n",
       "      <td>0.043762</td>\n",
       "      <td>0.029129</td>\n",
       "      <td>-0.001722</td>\n",
       "      <td>...</td>\n",
       "      <td>0.019891</td>\n",
       "      <td>0.025217</td>\n",
       "      <td>4</td>\n",
       "      <td>0.033080</td>\n",
       "      <td>0.018075</td>\n",
       "      <td>0.022967</td>\n",
       "      <td>0.029772</td>\n",
       "      <td>0.018205</td>\n",
       "      <td>0.024420</td>\n",
       "      <td>0.006077</td>\n",
       "    </tr>\n",
       "    <tr>\n",
       "      <th>4</th>\n",
       "      <td>0.000818</td>\n",
       "      <td>0.000411</td>\n",
       "      <td>0.000000</td>\n",
       "      <td>0.000000</td>\n",
       "      <td>100</td>\n",
       "      <td>{'alpha': 100}</td>\n",
       "      <td>-0.016383</td>\n",
       "      <td>0.042914</td>\n",
       "      <td>0.028822</td>\n",
       "      <td>-0.000841</td>\n",
       "      <td>...</td>\n",
       "      <td>0.019828</td>\n",
       "      <td>0.024379</td>\n",
       "      <td>5</td>\n",
       "      <td>0.033052</td>\n",
       "      <td>0.018040</td>\n",
       "      <td>0.022939</td>\n",
       "      <td>0.029742</td>\n",
       "      <td>0.018174</td>\n",
       "      <td>0.024390</td>\n",
       "      <td>0.006078</td>\n",
       "    </tr>\n",
       "  </tbody>\n",
       "</table>\n",
       "<p>5 rows × 21 columns</p>\n",
       "</div>"
      ],
      "text/plain": [
       "   mean_fit_time  std_fit_time  mean_score_time  std_score_time param_alpha  \\\n",
       "0       0.001089      0.000212         0.000399        0.000489        0.01   \n",
       "1       0.000798      0.000399         0.000598        0.000489         0.1   \n",
       "2       0.000598      0.000488         0.000399        0.000489           1   \n",
       "3       0.000399      0.000488         0.000403        0.000493          10   \n",
       "4       0.000818      0.000411         0.000000        0.000000         100   \n",
       "\n",
       "            params  split0_test_score  split1_test_score  split2_test_score  \\\n",
       "0  {'alpha': 0.01}           0.639759           0.610485           0.576364   \n",
       "1   {'alpha': 0.1}           0.609687           0.581296           0.541413   \n",
       "2     {'alpha': 1}          -0.018465           0.050071           0.034092   \n",
       "3    {'alpha': 10}          -0.017375           0.043762           0.029129   \n",
       "4   {'alpha': 100}          -0.016383           0.042914           0.028822   \n",
       "\n",
       "   split3_test_score  ...  mean_test_score  std_test_score  rank_test_score  \\\n",
       "0           0.570934  ...         0.601946        0.025383                1   \n",
       "1           0.531421  ...         0.571430        0.030115                2   \n",
       "2           0.000459  ...         0.022188        0.026682                3   \n",
       "3          -0.001722  ...         0.019891        0.025217                4   \n",
       "4          -0.000841  ...         0.019828        0.024379                5   \n",
       "\n",
       "   split0_train_score  split1_train_score  split2_train_score  \\\n",
       "0            0.614529            0.599882            0.616139   \n",
       "1            0.567337            0.571830            0.584173   \n",
       "2            0.037479            0.019034            0.026856   \n",
       "3            0.033080            0.018075            0.022967   \n",
       "4            0.033052            0.018040            0.022939   \n",
       "\n",
       "   split3_train_score  split4_train_score  mean_train_score  std_train_score  \n",
       "0            0.607712            0.611319          0.609916         0.005788  \n",
       "1            0.583689            0.575168          0.576440         0.006604  \n",
       "2            0.039255            0.022611          0.029047         0.008022  \n",
       "3            0.029772            0.018205          0.024420         0.006077  \n",
       "4            0.029742            0.018174          0.024390         0.006078  \n",
       "\n",
       "[5 rows x 21 columns]"
      ]
     },
     "execution_count": 73,
     "metadata": {},
     "output_type": "execute_result"
    }
   ],
   "source": [
    "result_lasso = pd.DataFrame(grid_search_lasso.cv_results_)\n",
    "result_lasso"
   ]
  },
  {
   "cell_type": "code",
   "execution_count": 74,
   "metadata": {},
   "outputs": [
    {
     "data": {
      "text/plain": [
       "Text(0.5, 0, 'Alpha')"
      ]
     },
     "execution_count": 74,
     "metadata": {},
     "output_type": "execute_result"
    },
    {
     "data": {
      "image/png": "[encoded data removed]",
      "text/plain": [
       "<Figure size 432x288 with 1 Axes>"
      ]
     },
     "metadata": {
      "needs_background": "light"
     },
     "output_type": "display_data"
    }
   ],
   "source": [
    "%matplotlib inline\n",
    "\n",
    "plt.plot(range(result_lasso.shape[0]), result_lasso['mean_train_score'], label = 'mean train score')\n",
    "plt.plot(range(result_lasso.shape[0]), result_lasso['mean_test_score'], label = 'mean test score')\n",
    "plt.xticks(range(result_lasso.shape[0]), result_lasso['param_alpha'], rotation = 90)\n",
    "plt.plot([grid_search_lasso.best_index_], result_lasso['mean_train_score'][grid_search_lasso.best_index_], 'o', markersize = 10, fillstyle = \"none\")\n",
    "plt.plot([grid_search_lasso.best_index_], result_lasso['mean_test_score'][grid_search_lasso.best_index_], 'o', markersize = 10, fillstyle = \"none\")\n",
    "plt.grid()\n",
    "plt.legend()\n",
    "plt.xlabel('Alpha')"
   ]
  },
  {
   "cell_type": "markdown",
   "metadata": {},
   "source": [
    "### Lasso Regression Result:\n",
    "\n",
    "#### Best Parameter: {'alpha': 0.01}\n",
    "\n",
    "#### Test Score: 0.0109\n",
    "\n",
    "#### Mean Cross - Validation Score: 0.0217"
   ]
  },
  {
   "cell_type": "markdown",
   "metadata": {},
   "source": [
    "## Polynomial Regression"
   ]
  },
  {
   "cell_type": "code",
   "execution_count": 75,
   "metadata": {},
   "outputs": [],
   "source": [
    "from sklearn.preprocessing import PolynomialFeatures\n",
    "from sklearn.linear_model import LinearRegression\n",
    "from sklearn.pipeline import make_pipeline\n",
    "\n",
    "def PolynomialRegression(degree=2, **kwargs):\n",
    "    return make_pipeline(PolynomialFeatures(degree),\n",
    "                         LinearRegression(**kwargs))"
   ]
  },
  {
   "cell_type": "code",
   "execution_count": 76,
   "metadata": {},
   "outputs": [],
   "source": [
    "param_grid_poly = {'polynomialfeatures__degree': np.arange(3)}\n",
    "\n",
    "grid_poly = GridSearchCV(PolynomialRegression(), param_grid_poly,return_train_score=True,n_jobs=-1,cv=5)"
   ]
  },
  {
   "cell_type": "code",
   "execution_count": 77,
   "metadata": {},
   "outputs": [
    {
     "data": {
      "text/plain": [
       "GridSearchCV(cv=5, error_score='raise-deprecating',\n",
       "             estimator=Pipeline(memory=None,\n",
       "                                steps=[('polynomialfeatures',\n",
       "                                        PolynomialFeatures(degree=2,\n",
       "                                                           include_bias=True,\n",
       "                                                           interaction_only=False,\n",
       "                                                           order='C')),\n",
       "                                       ('linearregression',\n",
       "                                        LinearRegression(copy_X=True,\n",
       "                                                         fit_intercept=True,\n",
       "                                                         n_jobs=None,\n",
       "                                                         normalize=False))],\n",
       "                                verbose=False),\n",
       "             iid='warn', n_jobs=-1,\n",
       "             param_grid={'polynomialfeatures__degree': array([0, 1, 2])},\n",
       "             pre_dispatch='2*n_jobs', refit=True, return_train_score=True,\n",
       "             scoring=None, verbose=0)"
      ]
     },
     "execution_count": 77,
     "metadata": {},
     "output_type": "execute_result"
    }
   ],
   "source": [
    "grid_poly.fit(X_train_org, y_train)"
   ]
  },
  {
   "cell_type": "code",
   "execution_count": 78,
   "metadata": {},
   "outputs": [
    {
     "name": "stdout",
     "output_type": "stream",
     "text": [
      "Best parameters: {'polynomialfeatures__degree': 1}\n",
      "Best cross-validation score: 0.7096\n"
     ]
    }
   ],
   "source": [
    "print(\"Best parameters: {}\".format(grid_poly.best_params_))\n",
    "print(\"Best cross-validation score: {:.4f}\".format(grid_poly.best_score_))"
   ]
  },
  {
   "cell_type": "code",
   "execution_count": 79,
   "metadata": {},
   "outputs": [
    {
     "name": "stdout",
     "output_type": "stream",
     "text": [
      "Train score: 0.7827811083369883\n",
      "Test score: 0.7256474873336659\n"
     ]
    }
   ],
   "source": [
    "pol = PolynomialFeatures(degree = 2)\n",
    "X_pol = pol.fit_transform(X_train_org)\n",
    "Xt_pol = pol.fit_transform(X_test_org)\n",
    "pol_reg = LinearRegression()\n",
    "pol_reg.fit(X_pol,y_train)\n",
    "print(\"Train score: {}\".format(pol_reg.score(X_pol, y_train)))\n",
    "print(\"Test score: {}\".format(pol_reg.score(Xt_pol, y_test)))"
   ]
  },
  {
   "cell_type": "code",
   "execution_count": 80,
   "metadata": {},
   "outputs": [
    {
     "name": "stdout",
     "output_type": "stream",
     "text": [
      "Cross-validation scores:[0.71923386 0.778345   0.7475032  0.59996773 0.72390367 0.72351814]\n",
      "Mean score: 0.7154119329445628\n"
     ]
    }
   ],
   "source": [
    "from sklearn.model_selection import KFold\n",
    "from sklearn.model_selection import cross_val_score\n",
    "\n",
    "  \n",
    "kfold = KFold(n_splits=6)\n",
    "print(\"Cross-validation scores:{}\".format(cross_val_score(pol_reg , X_pol, y_train, cv=kfold)))\n",
    "scores = cross_val_score(pol_reg , X_pol, y_train, cv=kfold)\n",
    "print(\"Mean score: {}\".format(np.mean(scores)))"
   ]
  },
  {
   "cell_type": "code",
   "execution_count": 81,
   "metadata": {},
   "outputs": [
    {
     "data": {
      "text/html": [
       "<div>\n",
       "<style scoped>\n",
       "    .dataframe tbody tr th:only-of-type {\n",
       "        vertical-align: middle;\n",
       "    }\n",
       "\n",
       "    .dataframe tbody tr th {\n",
       "        vertical-align: top;\n",
       "    }\n",
       "\n",
       "    .dataframe thead th {\n",
       "        text-align: right;\n",
       "    }\n",
       "</style>\n",
       "<table border=\"1\" class=\"dataframe\">\n",
       "  <thead>\n",
       "    <tr style=\"text-align: right;\">\n",
       "      <th></th>\n",
       "      <th>mean_fit_time</th>\n",
       "      <th>std_fit_time</th>\n",
       "      <th>mean_score_time</th>\n",
       "      <th>std_score_time</th>\n",
       "      <th>param_polynomialfeatures__degree</th>\n",
       "      <th>params</th>\n",
       "      <th>split0_test_score</th>\n",
       "      <th>split1_test_score</th>\n",
       "      <th>split2_test_score</th>\n",
       "      <th>split3_test_score</th>\n",
       "      <th>...</th>\n",
       "      <th>mean_test_score</th>\n",
       "      <th>std_test_score</th>\n",
       "      <th>rank_test_score</th>\n",
       "      <th>split0_train_score</th>\n",
       "      <th>split1_train_score</th>\n",
       "      <th>split2_train_score</th>\n",
       "      <th>split3_train_score</th>\n",
       "      <th>split4_train_score</th>\n",
       "      <th>mean_train_score</th>\n",
       "      <th>std_train_score</th>\n",
       "    </tr>\n",
       "  </thead>\n",
       "  <tbody>\n",
       "    <tr>\n",
       "      <th>0</th>\n",
       "      <td>0.000997</td>\n",
       "      <td>3.693565e-07</td>\n",
       "      <td>0.000997</td>\n",
       "      <td>7.478899e-07</td>\n",
       "      <td>0</td>\n",
       "      <td>{'polynomialfeatures__degree': 0}</td>\n",
       "      <td>-0.002549</td>\n",
       "      <td>-0.000035</td>\n",
       "      <td>-0.000146</td>\n",
       "      <td>-0.000992</td>\n",
       "      <td>...</td>\n",
       "      <td>-0.000864</td>\n",
       "      <td>0.000910</td>\n",
       "      <td>3</td>\n",
       "      <td>0.000000</td>\n",
       "      <td>0.000000</td>\n",
       "      <td>0.000000</td>\n",
       "      <td>0.000000</td>\n",
       "      <td>0.000000</td>\n",
       "      <td>0.000000</td>\n",
       "      <td>0.000000</td>\n",
       "    </tr>\n",
       "    <tr>\n",
       "      <th>1</th>\n",
       "      <td>0.001995</td>\n",
       "      <td>4.156970e-07</td>\n",
       "      <td>0.000997</td>\n",
       "      <td>5.519789e-07</td>\n",
       "      <td>1</td>\n",
       "      <td>{'polynomialfeatures__degree': 1}</td>\n",
       "      <td>0.689496</td>\n",
       "      <td>0.727083</td>\n",
       "      <td>0.704418</td>\n",
       "      <td>0.710769</td>\n",
       "      <td>...</td>\n",
       "      <td>0.709610</td>\n",
       "      <td>0.012523</td>\n",
       "      <td>1</td>\n",
       "      <td>0.722661</td>\n",
       "      <td>0.713869</td>\n",
       "      <td>0.719999</td>\n",
       "      <td>0.718210</td>\n",
       "      <td>0.717316</td>\n",
       "      <td>0.718411</td>\n",
       "      <td>0.002914</td>\n",
       "    </tr>\n",
       "    <tr>\n",
       "      <th>2</th>\n",
       "      <td>0.014560</td>\n",
       "      <td>1.197283e-03</td>\n",
       "      <td>0.002792</td>\n",
       "      <td>7.462263e-04</td>\n",
       "      <td>2</td>\n",
       "      <td>{'polynomialfeatures__degree': 2}</td>\n",
       "      <td>0.713884</td>\n",
       "      <td>0.779412</td>\n",
       "      <td>0.478235</td>\n",
       "      <td>0.714518</td>\n",
       "      <td>...</td>\n",
       "      <td>0.686023</td>\n",
       "      <td>0.106550</td>\n",
       "      <td>2</td>\n",
       "      <td>0.791180</td>\n",
       "      <td>0.778908</td>\n",
       "      <td>0.544819</td>\n",
       "      <td>0.787844</td>\n",
       "      <td>0.787414</td>\n",
       "      <td>0.738033</td>\n",
       "      <td>0.096692</td>\n",
       "    </tr>\n",
       "  </tbody>\n",
       "</table>\n",
       "<p>3 rows × 21 columns</p>\n",
       "</div>"
      ],
      "text/plain": [
       "   mean_fit_time  std_fit_time  mean_score_time  std_score_time  \\\n",
       "0       0.000997  3.693565e-07         0.000997    7.478899e-07   \n",
       "1       0.001995  4.156970e-07         0.000997    5.519789e-07   \n",
       "2       0.014560  1.197283e-03         0.002792    7.462263e-04   \n",
       "\n",
       "  param_polynomialfeatures__degree                             params  \\\n",
       "0                                0  {'polynomialfeatures__degree': 0}   \n",
       "1                                1  {'polynomialfeatures__degree': 1}   \n",
       "2                                2  {'polynomialfeatures__degree': 2}   \n",
       "\n",
       "   split0_test_score  split1_test_score  split2_test_score  split3_test_score  \\\n",
       "0          -0.002549          -0.000035          -0.000146          -0.000992   \n",
       "1           0.689496           0.727083           0.704418           0.710769   \n",
       "2           0.713884           0.779412           0.478235           0.714518   \n",
       "\n",
       "   ...  mean_test_score  std_test_score  rank_test_score  split0_train_score  \\\n",
       "0  ...        -0.000864        0.000910                3            0.000000   \n",
       "1  ...         0.709610        0.012523                1            0.722661   \n",
       "2  ...         0.686023        0.106550                2            0.791180   \n",
       "\n",
       "   split1_train_score  split2_train_score  split3_train_score  \\\n",
       "0            0.000000            0.000000            0.000000   \n",
       "1            0.713869            0.719999            0.718210   \n",
       "2            0.778908            0.544819            0.787844   \n",
       "\n",
       "   split4_train_score  mean_train_score  std_train_score  \n",
       "0            0.000000          0.000000         0.000000  \n",
       "1            0.717316          0.718411         0.002914  \n",
       "2            0.787414          0.738033         0.096692  \n",
       "\n",
       "[3 rows x 21 columns]"
      ]
     },
     "execution_count": 81,
     "metadata": {},
     "output_type": "execute_result"
    }
   ],
   "source": [
    "result_poly = pd.DataFrame(grid_poly.cv_results_)\n",
    "result_poly"
   ]
  },
  {
   "cell_type": "code",
   "execution_count": 82,
   "metadata": {},
   "outputs": [
    {
     "data": {
      "text/plain": [
       "<matplotlib.legend.Legend at 0x23dc8c669b0>"
      ]
     },
     "execution_count": 82,
     "metadata": {},
     "output_type": "execute_result"
    },
    {
     "data": {
      "image/png": "[encoded data removed]",
      "text/plain": [
       "<Figure size 432x288 with 1 Axes>"
      ]
     },
     "metadata": {
      "needs_background": "light"
     },
     "output_type": "display_data"
    }
   ],
   "source": [
    "plt.plot(range(result_poly.shape[0]), result_poly['mean_train_score'], label = 'mean train score')\n",
    "plt.plot(range(result_poly.shape[0]), result_poly['mean_test_score'], label = 'mean test score')\n",
    "plt.xticks(range(result_poly.shape[0]), result_poly['param_polynomialfeatures__degree'], rotation = 90)\n",
    "plt.plot([grid_poly.best_index_], result_poly['mean_train_score'][grid_poly.best_index_], 'o', markersize = 10, fillstyle = \"none\")\n",
    "plt.plot([grid_poly.best_index_], result_poly['mean_test_score'][grid_poly.best_index_], 'o', markersize = 10, fillstyle = \"none\")\n",
    "plt.grid()\n",
    "plt.xlabel('Degree')\n",
    "plt.legend()"
   ]
  },
  {
   "cell_type": "markdown",
   "metadata": {},
   "source": [
    "### Polynomial Regression Result:\n",
    "\n",
    "#### Best Parameter: {'polynomialfeatures__degree': 1}\n",
    "\n",
    "#### Test Score: 0.7256\n",
    "\n",
    "#### Mean Cross - Validation Score: 0.7154"
   ]
  },
  {
   "cell_type": "markdown",
   "metadata": {},
   "source": [
    "## Linear (Simple) SVR"
   ]
  },
  {
   "cell_type": "code",
   "execution_count": 83,
   "metadata": {},
   "outputs": [],
   "source": [
    "grid_parms_svrl = {'C': [0.01, 0.1, 1, 10, 100], 'epsilon' : [0.01, 0.1, 1, 10, 100]}"
   ]
  },
  {
   "cell_type": "code",
   "execution_count": 84,
   "metadata": {},
   "outputs": [],
   "source": [
    "linearsvr = LinearSVR()\n",
    "grid_svrl = GridSearchCV(estimator = linearsvr,param_grid = grid_parms_svrl,return_train_score=True,n_jobs= -1,cv=10)"
   ]
  },
  {
   "cell_type": "code",
   "execution_count": 85,
   "metadata": {},
   "outputs": [
    {
     "name": "stderr",
     "output_type": "stream",
     "text": [
      "C:\\Users\\dhurv\\Anaconda3\\lib\\site-packages\\sklearn\\model_selection\\_search.py:813: DeprecationWarning: The default of the `iid` parameter will change from True to False in version 0.22 and will be removed in 0.24. This will change numeric results when test-set sizes are unequal.\n",
      "  DeprecationWarning)\n",
      "C:\\Users\\dhurv\\Anaconda3\\lib\\site-packages\\sklearn\\svm\\base.py:929: ConvergenceWarning: Liblinear failed to converge, increase the number of iterations.\n",
      "  \"the number of iterations.\", ConvergenceWarning)\n"
     ]
    },
    {
     "data": {
      "text/plain": [
       "GridSearchCV(cv=10, error_score='raise-deprecating',\n",
       "             estimator=LinearSVR(C=1.0, dual=True, epsilon=0.0,\n",
       "                                 fit_intercept=True, intercept_scaling=1.0,\n",
       "                                 loss='epsilon_insensitive', max_iter=1000,\n",
       "                                 random_state=None, tol=0.0001, verbose=0),\n",
       "             iid='warn', n_jobs=-1,\n",
       "             param_grid={'C': [0.01, 0.1, 1, 10, 100],\n",
       "                         'epsilon': [0.01, 0.1, 1, 10, 100]},\n",
       "             pre_dispatch='2*n_jobs', refit=True, return_train_score=True,\n",
       "             scoring=None, verbose=0)"
      ]
     },
     "execution_count": 85,
     "metadata": {},
     "output_type": "execute_result"
    }
   ],
   "source": [
    "grid_svrl.fit(X_train,y_train)"
   ]
  },
  {
   "cell_type": "code",
   "execution_count": 86,
   "metadata": {},
   "outputs": [
    {
     "name": "stdout",
     "output_type": "stream",
     "text": [
      "Best parameters: {'C': 1, 'epsilon': 0.1}\n",
      "Best cross-validation score: 0.7064\n"
     ]
    }
   ],
   "source": [
    "print(\"Best parameters: {}\".format(grid_svrl.best_params_))\n",
    "print(\"Best cross-validation score: {:.4f}\".format(grid_svrl.best_score_))"
   ]
  },
  {
   "cell_type": "code",
   "execution_count": 87,
   "metadata": {},
   "outputs": [
    {
     "name": "stdout",
     "output_type": "stream",
     "text": [
      "Train score: -10.529286326571544\n",
      "Test score: -10.459881592466767\n"
     ]
    }
   ],
   "source": [
    "lsvr = LinearSVR(C = 100, epsilon = 1)\n",
    "        \n",
    "lsvr.fit(X_train, y_train)\n",
    "\n",
    "print(\"Train score: {}\".format(lsvr.score(X_train, y_train)))\n",
    "print(\"Test score: {}\".format(lsvr.score(X_test, y_test)))"
   ]
  },
  {
   "cell_type": "code",
   "execution_count": 88,
   "metadata": {},
   "outputs": [
    {
     "name": "stdout",
     "output_type": "stream",
     "text": [
      "Cross-validation scores:[-10.5620073  -11.82924042  -8.46538475 -10.2700883  -10.68275818\n",
      " -11.84745851 -12.37334949  -9.50995206  -9.61517716 -11.48625867]\n",
      "Mean score: -10.664167484222427\n"
     ]
    }
   ],
   "source": [
    "from sklearn.model_selection import KFold\n",
    "from sklearn.model_selection import cross_val_score\n",
    "\n",
    "  \n",
    "kfold = KFold(n_splits=10)\n",
    "print(\"Cross-validation scores:{}\".format(cross_val_score(lsvr , X_train, y_train, cv=kfold)))\n",
    "scores = cross_val_score(lsvr, X_train, y_train, cv=kfold)\n",
    "print(\"Mean score: {}\".format(np.mean(scores)))"
   ]
  },
  {
   "cell_type": "code",
   "execution_count": 89,
   "metadata": {},
   "outputs": [
    {
     "data": {
      "text/html": [
       "<div>\n",
       "<style scoped>\n",
       "    .dataframe tbody tr th:only-of-type {\n",
       "        vertical-align: middle;\n",
       "    }\n",
       "\n",
       "    .dataframe tbody tr th {\n",
       "        vertical-align: top;\n",
       "    }\n",
       "\n",
       "    .dataframe thead th {\n",
       "        text-align: right;\n",
       "    }\n",
       "</style>\n",
       "<table border=\"1\" class=\"dataframe\">\n",
       "  <thead>\n",
       "    <tr style=\"text-align: right;\">\n",
       "      <th></th>\n",
       "      <th>mean_fit_time</th>\n",
       "      <th>std_fit_time</th>\n",
       "      <th>mean_score_time</th>\n",
       "      <th>std_score_time</th>\n",
       "      <th>param_C</th>\n",
       "      <th>param_epsilon</th>\n",
       "      <th>params</th>\n",
       "      <th>split0_test_score</th>\n",
       "      <th>split1_test_score</th>\n",
       "      <th>split2_test_score</th>\n",
       "      <th>...</th>\n",
       "      <th>split2_train_score</th>\n",
       "      <th>split3_train_score</th>\n",
       "      <th>split4_train_score</th>\n",
       "      <th>split5_train_score</th>\n",
       "      <th>split6_train_score</th>\n",
       "      <th>split7_train_score</th>\n",
       "      <th>split8_train_score</th>\n",
       "      <th>split9_train_score</th>\n",
       "      <th>mean_train_score</th>\n",
       "      <th>std_train_score</th>\n",
       "    </tr>\n",
       "  </thead>\n",
       "  <tbody>\n",
       "    <tr>\n",
       "      <th>0</th>\n",
       "      <td>0.001706</td>\n",
       "      <td>4.472966e-04</td>\n",
       "      <td>0.000798</td>\n",
       "      <td>0.000399</td>\n",
       "      <td>0.01</td>\n",
       "      <td>0.01</td>\n",
       "      <td>{'C': 0.01, 'epsilon': 0.01}</td>\n",
       "      <td>0.656294</td>\n",
       "      <td>0.593975</td>\n",
       "      <td>0.726435</td>\n",
       "      <td>...</td>\n",
       "      <td>0.651470</td>\n",
       "      <td>0.663128</td>\n",
       "      <td>0.659067</td>\n",
       "      <td>0.667800</td>\n",
       "      <td>0.662398</td>\n",
       "      <td>0.657662</td>\n",
       "      <td>0.654418</td>\n",
       "      <td>0.664752</td>\n",
       "      <td>0.661251</td>\n",
       "      <td>0.005400</td>\n",
       "    </tr>\n",
       "    <tr>\n",
       "      <th>1</th>\n",
       "      <td>0.001799</td>\n",
       "      <td>4.009818e-04</td>\n",
       "      <td>0.000399</td>\n",
       "      <td>0.000488</td>\n",
       "      <td>0.01</td>\n",
       "      <td>0.1</td>\n",
       "      <td>{'C': 0.01, 'epsilon': 0.1}</td>\n",
       "      <td>0.631826</td>\n",
       "      <td>0.573992</td>\n",
       "      <td>0.696991</td>\n",
       "      <td>...</td>\n",
       "      <td>0.629545</td>\n",
       "      <td>0.643003</td>\n",
       "      <td>0.638154</td>\n",
       "      <td>0.646579</td>\n",
       "      <td>0.642058</td>\n",
       "      <td>0.637321</td>\n",
       "      <td>0.637068</td>\n",
       "      <td>0.645633</td>\n",
       "      <td>0.640693</td>\n",
       "      <td>0.005130</td>\n",
       "    </tr>\n",
       "    <tr>\n",
       "      <th>2</th>\n",
       "      <td>0.000798</td>\n",
       "      <td>3.989819e-04</td>\n",
       "      <td>0.000499</td>\n",
       "      <td>0.000499</td>\n",
       "      <td>0.01</td>\n",
       "      <td>1</td>\n",
       "      <td>{'C': 0.01, 'epsilon': 1}</td>\n",
       "      <td>-10.562007</td>\n",
       "      <td>-11.829240</td>\n",
       "      <td>-8.465385</td>\n",
       "      <td>...</td>\n",
       "      <td>-10.821266</td>\n",
       "      <td>-10.558814</td>\n",
       "      <td>-10.513738</td>\n",
       "      <td>-10.399740</td>\n",
       "      <td>-10.355896</td>\n",
       "      <td>-10.657840</td>\n",
       "      <td>-10.642934</td>\n",
       "      <td>-10.432109</td>\n",
       "      <td>-10.531052</td>\n",
       "      <td>0.137191</td>\n",
       "    </tr>\n",
       "    <tr>\n",
       "      <th>3</th>\n",
       "      <td>0.000997</td>\n",
       "      <td>8.546566e-07</td>\n",
       "      <td>0.000798</td>\n",
       "      <td>0.000399</td>\n",
       "      <td>0.01</td>\n",
       "      <td>10</td>\n",
       "      <td>{'C': 0.01, 'epsilon': 10}</td>\n",
       "      <td>-10.562007</td>\n",
       "      <td>-11.829240</td>\n",
       "      <td>-8.465385</td>\n",
       "      <td>...</td>\n",
       "      <td>-10.821266</td>\n",
       "      <td>-10.558814</td>\n",
       "      <td>-10.513738</td>\n",
       "      <td>-10.399740</td>\n",
       "      <td>-10.355896</td>\n",
       "      <td>-10.657840</td>\n",
       "      <td>-10.642934</td>\n",
       "      <td>-10.432109</td>\n",
       "      <td>-10.531052</td>\n",
       "      <td>0.137191</td>\n",
       "    </tr>\n",
       "    <tr>\n",
       "      <th>4</th>\n",
       "      <td>0.001097</td>\n",
       "      <td>6.998098e-04</td>\n",
       "      <td>0.000897</td>\n",
       "      <td>0.000299</td>\n",
       "      <td>0.01</td>\n",
       "      <td>100</td>\n",
       "      <td>{'C': 0.01, 'epsilon': 100}</td>\n",
       "      <td>-10.562007</td>\n",
       "      <td>-11.829240</td>\n",
       "      <td>-8.465385</td>\n",
       "      <td>...</td>\n",
       "      <td>-10.821266</td>\n",
       "      <td>-10.558814</td>\n",
       "      <td>-10.513738</td>\n",
       "      <td>-10.399740</td>\n",
       "      <td>-10.355896</td>\n",
       "      <td>-10.657840</td>\n",
       "      <td>-10.642934</td>\n",
       "      <td>-10.432109</td>\n",
       "      <td>-10.531052</td>\n",
       "      <td>0.137191</td>\n",
       "    </tr>\n",
       "    <tr>\n",
       "      <th>5</th>\n",
       "      <td>0.008574</td>\n",
       "      <td>1.907269e-03</td>\n",
       "      <td>0.000798</td>\n",
       "      <td>0.000399</td>\n",
       "      <td>0.1</td>\n",
       "      <td>0.01</td>\n",
       "      <td>{'C': 0.1, 'epsilon': 0.01}</td>\n",
       "      <td>0.728253</td>\n",
       "      <td>0.641651</td>\n",
       "      <td>0.760515</td>\n",
       "      <td>...</td>\n",
       "      <td>0.708559</td>\n",
       "      <td>0.717053</td>\n",
       "      <td>0.712609</td>\n",
       "      <td>0.718756</td>\n",
       "      <td>0.713822</td>\n",
       "      <td>0.714914</td>\n",
       "      <td>0.708968</td>\n",
       "      <td>0.719592</td>\n",
       "      <td>0.714858</td>\n",
       "      <td>0.004316</td>\n",
       "    </tr>\n",
       "    <tr>\n",
       "      <th>6</th>\n",
       "      <td>0.006881</td>\n",
       "      <td>6.983354e-04</td>\n",
       "      <td>0.000499</td>\n",
       "      <td>0.000499</td>\n",
       "      <td>0.1</td>\n",
       "      <td>0.1</td>\n",
       "      <td>{'C': 0.1, 'epsilon': 0.1}</td>\n",
       "      <td>0.712663</td>\n",
       "      <td>0.634289</td>\n",
       "      <td>0.759549</td>\n",
       "      <td>...</td>\n",
       "      <td>0.704241</td>\n",
       "      <td>0.712720</td>\n",
       "      <td>0.708616</td>\n",
       "      <td>0.715605</td>\n",
       "      <td>0.710871</td>\n",
       "      <td>0.710928</td>\n",
       "      <td>0.704690</td>\n",
       "      <td>0.716631</td>\n",
       "      <td>0.711111</td>\n",
       "      <td>0.004633</td>\n",
       "    </tr>\n",
       "    <tr>\n",
       "      <th>7</th>\n",
       "      <td>0.000698</td>\n",
       "      <td>6.390299e-04</td>\n",
       "      <td>0.000448</td>\n",
       "      <td>0.000468</td>\n",
       "      <td>0.1</td>\n",
       "      <td>1</td>\n",
       "      <td>{'C': 0.1, 'epsilon': 1}</td>\n",
       "      <td>-10.562007</td>\n",
       "      <td>-11.829240</td>\n",
       "      <td>-8.465385</td>\n",
       "      <td>...</td>\n",
       "      <td>-10.821266</td>\n",
       "      <td>-10.558814</td>\n",
       "      <td>-10.513738</td>\n",
       "      <td>-10.399740</td>\n",
       "      <td>-10.355896</td>\n",
       "      <td>-10.657840</td>\n",
       "      <td>-10.642934</td>\n",
       "      <td>-10.432109</td>\n",
       "      <td>-10.531052</td>\n",
       "      <td>0.137191</td>\n",
       "    </tr>\n",
       "    <tr>\n",
       "      <th>8</th>\n",
       "      <td>0.000998</td>\n",
       "      <td>3.099442e-07</td>\n",
       "      <td>0.000798</td>\n",
       "      <td>0.000399</td>\n",
       "      <td>0.1</td>\n",
       "      <td>10</td>\n",
       "      <td>{'C': 0.1, 'epsilon': 10}</td>\n",
       "      <td>-10.562007</td>\n",
       "      <td>-11.829240</td>\n",
       "      <td>-8.465385</td>\n",
       "      <td>...</td>\n",
       "      <td>-10.821266</td>\n",
       "      <td>-10.558814</td>\n",
       "      <td>-10.513738</td>\n",
       "      <td>-10.399740</td>\n",
       "      <td>-10.355896</td>\n",
       "      <td>-10.657840</td>\n",
       "      <td>-10.642934</td>\n",
       "      <td>-10.432109</td>\n",
       "      <td>-10.531052</td>\n",
       "      <td>0.137191</td>\n",
       "    </tr>\n",
       "    <tr>\n",
       "      <th>9</th>\n",
       "      <td>0.000898</td>\n",
       "      <td>2.993231e-04</td>\n",
       "      <td>0.000698</td>\n",
       "      <td>0.000457</td>\n",
       "      <td>0.1</td>\n",
       "      <td>100</td>\n",
       "      <td>{'C': 0.1, 'epsilon': 100}</td>\n",
       "      <td>-10.562007</td>\n",
       "      <td>-11.829240</td>\n",
       "      <td>-8.465385</td>\n",
       "      <td>...</td>\n",
       "      <td>-10.821266</td>\n",
       "      <td>-10.558814</td>\n",
       "      <td>-10.513738</td>\n",
       "      <td>-10.399740</td>\n",
       "      <td>-10.355896</td>\n",
       "      <td>-10.657840</td>\n",
       "      <td>-10.642934</td>\n",
       "      <td>-10.432109</td>\n",
       "      <td>-10.531052</td>\n",
       "      <td>0.137191</td>\n",
       "    </tr>\n",
       "    <tr>\n",
       "      <th>10</th>\n",
       "      <td>0.039695</td>\n",
       "      <td>3.533549e-03</td>\n",
       "      <td>0.000898</td>\n",
       "      <td>0.000299</td>\n",
       "      <td>1</td>\n",
       "      <td>0.01</td>\n",
       "      <td>{'C': 1, 'epsilon': 0.01}</td>\n",
       "      <td>0.734318</td>\n",
       "      <td>0.646245</td>\n",
       "      <td>0.753964</td>\n",
       "      <td>...</td>\n",
       "      <td>0.709733</td>\n",
       "      <td>0.717452</td>\n",
       "      <td>0.713335</td>\n",
       "      <td>0.719785</td>\n",
       "      <td>0.715444</td>\n",
       "      <td>0.715981</td>\n",
       "      <td>0.709490</td>\n",
       "      <td>0.720062</td>\n",
       "      <td>0.715609</td>\n",
       "      <td>0.004076</td>\n",
       "    </tr>\n",
       "    <tr>\n",
       "      <th>11</th>\n",
       "      <td>0.028822</td>\n",
       "      <td>3.381029e-03</td>\n",
       "      <td>0.000798</td>\n",
       "      <td>0.000399</td>\n",
       "      <td>1</td>\n",
       "      <td>0.1</td>\n",
       "      <td>{'C': 1, 'epsilon': 0.1}</td>\n",
       "      <td>0.730495</td>\n",
       "      <td>0.638258</td>\n",
       "      <td>0.757299</td>\n",
       "      <td>...</td>\n",
       "      <td>0.710718</td>\n",
       "      <td>0.718870</td>\n",
       "      <td>0.714830</td>\n",
       "      <td>0.720776</td>\n",
       "      <td>0.716622</td>\n",
       "      <td>0.716925</td>\n",
       "      <td>0.710742</td>\n",
       "      <td>0.720594</td>\n",
       "      <td>0.716722</td>\n",
       "      <td>0.004204</td>\n",
       "    </tr>\n",
       "    <tr>\n",
       "      <th>12</th>\n",
       "      <td>0.000798</td>\n",
       "      <td>3.988506e-04</td>\n",
       "      <td>0.000598</td>\n",
       "      <td>0.000488</td>\n",
       "      <td>1</td>\n",
       "      <td>1</td>\n",
       "      <td>{'C': 1, 'epsilon': 1}</td>\n",
       "      <td>-10.562007</td>\n",
       "      <td>-11.829240</td>\n",
       "      <td>-8.465385</td>\n",
       "      <td>...</td>\n",
       "      <td>-10.821266</td>\n",
       "      <td>-10.558814</td>\n",
       "      <td>-10.513738</td>\n",
       "      <td>-10.399740</td>\n",
       "      <td>-10.355896</td>\n",
       "      <td>-10.657840</td>\n",
       "      <td>-10.642934</td>\n",
       "      <td>-10.432109</td>\n",
       "      <td>-10.531052</td>\n",
       "      <td>0.137191</td>\n",
       "    </tr>\n",
       "    <tr>\n",
       "      <th>13</th>\n",
       "      <td>0.001097</td>\n",
       "      <td>2.988107e-04</td>\n",
       "      <td>0.000699</td>\n",
       "      <td>0.000640</td>\n",
       "      <td>1</td>\n",
       "      <td>10</td>\n",
       "      <td>{'C': 1, 'epsilon': 10}</td>\n",
       "      <td>-10.562007</td>\n",
       "      <td>-11.829240</td>\n",
       "      <td>-8.465385</td>\n",
       "      <td>...</td>\n",
       "      <td>-10.821266</td>\n",
       "      <td>-10.558814</td>\n",
       "      <td>-10.513738</td>\n",
       "      <td>-10.399740</td>\n",
       "      <td>-10.355896</td>\n",
       "      <td>-10.657840</td>\n",
       "      <td>-10.642934</td>\n",
       "      <td>-10.432109</td>\n",
       "      <td>-10.531052</td>\n",
       "      <td>0.137191</td>\n",
       "    </tr>\n",
       "    <tr>\n",
       "      <th>14</th>\n",
       "      <td>0.001097</td>\n",
       "      <td>2.991979e-04</td>\n",
       "      <td>0.000598</td>\n",
       "      <td>0.000488</td>\n",
       "      <td>1</td>\n",
       "      <td>100</td>\n",
       "      <td>{'C': 1, 'epsilon': 100}</td>\n",
       "      <td>-10.562007</td>\n",
       "      <td>-11.829240</td>\n",
       "      <td>-8.465385</td>\n",
       "      <td>...</td>\n",
       "      <td>-10.821266</td>\n",
       "      <td>-10.558814</td>\n",
       "      <td>-10.513738</td>\n",
       "      <td>-10.399740</td>\n",
       "      <td>-10.355896</td>\n",
       "      <td>-10.657840</td>\n",
       "      <td>-10.642934</td>\n",
       "      <td>-10.432109</td>\n",
       "      <td>-10.531052</td>\n",
       "      <td>0.137191</td>\n",
       "    </tr>\n",
       "    <tr>\n",
       "      <th>15</th>\n",
       "      <td>0.108217</td>\n",
       "      <td>1.197296e-02</td>\n",
       "      <td>0.000798</td>\n",
       "      <td>0.000399</td>\n",
       "      <td>10</td>\n",
       "      <td>0.01</td>\n",
       "      <td>{'C': 10, 'epsilon': 0.01}</td>\n",
       "      <td>0.739728</td>\n",
       "      <td>0.631441</td>\n",
       "      <td>0.749423</td>\n",
       "      <td>...</td>\n",
       "      <td>0.706689</td>\n",
       "      <td>0.711203</td>\n",
       "      <td>0.673314</td>\n",
       "      <td>0.715415</td>\n",
       "      <td>0.689197</td>\n",
       "      <td>0.696986</td>\n",
       "      <td>0.665272</td>\n",
       "      <td>0.718056</td>\n",
       "      <td>0.700132</td>\n",
       "      <td>0.017618</td>\n",
       "    </tr>\n",
       "    <tr>\n",
       "      <th>16</th>\n",
       "      <td>0.123476</td>\n",
       "      <td>1.542442e-02</td>\n",
       "      <td>0.000599</td>\n",
       "      <td>0.000489</td>\n",
       "      <td>10</td>\n",
       "      <td>0.1</td>\n",
       "      <td>{'C': 10, 'epsilon': 0.1}</td>\n",
       "      <td>0.693252</td>\n",
       "      <td>0.637254</td>\n",
       "      <td>0.758039</td>\n",
       "      <td>...</td>\n",
       "      <td>0.708607</td>\n",
       "      <td>0.717349</td>\n",
       "      <td>0.708081</td>\n",
       "      <td>0.691893</td>\n",
       "      <td>0.713930</td>\n",
       "      <td>0.714574</td>\n",
       "      <td>0.709432</td>\n",
       "      <td>0.715248</td>\n",
       "      <td>0.707018</td>\n",
       "      <td>0.014631</td>\n",
       "    </tr>\n",
       "    <tr>\n",
       "      <th>17</th>\n",
       "      <td>0.000599</td>\n",
       "      <td>4.887157e-04</td>\n",
       "      <td>0.000396</td>\n",
       "      <td>0.000485</td>\n",
       "      <td>10</td>\n",
       "      <td>1</td>\n",
       "      <td>{'C': 10, 'epsilon': 1}</td>\n",
       "      <td>-10.562007</td>\n",
       "      <td>-11.829240</td>\n",
       "      <td>-8.465385</td>\n",
       "      <td>...</td>\n",
       "      <td>-10.821266</td>\n",
       "      <td>-10.558814</td>\n",
       "      <td>-10.513738</td>\n",
       "      <td>-10.399740</td>\n",
       "      <td>-10.355896</td>\n",
       "      <td>-10.657840</td>\n",
       "      <td>-10.642934</td>\n",
       "      <td>-10.432109</td>\n",
       "      <td>-10.531052</td>\n",
       "      <td>0.137191</td>\n",
       "    </tr>\n",
       "    <tr>\n",
       "      <th>18</th>\n",
       "      <td>0.000898</td>\n",
       "      <td>2.991687e-04</td>\n",
       "      <td>0.000399</td>\n",
       "      <td>0.000489</td>\n",
       "      <td>10</td>\n",
       "      <td>10</td>\n",
       "      <td>{'C': 10, 'epsilon': 10}</td>\n",
       "      <td>-10.562007</td>\n",
       "      <td>-11.829240</td>\n",
       "      <td>-8.465385</td>\n",
       "      <td>...</td>\n",
       "      <td>-10.821266</td>\n",
       "      <td>-10.558814</td>\n",
       "      <td>-10.513738</td>\n",
       "      <td>-10.399740</td>\n",
       "      <td>-10.355896</td>\n",
       "      <td>-10.657840</td>\n",
       "      <td>-10.642934</td>\n",
       "      <td>-10.432109</td>\n",
       "      <td>-10.531052</td>\n",
       "      <td>0.137191</td>\n",
       "    </tr>\n",
       "    <tr>\n",
       "      <th>19</th>\n",
       "      <td>0.000798</td>\n",
       "      <td>3.989585e-04</td>\n",
       "      <td>0.000499</td>\n",
       "      <td>0.000499</td>\n",
       "      <td>10</td>\n",
       "      <td>100</td>\n",
       "      <td>{'C': 10, 'epsilon': 100}</td>\n",
       "      <td>-10.562007</td>\n",
       "      <td>-11.829240</td>\n",
       "      <td>-8.465385</td>\n",
       "      <td>...</td>\n",
       "      <td>-10.821266</td>\n",
       "      <td>-10.558814</td>\n",
       "      <td>-10.513738</td>\n",
       "      <td>-10.399740</td>\n",
       "      <td>-10.355896</td>\n",
       "      <td>-10.657840</td>\n",
       "      <td>-10.642934</td>\n",
       "      <td>-10.432109</td>\n",
       "      <td>-10.531052</td>\n",
       "      <td>0.137191</td>\n",
       "    </tr>\n",
       "    <tr>\n",
       "      <th>20</th>\n",
       "      <td>0.137541</td>\n",
       "      <td>2.064537e-02</td>\n",
       "      <td>0.000796</td>\n",
       "      <td>0.000398</td>\n",
       "      <td>100</td>\n",
       "      <td>0.01</td>\n",
       "      <td>{'C': 100, 'epsilon': 0.01}</td>\n",
       "      <td>-0.313688</td>\n",
       "      <td>0.598168</td>\n",
       "      <td>0.571920</td>\n",
       "      <td>...</td>\n",
       "      <td>0.537615</td>\n",
       "      <td>0.501118</td>\n",
       "      <td>0.208448</td>\n",
       "      <td>-0.084077</td>\n",
       "      <td>0.690320</td>\n",
       "      <td>0.340340</td>\n",
       "      <td>0.681867</td>\n",
       "      <td>0.602813</td>\n",
       "      <td>0.386395</td>\n",
       "      <td>0.331357</td>\n",
       "    </tr>\n",
       "    <tr>\n",
       "      <th>21</th>\n",
       "      <td>0.103614</td>\n",
       "      <td>1.236484e-02</td>\n",
       "      <td>0.000486</td>\n",
       "      <td>0.000486</td>\n",
       "      <td>100</td>\n",
       "      <td>0.1</td>\n",
       "      <td>{'C': 100, 'epsilon': 0.1}</td>\n",
       "      <td>0.695112</td>\n",
       "      <td>0.613597</td>\n",
       "      <td>0.734094</td>\n",
       "      <td>...</td>\n",
       "      <td>0.659579</td>\n",
       "      <td>0.484228</td>\n",
       "      <td>0.675445</td>\n",
       "      <td>0.668962</td>\n",
       "      <td>0.697071</td>\n",
       "      <td>0.329978</td>\n",
       "      <td>0.673480</td>\n",
       "      <td>0.707958</td>\n",
       "      <td>0.627297</td>\n",
       "      <td>0.116437</td>\n",
       "    </tr>\n",
       "    <tr>\n",
       "      <th>22</th>\n",
       "      <td>0.000399</td>\n",
       "      <td>4.884318e-04</td>\n",
       "      <td>0.000499</td>\n",
       "      <td>0.000499</td>\n",
       "      <td>100</td>\n",
       "      <td>1</td>\n",
       "      <td>{'C': 100, 'epsilon': 1}</td>\n",
       "      <td>-10.562007</td>\n",
       "      <td>-11.829240</td>\n",
       "      <td>-8.465385</td>\n",
       "      <td>...</td>\n",
       "      <td>-10.821266</td>\n",
       "      <td>-10.558814</td>\n",
       "      <td>-10.513738</td>\n",
       "      <td>-10.399740</td>\n",
       "      <td>-10.355896</td>\n",
       "      <td>-10.657840</td>\n",
       "      <td>-10.642934</td>\n",
       "      <td>-10.432109</td>\n",
       "      <td>-10.531052</td>\n",
       "      <td>0.137191</td>\n",
       "    </tr>\n",
       "    <tr>\n",
       "      <th>23</th>\n",
       "      <td>0.000898</td>\n",
       "      <td>6.992162e-04</td>\n",
       "      <td>0.000897</td>\n",
       "      <td>0.000299</td>\n",
       "      <td>100</td>\n",
       "      <td>10</td>\n",
       "      <td>{'C': 100, 'epsilon': 10}</td>\n",
       "      <td>-10.562007</td>\n",
       "      <td>-11.829240</td>\n",
       "      <td>-8.465385</td>\n",
       "      <td>...</td>\n",
       "      <td>-10.821266</td>\n",
       "      <td>-10.558814</td>\n",
       "      <td>-10.513738</td>\n",
       "      <td>-10.399740</td>\n",
       "      <td>-10.355896</td>\n",
       "      <td>-10.657840</td>\n",
       "      <td>-10.642934</td>\n",
       "      <td>-10.432109</td>\n",
       "      <td>-10.531052</td>\n",
       "      <td>0.137191</td>\n",
       "    </tr>\n",
       "    <tr>\n",
       "      <th>24</th>\n",
       "      <td>0.001097</td>\n",
       "      <td>2.971107e-04</td>\n",
       "      <td>0.000698</td>\n",
       "      <td>0.000457</td>\n",
       "      <td>100</td>\n",
       "      <td>100</td>\n",
       "      <td>{'C': 100, 'epsilon': 100}</td>\n",
       "      <td>-10.562007</td>\n",
       "      <td>-11.829240</td>\n",
       "      <td>-8.465385</td>\n",
       "      <td>...</td>\n",
       "      <td>-10.821266</td>\n",
       "      <td>-10.558814</td>\n",
       "      <td>-10.513738</td>\n",
       "      <td>-10.399740</td>\n",
       "      <td>-10.355896</td>\n",
       "      <td>-10.657840</td>\n",
       "      <td>-10.642934</td>\n",
       "      <td>-10.432109</td>\n",
       "      <td>-10.531052</td>\n",
       "      <td>0.137191</td>\n",
       "    </tr>\n",
       "  </tbody>\n",
       "</table>\n",
       "<p>25 rows × 32 columns</p>\n",
       "</div>"
      ],
      "text/plain": [
       "    mean_fit_time  std_fit_time  mean_score_time  std_score_time param_C  \\\n",
       "0        0.001706  4.472966e-04         0.000798        0.000399    0.01   \n",
       "1        0.001799  4.009818e-04         0.000399        0.000488    0.01   \n",
       "2        0.000798  3.989819e-04         0.000499        0.000499    0.01   \n",
       "3        0.000997  8.546566e-07         0.000798        0.000399    0.01   \n",
       "4        0.001097  6.998098e-04         0.000897        0.000299    0.01   \n",
       "5        0.008574  1.907269e-03         0.000798        0.000399     0.1   \n",
       "6        0.006881  6.983354e-04         0.000499        0.000499     0.1   \n",
       "7        0.000698  6.390299e-04         0.000448        0.000468     0.1   \n",
       "8        0.000998  3.099442e-07         0.000798        0.000399     0.1   \n",
       "9        0.000898  2.993231e-04         0.000698        0.000457     0.1   \n",
       "10       0.039695  3.533549e-03         0.000898        0.000299       1   \n",
       "11       0.028822  3.381029e-03         0.000798        0.000399       1   \n",
       "12       0.000798  3.988506e-04         0.000598        0.000488       1   \n",
       "13       0.001097  2.988107e-04         0.000699        0.000640       1   \n",
       "14       0.001097  2.991979e-04         0.000598        0.000488       1   \n",
       "15       0.108217  1.197296e-02         0.000798        0.000399      10   \n",
       "16       0.123476  1.542442e-02         0.000599        0.000489      10   \n",
       "17       0.000599  4.887157e-04         0.000396        0.000485      10   \n",
       "18       0.000898  2.991687e-04         0.000399        0.000489      10   \n",
       "19       0.000798  3.989585e-04         0.000499        0.000499      10   \n",
       "20       0.137541  2.064537e-02         0.000796        0.000398     100   \n",
       "21       0.103614  1.236484e-02         0.000486        0.000486     100   \n",
       "22       0.000399  4.884318e-04         0.000499        0.000499     100   \n",
       "23       0.000898  6.992162e-04         0.000897        0.000299     100   \n",
       "24       0.001097  2.971107e-04         0.000698        0.000457     100   \n",
       "\n",
       "   param_epsilon                        params  split0_test_score  \\\n",
       "0           0.01  {'C': 0.01, 'epsilon': 0.01}           0.656294   \n",
       "1            0.1   {'C': 0.01, 'epsilon': 0.1}           0.631826   \n",
       "2              1     {'C': 0.01, 'epsilon': 1}         -10.562007   \n",
       "3             10    {'C': 0.01, 'epsilon': 10}         -10.562007   \n",
       "4            100   {'C': 0.01, 'epsilon': 100}         -10.562007   \n",
       "5           0.01   {'C': 0.1, 'epsilon': 0.01}           0.728253   \n",
       "6            0.1    {'C': 0.1, 'epsilon': 0.1}           0.712663   \n",
       "7              1      {'C': 0.1, 'epsilon': 1}         -10.562007   \n",
       "8             10     {'C': 0.1, 'epsilon': 10}         -10.562007   \n",
       "9            100    {'C': 0.1, 'epsilon': 100}         -10.562007   \n",
       "10          0.01     {'C': 1, 'epsilon': 0.01}           0.734318   \n",
       "11           0.1      {'C': 1, 'epsilon': 0.1}           0.730495   \n",
       "12             1        {'C': 1, 'epsilon': 1}         -10.562007   \n",
       "13            10       {'C': 1, 'epsilon': 10}         -10.562007   \n",
       "14           100      {'C': 1, 'epsilon': 100}         -10.562007   \n",
       "15          0.01    {'C': 10, 'epsilon': 0.01}           0.739728   \n",
       "16           0.1     {'C': 10, 'epsilon': 0.1}           0.693252   \n",
       "17             1       {'C': 10, 'epsilon': 1}         -10.562007   \n",
       "18            10      {'C': 10, 'epsilon': 10}         -10.562007   \n",
       "19           100     {'C': 10, 'epsilon': 100}         -10.562007   \n",
       "20          0.01   {'C': 100, 'epsilon': 0.01}          -0.313688   \n",
       "21           0.1    {'C': 100, 'epsilon': 0.1}           0.695112   \n",
       "22             1      {'C': 100, 'epsilon': 1}         -10.562007   \n",
       "23            10     {'C': 100, 'epsilon': 10}         -10.562007   \n",
       "24           100    {'C': 100, 'epsilon': 100}         -10.562007   \n",
       "\n",
       "    split1_test_score  split2_test_score  ...  split2_train_score  \\\n",
       "0            0.593975           0.726435  ...            0.651470   \n",
       "1            0.573992           0.696991  ...            0.629545   \n",
       "2          -11.829240          -8.465385  ...          -10.821266   \n",
       "3          -11.829240          -8.465385  ...          -10.821266   \n",
       "4          -11.829240          -8.465385  ...          -10.821266   \n",
       "5            0.641651           0.760515  ...            0.708559   \n",
       "6            0.634289           0.759549  ...            0.704241   \n",
       "7          -11.829240          -8.465385  ...          -10.821266   \n",
       "8          -11.829240          -8.465385  ...          -10.821266   \n",
       "9          -11.829240          -8.465385  ...          -10.821266   \n",
       "10           0.646245           0.753964  ...            0.709733   \n",
       "11           0.638258           0.757299  ...            0.710718   \n",
       "12         -11.829240          -8.465385  ...          -10.821266   \n",
       "13         -11.829240          -8.465385  ...          -10.821266   \n",
       "14         -11.829240          -8.465385  ...          -10.821266   \n",
       "15           0.631441           0.749423  ...            0.706689   \n",
       "16           0.637254           0.758039  ...            0.708607   \n",
       "17         -11.829240          -8.465385  ...          -10.821266   \n",
       "18         -11.829240          -8.465385  ...          -10.821266   \n",
       "19         -11.829240          -8.465385  ...          -10.821266   \n",
       "20           0.598168           0.571920  ...            0.537615   \n",
       "21           0.613597           0.734094  ...            0.659579   \n",
       "22         -11.829240          -8.465385  ...          -10.821266   \n",
       "23         -11.829240          -8.465385  ...          -10.821266   \n",
       "24         -11.829240          -8.465385  ...          -10.821266   \n",
       "\n",
       "    split3_train_score  split4_train_score  split5_train_score  \\\n",
       "0             0.663128            0.659067            0.667800   \n",
       "1             0.643003            0.638154            0.646579   \n",
       "2           -10.558814          -10.513738          -10.399740   \n",
       "3           -10.558814          -10.513738          -10.399740   \n",
       "4           -10.558814          -10.513738          -10.399740   \n",
       "5             0.717053            0.712609            0.718756   \n",
       "6             0.712720            0.708616            0.715605   \n",
       "7           -10.558814          -10.513738          -10.399740   \n",
       "8           -10.558814          -10.513738          -10.399740   \n",
       "9           -10.558814          -10.513738          -10.399740   \n",
       "10            0.717452            0.713335            0.719785   \n",
       "11            0.718870            0.714830            0.720776   \n",
       "12          -10.558814          -10.513738          -10.399740   \n",
       "13          -10.558814          -10.513738          -10.399740   \n",
       "14          -10.558814          -10.513738          -10.399740   \n",
       "15            0.711203            0.673314            0.715415   \n",
       "16            0.717349            0.708081            0.691893   \n",
       "17          -10.558814          -10.513738          -10.399740   \n",
       "18          -10.558814          -10.513738          -10.399740   \n",
       "19          -10.558814          -10.513738          -10.399740   \n",
       "20            0.501118            0.208448           -0.084077   \n",
       "21            0.484228            0.675445            0.668962   \n",
       "22          -10.558814          -10.513738          -10.399740   \n",
       "23          -10.558814          -10.513738          -10.399740   \n",
       "24          -10.558814          -10.513738          -10.399740   \n",
       "\n",
       "    split6_train_score  split7_train_score  split8_train_score  \\\n",
       "0             0.662398            0.657662            0.654418   \n",
       "1             0.642058            0.637321            0.637068   \n",
       "2           -10.355896          -10.657840          -10.642934   \n",
       "3           -10.355896          -10.657840          -10.642934   \n",
       "4           -10.355896          -10.657840          -10.642934   \n",
       "5             0.713822            0.714914            0.708968   \n",
       "6             0.710871            0.710928            0.704690   \n",
       "7           -10.355896          -10.657840          -10.642934   \n",
       "8           -10.355896          -10.657840          -10.642934   \n",
       "9           -10.355896          -10.657840          -10.642934   \n",
       "10            0.715444            0.715981            0.709490   \n",
       "11            0.716622            0.716925            0.710742   \n",
       "12          -10.355896          -10.657840          -10.642934   \n",
       "13          -10.355896          -10.657840          -10.642934   \n",
       "14          -10.355896          -10.657840          -10.642934   \n",
       "15            0.689197            0.696986            0.665272   \n",
       "16            0.713930            0.714574            0.709432   \n",
       "17          -10.355896          -10.657840          -10.642934   \n",
       "18          -10.355896          -10.657840          -10.642934   \n",
       "19          -10.355896          -10.657840          -10.642934   \n",
       "20            0.690320            0.340340            0.681867   \n",
       "21            0.697071            0.329978            0.673480   \n",
       "22          -10.355896          -10.657840          -10.642934   \n",
       "23          -10.355896          -10.657840          -10.642934   \n",
       "24          -10.355896          -10.657840          -10.642934   \n",
       "\n",
       "    split9_train_score  mean_train_score  std_train_score  \n",
       "0             0.664752          0.661251         0.005400  \n",
       "1             0.645633          0.640693         0.005130  \n",
       "2           -10.432109        -10.531052         0.137191  \n",
       "3           -10.432109        -10.531052         0.137191  \n",
       "4           -10.432109        -10.531052         0.137191  \n",
       "5             0.719592          0.714858         0.004316  \n",
       "6             0.716631          0.711111         0.004633  \n",
       "7           -10.432109        -10.531052         0.137191  \n",
       "8           -10.432109        -10.531052         0.137191  \n",
       "9           -10.432109        -10.531052         0.137191  \n",
       "10            0.720062          0.715609         0.004076  \n",
       "11            0.720594          0.716722         0.004204  \n",
       "12          -10.432109        -10.531052         0.137191  \n",
       "13          -10.432109        -10.531052         0.137191  \n",
       "14          -10.432109        -10.531052         0.137191  \n",
       "15            0.718056          0.700132         0.017618  \n",
       "16            0.715248          0.707018         0.014631  \n",
       "17          -10.432109        -10.531052         0.137191  \n",
       "18          -10.432109        -10.531052         0.137191  \n",
       "19          -10.432109        -10.531052         0.137191  \n",
       "20            0.602813          0.386395         0.331357  \n",
       "21            0.707958          0.627297         0.116437  \n",
       "22          -10.432109        -10.531052         0.137191  \n",
       "23          -10.432109        -10.531052         0.137191  \n",
       "24          -10.432109        -10.531052         0.137191  \n",
       "\n",
       "[25 rows x 32 columns]"
      ]
     },
     "execution_count": 89,
     "metadata": {},
     "output_type": "execute_result"
    }
   ],
   "source": [
    "result_linearsvr = pd.DataFrame(grid_svrl.cv_results_)\n",
    "result_linearsvr"
   ]
  },
  {
   "cell_type": "code",
   "execution_count": 90,
   "metadata": {},
   "outputs": [
    {
     "data": {
      "text/plain": [
       "Text(0.5, 0, 'Alpha')"
      ]
     },
     "execution_count": 90,
     "metadata": {},
     "output_type": "execute_result"
    },
    {
     "data": {
      "image/png": "[encoded data removed]",
      "text/plain": [
       "<Figure size 432x288 with 1 Axes>"
      ]
     },
     "metadata": {
      "needs_background": "light"
     },
     "output_type": "display_data"
    }
   ],
   "source": [
    "plt.plot(range(result_linearsvr.shape[0]), result_linearsvr['mean_train_score'], label = 'mean train score')\n",
    "plt.plot(range(result_linearsvr.shape[0]), result_linearsvr['mean_test_score'], label = 'mean test score')\n",
    "plt.xticks(range(result_linearsvr.shape[0]), result_linearsvr['param_C'], rotation = 90)\n",
    "plt.plot([grid_svrl.best_index_], result_linearsvr['mean_train_score'][grid_svrl.best_index_], 'o', markersize = 10, fillstyle = \"none\")\n",
    "plt.plot([grid_svrl.best_index_], result_linearsvr['mean_test_score'][grid_svrl.best_index_], 'o', markersize = 10, fillstyle = \"none\")\n",
    "plt.grid()\n",
    "plt.legend()\n",
    "plt.xlabel('Alpha')"
   ]
  },
  {
   "cell_type": "markdown",
   "metadata": {},
   "source": [
    "### Linear (Simple) SVR Result:\n",
    "\n",
    "#### Best Parameter: {'C': 1, 'epsilon': 0.01}\n",
    "\n",
    "#### Test Score: -10.4599\n",
    "\n",
    "#### Mean Cross - Validation Score: -10.6642"
   ]
  },
  {
   "cell_type": "markdown",
   "metadata": {},
   "source": [
    "## SVR with Kernel as 'Linear'"
   ]
  },
  {
   "cell_type": "code",
   "execution_count": 91,
   "metadata": {},
   "outputs": [],
   "source": [
    "grid_parms_linear = {'C': [0.01,0.1, 1, 10, 100]}"
   ]
  },
  {
   "cell_type": "code",
   "execution_count": 92,
   "metadata": {},
   "outputs": [],
   "source": [
    "svr_linear = SVR(kernel='linear')\n",
    "grid_svr_linear = GridSearchCV(estimator = svr_linear,param_grid = grid_parms_linear,return_train_score=True,n_jobs= -1,cv=6)"
   ]
  },
  {
   "cell_type": "code",
   "execution_count": 93,
   "metadata": {},
   "outputs": [
    {
     "data": {
      "text/plain": [
       "GridSearchCV(cv=6, error_score='raise-deprecating',\n",
       "             estimator=SVR(C=1.0, cache_size=200, coef0=0.0, degree=3,\n",
       "                           epsilon=0.1, gamma='auto_deprecated',\n",
       "                           kernel='linear', max_iter=-1, shrinking=True,\n",
       "                           tol=0.001, verbose=False),\n",
       "             iid='warn', n_jobs=-1, param_grid={'C': [0.01, 0.1, 1, 10, 100]},\n",
       "             pre_dispatch='2*n_jobs', refit=True, return_train_score=True,\n",
       "             scoring=None, verbose=0)"
      ]
     },
     "execution_count": 93,
     "metadata": {},
     "output_type": "execute_result"
    }
   ],
   "source": [
    "grid_svr_linear.fit(X_train,y_train)"
   ]
  },
  {
   "cell_type": "code",
   "execution_count": 94,
   "metadata": {},
   "outputs": [
    {
     "name": "stdout",
     "output_type": "stream",
     "text": [
      "Best parameters: {'C': 1}\n",
      "Best cross-validation score: 0.7114\n"
     ]
    }
   ],
   "source": [
    "print(\"Best parameters: {}\".format(grid_svr_linear.best_params_))\n",
    "print(\"Best cross-validation score: {:.4f}\".format(grid_svr_linear.best_score_))"
   ]
  },
  {
   "cell_type": "code",
   "execution_count": 95,
   "metadata": {},
   "outputs": [
    {
     "name": "stdout",
     "output_type": "stream",
     "text": [
      "Train score: 0.716631671606905\n",
      "Test score: 0.7066787270417091\n"
     ]
    }
   ],
   "source": [
    "svr = SVR(kernel = 'linear',C = 100)\n",
    "        \n",
    "        #train the model\n",
    "svr.fit(X_train, y_train)\n",
    "        \n",
    "        #evaluate the model\n",
    "print(\"Train score: {}\".format(svr.score(X_train, y_train)))\n",
    "print(\"Test score: {}\".format(svr.score(X_test, y_test)))"
   ]
  },
  {
   "cell_type": "code",
   "execution_count": 96,
   "metadata": {},
   "outputs": [
    {
     "name": "stdout",
     "output_type": "stream",
     "text": [
      "Cross-validation scores: [0.69399769 0.72814983 0.71515235 0.71477906 0.7313234  0.6817409 ]\n",
      "Mean score: 0.7108572074127459\n"
     ]
    }
   ],
   "source": [
    "from sklearn.model_selection import KFold\n",
    "from sklearn.model_selection import cross_val_score\n",
    "\n",
    "kfold = KFold(n_splits=6)\n",
    "print(\"Cross-validation scores: {}\".format(cross_val_score(svr , X_train, y_train, cv=kfold)))\n",
    "scores = cross_val_score(svr , X_train, y_train, cv=kfold)\n",
    "print(\"Mean score: {}\".format(np.mean(scores)))"
   ]
  },
  {
   "cell_type": "code",
   "execution_count": 97,
   "metadata": {},
   "outputs": [
    {
     "data": {
      "text/html": [
       "<div>\n",
       "<style scoped>\n",
       "    .dataframe tbody tr th:only-of-type {\n",
       "        vertical-align: middle;\n",
       "    }\n",
       "\n",
       "    .dataframe tbody tr th {\n",
       "        vertical-align: top;\n",
       "    }\n",
       "\n",
       "    .dataframe thead th {\n",
       "        text-align: right;\n",
       "    }\n",
       "</style>\n",
       "<table border=\"1\" class=\"dataframe\">\n",
       "  <thead>\n",
       "    <tr style=\"text-align: right;\">\n",
       "      <th></th>\n",
       "      <th>mean_fit_time</th>\n",
       "      <th>std_fit_time</th>\n",
       "      <th>mean_score_time</th>\n",
       "      <th>std_score_time</th>\n",
       "      <th>param_C</th>\n",
       "      <th>params</th>\n",
       "      <th>split0_test_score</th>\n",
       "      <th>split1_test_score</th>\n",
       "      <th>split2_test_score</th>\n",
       "      <th>split3_test_score</th>\n",
       "      <th>...</th>\n",
       "      <th>std_test_score</th>\n",
       "      <th>rank_test_score</th>\n",
       "      <th>split0_train_score</th>\n",
       "      <th>split1_train_score</th>\n",
       "      <th>split2_train_score</th>\n",
       "      <th>split3_train_score</th>\n",
       "      <th>split4_train_score</th>\n",
       "      <th>split5_train_score</th>\n",
       "      <th>mean_train_score</th>\n",
       "      <th>std_train_score</th>\n",
       "    </tr>\n",
       "  </thead>\n",
       "  <tbody>\n",
       "    <tr>\n",
       "      <th>0</th>\n",
       "      <td>0.043716</td>\n",
       "      <td>0.013955</td>\n",
       "      <td>0.004155</td>\n",
       "      <td>0.000372</td>\n",
       "      <td>0.01</td>\n",
       "      <td>{'C': 0.01}</td>\n",
       "      <td>0.589709</td>\n",
       "      <td>0.628955</td>\n",
       "      <td>0.626743</td>\n",
       "      <td>0.598819</td>\n",
       "      <td>...</td>\n",
       "      <td>0.021626</td>\n",
       "      <td>5</td>\n",
       "      <td>0.624321</td>\n",
       "      <td>0.614798</td>\n",
       "      <td>0.619897</td>\n",
       "      <td>0.623515</td>\n",
       "      <td>0.616951</td>\n",
       "      <td>0.625362</td>\n",
       "      <td>0.620807</td>\n",
       "      <td>0.003921</td>\n",
       "    </tr>\n",
       "    <tr>\n",
       "      <th>1</th>\n",
       "      <td>0.069314</td>\n",
       "      <td>0.017782</td>\n",
       "      <td>0.006815</td>\n",
       "      <td>0.006774</td>\n",
       "      <td>0.1</td>\n",
       "      <td>{'C': 0.1}</td>\n",
       "      <td>0.681432</td>\n",
       "      <td>0.722001</td>\n",
       "      <td>0.708710</td>\n",
       "      <td>0.702261</td>\n",
       "      <td>...</td>\n",
       "      <td>0.018112</td>\n",
       "      <td>4</td>\n",
       "      <td>0.712465</td>\n",
       "      <td>0.707493</td>\n",
       "      <td>0.711082</td>\n",
       "      <td>0.711348</td>\n",
       "      <td>0.707372</td>\n",
       "      <td>0.716809</td>\n",
       "      <td>0.711095</td>\n",
       "      <td>0.003199</td>\n",
       "    </tr>\n",
       "    <tr>\n",
       "      <th>2</th>\n",
       "      <td>0.085604</td>\n",
       "      <td>0.018564</td>\n",
       "      <td>0.002992</td>\n",
       "      <td>0.000576</td>\n",
       "      <td>1</td>\n",
       "      <td>{'C': 1}</td>\n",
       "      <td>0.694767</td>\n",
       "      <td>0.728115</td>\n",
       "      <td>0.715355</td>\n",
       "      <td>0.714516</td>\n",
       "      <td>...</td>\n",
       "      <td>0.017533</td>\n",
       "      <td>1</td>\n",
       "      <td>0.719567</td>\n",
       "      <td>0.713160</td>\n",
       "      <td>0.717117</td>\n",
       "      <td>0.716552</td>\n",
       "      <td>0.713173</td>\n",
       "      <td>0.721899</td>\n",
       "      <td>0.716911</td>\n",
       "      <td>0.003166</td>\n",
       "    </tr>\n",
       "    <tr>\n",
       "      <th>3</th>\n",
       "      <td>0.271941</td>\n",
       "      <td>0.011935</td>\n",
       "      <td>0.002827</td>\n",
       "      <td>0.000894</td>\n",
       "      <td>10</td>\n",
       "      <td>{'C': 10}</td>\n",
       "      <td>0.694277</td>\n",
       "      <td>0.727794</td>\n",
       "      <td>0.715430</td>\n",
       "      <td>0.714906</td>\n",
       "      <td>...</td>\n",
       "      <td>0.017555</td>\n",
       "      <td>2</td>\n",
       "      <td>0.719479</td>\n",
       "      <td>0.712895</td>\n",
       "      <td>0.716994</td>\n",
       "      <td>0.716530</td>\n",
       "      <td>0.713277</td>\n",
       "      <td>0.722200</td>\n",
       "      <td>0.716896</td>\n",
       "      <td>0.003267</td>\n",
       "    </tr>\n",
       "    <tr>\n",
       "      <th>4</th>\n",
       "      <td>1.177371</td>\n",
       "      <td>0.211991</td>\n",
       "      <td>0.002327</td>\n",
       "      <td>0.000470</td>\n",
       "      <td>100</td>\n",
       "      <td>{'C': 100}</td>\n",
       "      <td>0.693998</td>\n",
       "      <td>0.728150</td>\n",
       "      <td>0.715152</td>\n",
       "      <td>0.714779</td>\n",
       "      <td>...</td>\n",
       "      <td>0.017719</td>\n",
       "      <td>3</td>\n",
       "      <td>0.719441</td>\n",
       "      <td>0.712910</td>\n",
       "      <td>0.716899</td>\n",
       "      <td>0.716521</td>\n",
       "      <td>0.713436</td>\n",
       "      <td>0.722127</td>\n",
       "      <td>0.716889</td>\n",
       "      <td>0.003210</td>\n",
       "    </tr>\n",
       "  </tbody>\n",
       "</table>\n",
       "<p>5 rows × 23 columns</p>\n",
       "</div>"
      ],
      "text/plain": [
       "   mean_fit_time  std_fit_time  mean_score_time  std_score_time param_C  \\\n",
       "0       0.043716      0.013955         0.004155        0.000372    0.01   \n",
       "1       0.069314      0.017782         0.006815        0.006774     0.1   \n",
       "2       0.085604      0.018564         0.002992        0.000576       1   \n",
       "3       0.271941      0.011935         0.002827        0.000894      10   \n",
       "4       1.177371      0.211991         0.002327        0.000470     100   \n",
       "\n",
       "        params  split0_test_score  split1_test_score  split2_test_score  \\\n",
       "0  {'C': 0.01}           0.589709           0.628955           0.626743   \n",
       "1   {'C': 0.1}           0.681432           0.722001           0.708710   \n",
       "2     {'C': 1}           0.694767           0.728115           0.715355   \n",
       "3    {'C': 10}           0.694277           0.727794           0.715430   \n",
       "4   {'C': 100}           0.693998           0.728150           0.715152   \n",
       "\n",
       "   split3_test_score  ...  std_test_score  rank_test_score  \\\n",
       "0           0.598819  ...        0.021626                5   \n",
       "1           0.702261  ...        0.018112                4   \n",
       "2           0.714516  ...        0.017533                1   \n",
       "3           0.714906  ...        0.017555                2   \n",
       "4           0.714779  ...        0.017719                3   \n",
       "\n",
       "   split0_train_score  split1_train_score  split2_train_score  \\\n",
       "0            0.624321            0.614798            0.619897   \n",
       "1            0.712465            0.707493            0.711082   \n",
       "2            0.719567            0.713160            0.717117   \n",
       "3            0.719479            0.712895            0.716994   \n",
       "4            0.719441            0.712910            0.716899   \n",
       "\n",
       "   split3_train_score  split4_train_score  split5_train_score  \\\n",
       "0            0.623515            0.616951            0.625362   \n",
       "1            0.711348            0.707372            0.716809   \n",
       "2            0.716552            0.713173            0.721899   \n",
       "3            0.716530            0.713277            0.722200   \n",
       "4            0.716521            0.713436            0.722127   \n",
       "\n",
       "   mean_train_score  std_train_score  \n",
       "0          0.620807         0.003921  \n",
       "1          0.711095         0.003199  \n",
       "2          0.716911         0.003166  \n",
       "3          0.716896         0.003267  \n",
       "4          0.716889         0.003210  \n",
       "\n",
       "[5 rows x 23 columns]"
      ]
     },
     "execution_count": 97,
     "metadata": {},
     "output_type": "execute_result"
    }
   ],
   "source": [
    "result_svr_linear = pd.DataFrame(grid_svr_linear.cv_results_)\n",
    "result_svr_linear"
   ]
  },
  {
   "cell_type": "code",
   "execution_count": 98,
   "metadata": {},
   "outputs": [
    {
     "data": {
      "text/plain": [
       "Text(0.5, 0, 'C')"
      ]
     },
     "execution_count": 98,
     "metadata": {},
     "output_type": "execute_result"
    },
    {
     "data": {
      "image/png": "[encoded data removed]",
      "text/plain": [
       "<Figure size 432x288 with 1 Axes>"
      ]
     },
     "metadata": {
      "needs_background": "light"
     },
     "output_type": "display_data"
    }
   ],
   "source": [
    "plt.plot(range(result_svr_linear.shape[0]), result_svr_linear['mean_train_score'], label = 'mean train score')\n",
    "plt.plot(range(result_svr_linear.shape[0]), result_svr_linear['mean_test_score'], label = 'mean test score')\n",
    "plt.xticks(range(result_svr_linear.shape[0]), result_svr_linear['param_C'], rotation = 90)\n",
    "plt.plot([grid_svr_linear.best_index_], result_svr_linear['mean_train_score'][grid_svr_linear.best_index_], 'o', markersize = 10, fillstyle = \"none\")\n",
    "plt.plot([grid_svr_linear.best_index_], result_svr_linear['mean_test_score'][grid_svr_linear.best_index_], 'o', markersize = 10, fillstyle = \"none\")\n",
    "plt.grid()\n",
    "plt.legend()\n",
    "plt.xlabel('C')"
   ]
  },
  {
   "cell_type": "markdown",
   "metadata": {},
   "source": [
    "### SVR with Kernel as 'Linear' Result:\n",
    "\n",
    "#### Best parameter: {'C': 1}\n",
    "\n",
    "#### Test Score: 0.7067\n",
    "\n",
    "#### Mean Cross - Validation Score: 0.7109"
   ]
  },
  {
   "cell_type": "markdown",
   "metadata": {},
   "source": [
    "## SVR with Kernel as 'Poly'"
   ]
  },
  {
   "cell_type": "code",
   "execution_count": 99,
   "metadata": {},
   "outputs": [],
   "source": [
    "grid_parms_svrp = {'C': [1, 10, 100],'degree':[1,3]}"
   ]
  },
  {
   "cell_type": "code",
   "execution_count": 100,
   "metadata": {},
   "outputs": [],
   "source": [
    "svr_poly = SVR(kernel='poly')\n",
    "grid_svr_poly = GridSearchCV(estimator = svr_poly,param_grid = grid_parms_svrp,return_train_score=True,n_jobs= -1,cv=3)"
   ]
  },
  {
   "cell_type": "code",
   "execution_count": 101,
   "metadata": {},
   "outputs": [
    {
     "name": "stderr",
     "output_type": "stream",
     "text": [
      "C:\\Users\\dhurv\\Anaconda3\\lib\\site-packages\\sklearn\\svm\\base.py:193: FutureWarning: The default value of gamma will change from 'auto' to 'scale' in version 0.22 to account better for unscaled features. Set gamma explicitly to 'auto' or 'scale' to avoid this warning.\n",
      "  \"avoid this warning.\", FutureWarning)\n"
     ]
    },
    {
     "data": {
      "text/plain": [
       "GridSearchCV(cv=3, error_score='raise-deprecating',\n",
       "             estimator=SVR(C=1.0, cache_size=200, coef0=0.0, degree=3,\n",
       "                           epsilon=0.1, gamma='auto_deprecated', kernel='poly',\n",
       "                           max_iter=-1, shrinking=True, tol=0.001,\n",
       "                           verbose=False),\n",
       "             iid='warn', n_jobs=-1,\n",
       "             param_grid={'C': [1, 10, 100], 'degree': [1, 3]},\n",
       "             pre_dispatch='2*n_jobs', refit=True, return_train_score=True,\n",
       "             scoring=None, verbose=0)"
      ]
     },
     "execution_count": 101,
     "metadata": {},
     "output_type": "execute_result"
    }
   ],
   "source": [
    "grid_svr_poly.fit(X_train,y_train)"
   ]
  },
  {
   "cell_type": "code",
   "execution_count": 102,
   "metadata": {},
   "outputs": [
    {
     "name": "stdout",
     "output_type": "stream",
     "text": [
      "Best parameters: {'C': 100, 'degree': 3}\n",
      "Best cross-validation score: 0.7378\n"
     ]
    },
    {
     "data": {
      "text/html": [
       "<div>\n",
       "<style scoped>\n",
       "    .dataframe tbody tr th:only-of-type {\n",
       "        vertical-align: middle;\n",
       "    }\n",
       "\n",
       "    .dataframe tbody tr th {\n",
       "        vertical-align: top;\n",
       "    }\n",
       "\n",
       "    .dataframe thead th {\n",
       "        text-align: right;\n",
       "    }\n",
       "</style>\n",
       "<table border=\"1\" class=\"dataframe\">\n",
       "  <thead>\n",
       "    <tr style=\"text-align: right;\">\n",
       "      <th></th>\n",
       "      <th>mean_fit_time</th>\n",
       "      <th>std_fit_time</th>\n",
       "      <th>mean_score_time</th>\n",
       "      <th>std_score_time</th>\n",
       "      <th>param_C</th>\n",
       "      <th>param_degree</th>\n",
       "      <th>params</th>\n",
       "      <th>split0_test_score</th>\n",
       "      <th>split1_test_score</th>\n",
       "      <th>split2_test_score</th>\n",
       "      <th>mean_test_score</th>\n",
       "      <th>std_test_score</th>\n",
       "      <th>rank_test_score</th>\n",
       "      <th>split0_train_score</th>\n",
       "      <th>split1_train_score</th>\n",
       "      <th>split2_train_score</th>\n",
       "      <th>mean_train_score</th>\n",
       "      <th>std_train_score</th>\n",
       "    </tr>\n",
       "  </thead>\n",
       "  <tbody>\n",
       "    <tr>\n",
       "      <th>0</th>\n",
       "      <td>0.032249</td>\n",
       "      <td>0.003672</td>\n",
       "      <td>0.006314</td>\n",
       "      <td>0.000473</td>\n",
       "      <td>1</td>\n",
       "      <td>1</td>\n",
       "      <td>{'C': 1, 'degree': 1}</td>\n",
       "      <td>0.689259</td>\n",
       "      <td>0.693176</td>\n",
       "      <td>0.702902</td>\n",
       "      <td>0.695112</td>\n",
       "      <td>0.005736</td>\n",
       "      <td>5</td>\n",
       "      <td>0.698343</td>\n",
       "      <td>0.703484</td>\n",
       "      <td>0.704544</td>\n",
       "      <td>0.702124</td>\n",
       "      <td>0.002708</td>\n",
       "    </tr>\n",
       "    <tr>\n",
       "      <th>1</th>\n",
       "      <td>0.029917</td>\n",
       "      <td>0.000816</td>\n",
       "      <td>0.007312</td>\n",
       "      <td>0.000470</td>\n",
       "      <td>1</td>\n",
       "      <td>3</td>\n",
       "      <td>{'C': 1, 'degree': 3}</td>\n",
       "      <td>0.604405</td>\n",
       "      <td>0.602563</td>\n",
       "      <td>0.594523</td>\n",
       "      <td>0.600497</td>\n",
       "      <td>0.004290</td>\n",
       "      <td>6</td>\n",
       "      <td>0.604740</td>\n",
       "      <td>0.616137</td>\n",
       "      <td>0.615501</td>\n",
       "      <td>0.612126</td>\n",
       "      <td>0.005229</td>\n",
       "    </tr>\n",
       "    <tr>\n",
       "      <th>2</th>\n",
       "      <td>0.070809</td>\n",
       "      <td>0.008020</td>\n",
       "      <td>0.005651</td>\n",
       "      <td>0.000471</td>\n",
       "      <td>10</td>\n",
       "      <td>1</td>\n",
       "      <td>{'C': 10, 'degree': 1}</td>\n",
       "      <td>0.707390</td>\n",
       "      <td>0.715254</td>\n",
       "      <td>0.706632</td>\n",
       "      <td>0.709758</td>\n",
       "      <td>0.003898</td>\n",
       "      <td>3</td>\n",
       "      <td>0.715076</td>\n",
       "      <td>0.717216</td>\n",
       "      <td>0.719803</td>\n",
       "      <td>0.717365</td>\n",
       "      <td>0.001933</td>\n",
       "    </tr>\n",
       "    <tr>\n",
       "      <th>3</th>\n",
       "      <td>0.039892</td>\n",
       "      <td>0.004071</td>\n",
       "      <td>0.007315</td>\n",
       "      <td>0.001880</td>\n",
       "      <td>10</td>\n",
       "      <td>3</td>\n",
       "      <td>{'C': 10, 'degree': 3}</td>\n",
       "      <td>0.729271</td>\n",
       "      <td>0.711448</td>\n",
       "      <td>0.719514</td>\n",
       "      <td>0.720078</td>\n",
       "      <td>0.007287</td>\n",
       "      <td>2</td>\n",
       "      <td>0.734192</td>\n",
       "      <td>0.747872</td>\n",
       "      <td>0.743667</td>\n",
       "      <td>0.741910</td>\n",
       "      <td>0.005721</td>\n",
       "    </tr>\n",
       "    <tr>\n",
       "      <th>4</th>\n",
       "      <td>0.155584</td>\n",
       "      <td>0.011828</td>\n",
       "      <td>0.003989</td>\n",
       "      <td>0.000815</td>\n",
       "      <td>100</td>\n",
       "      <td>1</td>\n",
       "      <td>{'C': 100, 'degree': 1}</td>\n",
       "      <td>0.706554</td>\n",
       "      <td>0.715607</td>\n",
       "      <td>0.705767</td>\n",
       "      <td>0.709309</td>\n",
       "      <td>0.004465</td>\n",
       "      <td>4</td>\n",
       "      <td>0.715346</td>\n",
       "      <td>0.717289</td>\n",
       "      <td>0.720195</td>\n",
       "      <td>0.717610</td>\n",
       "      <td>0.001993</td>\n",
       "    </tr>\n",
       "    <tr>\n",
       "      <th>5</th>\n",
       "      <td>0.066156</td>\n",
       "      <td>0.007696</td>\n",
       "      <td>0.003989</td>\n",
       "      <td>0.000814</td>\n",
       "      <td>100</td>\n",
       "      <td>3</td>\n",
       "      <td>{'C': 100, 'degree': 3}</td>\n",
       "      <td>0.746196</td>\n",
       "      <td>0.725586</td>\n",
       "      <td>0.741626</td>\n",
       "      <td>0.737803</td>\n",
       "      <td>0.008838</td>\n",
       "      <td>1</td>\n",
       "      <td>0.775024</td>\n",
       "      <td>0.786327</td>\n",
       "      <td>0.782190</td>\n",
       "      <td>0.781181</td>\n",
       "      <td>0.004669</td>\n",
       "    </tr>\n",
       "  </tbody>\n",
       "</table>\n",
       "</div>"
      ],
      "text/plain": [
       "   mean_fit_time  std_fit_time  mean_score_time  std_score_time param_C  \\\n",
       "0       0.032249      0.003672         0.006314        0.000473       1   \n",
       "1       0.029917      0.000816         0.007312        0.000470       1   \n",
       "2       0.070809      0.008020         0.005651        0.000471      10   \n",
       "3       0.039892      0.004071         0.007315        0.001880      10   \n",
       "4       0.155584      0.011828         0.003989        0.000815     100   \n",
       "5       0.066156      0.007696         0.003989        0.000814     100   \n",
       "\n",
       "  param_degree                   params  split0_test_score  split1_test_score  \\\n",
       "0            1    {'C': 1, 'degree': 1}           0.689259           0.693176   \n",
       "1            3    {'C': 1, 'degree': 3}           0.604405           0.602563   \n",
       "2            1   {'C': 10, 'degree': 1}           0.707390           0.715254   \n",
       "3            3   {'C': 10, 'degree': 3}           0.729271           0.711448   \n",
       "4            1  {'C': 100, 'degree': 1}           0.706554           0.715607   \n",
       "5            3  {'C': 100, 'degree': 3}           0.746196           0.725586   \n",
       "\n",
       "   split2_test_score  mean_test_score  std_test_score  rank_test_score  \\\n",
       "0           0.702902         0.695112        0.005736                5   \n",
       "1           0.594523         0.600497        0.004290                6   \n",
       "2           0.706632         0.709758        0.003898                3   \n",
       "3           0.719514         0.720078        0.007287                2   \n",
       "4           0.705767         0.709309        0.004465                4   \n",
       "5           0.741626         0.737803        0.008838                1   \n",
       "\n",
       "   split0_train_score  split1_train_score  split2_train_score  \\\n",
       "0            0.698343            0.703484            0.704544   \n",
       "1            0.604740            0.616137            0.615501   \n",
       "2            0.715076            0.717216            0.719803   \n",
       "3            0.734192            0.747872            0.743667   \n",
       "4            0.715346            0.717289            0.720195   \n",
       "5            0.775024            0.786327            0.782190   \n",
       "\n",
       "   mean_train_score  std_train_score  \n",
       "0          0.702124         0.002708  \n",
       "1          0.612126         0.005229  \n",
       "2          0.717365         0.001933  \n",
       "3          0.741910         0.005721  \n",
       "4          0.717610         0.001993  \n",
       "5          0.781181         0.004669  "
      ]
     },
     "execution_count": 102,
     "metadata": {},
     "output_type": "execute_result"
    }
   ],
   "source": [
    "print(\"Best parameters: {}\".format(grid_svr_poly.best_params_))\n",
    "print(\"Best cross-validation score: {:.4f}\".format(grid_svr_poly.best_score_))\n",
    "pd.DataFrame(grid_svr_poly.cv_results_)"
   ]
  },
  {
   "cell_type": "code",
   "execution_count": 103,
   "metadata": {},
   "outputs": [
    {
     "name": "stderr",
     "output_type": "stream",
     "text": [
      "C:\\Users\\dhurv\\Anaconda3\\lib\\site-packages\\sklearn\\svm\\base.py:193: FutureWarning: The default value of gamma will change from 'auto' to 'scale' in version 0.22 to account better for unscaled features. Set gamma explicitly to 'auto' or 'scale' to avoid this warning.\n",
      "  \"avoid this warning.\", FutureWarning)\n"
     ]
    },
    {
     "name": "stdout",
     "output_type": "stream",
     "text": [
      "Train score: 0.7166149077432229\n",
      "Test score: 0.7064810162275874\n"
     ]
    }
   ],
   "source": [
    "svr_p = SVR(kernel='poly',C=100,degree = 1)\n",
    "svr_p.fit(X_train, y_train)\n",
    "print(\"Train score: {}\".format(svr_p.score(X_train, y_train)))\n",
    "print(\"Test score: {}\".format(svr_p.score(X_test, y_test)))"
   ]
  },
  {
   "cell_type": "code",
   "execution_count": 104,
   "metadata": {},
   "outputs": [
    {
     "name": "stderr",
     "output_type": "stream",
     "text": [
      "C:\\Users\\dhurv\\Anaconda3\\lib\\site-packages\\sklearn\\svm\\base.py:193: FutureWarning: The default value of gamma will change from 'auto' to 'scale' in version 0.22 to account better for unscaled features. Set gamma explicitly to 'auto' or 'scale' to avoid this warning.\n",
      "  \"avoid this warning.\", FutureWarning)\n",
      "C:\\Users\\dhurv\\Anaconda3\\lib\\site-packages\\sklearn\\svm\\base.py:193: FutureWarning: The default value of gamma will change from 'auto' to 'scale' in version 0.22 to account better for unscaled features. Set gamma explicitly to 'auto' or 'scale' to avoid this warning.\n",
      "  \"avoid this warning.\", FutureWarning)\n",
      "C:\\Users\\dhurv\\Anaconda3\\lib\\site-packages\\sklearn\\svm\\base.py:193: FutureWarning: The default value of gamma will change from 'auto' to 'scale' in version 0.22 to account better for unscaled features. Set gamma explicitly to 'auto' or 'scale' to avoid this warning.\n",
      "  \"avoid this warning.\", FutureWarning)\n",
      "C:\\Users\\dhurv\\Anaconda3\\lib\\site-packages\\sklearn\\svm\\base.py:193: FutureWarning: The default value of gamma will change from 'auto' to 'scale' in version 0.22 to account better for unscaled features. Set gamma explicitly to 'auto' or 'scale' to avoid this warning.\n",
      "  \"avoid this warning.\", FutureWarning)\n",
      "C:\\Users\\dhurv\\Anaconda3\\lib\\site-packages\\sklearn\\svm\\base.py:193: FutureWarning: The default value of gamma will change from 'auto' to 'scale' in version 0.22 to account better for unscaled features. Set gamma explicitly to 'auto' or 'scale' to avoid this warning.\n",
      "  \"avoid this warning.\", FutureWarning)\n",
      "C:\\Users\\dhurv\\Anaconda3\\lib\\site-packages\\sklearn\\svm\\base.py:193: FutureWarning: The default value of gamma will change from 'auto' to 'scale' in version 0.22 to account better for unscaled features. Set gamma explicitly to 'auto' or 'scale' to avoid this warning.\n",
      "  \"avoid this warning.\", FutureWarning)\n"
     ]
    },
    {
     "name": "stdout",
     "output_type": "stream",
     "text": [
      "Cross-validation scores:\n",
      "[0.69428339 0.72796441 0.71575798 0.71489176 0.73124029 0.68194199]\n"
     ]
    },
    {
     "name": "stderr",
     "output_type": "stream",
     "text": [
      "C:\\Users\\dhurv\\Anaconda3\\lib\\site-packages\\sklearn\\svm\\base.py:193: FutureWarning: The default value of gamma will change from 'auto' to 'scale' in version 0.22 to account better for unscaled features. Set gamma explicitly to 'auto' or 'scale' to avoid this warning.\n",
      "  \"avoid this warning.\", FutureWarning)\n",
      "C:\\Users\\dhurv\\Anaconda3\\lib\\site-packages\\sklearn\\svm\\base.py:193: FutureWarning: The default value of gamma will change from 'auto' to 'scale' in version 0.22 to account better for unscaled features. Set gamma explicitly to 'auto' or 'scale' to avoid this warning.\n",
      "  \"avoid this warning.\", FutureWarning)\n",
      "C:\\Users\\dhurv\\Anaconda3\\lib\\site-packages\\sklearn\\svm\\base.py:193: FutureWarning: The default value of gamma will change from 'auto' to 'scale' in version 0.22 to account better for unscaled features. Set gamma explicitly to 'auto' or 'scale' to avoid this warning.\n",
      "  \"avoid this warning.\", FutureWarning)\n",
      "C:\\Users\\dhurv\\Anaconda3\\lib\\site-packages\\sklearn\\svm\\base.py:193: FutureWarning: The default value of gamma will change from 'auto' to 'scale' in version 0.22 to account better for unscaled features. Set gamma explicitly to 'auto' or 'scale' to avoid this warning.\n",
      "  \"avoid this warning.\", FutureWarning)\n",
      "C:\\Users\\dhurv\\Anaconda3\\lib\\site-packages\\sklearn\\svm\\base.py:193: FutureWarning: The default value of gamma will change from 'auto' to 'scale' in version 0.22 to account better for unscaled features. Set gamma explicitly to 'auto' or 'scale' to avoid this warning.\n",
      "  \"avoid this warning.\", FutureWarning)\n",
      "C:\\Users\\dhurv\\Anaconda3\\lib\\site-packages\\sklearn\\svm\\base.py:193: FutureWarning: The default value of gamma will change from 'auto' to 'scale' in version 0.22 to account better for unscaled features. Set gamma explicitly to 'auto' or 'scale' to avoid this warning.\n",
      "  \"avoid this warning.\", FutureWarning)\n"
     ]
    },
    {
     "name": "stdout",
     "output_type": "stream",
     "text": [
      "Mean score: 0.7110133026314838\n"
     ]
    }
   ],
   "source": [
    "from sklearn.model_selection import KFold\n",
    "from sklearn.model_selection import cross_val_score\n",
    "#scores = cross_val_score(logreg, iris.data, iris.target)\n",
    "kfold = KFold(n_splits=6)\n",
    "print(\"Cross-validation scores:\\n{}\".format(cross_val_score(svr_p, X_train, y_train, cv=kfold)))\n",
    "scores = cross_val_score(svr_p, X_train, y_train, cv=kfold)\n",
    "print(\"Mean score: {}\".format(np.mean(scores)))"
   ]
  },
  {
   "cell_type": "code",
   "execution_count": 105,
   "metadata": {},
   "outputs": [
    {
     "data": {
      "text/html": [
       "<div>\n",
       "<style scoped>\n",
       "    .dataframe tbody tr th:only-of-type {\n",
       "        vertical-align: middle;\n",
       "    }\n",
       "\n",
       "    .dataframe tbody tr th {\n",
       "        vertical-align: top;\n",
       "    }\n",
       "\n",
       "    .dataframe thead th {\n",
       "        text-align: right;\n",
       "    }\n",
       "</style>\n",
       "<table border=\"1\" class=\"dataframe\">\n",
       "  <thead>\n",
       "    <tr style=\"text-align: right;\">\n",
       "      <th></th>\n",
       "      <th>mean_fit_time</th>\n",
       "      <th>std_fit_time</th>\n",
       "      <th>mean_score_time</th>\n",
       "      <th>std_score_time</th>\n",
       "      <th>param_C</th>\n",
       "      <th>param_degree</th>\n",
       "      <th>params</th>\n",
       "      <th>split0_test_score</th>\n",
       "      <th>split1_test_score</th>\n",
       "      <th>split2_test_score</th>\n",
       "      <th>mean_test_score</th>\n",
       "      <th>std_test_score</th>\n",
       "      <th>rank_test_score</th>\n",
       "      <th>split0_train_score</th>\n",
       "      <th>split1_train_score</th>\n",
       "      <th>split2_train_score</th>\n",
       "      <th>mean_train_score</th>\n",
       "      <th>std_train_score</th>\n",
       "    </tr>\n",
       "  </thead>\n",
       "  <tbody>\n",
       "    <tr>\n",
       "      <th>0</th>\n",
       "      <td>0.032249</td>\n",
       "      <td>0.003672</td>\n",
       "      <td>0.006314</td>\n",
       "      <td>0.000473</td>\n",
       "      <td>1</td>\n",
       "      <td>1</td>\n",
       "      <td>{'C': 1, 'degree': 1}</td>\n",
       "      <td>0.689259</td>\n",
       "      <td>0.693176</td>\n",
       "      <td>0.702902</td>\n",
       "      <td>0.695112</td>\n",
       "      <td>0.005736</td>\n",
       "      <td>5</td>\n",
       "      <td>0.698343</td>\n",
       "      <td>0.703484</td>\n",
       "      <td>0.704544</td>\n",
       "      <td>0.702124</td>\n",
       "      <td>0.002708</td>\n",
       "    </tr>\n",
       "    <tr>\n",
       "      <th>1</th>\n",
       "      <td>0.029917</td>\n",
       "      <td>0.000816</td>\n",
       "      <td>0.007312</td>\n",
       "      <td>0.000470</td>\n",
       "      <td>1</td>\n",
       "      <td>3</td>\n",
       "      <td>{'C': 1, 'degree': 3}</td>\n",
       "      <td>0.604405</td>\n",
       "      <td>0.602563</td>\n",
       "      <td>0.594523</td>\n",
       "      <td>0.600497</td>\n",
       "      <td>0.004290</td>\n",
       "      <td>6</td>\n",
       "      <td>0.604740</td>\n",
       "      <td>0.616137</td>\n",
       "      <td>0.615501</td>\n",
       "      <td>0.612126</td>\n",
       "      <td>0.005229</td>\n",
       "    </tr>\n",
       "    <tr>\n",
       "      <th>2</th>\n",
       "      <td>0.070809</td>\n",
       "      <td>0.008020</td>\n",
       "      <td>0.005651</td>\n",
       "      <td>0.000471</td>\n",
       "      <td>10</td>\n",
       "      <td>1</td>\n",
       "      <td>{'C': 10, 'degree': 1}</td>\n",
       "      <td>0.707390</td>\n",
       "      <td>0.715254</td>\n",
       "      <td>0.706632</td>\n",
       "      <td>0.709758</td>\n",
       "      <td>0.003898</td>\n",
       "      <td>3</td>\n",
       "      <td>0.715076</td>\n",
       "      <td>0.717216</td>\n",
       "      <td>0.719803</td>\n",
       "      <td>0.717365</td>\n",
       "      <td>0.001933</td>\n",
       "    </tr>\n",
       "    <tr>\n",
       "      <th>3</th>\n",
       "      <td>0.039892</td>\n",
       "      <td>0.004071</td>\n",
       "      <td>0.007315</td>\n",
       "      <td>0.001880</td>\n",
       "      <td>10</td>\n",
       "      <td>3</td>\n",
       "      <td>{'C': 10, 'degree': 3}</td>\n",
       "      <td>0.729271</td>\n",
       "      <td>0.711448</td>\n",
       "      <td>0.719514</td>\n",
       "      <td>0.720078</td>\n",
       "      <td>0.007287</td>\n",
       "      <td>2</td>\n",
       "      <td>0.734192</td>\n",
       "      <td>0.747872</td>\n",
       "      <td>0.743667</td>\n",
       "      <td>0.741910</td>\n",
       "      <td>0.005721</td>\n",
       "    </tr>\n",
       "    <tr>\n",
       "      <th>4</th>\n",
       "      <td>0.155584</td>\n",
       "      <td>0.011828</td>\n",
       "      <td>0.003989</td>\n",
       "      <td>0.000815</td>\n",
       "      <td>100</td>\n",
       "      <td>1</td>\n",
       "      <td>{'C': 100, 'degree': 1}</td>\n",
       "      <td>0.706554</td>\n",
       "      <td>0.715607</td>\n",
       "      <td>0.705767</td>\n",
       "      <td>0.709309</td>\n",
       "      <td>0.004465</td>\n",
       "      <td>4</td>\n",
       "      <td>0.715346</td>\n",
       "      <td>0.717289</td>\n",
       "      <td>0.720195</td>\n",
       "      <td>0.717610</td>\n",
       "      <td>0.001993</td>\n",
       "    </tr>\n",
       "    <tr>\n",
       "      <th>5</th>\n",
       "      <td>0.066156</td>\n",
       "      <td>0.007696</td>\n",
       "      <td>0.003989</td>\n",
       "      <td>0.000814</td>\n",
       "      <td>100</td>\n",
       "      <td>3</td>\n",
       "      <td>{'C': 100, 'degree': 3}</td>\n",
       "      <td>0.746196</td>\n",
       "      <td>0.725586</td>\n",
       "      <td>0.741626</td>\n",
       "      <td>0.737803</td>\n",
       "      <td>0.008838</td>\n",
       "      <td>1</td>\n",
       "      <td>0.775024</td>\n",
       "      <td>0.786327</td>\n",
       "      <td>0.782190</td>\n",
       "      <td>0.781181</td>\n",
       "      <td>0.004669</td>\n",
       "    </tr>\n",
       "  </tbody>\n",
       "</table>\n",
       "</div>"
      ],
      "text/plain": [
       "   mean_fit_time  std_fit_time  mean_score_time  std_score_time param_C  \\\n",
       "0       0.032249      0.003672         0.006314        0.000473       1   \n",
       "1       0.029917      0.000816         0.007312        0.000470       1   \n",
       "2       0.070809      0.008020         0.005651        0.000471      10   \n",
       "3       0.039892      0.004071         0.007315        0.001880      10   \n",
       "4       0.155584      0.011828         0.003989        0.000815     100   \n",
       "5       0.066156      0.007696         0.003989        0.000814     100   \n",
       "\n",
       "  param_degree                   params  split0_test_score  split1_test_score  \\\n",
       "0            1    {'C': 1, 'degree': 1}           0.689259           0.693176   \n",
       "1            3    {'C': 1, 'degree': 3}           0.604405           0.602563   \n",
       "2            1   {'C': 10, 'degree': 1}           0.707390           0.715254   \n",
       "3            3   {'C': 10, 'degree': 3}           0.729271           0.711448   \n",
       "4            1  {'C': 100, 'degree': 1}           0.706554           0.715607   \n",
       "5            3  {'C': 100, 'degree': 3}           0.746196           0.725586   \n",
       "\n",
       "   split2_test_score  mean_test_score  std_test_score  rank_test_score  \\\n",
       "0           0.702902         0.695112        0.005736                5   \n",
       "1           0.594523         0.600497        0.004290                6   \n",
       "2           0.706632         0.709758        0.003898                3   \n",
       "3           0.719514         0.720078        0.007287                2   \n",
       "4           0.705767         0.709309        0.004465                4   \n",
       "5           0.741626         0.737803        0.008838                1   \n",
       "\n",
       "   split0_train_score  split1_train_score  split2_train_score  \\\n",
       "0            0.698343            0.703484            0.704544   \n",
       "1            0.604740            0.616137            0.615501   \n",
       "2            0.715076            0.717216            0.719803   \n",
       "3            0.734192            0.747872            0.743667   \n",
       "4            0.715346            0.717289            0.720195   \n",
       "5            0.775024            0.786327            0.782190   \n",
       "\n",
       "   mean_train_score  std_train_score  \n",
       "0          0.702124         0.002708  \n",
       "1          0.612126         0.005229  \n",
       "2          0.717365         0.001933  \n",
       "3          0.741910         0.005721  \n",
       "4          0.717610         0.001993  \n",
       "5          0.781181         0.004669  "
      ]
     },
     "execution_count": 105,
     "metadata": {},
     "output_type": "execute_result"
    }
   ],
   "source": [
    "result_svr_poly= pd.DataFrame(grid_svr_poly.cv_results_)\n",
    "result_svr_poly"
   ]
  },
  {
   "cell_type": "code",
   "execution_count": 106,
   "metadata": {},
   "outputs": [
    {
     "data": {
      "text/plain": [
       "<matplotlib.legend.Legend at 0x23dc8f1c668>"
      ]
     },
     "execution_count": 106,
     "metadata": {},
     "output_type": "execute_result"
    },
    {
     "data": {
      "image/png": "[encoded data removed]",
      "text/plain": [
       "<Figure size 432x288 with 1 Axes>"
      ]
     },
     "metadata": {
      "needs_background": "light"
     },
     "output_type": "display_data"
    }
   ],
   "source": [
    "plt.plot(range(result_svr_poly.shape[0]), result_svr_poly['mean_train_score'], label = 'mean train score')\n",
    "plt.plot(range(result_svr_poly.shape[0]), result_svr_poly['mean_test_score'], label = 'mean test score')\n",
    "plt.xticks(range(result_svr_poly.shape[0]), result_svr_poly['param_C'], rotation = 90)\n",
    "plt.plot([grid_svr_poly.best_index_], result_svr_poly['mean_train_score'][grid_svr_poly.best_index_], 'o', markersize = 10, fillstyle = \"none\")\n",
    "plt.plot([grid_svr_poly.best_index_], result_svr_poly['mean_test_score'][grid_svr_poly.best_index_], 'o', markersize = 10, fillstyle = \"none\")\n",
    "plt.grid()\n",
    "plt.legend()"
   ]
  },
  {
   "cell_type": "markdown",
   "metadata": {},
   "source": [
    "### SVR with Kernel as 'Poly' Result:\n",
    "\n",
    "#### Best Parameter: {'C': 100, 'degree': 3}\n",
    "\n",
    "#### Test Score: 0.7065\n",
    "\n",
    "#### Mean Cross - Validation Score: 0.7110"
   ]
  },
  {
   "cell_type": "markdown",
   "metadata": {},
   "source": [
    "## SVR with Kernel as 'rbf'"
   ]
  },
  {
   "cell_type": "code",
   "execution_count": 107,
   "metadata": {},
   "outputs": [],
   "source": [
    "grid_parms_rbf = {'C': [0.1, 1, 10, 100],'gamma':[0.1, 1, 10, 100]}"
   ]
  },
  {
   "cell_type": "code",
   "execution_count": 108,
   "metadata": {},
   "outputs": [],
   "source": [
    "svr_rbf = SVR(kernel='rbf')\n",
    "grid_svr_rbf = GridSearchCV(estimator = svr_rbf,param_grid = grid_parms_rbf,return_train_score=True,n_jobs= -1,cv=3)"
   ]
  },
  {
   "cell_type": "code",
   "execution_count": 109,
   "metadata": {},
   "outputs": [
    {
     "data": {
      "text/plain": [
       "GridSearchCV(cv=3, error_score='raise-deprecating',\n",
       "             estimator=SVR(C=1.0, cache_size=200, coef0=0.0, degree=3,\n",
       "                           epsilon=0.1, gamma='auto_deprecated', kernel='rbf',\n",
       "                           max_iter=-1, shrinking=True, tol=0.001,\n",
       "                           verbose=False),\n",
       "             iid='warn', n_jobs=-1,\n",
       "             param_grid={'C': [0.1, 1, 10, 100], 'gamma': [0.1, 1, 10, 100]},\n",
       "             pre_dispatch='2*n_jobs', refit=True, return_train_score=True,\n",
       "             scoring=None, verbose=0)"
      ]
     },
     "execution_count": 109,
     "metadata": {},
     "output_type": "execute_result"
    }
   ],
   "source": [
    "grid_svr_rbf.fit(X_train,y_train)"
   ]
  },
  {
   "cell_type": "code",
   "execution_count": 110,
   "metadata": {},
   "outputs": [
    {
     "name": "stdout",
     "output_type": "stream",
     "text": [
      "Best parameters: {'C': 10, 'gamma': 0.1}\n",
      "Best cross-validation score: 0.7425\n"
     ]
    }
   ],
   "source": [
    "print(\"Best parameters: {}\".format(grid_svr_rbf.best_params_))\n",
    "print(\"Best cross-validation score: {:.4f}\".format(grid_svr_rbf.best_score_))"
   ]
  },
  {
   "cell_type": "code",
   "execution_count": 111,
   "metadata": {},
   "outputs": [
    {
     "name": "stdout",
     "output_type": "stream",
     "text": [
      "Train score: 0.8044681354177308\n",
      "Test score: 0.7288505960620149\n"
     ]
    }
   ],
   "source": [
    "svr_rbf = SVR(kernel='rbf',C=100,gamma=0.1)\n",
    "svr_rbf.fit(X_train, y_train)\n",
    "print(\"Train score: {}\".format(svr_rbf.score(X_train, y_train)))\n",
    "print(\"Test score: {}\".format(svr_rbf.score(X_test, y_test)))"
   ]
  },
  {
   "cell_type": "code",
   "execution_count": 112,
   "metadata": {},
   "outputs": [
    {
     "name": "stdout",
     "output_type": "stream",
     "text": [
      "Cross-validation scores: [0.7106943  0.7786646  0.72596624 0.72279042 0.75383037 0.72701778]\n",
      "Mean score: 0.7364939532823169\n"
     ]
    }
   ],
   "source": [
    "from sklearn.model_selection import KFold\n",
    "from sklearn.model_selection import cross_val_score\n",
    "kfold = KFold(n_splits=6)\n",
    "print(\"Cross-validation scores: {}\".format(cross_val_score(svr_rbf, X_train, y_train, cv=kfold)))\n",
    "scores = cross_val_score(svr_rbf, X_train, y_train, cv=kfold)\n",
    "print(\"Mean score: {}\".format(np.mean(scores)))"
   ]
  },
  {
   "cell_type": "code",
   "execution_count": 113,
   "metadata": {},
   "outputs": [
    {
     "data": {
      "text/html": [
       "<div>\n",
       "<style scoped>\n",
       "    .dataframe tbody tr th:only-of-type {\n",
       "        vertical-align: middle;\n",
       "    }\n",
       "\n",
       "    .dataframe tbody tr th {\n",
       "        vertical-align: top;\n",
       "    }\n",
       "\n",
       "    .dataframe thead th {\n",
       "        text-align: right;\n",
       "    }\n",
       "</style>\n",
       "<table border=\"1\" class=\"dataframe\">\n",
       "  <thead>\n",
       "    <tr style=\"text-align: right;\">\n",
       "      <th></th>\n",
       "      <th>mean_fit_time</th>\n",
       "      <th>std_fit_time</th>\n",
       "      <th>mean_score_time</th>\n",
       "      <th>std_score_time</th>\n",
       "      <th>param_C</th>\n",
       "      <th>param_gamma</th>\n",
       "      <th>params</th>\n",
       "      <th>split0_test_score</th>\n",
       "      <th>split1_test_score</th>\n",
       "      <th>split2_test_score</th>\n",
       "      <th>mean_test_score</th>\n",
       "      <th>std_test_score</th>\n",
       "      <th>rank_test_score</th>\n",
       "      <th>split0_train_score</th>\n",
       "      <th>split1_train_score</th>\n",
       "      <th>split2_train_score</th>\n",
       "      <th>mean_train_score</th>\n",
       "      <th>std_train_score</th>\n",
       "    </tr>\n",
       "  </thead>\n",
       "  <tbody>\n",
       "    <tr>\n",
       "      <th>0</th>\n",
       "      <td>0.031583</td>\n",
       "      <td>0.000941</td>\n",
       "      <td>0.010970</td>\n",
       "      <td>0.000815</td>\n",
       "      <td>0.1</td>\n",
       "      <td>0.1</td>\n",
       "      <td>{'C': 0.1, 'gamma': 0.1}</td>\n",
       "      <td>0.640858</td>\n",
       "      <td>0.646322</td>\n",
       "      <td>0.656050</td>\n",
       "      <td>0.647743</td>\n",
       "      <td>0.006283</td>\n",
       "      <td>7</td>\n",
       "      <td>0.650555</td>\n",
       "      <td>0.656229</td>\n",
       "      <td>0.659937</td>\n",
       "      <td>0.655574</td>\n",
       "      <td>0.003858</td>\n",
       "    </tr>\n",
       "    <tr>\n",
       "      <th>1</th>\n",
       "      <td>0.034906</td>\n",
       "      <td>0.001628</td>\n",
       "      <td>0.009641</td>\n",
       "      <td>0.000470</td>\n",
       "      <td>0.1</td>\n",
       "      <td>1</td>\n",
       "      <td>{'C': 0.1, 'gamma': 1}</td>\n",
       "      <td>0.693036</td>\n",
       "      <td>0.693481</td>\n",
       "      <td>0.688240</td>\n",
       "      <td>0.691585</td>\n",
       "      <td>0.002373</td>\n",
       "      <td>5</td>\n",
       "      <td>0.732941</td>\n",
       "      <td>0.742877</td>\n",
       "      <td>0.742408</td>\n",
       "      <td>0.739409</td>\n",
       "      <td>0.004577</td>\n",
       "    </tr>\n",
       "    <tr>\n",
       "      <th>2</th>\n",
       "      <td>0.058842</td>\n",
       "      <td>0.013699</td>\n",
       "      <td>0.013963</td>\n",
       "      <td>0.000814</td>\n",
       "      <td>0.1</td>\n",
       "      <td>10</td>\n",
       "      <td>{'C': 0.1, 'gamma': 10}</td>\n",
       "      <td>0.256338</td>\n",
       "      <td>0.273126</td>\n",
       "      <td>0.249214</td>\n",
       "      <td>0.259559</td>\n",
       "      <td>0.010024</td>\n",
       "      <td>12</td>\n",
       "      <td>0.597783</td>\n",
       "      <td>0.594316</td>\n",
       "      <td>0.607700</td>\n",
       "      <td>0.599933</td>\n",
       "      <td>0.005672</td>\n",
       "    </tr>\n",
       "    <tr>\n",
       "      <th>3</th>\n",
       "      <td>0.069477</td>\n",
       "      <td>0.015129</td>\n",
       "      <td>0.016290</td>\n",
       "      <td>0.000470</td>\n",
       "      <td>0.1</td>\n",
       "      <td>100</td>\n",
       "      <td>{'C': 0.1, 'gamma': 100}</td>\n",
       "      <td>0.001729</td>\n",
       "      <td>0.000920</td>\n",
       "      <td>-0.013591</td>\n",
       "      <td>-0.003647</td>\n",
       "      <td>0.007039</td>\n",
       "      <td>16</td>\n",
       "      <td>0.473829</td>\n",
       "      <td>0.455918</td>\n",
       "      <td>0.468736</td>\n",
       "      <td>0.466161</td>\n",
       "      <td>0.007535</td>\n",
       "    </tr>\n",
       "    <tr>\n",
       "      <th>4</th>\n",
       "      <td>0.037898</td>\n",
       "      <td>0.000815</td>\n",
       "      <td>0.008644</td>\n",
       "      <td>0.000470</td>\n",
       "      <td>1</td>\n",
       "      <td>0.1</td>\n",
       "      <td>{'C': 1, 'gamma': 0.1}</td>\n",
       "      <td>0.731365</td>\n",
       "      <td>0.733038</td>\n",
       "      <td>0.732336</td>\n",
       "      <td>0.732247</td>\n",
       "      <td>0.000686</td>\n",
       "      <td>3</td>\n",
       "      <td>0.742536</td>\n",
       "      <td>0.749548</td>\n",
       "      <td>0.750130</td>\n",
       "      <td>0.747405</td>\n",
       "      <td>0.003451</td>\n",
       "    </tr>\n",
       "    <tr>\n",
       "      <th>5</th>\n",
       "      <td>0.058510</td>\n",
       "      <td>0.001244</td>\n",
       "      <td>0.008644</td>\n",
       "      <td>0.000470</td>\n",
       "      <td>1</td>\n",
       "      <td>1</td>\n",
       "      <td>{'C': 1, 'gamma': 1}</td>\n",
       "      <td>0.727415</td>\n",
       "      <td>0.717986</td>\n",
       "      <td>0.730550</td>\n",
       "      <td>0.725317</td>\n",
       "      <td>0.005339</td>\n",
       "      <td>4</td>\n",
       "      <td>0.818382</td>\n",
       "      <td>0.829069</td>\n",
       "      <td>0.828358</td>\n",
       "      <td>0.825269</td>\n",
       "      <td>0.004879</td>\n",
       "    </tr>\n",
       "    <tr>\n",
       "      <th>6</th>\n",
       "      <td>0.066156</td>\n",
       "      <td>0.011234</td>\n",
       "      <td>0.012965</td>\n",
       "      <td>0.000814</td>\n",
       "      <td>1</td>\n",
       "      <td>10</td>\n",
       "      <td>{'C': 1, 'gamma': 10}</td>\n",
       "      <td>0.354235</td>\n",
       "      <td>0.342323</td>\n",
       "      <td>0.363691</td>\n",
       "      <td>0.353416</td>\n",
       "      <td>0.008742</td>\n",
       "      <td>9</td>\n",
       "      <td>0.836314</td>\n",
       "      <td>0.838848</td>\n",
       "      <td>0.837846</td>\n",
       "      <td>0.837669</td>\n",
       "      <td>0.001042</td>\n",
       "    </tr>\n",
       "    <tr>\n",
       "      <th>7</th>\n",
       "      <td>0.078457</td>\n",
       "      <td>0.015797</td>\n",
       "      <td>0.023604</td>\n",
       "      <td>0.012224</td>\n",
       "      <td>1</td>\n",
       "      <td>100</td>\n",
       "      <td>{'C': 1, 'gamma': 100}</td>\n",
       "      <td>0.001448</td>\n",
       "      <td>-0.007090</td>\n",
       "      <td>0.003634</td>\n",
       "      <td>-0.000669</td>\n",
       "      <td>0.004627</td>\n",
       "      <td>13</td>\n",
       "      <td>0.820719</td>\n",
       "      <td>0.825199</td>\n",
       "      <td>0.824134</td>\n",
       "      <td>0.823351</td>\n",
       "      <td>0.001911</td>\n",
       "    </tr>\n",
       "    <tr>\n",
       "      <th>8</th>\n",
       "      <td>0.092087</td>\n",
       "      <td>0.013240</td>\n",
       "      <td>0.008643</td>\n",
       "      <td>0.000470</td>\n",
       "      <td>10</td>\n",
       "      <td>0.1</td>\n",
       "      <td>{'C': 10, 'gamma': 0.1}</td>\n",
       "      <td>0.740057</td>\n",
       "      <td>0.746411</td>\n",
       "      <td>0.740914</td>\n",
       "      <td>0.742461</td>\n",
       "      <td>0.002815</td>\n",
       "      <td>1</td>\n",
       "      <td>0.774480</td>\n",
       "      <td>0.782119</td>\n",
       "      <td>0.781769</td>\n",
       "      <td>0.779456</td>\n",
       "      <td>0.003521</td>\n",
       "    </tr>\n",
       "    <tr>\n",
       "      <th>9</th>\n",
       "      <td>0.153590</td>\n",
       "      <td>0.015515</td>\n",
       "      <td>0.009308</td>\n",
       "      <td>0.000470</td>\n",
       "      <td>10</td>\n",
       "      <td>1</td>\n",
       "      <td>{'C': 10, 'gamma': 1}</td>\n",
       "      <td>0.673671</td>\n",
       "      <td>0.652688</td>\n",
       "      <td>0.676075</td>\n",
       "      <td>0.667478</td>\n",
       "      <td>0.010504</td>\n",
       "      <td>6</td>\n",
       "      <td>0.853699</td>\n",
       "      <td>0.860007</td>\n",
       "      <td>0.864155</td>\n",
       "      <td>0.859287</td>\n",
       "      <td>0.004299</td>\n",
       "    </tr>\n",
       "    <tr>\n",
       "      <th>10</th>\n",
       "      <td>0.048537</td>\n",
       "      <td>0.010050</td>\n",
       "      <td>0.010638</td>\n",
       "      <td>0.002049</td>\n",
       "      <td>10</td>\n",
       "      <td>10</td>\n",
       "      <td>{'C': 10, 'gamma': 10}</td>\n",
       "      <td>0.354235</td>\n",
       "      <td>0.342323</td>\n",
       "      <td>0.363691</td>\n",
       "      <td>0.353416</td>\n",
       "      <td>0.008742</td>\n",
       "      <td>9</td>\n",
       "      <td>0.836314</td>\n",
       "      <td>0.838848</td>\n",
       "      <td>0.837846</td>\n",
       "      <td>0.837669</td>\n",
       "      <td>0.001042</td>\n",
       "    </tr>\n",
       "    <tr>\n",
       "      <th>11</th>\n",
       "      <td>0.063164</td>\n",
       "      <td>0.003083</td>\n",
       "      <td>0.015293</td>\n",
       "      <td>0.000470</td>\n",
       "      <td>10</td>\n",
       "      <td>100</td>\n",
       "      <td>{'C': 10, 'gamma': 100}</td>\n",
       "      <td>0.001448</td>\n",
       "      <td>-0.007090</td>\n",
       "      <td>0.003634</td>\n",
       "      <td>-0.000669</td>\n",
       "      <td>0.004627</td>\n",
       "      <td>13</td>\n",
       "      <td>0.820719</td>\n",
       "      <td>0.825199</td>\n",
       "      <td>0.824134</td>\n",
       "      <td>0.823351</td>\n",
       "      <td>0.001911</td>\n",
       "    </tr>\n",
       "    <tr>\n",
       "      <th>12</th>\n",
       "      <td>0.228057</td>\n",
       "      <td>0.106219</td>\n",
       "      <td>0.005652</td>\n",
       "      <td>0.001695</td>\n",
       "      <td>100</td>\n",
       "      <td>0.1</td>\n",
       "      <td>{'C': 100, 'gamma': 0.1}</td>\n",
       "      <td>0.740868</td>\n",
       "      <td>0.719478</td>\n",
       "      <td>0.738546</td>\n",
       "      <td>0.732964</td>\n",
       "      <td>0.009583</td>\n",
       "      <td>2</td>\n",
       "      <td>0.802496</td>\n",
       "      <td>0.811815</td>\n",
       "      <td>0.811762</td>\n",
       "      <td>0.808691</td>\n",
       "      <td>0.004381</td>\n",
       "    </tr>\n",
       "    <tr>\n",
       "      <th>13</th>\n",
       "      <td>0.209772</td>\n",
       "      <td>0.116832</td>\n",
       "      <td>0.007314</td>\n",
       "      <td>0.001881</td>\n",
       "      <td>100</td>\n",
       "      <td>1</td>\n",
       "      <td>{'C': 100, 'gamma': 1}</td>\n",
       "      <td>0.582649</td>\n",
       "      <td>0.591707</td>\n",
       "      <td>0.630499</td>\n",
       "      <td>0.601618</td>\n",
       "      <td>0.020754</td>\n",
       "      <td>8</td>\n",
       "      <td>0.855701</td>\n",
       "      <td>0.863278</td>\n",
       "      <td>0.866671</td>\n",
       "      <td>0.861883</td>\n",
       "      <td>0.004586</td>\n",
       "    </tr>\n",
       "    <tr>\n",
       "      <th>14</th>\n",
       "      <td>0.041888</td>\n",
       "      <td>0.011284</td>\n",
       "      <td>0.009308</td>\n",
       "      <td>0.002617</td>\n",
       "      <td>100</td>\n",
       "      <td>10</td>\n",
       "      <td>{'C': 100, 'gamma': 10}</td>\n",
       "      <td>0.354235</td>\n",
       "      <td>0.342323</td>\n",
       "      <td>0.363691</td>\n",
       "      <td>0.353416</td>\n",
       "      <td>0.008742</td>\n",
       "      <td>9</td>\n",
       "      <td>0.836314</td>\n",
       "      <td>0.838848</td>\n",
       "      <td>0.837846</td>\n",
       "      <td>0.837669</td>\n",
       "      <td>0.001042</td>\n",
       "    </tr>\n",
       "    <tr>\n",
       "      <th>15</th>\n",
       "      <td>0.064162</td>\n",
       "      <td>0.004485</td>\n",
       "      <td>0.015625</td>\n",
       "      <td>0.000470</td>\n",
       "      <td>100</td>\n",
       "      <td>100</td>\n",
       "      <td>{'C': 100, 'gamma': 100}</td>\n",
       "      <td>0.001448</td>\n",
       "      <td>-0.007090</td>\n",
       "      <td>0.003634</td>\n",
       "      <td>-0.000669</td>\n",
       "      <td>0.004627</td>\n",
       "      <td>13</td>\n",
       "      <td>0.820719</td>\n",
       "      <td>0.825199</td>\n",
       "      <td>0.824134</td>\n",
       "      <td>0.823351</td>\n",
       "      <td>0.001911</td>\n",
       "    </tr>\n",
       "  </tbody>\n",
       "</table>\n",
       "</div>"
      ],
      "text/plain": [
       "    mean_fit_time  std_fit_time  mean_score_time  std_score_time param_C  \\\n",
       "0        0.031583      0.000941         0.010970        0.000815     0.1   \n",
       "1        0.034906      0.001628         0.009641        0.000470     0.1   \n",
       "2        0.058842      0.013699         0.013963        0.000814     0.1   \n",
       "3        0.069477      0.015129         0.016290        0.000470     0.1   \n",
       "4        0.037898      0.000815         0.008644        0.000470       1   \n",
       "5        0.058510      0.001244         0.008644        0.000470       1   \n",
       "6        0.066156      0.011234         0.012965        0.000814       1   \n",
       "7        0.078457      0.015797         0.023604        0.012224       1   \n",
       "8        0.092087      0.013240         0.008643        0.000470      10   \n",
       "9        0.153590      0.015515         0.009308        0.000470      10   \n",
       "10       0.048537      0.010050         0.010638        0.002049      10   \n",
       "11       0.063164      0.003083         0.015293        0.000470      10   \n",
       "12       0.228057      0.106219         0.005652        0.001695     100   \n",
       "13       0.209772      0.116832         0.007314        0.001881     100   \n",
       "14       0.041888      0.011284         0.009308        0.002617     100   \n",
       "15       0.064162      0.004485         0.015625        0.000470     100   \n",
       "\n",
       "   param_gamma                    params  split0_test_score  \\\n",
       "0          0.1  {'C': 0.1, 'gamma': 0.1}           0.640858   \n",
       "1            1    {'C': 0.1, 'gamma': 1}           0.693036   \n",
       "2           10   {'C': 0.1, 'gamma': 10}           0.256338   \n",
       "3          100  {'C': 0.1, 'gamma': 100}           0.001729   \n",
       "4          0.1    {'C': 1, 'gamma': 0.1}           0.731365   \n",
       "5            1      {'C': 1, 'gamma': 1}           0.727415   \n",
       "6           10     {'C': 1, 'gamma': 10}           0.354235   \n",
       "7          100    {'C': 1, 'gamma': 100}           0.001448   \n",
       "8          0.1   {'C': 10, 'gamma': 0.1}           0.740057   \n",
       "9            1     {'C': 10, 'gamma': 1}           0.673671   \n",
       "10          10    {'C': 10, 'gamma': 10}           0.354235   \n",
       "11         100   {'C': 10, 'gamma': 100}           0.001448   \n",
       "12         0.1  {'C': 100, 'gamma': 0.1}           0.740868   \n",
       "13           1    {'C': 100, 'gamma': 1}           0.582649   \n",
       "14          10   {'C': 100, 'gamma': 10}           0.354235   \n",
       "15         100  {'C': 100, 'gamma': 100}           0.001448   \n",
       "\n",
       "    split1_test_score  split2_test_score  mean_test_score  std_test_score  \\\n",
       "0            0.646322           0.656050         0.647743        0.006283   \n",
       "1            0.693481           0.688240         0.691585        0.002373   \n",
       "2            0.273126           0.249214         0.259559        0.010024   \n",
       "3            0.000920          -0.013591        -0.003647        0.007039   \n",
       "4            0.733038           0.732336         0.732247        0.000686   \n",
       "5            0.717986           0.730550         0.725317        0.005339   \n",
       "6            0.342323           0.363691         0.353416        0.008742   \n",
       "7           -0.007090           0.003634        -0.000669        0.004627   \n",
       "8            0.746411           0.740914         0.742461        0.002815   \n",
       "9            0.652688           0.676075         0.667478        0.010504   \n",
       "10           0.342323           0.363691         0.353416        0.008742   \n",
       "11          -0.007090           0.003634        -0.000669        0.004627   \n",
       "12           0.719478           0.738546         0.732964        0.009583   \n",
       "13           0.591707           0.630499         0.601618        0.020754   \n",
       "14           0.342323           0.363691         0.353416        0.008742   \n",
       "15          -0.007090           0.003634        -0.000669        0.004627   \n",
       "\n",
       "    rank_test_score  split0_train_score  split1_train_score  \\\n",
       "0                 7            0.650555            0.656229   \n",
       "1                 5            0.732941            0.742877   \n",
       "2                12            0.597783            0.594316   \n",
       "3                16            0.473829            0.455918   \n",
       "4                 3            0.742536            0.749548   \n",
       "5                 4            0.818382            0.829069   \n",
       "6                 9            0.836314            0.838848   \n",
       "7                13            0.820719            0.825199   \n",
       "8                 1            0.774480            0.782119   \n",
       "9                 6            0.853699            0.860007   \n",
       "10                9            0.836314            0.838848   \n",
       "11               13            0.820719            0.825199   \n",
       "12                2            0.802496            0.811815   \n",
       "13                8            0.855701            0.863278   \n",
       "14                9            0.836314            0.838848   \n",
       "15               13            0.820719            0.825199   \n",
       "\n",
       "    split2_train_score  mean_train_score  std_train_score  \n",
       "0             0.659937          0.655574         0.003858  \n",
       "1             0.742408          0.739409         0.004577  \n",
       "2             0.607700          0.599933         0.005672  \n",
       "3             0.468736          0.466161         0.007535  \n",
       "4             0.750130          0.747405         0.003451  \n",
       "5             0.828358          0.825269         0.004879  \n",
       "6             0.837846          0.837669         0.001042  \n",
       "7             0.824134          0.823351         0.001911  \n",
       "8             0.781769          0.779456         0.003521  \n",
       "9             0.864155          0.859287         0.004299  \n",
       "10            0.837846          0.837669         0.001042  \n",
       "11            0.824134          0.823351         0.001911  \n",
       "12            0.811762          0.808691         0.004381  \n",
       "13            0.866671          0.861883         0.004586  \n",
       "14            0.837846          0.837669         0.001042  \n",
       "15            0.824134          0.823351         0.001911  "
      ]
     },
     "execution_count": 113,
     "metadata": {},
     "output_type": "execute_result"
    }
   ],
   "source": [
    "result_rbf = pd.DataFrame(grid_svr_rbf.cv_results_)\n",
    "result_rbf"
   ]
  },
  {
   "cell_type": "code",
   "execution_count": 114,
   "metadata": {},
   "outputs": [
    {
     "data": {
      "text/plain": [
       "<matplotlib.legend.Legend at 0x23dcb006898>"
      ]
     },
     "execution_count": 114,
     "metadata": {},
     "output_type": "execute_result"
    },
    {
     "data": {
      "image/png": "[encoded data removed]",
      "text/plain": [
       "<Figure size 432x288 with 1 Axes>"
      ]
     },
     "metadata": {
      "needs_background": "light"
     },
     "output_type": "display_data"
    }
   ],
   "source": [
    "plt.plot(range(result_rbf.shape[0]), result_rbf['mean_train_score'], label = 'mean train score')\n",
    "plt.plot(range(result_rbf.shape[0]), result_rbf['mean_test_score'], label = 'mean test score')\n",
    "plt.xticks(range(result_svr_poly.shape[0]), result_rbf['param_C'], rotation = 90)\n",
    "plt.plot([grid_svr_rbf.best_index_], result_rbf['mean_train_score'][grid_svr_rbf.best_index_], 'o', markersize = 10, fillstyle = \"none\")\n",
    "plt.plot([grid_svr_rbf.best_index_], result_rbf['mean_test_score'][grid_svr_rbf.best_index_], 'o', markersize = 10, fillstyle = \"none\")\n",
    "plt.grid()\n",
    "plt.legend()"
   ]
  },
  {
   "cell_type": "markdown",
   "metadata": {},
   "source": [
    "### SVR with Kernel as 'rbf' Result:\n",
    "\n",
    "#### Best Parameter: {'C': 10, 'gamma': 0.1}\n",
    "\n",
    "#### Test Score: 0.7289\n",
    "\n",
    "#### Mean Cross - Validation Score: 0.7365"
   ]
  },
  {
   "cell_type": "markdown",
   "metadata": {},
   "source": [
    "## Decision Tree Regressor"
   ]
  },
  {
   "cell_type": "code",
   "execution_count": 115,
   "metadata": {},
   "outputs": [
    {
     "data": {
      "text/plain": [
       "DecisionTreeRegressor(criterion='mse', max_depth=None, max_features=None,\n",
       "                      max_leaf_nodes=None, min_impurity_decrease=0.0,\n",
       "                      min_impurity_split=None, min_samples_leaf=1,\n",
       "                      min_samples_split=2, min_weight_fraction_leaf=0.0,\n",
       "                      presort=False, random_state=0, splitter='best')"
      ]
     },
     "execution_count": 115,
     "metadata": {},
     "output_type": "execute_result"
    }
   ],
   "source": [
    "from sklearn.tree import DecisionTreeRegressor\n",
    "\n",
    "regressor = DecisionTreeRegressor(random_state=0)\n",
    "regressor.fit(X_train,y_train)"
   ]
  },
  {
   "cell_type": "code",
   "execution_count": 116,
   "metadata": {},
   "outputs": [],
   "source": [
    "y_pred = regressor.predict(X_test)"
   ]
  },
  {
   "cell_type": "code",
   "execution_count": 117,
   "metadata": {},
   "outputs": [
    {
     "data": {
      "text/html": [
       "<div>\n",
       "<style scoped>\n",
       "    .dataframe tbody tr th:only-of-type {\n",
       "        vertical-align: middle;\n",
       "    }\n",
       "\n",
       "    .dataframe tbody tr th {\n",
       "        vertical-align: top;\n",
       "    }\n",
       "\n",
       "    .dataframe thead th {\n",
       "        text-align: right;\n",
       "    }\n",
       "</style>\n",
       "<table border=\"1\" class=\"dataframe\">\n",
       "  <thead>\n",
       "    <tr style=\"text-align: right;\">\n",
       "      <th></th>\n",
       "      <th>Real Values</th>\n",
       "      <th>Predicted Values</th>\n",
       "    </tr>\n",
       "  </thead>\n",
       "  <tbody>\n",
       "    <tr>\n",
       "      <th>0</th>\n",
       "      <td>0.635</td>\n",
       "      <td>0.421</td>\n",
       "    </tr>\n",
       "    <tr>\n",
       "      <th>1</th>\n",
       "      <td>0.841</td>\n",
       "      <td>0.727</td>\n",
       "    </tr>\n",
       "    <tr>\n",
       "      <th>2</th>\n",
       "      <td>0.945</td>\n",
       "      <td>0.824</td>\n",
       "    </tr>\n",
       "    <tr>\n",
       "      <th>3</th>\n",
       "      <td>0.648</td>\n",
       "      <td>0.479</td>\n",
       "    </tr>\n",
       "    <tr>\n",
       "      <th>4</th>\n",
       "      <td>0.257</td>\n",
       "      <td>0.107</td>\n",
       "    </tr>\n",
       "    <tr>\n",
       "      <th>5</th>\n",
       "      <td>0.588</td>\n",
       "      <td>0.794</td>\n",
       "    </tr>\n",
       "    <tr>\n",
       "      <th>6</th>\n",
       "      <td>0.637</td>\n",
       "      <td>0.675</td>\n",
       "    </tr>\n",
       "    <tr>\n",
       "      <th>7</th>\n",
       "      <td>0.580</td>\n",
       "      <td>0.770</td>\n",
       "    </tr>\n",
       "    <tr>\n",
       "      <th>8</th>\n",
       "      <td>0.742</td>\n",
       "      <td>0.752</td>\n",
       "    </tr>\n",
       "    <tr>\n",
       "      <th>9</th>\n",
       "      <td>0.880</td>\n",
       "      <td>0.815</td>\n",
       "    </tr>\n",
       "    <tr>\n",
       "      <th>10</th>\n",
       "      <td>0.577</td>\n",
       "      <td>0.806</td>\n",
       "    </tr>\n",
       "    <tr>\n",
       "      <th>11</th>\n",
       "      <td>0.480</td>\n",
       "      <td>0.434</td>\n",
       "    </tr>\n",
       "    <tr>\n",
       "      <th>12</th>\n",
       "      <td>0.526</td>\n",
       "      <td>0.517</td>\n",
       "    </tr>\n",
       "    <tr>\n",
       "      <th>13</th>\n",
       "      <td>0.941</td>\n",
       "      <td>0.791</td>\n",
       "    </tr>\n",
       "    <tr>\n",
       "      <th>14</th>\n",
       "      <td>0.776</td>\n",
       "      <td>0.816</td>\n",
       "    </tr>\n",
       "    <tr>\n",
       "      <th>15</th>\n",
       "      <td>0.867</td>\n",
       "      <td>0.963</td>\n",
       "    </tr>\n",
       "    <tr>\n",
       "      <th>16</th>\n",
       "      <td>0.737</td>\n",
       "      <td>0.923</td>\n",
       "    </tr>\n",
       "    <tr>\n",
       "      <th>17</th>\n",
       "      <td>0.798</td>\n",
       "      <td>0.814</td>\n",
       "    </tr>\n",
       "    <tr>\n",
       "      <th>18</th>\n",
       "      <td>0.773</td>\n",
       "      <td>0.921</td>\n",
       "    </tr>\n",
       "    <tr>\n",
       "      <th>19</th>\n",
       "      <td>0.952</td>\n",
       "      <td>0.851</td>\n",
       "    </tr>\n",
       "    <tr>\n",
       "      <th>20</th>\n",
       "      <td>0.704</td>\n",
       "      <td>0.944</td>\n",
       "    </tr>\n",
       "    <tr>\n",
       "      <th>21</th>\n",
       "      <td>0.700</td>\n",
       "      <td>0.664</td>\n",
       "    </tr>\n",
       "    <tr>\n",
       "      <th>22</th>\n",
       "      <td>0.838</td>\n",
       "      <td>0.812</td>\n",
       "    </tr>\n",
       "    <tr>\n",
       "      <th>23</th>\n",
       "      <td>0.672</td>\n",
       "      <td>0.679</td>\n",
       "    </tr>\n",
       "    <tr>\n",
       "      <th>24</th>\n",
       "      <td>0.633</td>\n",
       "      <td>0.669</td>\n",
       "    </tr>\n",
       "    <tr>\n",
       "      <th>25</th>\n",
       "      <td>0.688</td>\n",
       "      <td>0.491</td>\n",
       "    </tr>\n",
       "    <tr>\n",
       "      <th>26</th>\n",
       "      <td>0.547</td>\n",
       "      <td>0.700</td>\n",
       "    </tr>\n",
       "    <tr>\n",
       "      <th>27</th>\n",
       "      <td>0.902</td>\n",
       "      <td>0.772</td>\n",
       "    </tr>\n",
       "    <tr>\n",
       "      <th>28</th>\n",
       "      <td>0.489</td>\n",
       "      <td>0.515</td>\n",
       "    </tr>\n",
       "    <tr>\n",
       "      <th>29</th>\n",
       "      <td>0.553</td>\n",
       "      <td>0.811</td>\n",
       "    </tr>\n",
       "    <tr>\n",
       "      <th>...</th>\n",
       "      <td>...</td>\n",
       "      <td>...</td>\n",
       "    </tr>\n",
       "    <tr>\n",
       "      <th>475</th>\n",
       "      <td>0.415</td>\n",
       "      <td>0.549</td>\n",
       "    </tr>\n",
       "    <tr>\n",
       "      <th>476</th>\n",
       "      <td>0.871</td>\n",
       "      <td>0.443</td>\n",
       "    </tr>\n",
       "    <tr>\n",
       "      <th>477</th>\n",
       "      <td>0.669</td>\n",
       "      <td>0.888</td>\n",
       "    </tr>\n",
       "    <tr>\n",
       "      <th>478</th>\n",
       "      <td>0.654</td>\n",
       "      <td>0.492</td>\n",
       "    </tr>\n",
       "    <tr>\n",
       "      <th>479</th>\n",
       "      <td>0.737</td>\n",
       "      <td>0.813</td>\n",
       "    </tr>\n",
       "    <tr>\n",
       "      <th>480</th>\n",
       "      <td>0.642</td>\n",
       "      <td>0.604</td>\n",
       "    </tr>\n",
       "    <tr>\n",
       "      <th>481</th>\n",
       "      <td>0.810</td>\n",
       "      <td>0.926</td>\n",
       "    </tr>\n",
       "    <tr>\n",
       "      <th>482</th>\n",
       "      <td>0.772</td>\n",
       "      <td>0.857</td>\n",
       "    </tr>\n",
       "    <tr>\n",
       "      <th>483</th>\n",
       "      <td>0.986</td>\n",
       "      <td>0.833</td>\n",
       "    </tr>\n",
       "    <tr>\n",
       "      <th>484</th>\n",
       "      <td>0.570</td>\n",
       "      <td>0.331</td>\n",
       "    </tr>\n",
       "    <tr>\n",
       "      <th>485</th>\n",
       "      <td>0.983</td>\n",
       "      <td>0.925</td>\n",
       "    </tr>\n",
       "    <tr>\n",
       "      <th>486</th>\n",
       "      <td>0.772</td>\n",
       "      <td>0.498</td>\n",
       "    </tr>\n",
       "    <tr>\n",
       "      <th>487</th>\n",
       "      <td>0.609</td>\n",
       "      <td>0.825</td>\n",
       "    </tr>\n",
       "    <tr>\n",
       "      <th>488</th>\n",
       "      <td>0.981</td>\n",
       "      <td>0.839</td>\n",
       "    </tr>\n",
       "    <tr>\n",
       "      <th>489</th>\n",
       "      <td>0.796</td>\n",
       "      <td>0.858</td>\n",
       "    </tr>\n",
       "    <tr>\n",
       "      <th>490</th>\n",
       "      <td>0.820</td>\n",
       "      <td>0.959</td>\n",
       "    </tr>\n",
       "    <tr>\n",
       "      <th>491</th>\n",
       "      <td>0.290</td>\n",
       "      <td>0.575</td>\n",
       "    </tr>\n",
       "    <tr>\n",
       "      <th>492</th>\n",
       "      <td>0.337</td>\n",
       "      <td>0.320</td>\n",
       "    </tr>\n",
       "    <tr>\n",
       "      <th>493</th>\n",
       "      <td>0.762</td>\n",
       "      <td>0.604</td>\n",
       "    </tr>\n",
       "    <tr>\n",
       "      <th>494</th>\n",
       "      <td>0.433</td>\n",
       "      <td>0.433</td>\n",
       "    </tr>\n",
       "    <tr>\n",
       "      <th>495</th>\n",
       "      <td>0.909</td>\n",
       "      <td>0.801</td>\n",
       "    </tr>\n",
       "    <tr>\n",
       "      <th>496</th>\n",
       "      <td>0.785</td>\n",
       "      <td>0.811</td>\n",
       "    </tr>\n",
       "    <tr>\n",
       "      <th>497</th>\n",
       "      <td>0.535</td>\n",
       "      <td>0.505</td>\n",
       "    </tr>\n",
       "    <tr>\n",
       "      <th>498</th>\n",
       "      <td>0.646</td>\n",
       "      <td>0.894</td>\n",
       "    </tr>\n",
       "    <tr>\n",
       "      <th>499</th>\n",
       "      <td>0.716</td>\n",
       "      <td>0.976</td>\n",
       "    </tr>\n",
       "    <tr>\n",
       "      <th>500</th>\n",
       "      <td>0.547</td>\n",
       "      <td>0.800</td>\n",
       "    </tr>\n",
       "    <tr>\n",
       "      <th>501</th>\n",
       "      <td>0.962</td>\n",
       "      <td>0.935</td>\n",
       "    </tr>\n",
       "    <tr>\n",
       "      <th>502</th>\n",
       "      <td>0.667</td>\n",
       "      <td>0.894</td>\n",
       "    </tr>\n",
       "    <tr>\n",
       "      <th>503</th>\n",
       "      <td>0.737</td>\n",
       "      <td>0.913</td>\n",
       "    </tr>\n",
       "    <tr>\n",
       "      <th>504</th>\n",
       "      <td>0.941</td>\n",
       "      <td>0.792</td>\n",
       "    </tr>\n",
       "  </tbody>\n",
       "</table>\n",
       "<p>505 rows × 2 columns</p>\n",
       "</div>"
      ],
      "text/plain": [
       "     Real Values  Predicted Values\n",
       "0          0.635             0.421\n",
       "1          0.841             0.727\n",
       "2          0.945             0.824\n",
       "3          0.648             0.479\n",
       "4          0.257             0.107\n",
       "5          0.588             0.794\n",
       "6          0.637             0.675\n",
       "7          0.580             0.770\n",
       "8          0.742             0.752\n",
       "9          0.880             0.815\n",
       "10         0.577             0.806\n",
       "11         0.480             0.434\n",
       "12         0.526             0.517\n",
       "13         0.941             0.791\n",
       "14         0.776             0.816\n",
       "15         0.867             0.963\n",
       "16         0.737             0.923\n",
       "17         0.798             0.814\n",
       "18         0.773             0.921\n",
       "19         0.952             0.851\n",
       "20         0.704             0.944\n",
       "21         0.700             0.664\n",
       "22         0.838             0.812\n",
       "23         0.672             0.679\n",
       "24         0.633             0.669\n",
       "25         0.688             0.491\n",
       "26         0.547             0.700\n",
       "27         0.902             0.772\n",
       "28         0.489             0.515\n",
       "29         0.553             0.811\n",
       "..           ...               ...\n",
       "475        0.415             0.549\n",
       "476        0.871             0.443\n",
       "477        0.669             0.888\n",
       "478        0.654             0.492\n",
       "479        0.737             0.813\n",
       "480        0.642             0.604\n",
       "481        0.810             0.926\n",
       "482        0.772             0.857\n",
       "483        0.986             0.833\n",
       "484        0.570             0.331\n",
       "485        0.983             0.925\n",
       "486        0.772             0.498\n",
       "487        0.609             0.825\n",
       "488        0.981             0.839\n",
       "489        0.796             0.858\n",
       "490        0.820             0.959\n",
       "491        0.290             0.575\n",
       "492        0.337             0.320\n",
       "493        0.762             0.604\n",
       "494        0.433             0.433\n",
       "495        0.909             0.801\n",
       "496        0.785             0.811\n",
       "497        0.535             0.505\n",
       "498        0.646             0.894\n",
       "499        0.716             0.976\n",
       "500        0.547             0.800\n",
       "501        0.962             0.935\n",
       "502        0.667             0.894\n",
       "503        0.737             0.913\n",
       "504        0.941             0.792\n",
       "\n",
       "[505 rows x 2 columns]"
      ]
     },
     "execution_count": 117,
     "metadata": {},
     "output_type": "execute_result"
    }
   ],
   "source": [
    "df2 = pd.DataFrame({'Real Values':y_test, 'Predicted Values':y_pred})\n",
    "df2"
   ]
  },
  {
   "cell_type": "code",
   "execution_count": 118,
   "metadata": {},
   "outputs": [
    {
     "data": {
      "image/png": "[encoded data removed]",
      "text/plain": [
       "<Figure size 432x288 with 1 Axes>"
      ]
     },
     "metadata": {
      "needs_background": "light"
     },
     "output_type": "display_data"
    }
   ],
   "source": [
    "X_grid = np.arange(min(X[:,7]), max(X[:,7]), 0.01)\n",
    "X_grid = X_grid.reshape((len(X_grid), 1))\n",
    "plt.scatter(X_test[:,7], y_test, color = 'red')\n",
    "plt.scatter(X_test[:,7], y_pred, color = 'green')\n",
    "plt.title('Decision Tree Regression For Liveness')\n",
    "plt.xlabel('Liveness')\n",
    "plt.ylabel('Energy')\n",
    "plt.show()"
   ]
  },
  {
   "cell_type": "markdown",
   "metadata": {},
   "source": [
    "## Best Model for the Prediction "
   ]
  },
  {
   "cell_type": "code",
   "execution_count": 119,
   "metadata": {},
   "outputs": [],
   "source": [
    "d = {'Model': ['Linear Regression', 'KNN Regression','Ridge Regression','Lasso Regression',\n",
    "               'Polynominal Regression','Simple SVR','SVR with Linear kernel','SVR with Poly kernel',\n",
    "               'SVR with rbf kernel'], \n",
    "     'Cross-Validation Score':[grid_search_lr.best_score_,grid_search_knn.best_score_,\n",
    "                               grid_search_ridge.best_score_,grid_search_lasso.best_score_,\n",
    "                               grid_poly.best_score_,grid_svrl.best_score_,\n",
    "                               grid_svr_linear.best_score_,grid_svr_poly.best_score_,\n",
    "                               grid_svr_rbf.best_score_]}"
   ]
  },
  {
   "cell_type": "code",
   "execution_count": 120,
   "metadata": {},
   "outputs": [
    {
     "data": {
      "text/html": [
       "<div>\n",
       "<style scoped>\n",
       "    .dataframe tbody tr th:only-of-type {\n",
       "        vertical-align: middle;\n",
       "    }\n",
       "\n",
       "    .dataframe tbody tr th {\n",
       "        vertical-align: top;\n",
       "    }\n",
       "\n",
       "    .dataframe thead th {\n",
       "        text-align: right;\n",
       "    }\n",
       "</style>\n",
       "<table border=\"1\" class=\"dataframe\">\n",
       "  <thead>\n",
       "    <tr style=\"text-align: right;\">\n",
       "      <th></th>\n",
       "      <th>Model</th>\n",
       "      <th>Cross-Validation Score</th>\n",
       "    </tr>\n",
       "  </thead>\n",
       "  <tbody>\n",
       "    <tr>\n",
       "      <th>0</th>\n",
       "      <td>Linear Regression</td>\n",
       "      <td>0.711074</td>\n",
       "    </tr>\n",
       "    <tr>\n",
       "      <th>1</th>\n",
       "      <td>KNN Regression</td>\n",
       "      <td>0.550138</td>\n",
       "    </tr>\n",
       "    <tr>\n",
       "      <th>2</th>\n",
       "      <td>Ridge Regression</td>\n",
       "      <td>0.709673</td>\n",
       "    </tr>\n",
       "    <tr>\n",
       "      <th>3</th>\n",
       "      <td>Lasso Regression</td>\n",
       "      <td>0.601946</td>\n",
       "    </tr>\n",
       "    <tr>\n",
       "      <th>4</th>\n",
       "      <td>Polynominal Regression</td>\n",
       "      <td>0.709610</td>\n",
       "    </tr>\n",
       "    <tr>\n",
       "      <th>5</th>\n",
       "      <td>Simple SVR</td>\n",
       "      <td>0.706442</td>\n",
       "    </tr>\n",
       "    <tr>\n",
       "      <th>6</th>\n",
       "      <td>SVR with Linear kernel</td>\n",
       "      <td>0.711354</td>\n",
       "    </tr>\n",
       "    <tr>\n",
       "      <th>7</th>\n",
       "      <td>SVR with Poly kernel</td>\n",
       "      <td>0.737803</td>\n",
       "    </tr>\n",
       "    <tr>\n",
       "      <th>8</th>\n",
       "      <td>SVR with rbf kernel</td>\n",
       "      <td>0.742461</td>\n",
       "    </tr>\n",
       "  </tbody>\n",
       "</table>\n",
       "</div>"
      ],
      "text/plain": [
       "                    Model  Cross-Validation Score\n",
       "0       Linear Regression                0.711074\n",
       "1          KNN Regression                0.550138\n",
       "2        Ridge Regression                0.709673\n",
       "3        Lasso Regression                0.601946\n",
       "4  Polynominal Regression                0.709610\n",
       "5              Simple SVR                0.706442\n",
       "6  SVR with Linear kernel                0.711354\n",
       "7    SVR with Poly kernel                0.737803\n",
       "8     SVR with rbf kernel                0.742461"
      ]
     },
     "execution_count": 120,
     "metadata": {},
     "output_type": "execute_result"
    }
   ],
   "source": [
    "result = pd.DataFrame(data=d)\n",
    "result"
   ]
  },
  {
   "cell_type": "markdown",
   "metadata": {},
   "source": [
    "## Since the Cross - Validation Score is highest for SVR with rbf kernel model, we choose that model for prediction"
   ]
  },
  {
   "cell_type": "code",
   "execution_count": 121,
   "metadata": {},
   "outputs": [
    {
     "name": "stderr",
     "output_type": "stream",
     "text": [
      "C:\\Users\\dhurv\\Anaconda3\\lib\\site-packages\\sklearn\\svm\\base.py:193: FutureWarning: The default value of gamma will change from 'auto' to 'scale' in version 0.22 to account better for unscaled features. Set gamma explicitly to 'auto' or 'scale' to avoid this warning.\n",
      "  \"avoid this warning.\", FutureWarning)\n"
     ]
    }
   ],
   "source": [
    "pol = PolynomialFeatures(degree = 2)\n",
    "X_pol = pol.fit_transform(X_train_org)\n",
    "Xt_pol = pol.fit_transform(X_test_org)\n",
    "pol_reg = SVR(kernel='rbf')\n",
    "pol_reg.fit(X_pol,y_train)\n",
    "ypred = pol_reg.predict(Xt_pol)"
   ]
  },
  {
   "cell_type": "code",
   "execution_count": 122,
   "metadata": {},
   "outputs": [
    {
     "name": "stdout",
     "output_type": "stream",
     "text": [
      "[0.66328498 0.66328498 0.66328498 0.66328498 0.66328498 0.66328498\n",
      " 0.66328498 0.66328498 0.66328498 0.66328498 0.66328498 0.66328498\n",
      " 0.66328498 0.66328498 0.66328498 0.66328498 0.66328498 0.66328498\n",
      " 0.66328498 0.66328498 0.66328498 0.66328498 0.66328498 0.66328498\n",
      " 0.66328498 0.66328498 0.66328498 0.66328498 0.66328498 0.66328498\n",
      " 0.66328498 0.66328498 0.66328498 0.66328498 0.66328498 0.66328498\n",
      " 0.66328498 0.66328498 0.66328498 0.66328498 0.66328498 0.66328498\n",
      " 0.66328498 0.66328498 0.66328498 0.66328498 0.66328498 0.66328498\n",
      " 0.66328498 0.66328498 0.66328498 0.66328498 0.66328498 0.66328498\n",
      " 0.66328498 0.66328498 0.66328498 0.66328498 0.66328498 0.66328498\n",
      " 0.66328498 0.66328498 0.66328498 0.66328498 0.66328498 0.66328498\n",
      " 0.66328498 0.66328498 0.66328498 0.66328498 0.66328498 0.66328498\n",
      " 0.66328498 0.66328498 0.66328498 0.66328498 0.66328498 0.66328498\n",
      " 0.66328498 0.66328498 0.66328498 0.66328498 0.66328498 0.66328498\n",
      " 0.66328498 0.66328498 0.66328498 0.66328498 0.66328498 0.66328498\n",
      " 0.66328498 0.66328498 0.66328498 0.66328498 0.66328498 0.66328498\n",
      " 0.66328498 0.66328498 0.66328498 0.66328498 0.66328498 0.66328498\n",
      " 0.66328498 0.66328498 0.66328498 0.66328498 0.66328498 0.66328498\n",
      " 0.66328498 0.66328498 0.66328498 0.66328498 0.66328498 0.66328498\n",
      " 0.66328498 0.66328498 0.66328498 0.66328498 0.66328498 0.66328498\n",
      " 0.66328498 0.66328498 0.66328498 0.66328498 0.66328498 0.66328498\n",
      " 0.66328498 0.66328498 0.66328498 0.66328498 0.66328498 0.66328498\n",
      " 0.66328498 0.66328498 0.66328498 0.66328498 0.66328498 0.66328498\n",
      " 0.66328498 0.66328498 0.66328498 0.66328498 0.66328498 0.66328498\n",
      " 0.66328498 0.66328498 0.66328498 0.66328498 0.66328498 0.66328498\n",
      " 0.66328498 0.66328498 0.66328498 0.66328498 0.66328498 0.66328498\n",
      " 0.66328498 0.66328498 0.66328498 0.66328498 0.66328498 0.66328498\n",
      " 0.66328498 0.66328498 0.66328498 0.66328498 0.66328498 0.66328498\n",
      " 0.66328498 0.66328498 0.66328498 0.66328498 0.66328498 0.66328498\n",
      " 0.66328498 0.66328498 0.66328498 0.66328498 0.66328498 0.66328498\n",
      " 0.66328498 0.66328498 0.66328498 0.66328498 0.66328498 0.66328498\n",
      " 0.66328498 0.66328498 0.66328498 0.66328498 0.66328498 0.66328498\n",
      " 0.66328498 0.66328498 0.66328498 0.66328498 0.66328498 0.66328498\n",
      " 0.66328498 0.66328498 0.66328498 0.66328498 0.66328498 0.66328498\n",
      " 0.66328498 0.66328498 0.66328498 0.66328498 0.66328498 0.66328498\n",
      " 0.66328498 0.66328498 0.66328498 0.66328498 0.66328498 0.66328498\n",
      " 0.66328498 0.66328498 0.66328498 0.66328498 0.66328498 0.66328498\n",
      " 0.66328498 0.66328498 0.66328498 0.66328498 0.66328498 0.66328498\n",
      " 0.66328498 0.66328498 0.66328498 0.66328498 0.66328498 0.66328498\n",
      " 0.66328498 0.66328498 0.66328498 0.66328498 0.66328498 0.66328498\n",
      " 0.66328498 0.66328498 0.66328498 0.66328498 0.66328498 0.66328498\n",
      " 0.66328498 0.66328498 0.66328498 0.66328498 0.66328498 0.66328498\n",
      " 0.66328498 0.66328498 0.66328498 0.66328498 0.66328498 0.66328498\n",
      " 0.66328498 0.66328498 0.66328498 0.66328498 0.66328498 0.66328498\n",
      " 0.66328498 0.66328498 0.66328498 0.66328498 0.66328498 0.66328498\n",
      " 0.66328498 0.66328498 0.66328498 0.66328498 0.66328498 0.66328498\n",
      " 0.66328498 0.66328498 0.66328498 0.66328498 0.66328498 0.66328498\n",
      " 0.66328498 0.66328498 0.66328498 0.66328498 0.66328498 0.66328498\n",
      " 0.66328498 0.66328498 0.66328498 0.66328498 0.66328498 0.66328498\n",
      " 0.66328498 0.66328498 0.66328498 0.66328498 0.66328498 0.66328498\n",
      " 0.66328498 0.66328498 0.66328498 0.66328498 0.66328498 0.66328498\n",
      " 0.66328498 0.66328498 0.66328498 0.66328498 0.66328498 0.66328498\n",
      " 0.66328498 0.66328498 0.66328498 0.66328498 0.66328498 0.66328498\n",
      " 0.66328498 0.66328498 0.66328498 0.66328498 0.66328498 0.66328498\n",
      " 0.66328498 0.66328498 0.66328498 0.66328498 0.66328498 0.66328498\n",
      " 0.66328498 0.66328498 0.66328498 0.66328498 0.66328498 0.66328498\n",
      " 0.66328498 0.66328498 0.66328498 0.66328498 0.66328498 0.66328498\n",
      " 0.66328498 0.66328498 0.66328498 0.66328498 0.66328498 0.66328498\n",
      " 0.66328498 0.66328498 0.66328498 0.66328498 0.66328498 0.66328498\n",
      " 0.66328498 0.66328498 0.66328498 0.66328498 0.66328498 0.66328498\n",
      " 0.66328498 0.66328498 0.66328498 0.66328498 0.66328498 0.66328498\n",
      " 0.66328498 0.66328498 0.66328498 0.66328498 0.66328498 0.66328498\n",
      " 0.66328498 0.66328498 0.66328498 0.66328498 0.66328498 0.66328498\n",
      " 0.66328498 0.66328498 0.66328498 0.66328498 0.66328498 0.66328498\n",
      " 0.66328498 0.66328498 0.66328498 0.66328498 0.66328498 0.66328498\n",
      " 0.66328498 0.66328498 0.66328498 0.66328498 0.66328498 0.66328498\n",
      " 0.66328498 0.66328498 0.66328498 0.66328498 0.66328498 0.66328498\n",
      " 0.66328498 0.66328498 0.66328498 0.66328498 0.66328498 0.66328498\n",
      " 0.66328498 0.66328498 0.66328498 0.66328498 0.66328498 0.66328498\n",
      " 0.66328498 0.66328498 0.66328498 0.66328498 0.66328498 0.66328498\n",
      " 0.66328498 0.66328498 0.66328498 0.66328498 0.66328498 0.66328498\n",
      " 0.66328498 0.66328498 0.66328498 0.66328498 0.66328498 0.66328498\n",
      " 0.66328498 0.66328498 0.66328498 0.66328498 0.66328498 0.66328498\n",
      " 0.66328498 0.66328498 0.66328498 0.66328498 0.66328498 0.66328498\n",
      " 0.66328498 0.66328498 0.66328498 0.66328498 0.66328498 0.66328498\n",
      " 0.66328498 0.66328498 0.66328498 0.66328498 0.66328498 0.66328498\n",
      " 0.66328498 0.66328498 0.66328498 0.66328498 0.66328498 0.66328498\n",
      " 0.66328498 0.66328498 0.66328498 0.66328498 0.66328498 0.66328498\n",
      " 0.66328498 0.66328498 0.66328498 0.66328498 0.66328498 0.66328498\n",
      " 0.66328498 0.66328498 0.66328498 0.66328498 0.66328498 0.66328498\n",
      " 0.66328498 0.66328498 0.66328498 0.66328498 0.66328498 0.66328498\n",
      " 0.66328498 0.66328498 0.66328498 0.66328498 0.66328498 0.66328498\n",
      " 0.66328498 0.66328498 0.66328498 0.66328498 0.66328498 0.66328498\n",
      " 0.66328498 0.66328498 0.66328498 0.66328498 0.66328498 0.66328498\n",
      " 0.66328498]\n"
     ]
    }
   ],
   "source": [
    "with np.printoptions(threshold=np.inf):\n",
    "    print(ypred)"
   ]
  }
 ],
 "metadata": {
  "kernelspec": {
   "display_name": "Python 3",
   "language": "python",
   "name": "python3"
  },
  "language_info": {
   "codemirror_mode": {
    "name": "ipython",
    "version": 3
   },
   "file_extension": ".py",
   "mimetype": "text/x-python",
   "name": "python",
   "nbconvert_exporter": "python",
   "pygments_lexer": "ipython3",
   "version": "3.7.3"
  }
 },
 "nbformat": 4,
 "nbformat_minor": 2
}
