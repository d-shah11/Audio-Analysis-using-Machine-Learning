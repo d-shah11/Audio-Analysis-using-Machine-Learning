{
 "cells": [
  {
   "cell_type": "markdown",
   "metadata": {},
   "source": [
    "## Project 2 - Regression Task"
   ]
  },
  {
   "cell_type": "code",
   "execution_count": 1,
   "metadata": {},
   "outputs": [],
   "source": [
    "from IPython.core.interactiveshell import InteractiveShell\n",
    "InteractiveShell.ast_node_interactivity = \"all\""
   ]
  },
  {
   "cell_type": "code",
   "execution_count": 2,
   "metadata": {},
   "outputs": [],
   "source": [
    "import pandas as pd\n",
    "import numpy as np\n",
    "import matplotlib.pyplot as plt\n",
    "import seaborn as sns\n",
    "from sklearn.neighbors import KNeighborsRegressor\n",
    "from sklearn.linear_model import LinearRegression\n",
    "from sklearn.linear_model import Ridge\n",
    "from sklearn.linear_model import Lasso\n",
    "from sklearn.preprocessing import PolynomialFeatures\n",
    "from sklearn.preprocessing import StandardScaler\n",
    "from sklearn.preprocessing import MinMaxScaler\n",
    "from sklearn.model_selection import train_test_split\n",
    "from sklearn.svm import SVR\n",
    "from sklearn.svm import LinearSVR\n",
    "from sklearn.model_selection import GridSearchCV"
   ]
  },
  {
   "cell_type": "markdown",
   "metadata": {},
   "source": [
    "### Loading the csv file from Project 1 which was created by exporting the dataset with one-hot encoding perfomed"
   ]
  },
  {
   "cell_type": "code",
   "execution_count": 3,
   "metadata": {},
   "outputs": [],
   "source": [
    "dt = pd.read_csv(\"data1.csv\")"
   ]
  },
  {
   "cell_type": "code",
   "execution_count": 4,
   "metadata": {},
   "outputs": [],
   "source": [
    "df = pd.DataFrame(dt)"
   ]
  },
  {
   "cell_type": "code",
   "execution_count": 5,
   "metadata": {},
   "outputs": [
    {
     "data": {
      "text/plain": [
       "(2017, 17)"
      ]
     },
     "execution_count": 5,
     "metadata": {},
     "output_type": "execute_result"
    }
   ],
   "source": [
    "df.shape"
   ]
  },
  {
   "cell_type": "code",
   "execution_count": 6,
   "metadata": {},
   "outputs": [
    {
     "name": "stdout",
     "output_type": "stream",
     "text": [
      "<class 'pandas.core.frame.DataFrame'>\n",
      "RangeIndex: 2017 entries, 0 to 2016\n",
      "Data columns (total 17 columns):\n",
      "id                  2017 non-null int64\n",
      "acousticness        2016 non-null float64\n",
      "danceability        2015 non-null float64\n",
      "duration_ms         2017 non-null int64\n",
      "energy              2017 non-null float64\n",
      "instrumentalness    1978 non-null float64\n",
      "key                 2015 non-null float64\n",
      "liveness            2016 non-null float64\n",
      "loudness            2017 non-null float64\n",
      "mode                1995 non-null float64\n",
      "speechiness         2017 non-null float64\n",
      "tempo               2016 non-null float64\n",
      "time_signature      1984 non-null float64\n",
      "valence             2016 non-null float64\n",
      "target              2017 non-null int64\n",
      "song_title          2017 non-null object\n",
      "artist              2017 non-null object\n",
      "dtypes: float64(12), int64(3), object(2)\n",
      "memory usage: 268.0+ KB\n"
     ]
    }
   ],
   "source": [
    "df.info()"
   ]
  },
  {
   "cell_type": "code",
   "execution_count": 7,
   "metadata": {},
   "outputs": [
    {
     "data": {
      "text/html": [
       "<div>\n",
       "<style scoped>\n",
       "    .dataframe tbody tr th:only-of-type {\n",
       "        vertical-align: middle;\n",
       "    }\n",
       "\n",
       "    .dataframe tbody tr th {\n",
       "        vertical-align: top;\n",
       "    }\n",
       "\n",
       "    .dataframe thead th {\n",
       "        text-align: right;\n",
       "    }\n",
       "</style>\n",
       "<table border=\"1\" class=\"dataframe\">\n",
       "  <thead>\n",
       "    <tr style=\"text-align: right;\">\n",
       "      <th></th>\n",
       "      <th>id</th>\n",
       "      <th>acousticness</th>\n",
       "      <th>danceability</th>\n",
       "      <th>duration_ms</th>\n",
       "      <th>energy</th>\n",
       "      <th>instrumentalness</th>\n",
       "      <th>key</th>\n",
       "      <th>liveness</th>\n",
       "      <th>loudness</th>\n",
       "      <th>mode</th>\n",
       "      <th>speechiness</th>\n",
       "      <th>tempo</th>\n",
       "      <th>time_signature</th>\n",
       "      <th>valence</th>\n",
       "      <th>target</th>\n",
       "      <th>song_title</th>\n",
       "      <th>artist</th>\n",
       "    </tr>\n",
       "  </thead>\n",
       "  <tbody>\n",
       "    <tr>\n",
       "      <th>0</th>\n",
       "      <td>0</td>\n",
       "      <td>0.0102</td>\n",
       "      <td>0.833</td>\n",
       "      <td>204600</td>\n",
       "      <td>0.434</td>\n",
       "      <td>0.021900</td>\n",
       "      <td>2.0</td>\n",
       "      <td>0.1650</td>\n",
       "      <td>-8.795</td>\n",
       "      <td>1.0</td>\n",
       "      <td>0.4310</td>\n",
       "      <td>150.062</td>\n",
       "      <td>4.0</td>\n",
       "      <td>0.286</td>\n",
       "      <td>1</td>\n",
       "      <td>Mask Off</td>\n",
       "      <td>Future</td>\n",
       "    </tr>\n",
       "    <tr>\n",
       "      <th>1</th>\n",
       "      <td>1</td>\n",
       "      <td>0.1990</td>\n",
       "      <td>0.743</td>\n",
       "      <td>326933</td>\n",
       "      <td>0.359</td>\n",
       "      <td>0.006110</td>\n",
       "      <td>1.0</td>\n",
       "      <td>0.1370</td>\n",
       "      <td>-10.401</td>\n",
       "      <td>1.0</td>\n",
       "      <td>0.0794</td>\n",
       "      <td>160.083</td>\n",
       "      <td>4.0</td>\n",
       "      <td>0.588</td>\n",
       "      <td>1</td>\n",
       "      <td>Redbone</td>\n",
       "      <td>Childish Gambino</td>\n",
       "    </tr>\n",
       "    <tr>\n",
       "      <th>2</th>\n",
       "      <td>2</td>\n",
       "      <td>0.0344</td>\n",
       "      <td>0.838</td>\n",
       "      <td>185707</td>\n",
       "      <td>0.412</td>\n",
       "      <td>0.000234</td>\n",
       "      <td>2.0</td>\n",
       "      <td>0.1590</td>\n",
       "      <td>-7.148</td>\n",
       "      <td>1.0</td>\n",
       "      <td>0.2890</td>\n",
       "      <td>75.044</td>\n",
       "      <td>4.0</td>\n",
       "      <td>0.173</td>\n",
       "      <td>1</td>\n",
       "      <td>Xanny Family</td>\n",
       "      <td>Future</td>\n",
       "    </tr>\n",
       "    <tr>\n",
       "      <th>3</th>\n",
       "      <td>3</td>\n",
       "      <td>0.6040</td>\n",
       "      <td>0.494</td>\n",
       "      <td>199413</td>\n",
       "      <td>0.338</td>\n",
       "      <td>0.510000</td>\n",
       "      <td>5.0</td>\n",
       "      <td>0.0922</td>\n",
       "      <td>-15.236</td>\n",
       "      <td>1.0</td>\n",
       "      <td>0.0261</td>\n",
       "      <td>86.468</td>\n",
       "      <td>4.0</td>\n",
       "      <td>0.230</td>\n",
       "      <td>1</td>\n",
       "      <td>Master Of None</td>\n",
       "      <td>Beach House</td>\n",
       "    </tr>\n",
       "    <tr>\n",
       "      <th>4</th>\n",
       "      <td>4</td>\n",
       "      <td>0.1800</td>\n",
       "      <td>0.678</td>\n",
       "      <td>392893</td>\n",
       "      <td>0.561</td>\n",
       "      <td>0.512000</td>\n",
       "      <td>5.0</td>\n",
       "      <td>0.4390</td>\n",
       "      <td>-11.648</td>\n",
       "      <td>0.0</td>\n",
       "      <td>0.0694</td>\n",
       "      <td>174.004</td>\n",
       "      <td>4.0</td>\n",
       "      <td>0.904</td>\n",
       "      <td>1</td>\n",
       "      <td>Parallel Lines</td>\n",
       "      <td>Junior Boys</td>\n",
       "    </tr>\n",
       "  </tbody>\n",
       "</table>\n",
       "</div>"
      ],
      "text/plain": [
       "   id  acousticness  danceability  duration_ms  energy  instrumentalness  key  \\\n",
       "0   0        0.0102         0.833       204600   0.434          0.021900  2.0   \n",
       "1   1        0.1990         0.743       326933   0.359          0.006110  1.0   \n",
       "2   2        0.0344         0.838       185707   0.412          0.000234  2.0   \n",
       "3   3        0.6040         0.494       199413   0.338          0.510000  5.0   \n",
       "4   4        0.1800         0.678       392893   0.561          0.512000  5.0   \n",
       "\n",
       "   liveness  loudness  mode  speechiness    tempo  time_signature  valence  \\\n",
       "0    0.1650    -8.795   1.0       0.4310  150.062             4.0    0.286   \n",
       "1    0.1370   -10.401   1.0       0.0794  160.083             4.0    0.588   \n",
       "2    0.1590    -7.148   1.0       0.2890   75.044             4.0    0.173   \n",
       "3    0.0922   -15.236   1.0       0.0261   86.468             4.0    0.230   \n",
       "4    0.4390   -11.648   0.0       0.0694  174.004             4.0    0.904   \n",
       "\n",
       "   target      song_title            artist  \n",
       "0       1        Mask Off            Future  \n",
       "1       1         Redbone  Childish Gambino  \n",
       "2       1    Xanny Family            Future  \n",
       "3       1  Master Of None       Beach House  \n",
       "4       1  Parallel Lines       Junior Boys  "
      ]
     },
     "execution_count": 7,
     "metadata": {},
     "output_type": "execute_result"
    }
   ],
   "source": [
    "df.head()"
   ]
  },
  {
   "cell_type": "code",
   "execution_count": 8,
   "metadata": {},
   "outputs": [
    {
     "data": {
      "text/html": [
       "<div>\n",
       "<style scoped>\n",
       "    .dataframe tbody tr th:only-of-type {\n",
       "        vertical-align: middle;\n",
       "    }\n",
       "\n",
       "    .dataframe tbody tr th {\n",
       "        vertical-align: top;\n",
       "    }\n",
       "\n",
       "    .dataframe thead th {\n",
       "        text-align: right;\n",
       "    }\n",
       "</style>\n",
       "<table border=\"1\" class=\"dataframe\">\n",
       "  <thead>\n",
       "    <tr style=\"text-align: right;\">\n",
       "      <th></th>\n",
       "      <th>id</th>\n",
       "      <th>acousticness</th>\n",
       "      <th>danceability</th>\n",
       "      <th>duration_ms</th>\n",
       "      <th>energy</th>\n",
       "      <th>instrumentalness</th>\n",
       "      <th>key</th>\n",
       "      <th>liveness</th>\n",
       "      <th>loudness</th>\n",
       "      <th>mode</th>\n",
       "      <th>speechiness</th>\n",
       "      <th>tempo</th>\n",
       "      <th>time_signature</th>\n",
       "      <th>valence</th>\n",
       "      <th>target</th>\n",
       "      <th>song_title</th>\n",
       "      <th>artist</th>\n",
       "    </tr>\n",
       "  </thead>\n",
       "  <tbody>\n",
       "    <tr>\n",
       "      <th>2012</th>\n",
       "      <td>2012</td>\n",
       "      <td>0.00106</td>\n",
       "      <td>0.584</td>\n",
       "      <td>274404</td>\n",
       "      <td>0.932</td>\n",
       "      <td>0.002690</td>\n",
       "      <td>1.0</td>\n",
       "      <td>0.1290</td>\n",
       "      <td>-3.501</td>\n",
       "      <td>1.0</td>\n",
       "      <td>0.333</td>\n",
       "      <td>74.976</td>\n",
       "      <td>4.0</td>\n",
       "      <td>0.211</td>\n",
       "      <td>0</td>\n",
       "      <td>Like A Bitch - Kill The Noise Remix</td>\n",
       "      <td>Kill The Noise</td>\n",
       "    </tr>\n",
       "    <tr>\n",
       "      <th>2013</th>\n",
       "      <td>2013</td>\n",
       "      <td>0.08770</td>\n",
       "      <td>0.894</td>\n",
       "      <td>182182</td>\n",
       "      <td>0.892</td>\n",
       "      <td>0.001670</td>\n",
       "      <td>1.0</td>\n",
       "      <td>0.0528</td>\n",
       "      <td>-2.663</td>\n",
       "      <td>1.0</td>\n",
       "      <td>0.131</td>\n",
       "      <td>110.041</td>\n",
       "      <td>4.0</td>\n",
       "      <td>0.867</td>\n",
       "      <td>0</td>\n",
       "      <td>Candy</td>\n",
       "      <td>Dillon Francis</td>\n",
       "    </tr>\n",
       "    <tr>\n",
       "      <th>2014</th>\n",
       "      <td>2014</td>\n",
       "      <td>0.00857</td>\n",
       "      <td>0.637</td>\n",
       "      <td>207200</td>\n",
       "      <td>0.935</td>\n",
       "      <td>0.003990</td>\n",
       "      <td>0.0</td>\n",
       "      <td>0.2140</td>\n",
       "      <td>-2.467</td>\n",
       "      <td>1.0</td>\n",
       "      <td>0.107</td>\n",
       "      <td>150.082</td>\n",
       "      <td>4.0</td>\n",
       "      <td>0.470</td>\n",
       "      <td>0</td>\n",
       "      <td>Habit - Dack Janiels &amp; Wenzday Remix</td>\n",
       "      <td>Rain Man</td>\n",
       "    </tr>\n",
       "    <tr>\n",
       "      <th>2015</th>\n",
       "      <td>2015</td>\n",
       "      <td>0.00164</td>\n",
       "      <td>0.557</td>\n",
       "      <td>185600</td>\n",
       "      <td>0.992</td>\n",
       "      <td>0.677000</td>\n",
       "      <td>1.0</td>\n",
       "      <td>0.0913</td>\n",
       "      <td>-2.735</td>\n",
       "      <td>1.0</td>\n",
       "      <td>0.133</td>\n",
       "      <td>150.011</td>\n",
       "      <td>4.0</td>\n",
       "      <td>0.623</td>\n",
       "      <td>0</td>\n",
       "      <td>First Contact</td>\n",
       "      <td>Twin Moons</td>\n",
       "    </tr>\n",
       "    <tr>\n",
       "      <th>2016</th>\n",
       "      <td>2016</td>\n",
       "      <td>0.00281</td>\n",
       "      <td>0.446</td>\n",
       "      <td>204520</td>\n",
       "      <td>0.915</td>\n",
       "      <td>0.000039</td>\n",
       "      <td>9.0</td>\n",
       "      <td>0.2180</td>\n",
       "      <td>-6.221</td>\n",
       "      <td>1.0</td>\n",
       "      <td>0.141</td>\n",
       "      <td>190.013</td>\n",
       "      <td>4.0</td>\n",
       "      <td>0.402</td>\n",
       "      <td>0</td>\n",
       "      <td>I Wanna Get Better</td>\n",
       "      <td>Bleachers</td>\n",
       "    </tr>\n",
       "  </tbody>\n",
       "</table>\n",
       "</div>"
      ],
      "text/plain": [
       "        id  acousticness  danceability  duration_ms  energy  instrumentalness  \\\n",
       "2012  2012       0.00106         0.584       274404   0.932          0.002690   \n",
       "2013  2013       0.08770         0.894       182182   0.892          0.001670   \n",
       "2014  2014       0.00857         0.637       207200   0.935          0.003990   \n",
       "2015  2015       0.00164         0.557       185600   0.992          0.677000   \n",
       "2016  2016       0.00281         0.446       204520   0.915          0.000039   \n",
       "\n",
       "      key  liveness  loudness  mode  speechiness    tempo  time_signature  \\\n",
       "2012  1.0    0.1290    -3.501   1.0        0.333   74.976             4.0   \n",
       "2013  1.0    0.0528    -2.663   1.0        0.131  110.041             4.0   \n",
       "2014  0.0    0.2140    -2.467   1.0        0.107  150.082             4.0   \n",
       "2015  1.0    0.0913    -2.735   1.0        0.133  150.011             4.0   \n",
       "2016  9.0    0.2180    -6.221   1.0        0.141  190.013             4.0   \n",
       "\n",
       "      valence  target                            song_title          artist  \n",
       "2012    0.211       0   Like A Bitch - Kill The Noise Remix  Kill The Noise  \n",
       "2013    0.867       0                                 Candy  Dillon Francis  \n",
       "2014    0.470       0  Habit - Dack Janiels & Wenzday Remix        Rain Man  \n",
       "2015    0.623       0                         First Contact      Twin Moons  \n",
       "2016    0.402       0                    I Wanna Get Better       Bleachers  "
      ]
     },
     "execution_count": 8,
     "metadata": {},
     "output_type": "execute_result"
    }
   ],
   "source": [
    "df.tail()"
   ]
  },
  {
   "cell_type": "code",
   "execution_count": 9,
   "metadata": {},
   "outputs": [
    {
     "data": {
      "text/html": [
       "<div>\n",
       "<style scoped>\n",
       "    .dataframe tbody tr th:only-of-type {\n",
       "        vertical-align: middle;\n",
       "    }\n",
       "\n",
       "    .dataframe tbody tr th {\n",
       "        vertical-align: top;\n",
       "    }\n",
       "\n",
       "    .dataframe thead th {\n",
       "        text-align: right;\n",
       "    }\n",
       "</style>\n",
       "<table border=\"1\" class=\"dataframe\">\n",
       "  <thead>\n",
       "    <tr style=\"text-align: right;\">\n",
       "      <th></th>\n",
       "      <th>id</th>\n",
       "      <th>acousticness</th>\n",
       "      <th>danceability</th>\n",
       "      <th>duration_ms</th>\n",
       "      <th>energy</th>\n",
       "      <th>instrumentalness</th>\n",
       "      <th>key</th>\n",
       "      <th>liveness</th>\n",
       "      <th>loudness</th>\n",
       "      <th>mode</th>\n",
       "      <th>speechiness</th>\n",
       "      <th>tempo</th>\n",
       "      <th>time_signature</th>\n",
       "      <th>valence</th>\n",
       "      <th>target</th>\n",
       "    </tr>\n",
       "  </thead>\n",
       "  <tbody>\n",
       "    <tr>\n",
       "      <th>count</th>\n",
       "      <td>2017.000000</td>\n",
       "      <td>2016.000000</td>\n",
       "      <td>2015.000000</td>\n",
       "      <td>2.017000e+03</td>\n",
       "      <td>2017.000000</td>\n",
       "      <td>1978.000000</td>\n",
       "      <td>2015.000000</td>\n",
       "      <td>2016.000000</td>\n",
       "      <td>2017.000000</td>\n",
       "      <td>1995.00000</td>\n",
       "      <td>2017.000000</td>\n",
       "      <td>2016.000000</td>\n",
       "      <td>1984.000000</td>\n",
       "      <td>2016.000000</td>\n",
       "      <td>2017.000000</td>\n",
       "    </tr>\n",
       "    <tr>\n",
       "      <th>mean</th>\n",
       "      <td>1008.000000</td>\n",
       "      <td>0.187678</td>\n",
       "      <td>0.618478</td>\n",
       "      <td>2.463062e+05</td>\n",
       "      <td>0.681577</td>\n",
       "      <td>0.135335</td>\n",
       "      <td>5.347891</td>\n",
       "      <td>0.190888</td>\n",
       "      <td>-7.085624</td>\n",
       "      <td>0.61604</td>\n",
       "      <td>0.092664</td>\n",
       "      <td>121.607967</td>\n",
       "      <td>3.967742</td>\n",
       "      <td>0.496683</td>\n",
       "      <td>0.505702</td>\n",
       "    </tr>\n",
       "    <tr>\n",
       "      <th>std</th>\n",
       "      <td>582.402066</td>\n",
       "      <td>0.260024</td>\n",
       "      <td>0.161029</td>\n",
       "      <td>8.198181e+04</td>\n",
       "      <td>0.210273</td>\n",
       "      <td>0.274875</td>\n",
       "      <td>3.646163</td>\n",
       "      <td>0.155479</td>\n",
       "      <td>3.761684</td>\n",
       "      <td>0.48647</td>\n",
       "      <td>0.089931</td>\n",
       "      <td>26.691391</td>\n",
       "      <td>0.257940</td>\n",
       "      <td>0.247186</td>\n",
       "      <td>0.500091</td>\n",
       "    </tr>\n",
       "    <tr>\n",
       "      <th>min</th>\n",
       "      <td>0.000000</td>\n",
       "      <td>0.000003</td>\n",
       "      <td>0.122000</td>\n",
       "      <td>1.604200e+04</td>\n",
       "      <td>0.014800</td>\n",
       "      <td>0.000000</td>\n",
       "      <td>0.000000</td>\n",
       "      <td>0.018800</td>\n",
       "      <td>-33.097000</td>\n",
       "      <td>0.00000</td>\n",
       "      <td>0.023100</td>\n",
       "      <td>47.859000</td>\n",
       "      <td>1.000000</td>\n",
       "      <td>0.034800</td>\n",
       "      <td>0.000000</td>\n",
       "    </tr>\n",
       "    <tr>\n",
       "      <th>25%</th>\n",
       "      <td>504.000000</td>\n",
       "      <td>0.009590</td>\n",
       "      <td>0.514000</td>\n",
       "      <td>2.000150e+05</td>\n",
       "      <td>0.563000</td>\n",
       "      <td>0.000000</td>\n",
       "      <td>2.000000</td>\n",
       "      <td>0.092275</td>\n",
       "      <td>-8.394000</td>\n",
       "      <td>0.00000</td>\n",
       "      <td>0.037500</td>\n",
       "      <td>100.164000</td>\n",
       "      <td>4.000000</td>\n",
       "      <td>0.295000</td>\n",
       "      <td>0.000000</td>\n",
       "    </tr>\n",
       "    <tr>\n",
       "      <th>50%</th>\n",
       "      <td>1008.000000</td>\n",
       "      <td>0.063500</td>\n",
       "      <td>0.631000</td>\n",
       "      <td>2.292610e+05</td>\n",
       "      <td>0.715000</td>\n",
       "      <td>0.000093</td>\n",
       "      <td>6.000000</td>\n",
       "      <td>0.127000</td>\n",
       "      <td>-6.248000</td>\n",
       "      <td>1.00000</td>\n",
       "      <td>0.054900</td>\n",
       "      <td>121.468000</td>\n",
       "      <td>4.000000</td>\n",
       "      <td>0.492000</td>\n",
       "      <td>1.000000</td>\n",
       "    </tr>\n",
       "    <tr>\n",
       "      <th>75%</th>\n",
       "      <td>1512.000000</td>\n",
       "      <td>0.265000</td>\n",
       "      <td>0.738000</td>\n",
       "      <td>2.703330e+05</td>\n",
       "      <td>0.846000</td>\n",
       "      <td>0.056600</td>\n",
       "      <td>9.000000</td>\n",
       "      <td>0.247000</td>\n",
       "      <td>-4.746000</td>\n",
       "      <td>1.00000</td>\n",
       "      <td>0.108000</td>\n",
       "      <td>137.860500</td>\n",
       "      <td>4.000000</td>\n",
       "      <td>0.690250</td>\n",
       "      <td>1.000000</td>\n",
       "    </tr>\n",
       "    <tr>\n",
       "      <th>max</th>\n",
       "      <td>2016.000000</td>\n",
       "      <td>0.995000</td>\n",
       "      <td>0.984000</td>\n",
       "      <td>1.004627e+06</td>\n",
       "      <td>0.998000</td>\n",
       "      <td>0.976000</td>\n",
       "      <td>11.000000</td>\n",
       "      <td>0.969000</td>\n",
       "      <td>-0.307000</td>\n",
       "      <td>1.00000</td>\n",
       "      <td>0.816000</td>\n",
       "      <td>219.331000</td>\n",
       "      <td>5.000000</td>\n",
       "      <td>0.992000</td>\n",
       "      <td>1.000000</td>\n",
       "    </tr>\n",
       "  </tbody>\n",
       "</table>\n",
       "</div>"
      ],
      "text/plain": [
       "                id  acousticness  danceability   duration_ms       energy  \\\n",
       "count  2017.000000   2016.000000   2015.000000  2.017000e+03  2017.000000   \n",
       "mean   1008.000000      0.187678      0.618478  2.463062e+05     0.681577   \n",
       "std     582.402066      0.260024      0.161029  8.198181e+04     0.210273   \n",
       "min       0.000000      0.000003      0.122000  1.604200e+04     0.014800   \n",
       "25%     504.000000      0.009590      0.514000  2.000150e+05     0.563000   \n",
       "50%    1008.000000      0.063500      0.631000  2.292610e+05     0.715000   \n",
       "75%    1512.000000      0.265000      0.738000  2.703330e+05     0.846000   \n",
       "max    2016.000000      0.995000      0.984000  1.004627e+06     0.998000   \n",
       "\n",
       "       instrumentalness          key     liveness     loudness        mode  \\\n",
       "count       1978.000000  2015.000000  2016.000000  2017.000000  1995.00000   \n",
       "mean           0.135335     5.347891     0.190888    -7.085624     0.61604   \n",
       "std            0.274875     3.646163     0.155479     3.761684     0.48647   \n",
       "min            0.000000     0.000000     0.018800   -33.097000     0.00000   \n",
       "25%            0.000000     2.000000     0.092275    -8.394000     0.00000   \n",
       "50%            0.000093     6.000000     0.127000    -6.248000     1.00000   \n",
       "75%            0.056600     9.000000     0.247000    -4.746000     1.00000   \n",
       "max            0.976000    11.000000     0.969000    -0.307000     1.00000   \n",
       "\n",
       "       speechiness        tempo  time_signature      valence       target  \n",
       "count  2017.000000  2016.000000     1984.000000  2016.000000  2017.000000  \n",
       "mean      0.092664   121.607967        3.967742     0.496683     0.505702  \n",
       "std       0.089931    26.691391        0.257940     0.247186     0.500091  \n",
       "min       0.023100    47.859000        1.000000     0.034800     0.000000  \n",
       "25%       0.037500   100.164000        4.000000     0.295000     0.000000  \n",
       "50%       0.054900   121.468000        4.000000     0.492000     1.000000  \n",
       "75%       0.108000   137.860500        4.000000     0.690250     1.000000  \n",
       "max       0.816000   219.331000        5.000000     0.992000     1.000000  "
      ]
     },
     "execution_count": 9,
     "metadata": {},
     "output_type": "execute_result"
    }
   ],
   "source": [
    "df.describe()"
   ]
  },
  {
   "cell_type": "code",
   "execution_count": 10,
   "metadata": {},
   "outputs": [
    {
     "data": {
      "text/plain": [
       "id                    int64\n",
       "acousticness        float64\n",
       "danceability        float64\n",
       "duration_ms           int64\n",
       "energy              float64\n",
       "instrumentalness    float64\n",
       "key                 float64\n",
       "liveness            float64\n",
       "loudness            float64\n",
       "mode                float64\n",
       "speechiness         float64\n",
       "tempo               float64\n",
       "time_signature      float64\n",
       "valence             float64\n",
       "target                int64\n",
       "song_title           object\n",
       "artist               object\n",
       "dtype: object"
      ]
     },
     "execution_count": 10,
     "metadata": {},
     "output_type": "execute_result"
    }
   ],
   "source": [
    "df.dtypes"
   ]
  },
  {
   "cell_type": "markdown",
   "metadata": {},
   "source": [
    "### Checking for missing data and imputing"
   ]
  },
  {
   "cell_type": "code",
   "execution_count": 11,
   "metadata": {},
   "outputs": [
    {
     "data": {
      "text/plain": [
       "id                   0\n",
       "acousticness         1\n",
       "danceability         2\n",
       "duration_ms          0\n",
       "energy               0\n",
       "instrumentalness    39\n",
       "key                  2\n",
       "liveness             1\n",
       "loudness             0\n",
       "mode                22\n",
       "speechiness          0\n",
       "tempo                1\n",
       "time_signature      33\n",
       "valence              1\n",
       "target               0\n",
       "song_title           0\n",
       "artist               0\n",
       "dtype: int64"
      ]
     },
     "execution_count": 11,
     "metadata": {},
     "output_type": "execute_result"
    }
   ],
   "source": [
    "df.isnull().sum()"
   ]
  },
  {
   "cell_type": "code",
   "execution_count": 12,
   "metadata": {},
   "outputs": [
    {
     "name": "stdout",
     "output_type": "stream",
     "text": [
      "0.187677678288691\n"
     ]
    }
   ],
   "source": [
    "print(df['acousticness'].mean())"
   ]
  },
  {
   "cell_type": "code",
   "execution_count": 13,
   "metadata": {},
   "outputs": [],
   "source": [
    "df['acousticness'].fillna(0.1876,inplace=True)"
   ]
  },
  {
   "cell_type": "code",
   "execution_count": 14,
   "metadata": {},
   "outputs": [
    {
     "name": "stdout",
     "output_type": "stream",
     "text": [
      "0.6184779156327529\n"
     ]
    }
   ],
   "source": [
    "print(df['danceability'].mean())"
   ]
  },
  {
   "cell_type": "code",
   "execution_count": 15,
   "metadata": {},
   "outputs": [],
   "source": [
    "df['danceability'].fillna(0.6185,inplace=True)"
   ]
  },
  {
   "cell_type": "code",
   "execution_count": 16,
   "metadata": {},
   "outputs": [
    {
     "name": "stdout",
     "output_type": "stream",
     "text": [
      "0.1353349620424672\n"
     ]
    }
   ],
   "source": [
    "print(df['instrumentalness'].mean())"
   ]
  },
  {
   "cell_type": "code",
   "execution_count": 17,
   "metadata": {},
   "outputs": [],
   "source": [
    "df['instrumentalness'].fillna(0.1353,inplace=True)"
   ]
  },
  {
   "cell_type": "code",
   "execution_count": 18,
   "metadata": {},
   "outputs": [
    {
     "name": "stdout",
     "output_type": "stream",
     "text": [
      "5.347890818858561\n"
     ]
    }
   ],
   "source": [
    "print(df['key'].mean())"
   ]
  },
  {
   "cell_type": "code",
   "execution_count": 19,
   "metadata": {},
   "outputs": [],
   "source": [
    "df['key'].fillna(0.3479,inplace=True)"
   ]
  },
  {
   "cell_type": "code",
   "execution_count": 20,
   "metadata": {},
   "outputs": [
    {
     "name": "stdout",
     "output_type": "stream",
     "text": [
      "0.19088759920634923\n"
     ]
    }
   ],
   "source": [
    "print(df['liveness'].mean())"
   ]
  },
  {
   "cell_type": "code",
   "execution_count": 21,
   "metadata": {},
   "outputs": [],
   "source": [
    "df['liveness'].fillna(0.1909,inplace=True)"
   ]
  },
  {
   "cell_type": "code",
   "execution_count": 22,
   "metadata": {},
   "outputs": [],
   "source": [
    "df['mode'].fillna(0,inplace=True)"
   ]
  },
  {
   "cell_type": "code",
   "execution_count": 23,
   "metadata": {},
   "outputs": [
    {
     "name": "stdout",
     "output_type": "stream",
     "text": [
      "121.60796726190478\n"
     ]
    }
   ],
   "source": [
    "print(df['tempo'].mean())"
   ]
  },
  {
   "cell_type": "code",
   "execution_count": 24,
   "metadata": {},
   "outputs": [],
   "source": [
    "df['tempo'].fillna(121.6080,inplace=True)"
   ]
  },
  {
   "cell_type": "code",
   "execution_count": 25,
   "metadata": {},
   "outputs": [],
   "source": [
    "df['time_signature'].fillna(3,inplace=True)"
   ]
  },
  {
   "cell_type": "code",
   "execution_count": 26,
   "metadata": {},
   "outputs": [
    {
     "name": "stdout",
     "output_type": "stream",
     "text": [
      "0.49668298611111134\n"
     ]
    }
   ],
   "source": [
    "print(df['valence'].mean())"
   ]
  },
  {
   "cell_type": "code",
   "execution_count": 27,
   "metadata": {},
   "outputs": [],
   "source": [
    "df['valence'].fillna(0.4969,inplace=True)"
   ]
  },
  {
   "cell_type": "code",
   "execution_count": 28,
   "metadata": {},
   "outputs": [
    {
     "data": {
      "text/plain": [
       "id                    int64\n",
       "acousticness        float64\n",
       "danceability        float64\n",
       "duration_ms           int64\n",
       "energy              float64\n",
       "instrumentalness    float64\n",
       "key                 float64\n",
       "liveness            float64\n",
       "loudness            float64\n",
       "mode                float64\n",
       "speechiness         float64\n",
       "tempo               float64\n",
       "time_signature      float64\n",
       "valence             float64\n",
       "target                int64\n",
       "song_title           object\n",
       "artist               object\n",
       "dtype: object"
      ]
     },
     "execution_count": 28,
     "metadata": {},
     "output_type": "execute_result"
    }
   ],
   "source": [
    "df.dtypes"
   ]
  },
  {
   "cell_type": "code",
   "execution_count": 29,
   "metadata": {},
   "outputs": [
    {
     "data": {
      "text/plain": [
       "id                  0\n",
       "acousticness        0\n",
       "danceability        0\n",
       "duration_ms         0\n",
       "energy              0\n",
       "instrumentalness    0\n",
       "key                 0\n",
       "liveness            0\n",
       "loudness            0\n",
       "mode                0\n",
       "speechiness         0\n",
       "tempo               0\n",
       "time_signature      0\n",
       "valence             0\n",
       "target              0\n",
       "song_title          0\n",
       "artist              0\n",
       "dtype: int64"
      ]
     },
     "execution_count": 29,
     "metadata": {},
     "output_type": "execute_result"
    }
   ],
   "source": [
    "df.isnull().sum()"
   ]
  },
  {
   "cell_type": "code",
   "execution_count": 30,
   "metadata": {},
   "outputs": [],
   "source": [
    "df.drop(['song_title','artist'],axis=1,inplace=True)"
   ]
  },
  {
   "cell_type": "code",
   "execution_count": 31,
   "metadata": {},
   "outputs": [
    {
     "data": {
      "text/plain": [
       "(2017, 15)"
      ]
     },
     "execution_count": 31,
     "metadata": {},
     "output_type": "execute_result"
    }
   ],
   "source": [
    "df.shape"
   ]
  },
  {
   "cell_type": "code",
   "execution_count": 32,
   "metadata": {},
   "outputs": [],
   "source": [
    "X = df.drop('energy',axis = 1).values\n",
    "y = df.energy.values\n",
    "\n",
    "X_train_org, X_test_org, y_train, y_test = train_test_split(X, y, test_size=0.25, random_state=0)"
   ]
  },
  {
   "cell_type": "code",
   "execution_count": 33,
   "metadata": {},
   "outputs": [
    {
     "data": {
      "text/plain": [
       "(1512, 14)"
      ]
     },
     "execution_count": 33,
     "metadata": {},
     "output_type": "execute_result"
    },
    {
     "data": {
      "text/plain": [
       "(505, 14)"
      ]
     },
     "execution_count": 33,
     "metadata": {},
     "output_type": "execute_result"
    }
   ],
   "source": [
    "X_train_org.shape\n",
    "X_test_org.shape"
   ]
  },
  {
   "cell_type": "code",
   "execution_count": 34,
   "metadata": {},
   "outputs": [
    {
     "data": {
      "text/plain": [
       "(1512,)"
      ]
     },
     "execution_count": 34,
     "metadata": {},
     "output_type": "execute_result"
    },
    {
     "data": {
      "text/plain": [
       "(505,)"
      ]
     },
     "execution_count": 34,
     "metadata": {},
     "output_type": "execute_result"
    }
   ],
   "source": [
    "y_train.shape\n",
    "y_test.shape"
   ]
  },
  {
   "cell_type": "code",
   "execution_count": 35,
   "metadata": {},
   "outputs": [],
   "source": [
    "scaler = StandardScaler()"
   ]
  },
  {
   "cell_type": "code",
   "execution_count": 36,
   "metadata": {},
   "outputs": [],
   "source": [
    "X_train_scale = scaler.fit_transform(X_train_org)"
   ]
  },
  {
   "cell_type": "code",
   "execution_count": 37,
   "metadata": {},
   "outputs": [],
   "source": [
    "X_test_scale = scaler.transform(X_test_org)"
   ]
  },
  {
   "cell_type": "code",
   "execution_count": 38,
   "metadata": {},
   "outputs": [
    {
     "data": {
      "text/plain": [
       "(1512, 14)"
      ]
     },
     "execution_count": 38,
     "metadata": {},
     "output_type": "execute_result"
    }
   ],
   "source": [
    "X_train_scale.shape"
   ]
  },
  {
   "cell_type": "markdown",
   "metadata": {},
   "source": [
    "## Any Two Models with Bagging"
   ]
  },
  {
   "cell_type": "markdown",
   "metadata": {},
   "source": [
    "### Lasso Regression with Bagging"
   ]
  },
  {
   "cell_type": "code",
   "execution_count": 39,
   "metadata": {},
   "outputs": [
    {
     "data": {
      "text/plain": [
       "BaggingRegressor(base_estimator=Lasso(alpha=10, copy_X=True, fit_intercept=True,\n",
       "                                      max_iter=1000, normalize=False,\n",
       "                                      positive=False, precompute=False,\n",
       "                                      random_state=None, selection='cyclic',\n",
       "                                      tol=0.0001, warm_start=False),\n",
       "                 bootstrap=True, bootstrap_features=False, max_features=1.0,\n",
       "                 max_samples=100, n_estimators=500, n_jobs=None, oob_score=True,\n",
       "                 random_state=0, verbose=0, warm_start=False)"
      ]
     },
     "execution_count": 39,
     "metadata": {},
     "output_type": "execute_result"
    },
    {
     "data": {
      "text/plain": [
       "0.026250281138522458"
      ]
     },
     "execution_count": 39,
     "metadata": {},
     "output_type": "execute_result"
    },
    {
     "data": {
      "text/plain": [
       "0.01278719026607511"
      ]
     },
     "execution_count": 39,
     "metadata": {},
     "output_type": "execute_result"
    }
   ],
   "source": [
    "from sklearn.ensemble import BaggingRegressor\n",
    "\n",
    "lass = Lasso(alpha = 10)\n",
    "bag_clf = BaggingRegressor(lass,n_estimators=500, max_samples=100, bootstrap=True, random_state=0, oob_score=True)\n",
    "bag_clf.fit(X_train_org, y_train)\n",
    "y_pred = bag_clf.predict(X_test_org)\n",
    "\n",
    "bag_clf.score(X_train_org, y_train)\n",
    "bag_clf.score(X_test_org, y_test)"
   ]
  },
  {
   "cell_type": "markdown",
   "metadata": {},
   "source": [
    "### Lasso Regression with Bagging Summary:\n",
    "\n",
    "#### Train Score : 0.0263\n",
    "\n",
    "#### Test Score : 0.0128"
   ]
  },
  {
   "cell_type": "markdown",
   "metadata": {},
   "source": [
    "## KNN Regression with Bagging"
   ]
  },
  {
   "cell_type": "code",
   "execution_count": 40,
   "metadata": {},
   "outputs": [
    {
     "data": {
      "text/plain": [
       "BaggingRegressor(base_estimator=KNeighborsRegressor(algorithm='auto',\n",
       "                                                    leaf_size=30,\n",
       "                                                    metric='minkowski',\n",
       "                                                    metric_params=None,\n",
       "                                                    n_jobs=None, n_neighbors=10,\n",
       "                                                    p=2, weights='uniform'),\n",
       "                 bootstrap=True, bootstrap_features=False, max_features=1.0,\n",
       "                 max_samples=100, n_estimators=500, n_jobs=None, oob_score=True,\n",
       "                 random_state=0, verbose=0, warm_start=False)"
      ]
     },
     "execution_count": 40,
     "metadata": {},
     "output_type": "execute_result"
    },
    {
     "data": {
      "text/plain": [
       "0.4941513795676028"
      ]
     },
     "execution_count": 40,
     "metadata": {},
     "output_type": "execute_result"
    },
    {
     "data": {
      "text/plain": [
       "0.4731040675252591"
      ]
     },
     "execution_count": 40,
     "metadata": {},
     "output_type": "execute_result"
    }
   ],
   "source": [
    "from sklearn.neighbors import KNeighborsRegressor\n",
    "\n",
    "knn = KNeighborsRegressor(n_neighbors = 10)\n",
    "bag_clf = BaggingRegressor(knn,n_estimators=500, max_samples=100, bootstrap=True, random_state=0, oob_score=True)\n",
    "bag_clf.fit(X_train_scale, y_train)\n",
    "\n",
    "bag_clf.score(X_train_scale, y_train)\n",
    "bag_clf.score(X_test_scale, y_test)"
   ]
  },
  {
   "cell_type": "markdown",
   "metadata": {},
   "source": [
    "### KNN Regression with Bagging Summary:\n",
    "\n",
    "#### Train Score : 0.4952\n",
    "\n",
    "#### Test Score : 0.4731"
   ]
  },
  {
   "cell_type": "markdown",
   "metadata": {},
   "source": [
    "## Any Two Models with Pasting"
   ]
  },
  {
   "cell_type": "markdown",
   "metadata": {},
   "source": [
    "### Lasso Regression with Pasting"
   ]
  },
  {
   "cell_type": "code",
   "execution_count": 41,
   "metadata": {},
   "outputs": [
    {
     "data": {
      "text/plain": [
       "BaggingRegressor(base_estimator=Lasso(alpha=10, copy_X=True, fit_intercept=True,\n",
       "                                      max_iter=1000, normalize=False,\n",
       "                                      positive=False, precompute=False,\n",
       "                                      random_state=None, selection='cyclic',\n",
       "                                      tol=0.0001, warm_start=False),\n",
       "                 bootstrap=False, bootstrap_features=False, max_features=1.0,\n",
       "                 max_samples=100, n_estimators=500, n_jobs=None,\n",
       "                 oob_score=False, random_state=0, verbose=0, warm_start=False)"
      ]
     },
     "execution_count": 41,
     "metadata": {},
     "output_type": "execute_result"
    },
    {
     "data": {
      "text/plain": [
       "0.02604699279137257"
      ]
     },
     "execution_count": 41,
     "metadata": {},
     "output_type": "execute_result"
    },
    {
     "data": {
      "text/plain": [
       "0.012695873289432003"
      ]
     },
     "execution_count": 41,
     "metadata": {},
     "output_type": "execute_result"
    }
   ],
   "source": [
    "from sklearn.ensemble import BaggingRegressor\n",
    "\n",
    "lass = Lasso(alpha = 10)\n",
    "bag_clf = BaggingRegressor(lass,n_estimators=500, max_samples=100, bootstrap=False, random_state=0)\n",
    "bag_clf.fit(X_train_org, y_train)\n",
    "y_pred = bag_clf.predict(X_test_org)\n",
    "\n",
    "bag_clf.score(X_train_org, y_train)\n",
    "bag_clf.score(X_test_org, y_test)"
   ]
  },
  {
   "cell_type": "markdown",
   "metadata": {},
   "source": [
    "### Lasso Regression with Pasting Summary:\n",
    "\n",
    "#### Train Score : 0.0260\n",
    "\n",
    "#### Test Score : 0.0127"
   ]
  },
  {
   "cell_type": "markdown",
   "metadata": {},
   "source": [
    "## KNN Regression with Pasting "
   ]
  },
  {
   "cell_type": "code",
   "execution_count": 42,
   "metadata": {},
   "outputs": [
    {
     "data": {
      "text/plain": [
       "BaggingRegressor(base_estimator=KNeighborsRegressor(algorithm='auto',\n",
       "                                                    leaf_size=30,\n",
       "                                                    metric='minkowski',\n",
       "                                                    metric_params=None,\n",
       "                                                    n_jobs=None, n_neighbors=10,\n",
       "                                                    p=2, weights='uniform'),\n",
       "                 bootstrap=False, bootstrap_features=False, max_features=1.0,\n",
       "                 max_samples=100, n_estimators=500, n_jobs=None,\n",
       "                 oob_score=False, random_state=0, verbose=0, warm_start=False)"
      ]
     },
     "execution_count": 42,
     "metadata": {},
     "output_type": "execute_result"
    },
    {
     "data": {
      "text/plain": [
       "0.49435491844351365"
      ]
     },
     "execution_count": 42,
     "metadata": {},
     "output_type": "execute_result"
    },
    {
     "data": {
      "text/plain": [
       "0.4744172517512019"
      ]
     },
     "execution_count": 42,
     "metadata": {},
     "output_type": "execute_result"
    }
   ],
   "source": [
    "bag_clf = BaggingRegressor(knn,n_estimators=500, max_samples=100, bootstrap=False, random_state=0)\n",
    "bag_clf.fit(X_train_scale, y_train)\n",
    "\n",
    "bag_clf.score(X_train_scale, y_train)\n",
    "bag_clf.score(X_test_scale, y_test)"
   ]
  },
  {
   "cell_type": "markdown",
   "metadata": {},
   "source": [
    "### KNN Regression with Pasting Summary:\n",
    "\n",
    "#### Train Score : 0.4944\n",
    "\n",
    "#### Test Score : 0.4744"
   ]
  },
  {
   "cell_type": "markdown",
   "metadata": {},
   "source": [
    "## Any Two Models with AdaBoost Boosting"
   ]
  },
  {
   "cell_type": "markdown",
   "metadata": {},
   "source": [
    "## KNN Regression with AdaBoosting "
   ]
  },
  {
   "cell_type": "code",
   "execution_count": 43,
   "metadata": {},
   "outputs": [
    {
     "data": {
      "text/plain": [
       "GridSearchCV(cv=4, error_score='raise-deprecating',\n",
       "             estimator=AdaBoostRegressor(base_estimator=KNeighborsRegressor(algorithm='auto',\n",
       "                                                                            leaf_size=30,\n",
       "                                                                            metric='minkowski',\n",
       "                                                                            metric_params=None,\n",
       "                                                                            n_jobs=None,\n",
       "                                                                            n_neighbors=10,\n",
       "                                                                            p=2,\n",
       "                                                                            weights='uniform'),\n",
       "                                         learning_rate=1.0, loss='linear',\n",
       "                                         n_estimators=100, random_state=None),\n",
       "             iid='warn', n_jobs=-1,\n",
       "             param_grid={'learning_rate': [0.1, 0.5, 1.0]},\n",
       "             pre_dispatch='2*n_jobs', refit=True, return_train_score=True,\n",
       "             scoring=None, verbose=0)"
      ]
     },
     "execution_count": 43,
     "metadata": {},
     "output_type": "execute_result"
    }
   ],
   "source": [
    "from sklearn.ensemble import AdaBoostRegressor\n",
    "param_grid = {'learning_rate': [0.1,0.5,1.0]}\n",
    "ada_clf = AdaBoostRegressor(knn,n_estimators=100)\n",
    "GridSearch_dtclf = GridSearchCV(ada_clf, param_grid,cv=4,return_train_score=True,n_jobs= -1)\n",
    "\n",
    "GridSearch_dtclf.fit(X_train_scale, y_train)"
   ]
  },
  {
   "cell_type": "code",
   "execution_count": 44,
   "metadata": {},
   "outputs": [
    {
     "data": {
      "text/plain": [
       "{'learning_rate': 0.1}"
      ]
     },
     "execution_count": 44,
     "metadata": {},
     "output_type": "execute_result"
    },
    {
     "data": {
      "text/plain": [
       "0.6463954524078758"
      ]
     },
     "execution_count": 44,
     "metadata": {},
     "output_type": "execute_result"
    }
   ],
   "source": [
    "GridSearch_dtclf.best_params_\n",
    "GridSearch_dtclf.best_score_"
   ]
  },
  {
   "cell_type": "code",
   "execution_count": 45,
   "metadata": {},
   "outputs": [
    {
     "data": {
      "text/html": [
       "<div>\n",
       "<style scoped>\n",
       "    .dataframe tbody tr th:only-of-type {\n",
       "        vertical-align: middle;\n",
       "    }\n",
       "\n",
       "    .dataframe tbody tr th {\n",
       "        vertical-align: top;\n",
       "    }\n",
       "\n",
       "    .dataframe thead th {\n",
       "        text-align: right;\n",
       "    }\n",
       "</style>\n",
       "<table border=\"1\" class=\"dataframe\">\n",
       "  <thead>\n",
       "    <tr style=\"text-align: right;\">\n",
       "      <th></th>\n",
       "      <th>mean_fit_time</th>\n",
       "      <th>std_fit_time</th>\n",
       "      <th>mean_score_time</th>\n",
       "      <th>std_score_time</th>\n",
       "      <th>param_learning_rate</th>\n",
       "      <th>params</th>\n",
       "      <th>split0_test_score</th>\n",
       "      <th>split1_test_score</th>\n",
       "      <th>split2_test_score</th>\n",
       "      <th>split3_test_score</th>\n",
       "      <th>mean_test_score</th>\n",
       "      <th>std_test_score</th>\n",
       "      <th>rank_test_score</th>\n",
       "      <th>split0_train_score</th>\n",
       "      <th>split1_train_score</th>\n",
       "      <th>split2_train_score</th>\n",
       "      <th>split3_train_score</th>\n",
       "      <th>mean_train_score</th>\n",
       "      <th>std_train_score</th>\n",
       "    </tr>\n",
       "  </thead>\n",
       "  <tbody>\n",
       "    <tr>\n",
       "      <th>0</th>\n",
       "      <td>12.941914</td>\n",
       "      <td>1.197473</td>\n",
       "      <td>4.558397</td>\n",
       "      <td>0.507606</td>\n",
       "      <td>0.1</td>\n",
       "      <td>{'learning_rate': 0.1}</td>\n",
       "      <td>0.662366</td>\n",
       "      <td>0.629662</td>\n",
       "      <td>0.610999</td>\n",
       "      <td>0.682555</td>\n",
       "      <td>0.646395</td>\n",
       "      <td>0.027818</td>\n",
       "      <td>1</td>\n",
       "      <td>0.716094</td>\n",
       "      <td>0.715087</td>\n",
       "      <td>0.724796</td>\n",
       "      <td>0.718920</td>\n",
       "      <td>0.718724</td>\n",
       "      <td>0.003777</td>\n",
       "    </tr>\n",
       "    <tr>\n",
       "      <th>1</th>\n",
       "      <td>13.255297</td>\n",
       "      <td>1.029731</td>\n",
       "      <td>4.343195</td>\n",
       "      <td>0.536311</td>\n",
       "      <td>0.5</td>\n",
       "      <td>{'learning_rate': 0.5}</td>\n",
       "      <td>0.608042</td>\n",
       "      <td>0.599223</td>\n",
       "      <td>0.572941</td>\n",
       "      <td>0.638718</td>\n",
       "      <td>0.604731</td>\n",
       "      <td>0.023489</td>\n",
       "      <td>2</td>\n",
       "      <td>0.710476</td>\n",
       "      <td>0.703588</td>\n",
       "      <td>0.711082</td>\n",
       "      <td>0.712052</td>\n",
       "      <td>0.709299</td>\n",
       "      <td>0.003345</td>\n",
       "    </tr>\n",
       "    <tr>\n",
       "      <th>2</th>\n",
       "      <td>11.176421</td>\n",
       "      <td>0.145644</td>\n",
       "      <td>3.610247</td>\n",
       "      <td>0.031988</td>\n",
       "      <td>1</td>\n",
       "      <td>{'learning_rate': 1.0}</td>\n",
       "      <td>0.574766</td>\n",
       "      <td>0.566201</td>\n",
       "      <td>0.553716</td>\n",
       "      <td>0.578739</td>\n",
       "      <td>0.568355</td>\n",
       "      <td>0.009590</td>\n",
       "      <td>3</td>\n",
       "      <td>0.704660</td>\n",
       "      <td>0.694765</td>\n",
       "      <td>0.699175</td>\n",
       "      <td>0.706469</td>\n",
       "      <td>0.701267</td>\n",
       "      <td>0.004616</td>\n",
       "    </tr>\n",
       "  </tbody>\n",
       "</table>\n",
       "</div>"
      ],
      "text/plain": [
       "   mean_fit_time  std_fit_time  mean_score_time  std_score_time  \\\n",
       "0      12.941914      1.197473         4.558397        0.507606   \n",
       "1      13.255297      1.029731         4.343195        0.536311   \n",
       "2      11.176421      0.145644         3.610247        0.031988   \n",
       "\n",
       "  param_learning_rate                  params  split0_test_score  \\\n",
       "0                 0.1  {'learning_rate': 0.1}           0.662366   \n",
       "1                 0.5  {'learning_rate': 0.5}           0.608042   \n",
       "2                   1  {'learning_rate': 1.0}           0.574766   \n",
       "\n",
       "   split1_test_score  split2_test_score  split3_test_score  mean_test_score  \\\n",
       "0           0.629662           0.610999           0.682555         0.646395   \n",
       "1           0.599223           0.572941           0.638718         0.604731   \n",
       "2           0.566201           0.553716           0.578739         0.568355   \n",
       "\n",
       "   std_test_score  rank_test_score  split0_train_score  split1_train_score  \\\n",
       "0        0.027818                1            0.716094            0.715087   \n",
       "1        0.023489                2            0.710476            0.703588   \n",
       "2        0.009590                3            0.704660            0.694765   \n",
       "\n",
       "   split2_train_score  split3_train_score  mean_train_score  std_train_score  \n",
       "0            0.724796            0.718920          0.718724         0.003777  \n",
       "1            0.711082            0.712052          0.709299         0.003345  \n",
       "2            0.699175            0.706469          0.701267         0.004616  "
      ]
     },
     "execution_count": 45,
     "metadata": {},
     "output_type": "execute_result"
    }
   ],
   "source": [
    "result_lasso_ada= pd.DataFrame(GridSearch_dtclf.cv_results_)\n",
    "result_lasso_ada"
   ]
  },
  {
   "cell_type": "code",
   "execution_count": 46,
   "metadata": {},
   "outputs": [
    {
     "data": {
      "text/plain": [
       "AdaBoostRegressor(base_estimator=KNeighborsRegressor(algorithm='auto',\n",
       "                                                     leaf_size=30,\n",
       "                                                     metric='minkowski',\n",
       "                                                     metric_params=None,\n",
       "                                                     n_jobs=None,\n",
       "                                                     n_neighbors=10, p=2,\n",
       "                                                     weights='uniform'),\n",
       "                  learning_rate=0.1, loss='linear', n_estimators=100,\n",
       "                  random_state=None)"
      ]
     },
     "execution_count": 46,
     "metadata": {},
     "output_type": "execute_result"
    }
   ],
   "source": [
    "from sklearn.ensemble import AdaBoostRegressor\n",
    "\n",
    "ada_clf = AdaBoostRegressor(knn,n_estimators=100,learning_rate = 0.1)\n",
    "ada_clf.fit(X_train_scale, y_train)"
   ]
  },
  {
   "cell_type": "code",
   "execution_count": 47,
   "metadata": {},
   "outputs": [
    {
     "data": {
      "text/plain": [
       "0.7304639897088798"
      ]
     },
     "execution_count": 47,
     "metadata": {},
     "output_type": "execute_result"
    },
    {
     "data": {
      "text/plain": [
       "0.6206149033426653"
      ]
     },
     "execution_count": 47,
     "metadata": {},
     "output_type": "execute_result"
    }
   ],
   "source": [
    "ada_clf.score(X_train_scale, y_train)\n",
    "ada_clf.score(X_test_scale, y_test)"
   ]
  },
  {
   "cell_type": "markdown",
   "metadata": {},
   "source": [
    "### KNN Regression with AdaBoosting Summary:\n",
    "\n",
    "#### Train Score: 0.7309\n",
    "\n",
    "#### Test Score : 0.6208"
   ]
  },
  {
   "cell_type": "markdown",
   "metadata": {},
   "source": [
    "## Lasso Regression with AdaBoosting"
   ]
  },
  {
   "cell_type": "code",
   "execution_count": 48,
   "metadata": {},
   "outputs": [
    {
     "data": {
      "text/plain": [
       "AdaBoostRegressor(base_estimator=Lasso(alpha=10, copy_X=True,\n",
       "                                       fit_intercept=True, max_iter=1000,\n",
       "                                       normalize=False, positive=False,\n",
       "                                       precompute=False, random_state=None,\n",
       "                                       selection='cyclic', tol=0.0001,\n",
       "                                       warm_start=False),\n",
       "                  learning_rate=0.25, loss='linear', n_estimators=200,\n",
       "                  random_state=0)"
      ]
     },
     "execution_count": 48,
     "metadata": {},
     "output_type": "execute_result"
    },
    {
     "data": {
      "text/plain": [
       "0.009918388730553174"
      ]
     },
     "execution_count": 48,
     "metadata": {},
     "output_type": "execute_result"
    },
    {
     "data": {
      "text/plain": [
       "0.0006879092368200501"
      ]
     },
     "execution_count": 48,
     "metadata": {},
     "output_type": "execute_result"
    }
   ],
   "source": [
    "ada_clf = AdaBoostRegressor(lass, n_estimators=200, learning_rate=0.25, random_state=0)\n",
    "ada_clf.fit(X_train_org, y_train)\n",
    "ada_clf.score(X_train_org, y_train)\n",
    "ada_clf.score(X_test_org, y_test)"
   ]
  },
  {
   "cell_type": "markdown",
   "metadata": {},
   "source": [
    "### Lasso Regression with AdaBoosting Summary:\n",
    "\n",
    "#### Train Score : 0.0010\n",
    "\n",
    "#### Test Score : 0.0007"
   ]
  },
  {
   "cell_type": "markdown",
   "metadata": {},
   "source": [
    "## Gradient Boosting"
   ]
  },
  {
   "cell_type": "code",
   "execution_count": 49,
   "metadata": {},
   "outputs": [
    {
     "data": {
      "text/plain": [
       "GradientBoostingRegressor(alpha=0.9, criterion='friedman_mse', init=None,\n",
       "                          learning_rate=1.0, loss='ls', max_depth=2,\n",
       "                          max_features=None, max_leaf_nodes=None,\n",
       "                          min_impurity_decrease=0.0, min_impurity_split=None,\n",
       "                          min_samples_leaf=1, min_samples_split=2,\n",
       "                          min_weight_fraction_leaf=0.0, n_estimators=3,\n",
       "                          n_iter_no_change=None, presort='auto',\n",
       "                          random_state=42, subsample=1.0, tol=0.0001,\n",
       "                          validation_fraction=0.1, verbose=0, warm_start=False)"
      ]
     },
     "execution_count": 49,
     "metadata": {},
     "output_type": "execute_result"
    },
    {
     "data": {
      "text/plain": [
       "0.6640871021163337"
      ]
     },
     "execution_count": 49,
     "metadata": {},
     "output_type": "execute_result"
    },
    {
     "data": {
      "text/plain": [
       "0.5962221753355985"
      ]
     },
     "execution_count": 49,
     "metadata": {},
     "output_type": "execute_result"
    }
   ],
   "source": [
    "from  sklearn.ensemble import GradientBoostingRegressor\n",
    "\n",
    "gbrt = GradientBoostingRegressor(max_depth=2, n_estimators=3, learning_rate=1.0, random_state=42)\n",
    "gbrt.fit(X_train_org, y_train)\n",
    "gbrt.score(X_train_org, y_train)\n",
    "gbrt.score(X_test_org, y_test)"
   ]
  },
  {
   "cell_type": "markdown",
   "metadata": {},
   "source": [
    "### Gradient Boosting Summary:\n",
    "\n",
    "#### Train Score : 0.6641\n",
    "\n",
    "#### Test Score : 0.5962"
   ]
  },
  {
   "cell_type": "markdown",
   "metadata": {},
   "source": [
    "## PCA"
   ]
  },
  {
   "cell_type": "code",
   "execution_count": 50,
   "metadata": {},
   "outputs": [
    {
     "data": {
      "text/plain": [
       "array([0.16659688, 0.14877009, 0.10295812, 0.08532472, 0.07466868,\n",
       "       0.07290634, 0.06676584, 0.06103421, 0.05702312, 0.0507846 ,\n",
       "       0.04395671, 0.03402998, 0.0257594 , 0.00942131])"
      ]
     },
     "execution_count": 50,
     "metadata": {},
     "output_type": "execute_result"
    },
    {
     "data": {
      "text/plain": [
       "12"
      ]
     },
     "execution_count": 50,
     "metadata": {},
     "output_type": "execute_result"
    }
   ],
   "source": [
    "from sklearn.decomposition import PCA\n",
    "\n",
    "pca = PCA()\n",
    "\n",
    "X_train_pca = pca.fit_transform(X_train_scale)\n",
    "\n",
    "pca.explained_variance_ratio_\n",
    "\n",
    "cumsum = np.cumsum(pca.explained_variance_ratio_)\n",
    "d = np.argmax(cumsum >= 0.95) + 1\n",
    "d"
   ]
  },
  {
   "cell_type": "code",
   "execution_count": 51,
   "metadata": {},
   "outputs": [
    {
     "data": {
      "text/plain": [
       "0.9648192893827919"
      ]
     },
     "execution_count": 51,
     "metadata": {},
     "output_type": "execute_result"
    }
   ],
   "source": [
    "from sklearn.decomposition import PCA\n",
    "\n",
    "pca = PCA(n_components = 12)\n",
    "X_train_pca = pca.fit_transform(X_train_scale)\n",
    "np.sum(pca.explained_variance_ratio_)"
   ]
  },
  {
   "cell_type": "code",
   "execution_count": 52,
   "metadata": {},
   "outputs": [],
   "source": [
    "X_train_pca = pca.fit_transform(X_train_scale)\n",
    "X_test_pca = pca.transform(X_test_scale)"
   ]
  },
  {
   "cell_type": "code",
   "execution_count": 53,
   "metadata": {},
   "outputs": [
    {
     "data": {
      "text/plain": [
       "(1512, 12)"
      ]
     },
     "execution_count": 53,
     "metadata": {},
     "output_type": "execute_result"
    }
   ],
   "source": [
    "X_train_pca.shape"
   ]
  },
  {
   "cell_type": "markdown",
   "metadata": {},
   "source": [
    "## Linear Regression"
   ]
  },
  {
   "cell_type": "code",
   "execution_count": 54,
   "metadata": {},
   "outputs": [
    {
     "data": {
      "text/plain": [
       "GridSearchCV(cv=6, error_score='raise-deprecating',\n",
       "             estimator=LinearRegression(copy_X=True, fit_intercept=True,\n",
       "                                        n_jobs=None, normalize=False),\n",
       "             iid='warn', n_jobs=None, param_grid={'normalize': [True, False]},\n",
       "             pre_dispatch='2*n_jobs', refit=True, return_train_score=True,\n",
       "             scoring=None, verbose=0)"
      ]
     },
     "execution_count": 54,
     "metadata": {},
     "output_type": "execute_result"
    },
    {
     "name": "stdout",
     "output_type": "stream",
     "text": [
      "Best parameters: {'normalize': True}\n",
      "Best cross-validation score: 0.6896\n"
     ]
    }
   ],
   "source": [
    "from sklearn.model_selection import GridSearchCV\n",
    "model = LinearRegression()\n",
    "parameters = {'normalize':[True,False]}\n",
    "grid_search_lr = GridSearchCV(model,parameters, cv=6, return_train_score=True)\n",
    "grid_search_lr.fit(X_train_pca, y_train)\n",
    "print(\"Best parameters: {}\".format(grid_search_lr.best_params_))\n",
    "print(\"Best cross-validation score: {:.4f}\".format(grid_search_lr.best_score_))"
   ]
  },
  {
   "cell_type": "code",
   "execution_count": 55,
   "metadata": {},
   "outputs": [
    {
     "data": {
      "text/html": [
       "<div>\n",
       "<style scoped>\n",
       "    .dataframe tbody tr th:only-of-type {\n",
       "        vertical-align: middle;\n",
       "    }\n",
       "\n",
       "    .dataframe tbody tr th {\n",
       "        vertical-align: top;\n",
       "    }\n",
       "\n",
       "    .dataframe thead th {\n",
       "        text-align: right;\n",
       "    }\n",
       "</style>\n",
       "<table border=\"1\" class=\"dataframe\">\n",
       "  <thead>\n",
       "    <tr style=\"text-align: right;\">\n",
       "      <th></th>\n",
       "      <th>mean_fit_time</th>\n",
       "      <th>std_fit_time</th>\n",
       "      <th>mean_score_time</th>\n",
       "      <th>std_score_time</th>\n",
       "      <th>param_normalize</th>\n",
       "      <th>params</th>\n",
       "      <th>split0_test_score</th>\n",
       "      <th>split1_test_score</th>\n",
       "      <th>split2_test_score</th>\n",
       "      <th>split3_test_score</th>\n",
       "      <th>...</th>\n",
       "      <th>std_test_score</th>\n",
       "      <th>rank_test_score</th>\n",
       "      <th>split0_train_score</th>\n",
       "      <th>split1_train_score</th>\n",
       "      <th>split2_train_score</th>\n",
       "      <th>split3_train_score</th>\n",
       "      <th>split4_train_score</th>\n",
       "      <th>split5_train_score</th>\n",
       "      <th>mean_train_score</th>\n",
       "      <th>std_train_score</th>\n",
       "    </tr>\n",
       "  </thead>\n",
       "  <tbody>\n",
       "    <tr>\n",
       "      <th>0</th>\n",
       "      <td>0.001995</td>\n",
       "      <td>0.002701</td>\n",
       "      <td>0.000332</td>\n",
       "      <td>0.000470</td>\n",
       "      <td>True</td>\n",
       "      <td>{'normalize': True}</td>\n",
       "      <td>0.661082</td>\n",
       "      <td>0.71059</td>\n",
       "      <td>0.696742</td>\n",
       "      <td>0.684643</td>\n",
       "      <td>...</td>\n",
       "      <td>0.022738</td>\n",
       "      <td>1</td>\n",
       "      <td>0.701258</td>\n",
       "      <td>0.691337</td>\n",
       "      <td>0.694974</td>\n",
       "      <td>0.697246</td>\n",
       "      <td>0.689739</td>\n",
       "      <td>0.701158</td>\n",
       "      <td>0.695952</td>\n",
       "      <td>0.004431</td>\n",
       "    </tr>\n",
       "    <tr>\n",
       "      <th>1</th>\n",
       "      <td>0.000666</td>\n",
       "      <td>0.000471</td>\n",
       "      <td>0.000156</td>\n",
       "      <td>0.000349</td>\n",
       "      <td>False</td>\n",
       "      <td>{'normalize': False}</td>\n",
       "      <td>0.661082</td>\n",
       "      <td>0.71059</td>\n",
       "      <td>0.696742</td>\n",
       "      <td>0.684643</td>\n",
       "      <td>...</td>\n",
       "      <td>0.022738</td>\n",
       "      <td>1</td>\n",
       "      <td>0.701258</td>\n",
       "      <td>0.691337</td>\n",
       "      <td>0.694974</td>\n",
       "      <td>0.697246</td>\n",
       "      <td>0.689739</td>\n",
       "      <td>0.701158</td>\n",
       "      <td>0.695952</td>\n",
       "      <td>0.004431</td>\n",
       "    </tr>\n",
       "  </tbody>\n",
       "</table>\n",
       "<p>2 rows × 23 columns</p>\n",
       "</div>"
      ],
      "text/plain": [
       "   mean_fit_time  std_fit_time  mean_score_time  std_score_time  \\\n",
       "0       0.001995      0.002701         0.000332        0.000470   \n",
       "1       0.000666      0.000471         0.000156        0.000349   \n",
       "\n",
       "  param_normalize                params  split0_test_score  split1_test_score  \\\n",
       "0            True   {'normalize': True}           0.661082            0.71059   \n",
       "1           False  {'normalize': False}           0.661082            0.71059   \n",
       "\n",
       "   split2_test_score  split3_test_score  ...  std_test_score  rank_test_score  \\\n",
       "0           0.696742           0.684643  ...        0.022738                1   \n",
       "1           0.696742           0.684643  ...        0.022738                1   \n",
       "\n",
       "   split0_train_score  split1_train_score  split2_train_score  \\\n",
       "0            0.701258            0.691337            0.694974   \n",
       "1            0.701258            0.691337            0.694974   \n",
       "\n",
       "   split3_train_score  split4_train_score  split5_train_score  \\\n",
       "0            0.697246            0.689739            0.701158   \n",
       "1            0.697246            0.689739            0.701158   \n",
       "\n",
       "   mean_train_score  std_train_score  \n",
       "0          0.695952         0.004431  \n",
       "1          0.695952         0.004431  \n",
       "\n",
       "[2 rows x 23 columns]"
      ]
     },
     "execution_count": 55,
     "metadata": {},
     "output_type": "execute_result"
    }
   ],
   "source": [
    "results = pd.DataFrame(grid_search_lr.cv_results_)\n",
    "results"
   ]
  },
  {
   "cell_type": "code",
   "execution_count": 56,
   "metadata": {},
   "outputs": [
    {
     "data": {
      "text/plain": [
       "LinearRegression(copy_X=True, fit_intercept=True, n_jobs=None, normalize=True)"
      ]
     },
     "execution_count": 56,
     "metadata": {},
     "output_type": "execute_result"
    },
    {
     "name": "stdout",
     "output_type": "stream",
     "text": [
      "0.6955555494598618\n"
     ]
    },
    {
     "data": {
      "text/plain": [
       "0.6804722704510557"
      ]
     },
     "execution_count": 56,
     "metadata": {},
     "output_type": "execute_result"
    }
   ],
   "source": [
    "lreg = LinearRegression(normalize = True)\n",
    "lreg.fit(X_train_pca, y_train)\n",
    "print(lreg.score(X_train_pca, y_train))\n",
    "lr_test_score = lreg.score(X_test_pca, y_test)\n",
    "lr_test_score"
   ]
  },
  {
   "cell_type": "code",
   "execution_count": 57,
   "metadata": {},
   "outputs": [
    {
     "name": "stdout",
     "output_type": "stream",
     "text": [
      "Cross-validation scores:\n",
      "[0.66108153 0.71059016 0.69674248 0.68464346 0.72205373 0.66277875]\n",
      "0.6896483521426454\n"
     ]
    }
   ],
   "source": [
    "from sklearn.model_selection import KFold\n",
    "from sklearn.model_selection import cross_val_score\n",
    "\n",
    "  \n",
    "kfold = KFold(n_splits=6)\n",
    "print(\"Cross-validation scores:\\n{}\".format(cross_val_score(lreg , X_train_pca, y_train, cv=kfold)))\n",
    "scores = cross_val_score(lreg , X_train_pca, y_train, cv=kfold)\n",
    "print(np.mean(scores))"
   ]
  },
  {
   "cell_type": "code",
   "execution_count": 58,
   "metadata": {},
   "outputs": [
    {
     "data": {
      "text/plain": [
       "LinearRegression(copy_X=True, fit_intercept=True, n_jobs=None, normalize=True)"
      ]
     },
     "execution_count": 58,
     "metadata": {},
     "output_type": "execute_result"
    },
    {
     "data": {
      "text/plain": [
       "[<matplotlib.lines.Line2D at 0x1ee50877ba8>]"
      ]
     },
     "execution_count": 58,
     "metadata": {},
     "output_type": "execute_result"
    },
    {
     "data": {
      "text/plain": [
       "<matplotlib.collections.PathCollection at 0x1ee50877d68>"
      ]
     },
     "execution_count": 58,
     "metadata": {},
     "output_type": "execute_result"
    },
    {
     "data": {
      "text/plain": [
       "Text(0.5, 0, 'sqft_living')"
      ]
     },
     "execution_count": 58,
     "metadata": {},
     "output_type": "execute_result"
    },
    {
     "data": {
      "image/png": "[encoded data removed]",
      "text/plain": [
       "<Figure size 432x288 with 1 Axes>"
      ]
     },
     "metadata": {
      "needs_background": "light"
     },
     "output_type": "display_data"
    }
   ],
   "source": [
    "#PLOT\n",
    "\n",
    "%matplotlib inline\n",
    "import matplotlib.pyplot as plt\n",
    "\n",
    "#X_train_array = X_train_org.to_numpy()\n",
    "\n",
    "#X_train_rm = X_train_array[:,2].reshape(-1,1)\n",
    "\n",
    "X_train_rm = X_train_org[:,2].reshape(-1,1)\n",
    "lreg.fit(X_train_rm, y_train)\n",
    "y_predict = lreg.predict(X_train_rm)\n",
    "\n",
    "plt.plot(X_train_rm, y_predict, c = 'r')\n",
    "plt.scatter(X_train_rm,y_train)\n",
    "plt.xlabel('sqft_living')"
   ]
  },
  {
   "cell_type": "markdown",
   "metadata": {},
   "source": [
    "### Linear Regression Summary:\n",
    "\n",
    "#### Train Score: 0.6956\n",
    "\n",
    "#### Test Score: 0.6805\n",
    "\n",
    "#### Best Parameter: {'normalize' : True}\n",
    "\n",
    "#### Best Cross - Validation Score: 0.6896"
   ]
  },
  {
   "cell_type": "markdown",
   "metadata": {},
   "source": [
    "## KNN Regression"
   ]
  },
  {
   "cell_type": "code",
   "execution_count": 59,
   "metadata": {},
   "outputs": [],
   "source": [
    "grid_parms_knn = {'n_neighbors':[1,5,10,15,20]}"
   ]
  },
  {
   "cell_type": "code",
   "execution_count": 60,
   "metadata": {},
   "outputs": [
    {
     "data": {
      "text/plain": [
       "GridSearchCV(cv=6, error_score='raise-deprecating',\n",
       "             estimator=KNeighborsRegressor(algorithm='auto', leaf_size=30,\n",
       "                                           metric='minkowski',\n",
       "                                           metric_params=None, n_jobs=None,\n",
       "                                           n_neighbors=5, p=2,\n",
       "                                           weights='uniform'),\n",
       "             iid='warn', n_jobs=-1,\n",
       "             param_grid={'n_neighbors': [1, 5, 10, 15, 20]},\n",
       "             pre_dispatch='2*n_jobs', refit=True, return_train_score=True,\n",
       "             scoring=None, verbose=0)"
      ]
     },
     "execution_count": 60,
     "metadata": {},
     "output_type": "execute_result"
    }
   ],
   "source": [
    "knn = KNeighborsRegressor()\n",
    "grid_search_knn = GridSearchCV(knn, grid_parms_knn,cv=6,return_train_score=True,n_jobs= -1)\n",
    "grid_search_knn.fit(X_train_pca, y_train)"
   ]
  },
  {
   "cell_type": "code",
   "execution_count": 61,
   "metadata": {},
   "outputs": [
    {
     "name": "stdout",
     "output_type": "stream",
     "text": [
      "Best parameters: {'n_neighbors': 10}\n",
      "Best cross-validation score: 0.6258\n"
     ]
    },
    {
     "data": {
      "text/html": [
       "<div>\n",
       "<style scoped>\n",
       "    .dataframe tbody tr th:only-of-type {\n",
       "        vertical-align: middle;\n",
       "    }\n",
       "\n",
       "    .dataframe tbody tr th {\n",
       "        vertical-align: top;\n",
       "    }\n",
       "\n",
       "    .dataframe thead th {\n",
       "        text-align: right;\n",
       "    }\n",
       "</style>\n",
       "<table border=\"1\" class=\"dataframe\">\n",
       "  <thead>\n",
       "    <tr style=\"text-align: right;\">\n",
       "      <th></th>\n",
       "      <th>mean_fit_time</th>\n",
       "      <th>std_fit_time</th>\n",
       "      <th>mean_score_time</th>\n",
       "      <th>std_score_time</th>\n",
       "      <th>param_n_neighbors</th>\n",
       "      <th>params</th>\n",
       "      <th>split0_test_score</th>\n",
       "      <th>split1_test_score</th>\n",
       "      <th>split2_test_score</th>\n",
       "      <th>split3_test_score</th>\n",
       "      <th>...</th>\n",
       "      <th>std_test_score</th>\n",
       "      <th>rank_test_score</th>\n",
       "      <th>split0_train_score</th>\n",
       "      <th>split1_train_score</th>\n",
       "      <th>split2_train_score</th>\n",
       "      <th>split3_train_score</th>\n",
       "      <th>split4_train_score</th>\n",
       "      <th>split5_train_score</th>\n",
       "      <th>mean_train_score</th>\n",
       "      <th>std_train_score</th>\n",
       "    </tr>\n",
       "  </thead>\n",
       "  <tbody>\n",
       "    <tr>\n",
       "      <th>0</th>\n",
       "      <td>0.002161</td>\n",
       "      <td>0.000373</td>\n",
       "      <td>0.015616</td>\n",
       "      <td>0.001091</td>\n",
       "      <td>1</td>\n",
       "      <td>{'n_neighbors': 1}</td>\n",
       "      <td>0.421427</td>\n",
       "      <td>0.551229</td>\n",
       "      <td>0.223191</td>\n",
       "      <td>0.391405</td>\n",
       "      <td>...</td>\n",
       "      <td>0.096931</td>\n",
       "      <td>5</td>\n",
       "      <td>1.000000</td>\n",
       "      <td>1.000000</td>\n",
       "      <td>1.000000</td>\n",
       "      <td>1.000000</td>\n",
       "      <td>1.000000</td>\n",
       "      <td>1.000000</td>\n",
       "      <td>1.000000</td>\n",
       "      <td>0.000000</td>\n",
       "    </tr>\n",
       "    <tr>\n",
       "      <th>1</th>\n",
       "      <td>0.003296</td>\n",
       "      <td>0.001285</td>\n",
       "      <td>0.022123</td>\n",
       "      <td>0.002130</td>\n",
       "      <td>5</td>\n",
       "      <td>{'n_neighbors': 5}</td>\n",
       "      <td>0.598767</td>\n",
       "      <td>0.669548</td>\n",
       "      <td>0.571707</td>\n",
       "      <td>0.595195</td>\n",
       "      <td>...</td>\n",
       "      <td>0.032168</td>\n",
       "      <td>4</td>\n",
       "      <td>0.731695</td>\n",
       "      <td>0.716498</td>\n",
       "      <td>0.730200</td>\n",
       "      <td>0.737697</td>\n",
       "      <td>0.729229</td>\n",
       "      <td>0.738841</td>\n",
       "      <td>0.730693</td>\n",
       "      <td>0.007307</td>\n",
       "    </tr>\n",
       "    <tr>\n",
       "      <th>2</th>\n",
       "      <td>0.001962</td>\n",
       "      <td>0.000041</td>\n",
       "      <td>0.017633</td>\n",
       "      <td>0.002982</td>\n",
       "      <td>10</td>\n",
       "      <td>{'n_neighbors': 10}</td>\n",
       "      <td>0.605140</td>\n",
       "      <td>0.676069</td>\n",
       "      <td>0.611738</td>\n",
       "      <td>0.594942</td>\n",
       "      <td>...</td>\n",
       "      <td>0.029701</td>\n",
       "      <td>1</td>\n",
       "      <td>0.691941</td>\n",
       "      <td>0.674760</td>\n",
       "      <td>0.691221</td>\n",
       "      <td>0.693407</td>\n",
       "      <td>0.684805</td>\n",
       "      <td>0.693201</td>\n",
       "      <td>0.688223</td>\n",
       "      <td>0.006676</td>\n",
       "    </tr>\n",
       "    <tr>\n",
       "      <th>3</th>\n",
       "      <td>0.002614</td>\n",
       "      <td>0.000448</td>\n",
       "      <td>0.023276</td>\n",
       "      <td>0.004524</td>\n",
       "      <td>15</td>\n",
       "      <td>{'n_neighbors': 15}</td>\n",
       "      <td>0.617311</td>\n",
       "      <td>0.660565</td>\n",
       "      <td>0.621157</td>\n",
       "      <td>0.576819</td>\n",
       "      <td>...</td>\n",
       "      <td>0.028162</td>\n",
       "      <td>2</td>\n",
       "      <td>0.670320</td>\n",
       "      <td>0.660114</td>\n",
       "      <td>0.664472</td>\n",
       "      <td>0.668015</td>\n",
       "      <td>0.661883</td>\n",
       "      <td>0.671819</td>\n",
       "      <td>0.666104</td>\n",
       "      <td>0.004290</td>\n",
       "    </tr>\n",
       "    <tr>\n",
       "      <th>4</th>\n",
       "      <td>0.002201</td>\n",
       "      <td>0.000805</td>\n",
       "      <td>0.021127</td>\n",
       "      <td>0.004243</td>\n",
       "      <td>20</td>\n",
       "      <td>{'n_neighbors': 20}</td>\n",
       "      <td>0.617206</td>\n",
       "      <td>0.647748</td>\n",
       "      <td>0.620677</td>\n",
       "      <td>0.573904</td>\n",
       "      <td>...</td>\n",
       "      <td>0.025157</td>\n",
       "      <td>3</td>\n",
       "      <td>0.651788</td>\n",
       "      <td>0.642357</td>\n",
       "      <td>0.647282</td>\n",
       "      <td>0.655603</td>\n",
       "      <td>0.642972</td>\n",
       "      <td>0.655733</td>\n",
       "      <td>0.649289</td>\n",
       "      <td>0.005472</td>\n",
       "    </tr>\n",
       "  </tbody>\n",
       "</table>\n",
       "<p>5 rows × 23 columns</p>\n",
       "</div>"
      ],
      "text/plain": [
       "   mean_fit_time  std_fit_time  mean_score_time  std_score_time  \\\n",
       "0       0.002161      0.000373         0.015616        0.001091   \n",
       "1       0.003296      0.001285         0.022123        0.002130   \n",
       "2       0.001962      0.000041         0.017633        0.002982   \n",
       "3       0.002614      0.000448         0.023276        0.004524   \n",
       "4       0.002201      0.000805         0.021127        0.004243   \n",
       "\n",
       "  param_n_neighbors               params  split0_test_score  \\\n",
       "0                 1   {'n_neighbors': 1}           0.421427   \n",
       "1                 5   {'n_neighbors': 5}           0.598767   \n",
       "2                10  {'n_neighbors': 10}           0.605140   \n",
       "3                15  {'n_neighbors': 15}           0.617311   \n",
       "4                20  {'n_neighbors': 20}           0.617206   \n",
       "\n",
       "   split1_test_score  split2_test_score  split3_test_score  ...  \\\n",
       "0           0.551229           0.223191           0.391405  ...   \n",
       "1           0.669548           0.571707           0.595195  ...   \n",
       "2           0.676069           0.611738           0.594942  ...   \n",
       "3           0.660565           0.621157           0.576819  ...   \n",
       "4           0.647748           0.620677           0.573904  ...   \n",
       "\n",
       "   std_test_score  rank_test_score  split0_train_score  split1_train_score  \\\n",
       "0        0.096931                5            1.000000            1.000000   \n",
       "1        0.032168                4            0.731695            0.716498   \n",
       "2        0.029701                1            0.691941            0.674760   \n",
       "3        0.028162                2            0.670320            0.660114   \n",
       "4        0.025157                3            0.651788            0.642357   \n",
       "\n",
       "   split2_train_score  split3_train_score  split4_train_score  \\\n",
       "0            1.000000            1.000000            1.000000   \n",
       "1            0.730200            0.737697            0.729229   \n",
       "2            0.691221            0.693407            0.684805   \n",
       "3            0.664472            0.668015            0.661883   \n",
       "4            0.647282            0.655603            0.642972   \n",
       "\n",
       "   split5_train_score  mean_train_score  std_train_score  \n",
       "0            1.000000          1.000000         0.000000  \n",
       "1            0.738841          0.730693         0.007307  \n",
       "2            0.693201          0.688223         0.006676  \n",
       "3            0.671819          0.666104         0.004290  \n",
       "4            0.655733          0.649289         0.005472  \n",
       "\n",
       "[5 rows x 23 columns]"
      ]
     },
     "execution_count": 61,
     "metadata": {},
     "output_type": "execute_result"
    }
   ],
   "source": [
    "print(\"Best parameters: {}\".format(grid_search_knn.best_params_))\n",
    "print(\"Best cross-validation score: {:.4f}\".format(grid_search_knn.best_score_))\n",
    "pd.DataFrame(grid_search_knn.cv_results_)"
   ]
  },
  {
   "cell_type": "code",
   "execution_count": 62,
   "metadata": {},
   "outputs": [
    {
     "data": {
      "text/plain": [
       "KNeighborsRegressor(algorithm='auto', leaf_size=30, metric='minkowski',\n",
       "                    metric_params=None, n_jobs=None, n_neighbors=10, p=2,\n",
       "                    weights='uniform')"
      ]
     },
     "execution_count": 62,
     "metadata": {},
     "output_type": "execute_result"
    },
    {
     "name": "stdout",
     "output_type": "stream",
     "text": [
      "0.6913540757064955\n"
     ]
    },
    {
     "data": {
      "text/plain": [
       "0.6045806851814914"
      ]
     },
     "execution_count": 62,
     "metadata": {},
     "output_type": "execute_result"
    }
   ],
   "source": [
    "knn = KNeighborsRegressor(n_neighbors = 10)\n",
    "knn.fit(X_train_pca, y_train)\n",
    "print(knn.score(X_train_pca, y_train))\n",
    "knn_test_score_ = knn.score(X_test_pca, y_test)\n",
    "knn_test_score_"
   ]
  },
  {
   "cell_type": "code",
   "execution_count": 63,
   "metadata": {},
   "outputs": [
    {
     "name": "stdout",
     "output_type": "stream",
     "text": [
      "Cross-validation scores:\n",
      "[0.60514031 0.67606942 0.61173799 0.59494206 0.65667458 0.61044463]\n",
      "0.625834831477951\n"
     ]
    }
   ],
   "source": [
    "from sklearn.model_selection import KFold\n",
    "from sklearn.model_selection import cross_val_score\n",
    "\n",
    "  \n",
    "kfold = KFold(n_splits=6)\n",
    "print(\"Cross-validation scores:\\n{}\".format(cross_val_score(knn , X_train_pca, y_train, cv=kfold)))\n",
    "scores = cross_val_score(knn , X_train_pca, y_train, cv=kfold)\n",
    "print(np.mean(scores))"
   ]
  },
  {
   "cell_type": "code",
   "execution_count": 64,
   "metadata": {},
   "outputs": [
    {
     "data": {
      "text/plain": [
       "KNeighborsRegressor(algorithm='auto', leaf_size=30, metric='minkowski',\n",
       "                    metric_params=None, n_jobs=None, n_neighbors=10, p=2,\n",
       "                    weights='uniform')"
      ]
     },
     "execution_count": 64,
     "metadata": {},
     "output_type": "execute_result"
    },
    {
     "data": {
      "text/plain": [
       "[<matplotlib.lines.Line2D at 0x1ee50960160>]"
      ]
     },
     "execution_count": 64,
     "metadata": {},
     "output_type": "execute_result"
    },
    {
     "data": {
      "text/plain": [
       "<matplotlib.collections.PathCollection at 0x1ee509606d8>"
      ]
     },
     "execution_count": 64,
     "metadata": {},
     "output_type": "execute_result"
    },
    {
     "data": {
      "text/plain": [
       "Text(0.5, 0, 'sqft_living')"
      ]
     },
     "execution_count": 64,
     "metadata": {},
     "output_type": "execute_result"
    },
    {
     "data": {
      "image/png": "[encoded data removed]",
      "text/plain": [
       "<Figure size 432x288 with 1 Axes>"
      ]
     },
     "metadata": {
      "needs_background": "light"
     },
     "output_type": "display_data"
    }
   ],
   "source": [
    "X_b = X_train_org[:50,2].reshape(-1,1)\n",
    "y_b = y_train[:50]\n",
    "\n",
    "knn_reg = KNeighborsRegressor(10)\n",
    "knn_reg.fit(X_b, y_b)\n",
    "\n",
    "X_new=np.linspace(X_b.min(), X_b.max(), 50).reshape(50, 1)\n",
    "y_predict = knn_reg.predict(X_new)\n",
    "\n",
    "plt.plot(X_new, y_predict, c = 'r')\n",
    "plt.scatter(X_b, y_b)\n",
    "plt.xlabel('sqft_living')"
   ]
  },
  {
   "cell_type": "markdown",
   "metadata": {},
   "source": [
    "### KNN Regression Summary:\n",
    "\n",
    "#### Train Score: 0.6914\n",
    "\n",
    "#### Test Score: 0.6046\n",
    "\n",
    "#### Best parameters: {'n_neighbors' : 10}\n",
    "\n",
    "#### Best Cross - Validation Score: 0.6258"
   ]
  },
  {
   "cell_type": "markdown",
   "metadata": {},
   "source": [
    "## Ridge Regression"
   ]
  },
  {
   "cell_type": "code",
   "execution_count": 65,
   "metadata": {},
   "outputs": [],
   "source": [
    "grid_parms_ridge = {'alpha': [0.01, 0.1, 1, 10, 100]}"
   ]
  },
  {
   "cell_type": "code",
   "execution_count": 66,
   "metadata": {},
   "outputs": [
    {
     "data": {
      "text/plain": [
       "GridSearchCV(cv=5, error_score='raise-deprecating',\n",
       "             estimator=Ridge(alpha=1.0, copy_X=True, fit_intercept=True,\n",
       "                             max_iter=None, normalize=False, random_state=None,\n",
       "                             solver='auto', tol=0.001),\n",
       "             iid='warn', n_jobs=-1,\n",
       "             param_grid={'alpha': [0.01, 0.1, 1, 10, 100]},\n",
       "             pre_dispatch='2*n_jobs', refit=True, return_train_score=True,\n",
       "             scoring=None, verbose=0)"
      ]
     },
     "execution_count": 66,
     "metadata": {},
     "output_type": "execute_result"
    },
    {
     "name": "stdout",
     "output_type": "stream",
     "text": [
      "Best parameters: {'alpha': 10}\n",
      "Best cross-validation score: 0.6885\n"
     ]
    }
   ],
   "source": [
    "ridge = Ridge()\n",
    "grid_search_ridge = GridSearchCV(estimator = ridge,param_grid = grid_parms_ridge,return_train_score=True,n_jobs= -1,cv=5)\n",
    "grid_search_ridge.fit(X_train_pca, y_train)\n",
    "print(\"Best parameters: {}\".format(grid_search_ridge.best_params_))\n",
    "\n",
    "print(\"Best cross-validation score: {:.4f}\".format(grid_search_ridge.best_score_))"
   ]
  },
  {
   "cell_type": "code",
   "execution_count": 67,
   "metadata": {},
   "outputs": [
    {
     "data": {
      "text/plain": [
       "Ridge(alpha=1, copy_X=True, fit_intercept=True, max_iter=None, normalize=False,\n",
       "      random_state=None, solver='auto', tol=0.001)"
      ]
     },
     "execution_count": 67,
     "metadata": {},
     "output_type": "execute_result"
    },
    {
     "name": "stdout",
     "output_type": "stream",
     "text": [
      "0.6955553286395487\n"
     ]
    },
    {
     "data": {
      "text/plain": [
       "0.6804586139054339"
      ]
     },
     "execution_count": 67,
     "metadata": {},
     "output_type": "execute_result"
    }
   ],
   "source": [
    "ridge = Ridge(alpha = 1)\n",
    "ridge.fit(X_train_pca, y_train)\n",
    "print(ridge.score(X_train_pca, y_train))\n",
    "ridge_test_score_ = ridge.score(X_test_pca, y_test)\n",
    "ridge_test_score_"
   ]
  },
  {
   "cell_type": "code",
   "execution_count": 68,
   "metadata": {},
   "outputs": [
    {
     "name": "stdout",
     "output_type": "stream",
     "text": [
      "Cross-validation scores:\n",
      "[0.66115431 0.71057115 0.69672738 0.68461466 0.72205333 0.66280047]\n",
      "0.6896535501606035\n"
     ]
    }
   ],
   "source": [
    "from sklearn.model_selection import KFold\n",
    "from sklearn.model_selection import cross_val_score\n",
    "\n",
    "  \n",
    "kfold = KFold(n_splits=6)\n",
    "print(\"Cross-validation scores:\\n{}\".format(cross_val_score(ridge , X_train_pca, y_train, cv=kfold)))\n",
    "scores = cross_val_score(ridge , X_train_pca, y_train, cv=kfold)\n",
    "print(np.mean(scores))"
   ]
  },
  {
   "cell_type": "code",
   "execution_count": 69,
   "metadata": {},
   "outputs": [
    {
     "data": {
      "text/html": [
       "<div>\n",
       "<style scoped>\n",
       "    .dataframe tbody tr th:only-of-type {\n",
       "        vertical-align: middle;\n",
       "    }\n",
       "\n",
       "    .dataframe tbody tr th {\n",
       "        vertical-align: top;\n",
       "    }\n",
       "\n",
       "    .dataframe thead th {\n",
       "        text-align: right;\n",
       "    }\n",
       "</style>\n",
       "<table border=\"1\" class=\"dataframe\">\n",
       "  <thead>\n",
       "    <tr style=\"text-align: right;\">\n",
       "      <th></th>\n",
       "      <th>mean_fit_time</th>\n",
       "      <th>std_fit_time</th>\n",
       "      <th>mean_score_time</th>\n",
       "      <th>std_score_time</th>\n",
       "      <th>param_alpha</th>\n",
       "      <th>params</th>\n",
       "      <th>split0_test_score</th>\n",
       "      <th>split1_test_score</th>\n",
       "      <th>split2_test_score</th>\n",
       "      <th>split3_test_score</th>\n",
       "      <th>...</th>\n",
       "      <th>mean_test_score</th>\n",
       "      <th>std_test_score</th>\n",
       "      <th>rank_test_score</th>\n",
       "      <th>split0_train_score</th>\n",
       "      <th>split1_train_score</th>\n",
       "      <th>split2_train_score</th>\n",
       "      <th>split3_train_score</th>\n",
       "      <th>split4_train_score</th>\n",
       "      <th>mean_train_score</th>\n",
       "      <th>std_train_score</th>\n",
       "    </tr>\n",
       "  </thead>\n",
       "  <tbody>\n",
       "    <tr>\n",
       "      <th>0</th>\n",
       "      <td>0.012731</td>\n",
       "      <td>0.001383</td>\n",
       "      <td>0.000983</td>\n",
       "      <td>0.000135</td>\n",
       "      <td>0.01</td>\n",
       "      <td>{'alpha': 0.01}</td>\n",
       "      <td>0.647629</td>\n",
       "      <td>0.717941</td>\n",
       "      <td>0.682919</td>\n",
       "      <td>0.699654</td>\n",
       "      <td>...</td>\n",
       "      <td>0.688448</td>\n",
       "      <td>0.023364</td>\n",
       "      <td>4</td>\n",
       "      <td>0.705899</td>\n",
       "      <td>0.688213</td>\n",
       "      <td>0.697795</td>\n",
       "      <td>0.693616</td>\n",
       "      <td>0.695159</td>\n",
       "      <td>0.696137</td>\n",
       "      <td>0.005799</td>\n",
       "    </tr>\n",
       "    <tr>\n",
       "      <th>1</th>\n",
       "      <td>0.005174</td>\n",
       "      <td>0.003452</td>\n",
       "      <td>0.000723</td>\n",
       "      <td>0.000365</td>\n",
       "      <td>0.1</td>\n",
       "      <td>{'alpha': 0.1}</td>\n",
       "      <td>0.647634</td>\n",
       "      <td>0.717941</td>\n",
       "      <td>0.682914</td>\n",
       "      <td>0.699656</td>\n",
       "      <td>...</td>\n",
       "      <td>0.688449</td>\n",
       "      <td>0.023362</td>\n",
       "      <td>3</td>\n",
       "      <td>0.705899</td>\n",
       "      <td>0.688213</td>\n",
       "      <td>0.697795</td>\n",
       "      <td>0.693616</td>\n",
       "      <td>0.695159</td>\n",
       "      <td>0.696137</td>\n",
       "      <td>0.005799</td>\n",
       "    </tr>\n",
       "    <tr>\n",
       "      <th>2</th>\n",
       "      <td>0.000798</td>\n",
       "      <td>0.000399</td>\n",
       "      <td>0.000676</td>\n",
       "      <td>0.000570</td>\n",
       "      <td>1</td>\n",
       "      <td>{'alpha': 1}</td>\n",
       "      <td>0.647687</td>\n",
       "      <td>0.717943</td>\n",
       "      <td>0.682866</td>\n",
       "      <td>0.699677</td>\n",
       "      <td>...</td>\n",
       "      <td>0.688453</td>\n",
       "      <td>0.023348</td>\n",
       "      <td>2</td>\n",
       "      <td>0.705898</td>\n",
       "      <td>0.688213</td>\n",
       "      <td>0.697795</td>\n",
       "      <td>0.693616</td>\n",
       "      <td>0.695159</td>\n",
       "      <td>0.696136</td>\n",
       "      <td>0.005799</td>\n",
       "    </tr>\n",
       "    <tr>\n",
       "      <th>3</th>\n",
       "      <td>0.000707</td>\n",
       "      <td>0.000737</td>\n",
       "      <td>0.000610</td>\n",
       "      <td>0.000499</td>\n",
       "      <td>10</td>\n",
       "      <td>{'alpha': 10}</td>\n",
       "      <td>0.648176</td>\n",
       "      <td>0.717929</td>\n",
       "      <td>0.682366</td>\n",
       "      <td>0.699848</td>\n",
       "      <td>...</td>\n",
       "      <td>0.688463</td>\n",
       "      <td>0.023211</td>\n",
       "      <td>1</td>\n",
       "      <td>0.705864</td>\n",
       "      <td>0.688178</td>\n",
       "      <td>0.697764</td>\n",
       "      <td>0.693581</td>\n",
       "      <td>0.695127</td>\n",
       "      <td>0.696103</td>\n",
       "      <td>0.005799</td>\n",
       "    </tr>\n",
       "    <tr>\n",
       "      <th>4</th>\n",
       "      <td>0.000786</td>\n",
       "      <td>0.000394</td>\n",
       "      <td>0.000627</td>\n",
       "      <td>0.000515</td>\n",
       "      <td>100</td>\n",
       "      <td>{'alpha': 100}</td>\n",
       "      <td>0.649827</td>\n",
       "      <td>0.715469</td>\n",
       "      <td>0.675894</td>\n",
       "      <td>0.697946</td>\n",
       "      <td>...</td>\n",
       "      <td>0.686028</td>\n",
       "      <td>0.022140</td>\n",
       "      <td>5</td>\n",
       "      <td>0.703014</td>\n",
       "      <td>0.685287</td>\n",
       "      <td>0.695220</td>\n",
       "      <td>0.690714</td>\n",
       "      <td>0.692441</td>\n",
       "      <td>0.693335</td>\n",
       "      <td>0.005825</td>\n",
       "    </tr>\n",
       "  </tbody>\n",
       "</table>\n",
       "<p>5 rows × 21 columns</p>\n",
       "</div>"
      ],
      "text/plain": [
       "   mean_fit_time  std_fit_time  mean_score_time  std_score_time param_alpha  \\\n",
       "0       0.012731      0.001383         0.000983        0.000135        0.01   \n",
       "1       0.005174      0.003452         0.000723        0.000365         0.1   \n",
       "2       0.000798      0.000399         0.000676        0.000570           1   \n",
       "3       0.000707      0.000737         0.000610        0.000499          10   \n",
       "4       0.000786      0.000394         0.000627        0.000515         100   \n",
       "\n",
       "            params  split0_test_score  split1_test_score  split2_test_score  \\\n",
       "0  {'alpha': 0.01}           0.647629           0.717941           0.682919   \n",
       "1   {'alpha': 0.1}           0.647634           0.717941           0.682914   \n",
       "2     {'alpha': 1}           0.647687           0.717943           0.682866   \n",
       "3    {'alpha': 10}           0.648176           0.717929           0.682366   \n",
       "4   {'alpha': 100}           0.649827           0.715469           0.675894   \n",
       "\n",
       "   split3_test_score  ...  mean_test_score  std_test_score  rank_test_score  \\\n",
       "0           0.699654  ...         0.688448        0.023364                4   \n",
       "1           0.699656  ...         0.688449        0.023362                3   \n",
       "2           0.699677  ...         0.688453        0.023348                2   \n",
       "3           0.699848  ...         0.688463        0.023211                1   \n",
       "4           0.697946  ...         0.686028        0.022140                5   \n",
       "\n",
       "   split0_train_score  split1_train_score  split2_train_score  \\\n",
       "0            0.705899            0.688213            0.697795   \n",
       "1            0.705899            0.688213            0.697795   \n",
       "2            0.705898            0.688213            0.697795   \n",
       "3            0.705864            0.688178            0.697764   \n",
       "4            0.703014            0.685287            0.695220   \n",
       "\n",
       "   split3_train_score  split4_train_score  mean_train_score  std_train_score  \n",
       "0            0.693616            0.695159          0.696137         0.005799  \n",
       "1            0.693616            0.695159          0.696137         0.005799  \n",
       "2            0.693616            0.695159          0.696136         0.005799  \n",
       "3            0.693581            0.695127          0.696103         0.005799  \n",
       "4            0.690714            0.692441          0.693335         0.005825  \n",
       "\n",
       "[5 rows x 21 columns]"
      ]
     },
     "execution_count": 69,
     "metadata": {},
     "output_type": "execute_result"
    }
   ],
   "source": [
    "result_ridge = pd.DataFrame(grid_search_ridge.cv_results_)\n",
    "result_ridge"
   ]
  },
  {
   "cell_type": "code",
   "execution_count": 70,
   "metadata": {},
   "outputs": [
    {
     "data": {
      "text/plain": [
       "[<matplotlib.lines.Line2D at 0x1ee509d53c8>]"
      ]
     },
     "execution_count": 70,
     "metadata": {},
     "output_type": "execute_result"
    },
    {
     "data": {
      "text/plain": [
       "[<matplotlib.lines.Line2D at 0x1ee509d5780>]"
      ]
     },
     "execution_count": 70,
     "metadata": {},
     "output_type": "execute_result"
    },
    {
     "data": {
      "text/plain": [
       "([<matplotlib.axis.XTick at 0x1ee509197b8>,\n",
       "  <matplotlib.axis.XTick at 0x1ee5098f0f0>,\n",
       "  <matplotlib.axis.XTick at 0x1ee5098fe48>,\n",
       "  <matplotlib.axis.XTick at 0x1ee509d5e10>,\n",
       "  <matplotlib.axis.XTick at 0x1ee509e2320>],\n",
       " <a list of 5 Text xticklabel objects>)"
      ]
     },
     "execution_count": 70,
     "metadata": {},
     "output_type": "execute_result"
    },
    {
     "data": {
      "text/plain": [
       "[<matplotlib.lines.Line2D at 0x1ee509e26a0>]"
      ]
     },
     "execution_count": 70,
     "metadata": {},
     "output_type": "execute_result"
    },
    {
     "data": {
      "text/plain": [
       "[<matplotlib.lines.Line2D at 0x1ee509e2be0>]"
      ]
     },
     "execution_count": 70,
     "metadata": {},
     "output_type": "execute_result"
    },
    {
     "data": {
      "text/plain": [
       "<matplotlib.legend.Legend at 0x1ee509e2f98>"
      ]
     },
     "execution_count": 70,
     "metadata": {},
     "output_type": "execute_result"
    },
    {
     "data": {
      "text/plain": [
       "Text(0.5, 0, 'Alpha')"
      ]
     },
     "execution_count": 70,
     "metadata": {},
     "output_type": "execute_result"
    },
    {
     "data": {
      "image/png": "[encoded data removed]",
      "text/plain": [
       "<Figure size 432x288 with 1 Axes>"
      ]
     },
     "metadata": {
      "needs_background": "light"
     },
     "output_type": "display_data"
    }
   ],
   "source": [
    "import matplotlib.pyplot as plt\n",
    "%matplotlib inline\n",
    "\n",
    "plt.plot(range(result_ridge.shape[0]), result_ridge['mean_train_score'], label = 'mean train score')\n",
    "plt.plot(range(result_ridge.shape[0]), result_ridge['mean_test_score'], label = 'mean test score')\n",
    "plt.xticks(range(result_ridge.shape[0]), result_ridge['param_alpha'], rotation = 90)\n",
    "plt.plot([grid_search_ridge.best_index_], result_ridge['mean_train_score'][grid_search_ridge.best_index_], 'o', markersize = 10, fillstyle = \"none\")\n",
    "plt.plot([grid_search_ridge.best_index_], result_ridge['mean_test_score'][grid_search_ridge.best_index_], 'o', markersize = 10, fillstyle = \"none\")\n",
    "plt.grid()\n",
    "plt.legend()\n",
    "plt.xlabel('Alpha')"
   ]
  },
  {
   "cell_type": "markdown",
   "metadata": {},
   "source": [
    "### Ridge Regression Summary:\n",
    "\n",
    "#### Train Score: 0.6956\n",
    "\n",
    "#### Test Score: 0.6805\n",
    "\n",
    "#### Best Parameters: {'alpha' : 10}\n",
    "\n",
    "#### Best Cross - Validation Score: 0.6885"
   ]
  },
  {
   "cell_type": "markdown",
   "metadata": {},
   "source": [
    "## Lasso Regression"
   ]
  },
  {
   "cell_type": "code",
   "execution_count": 71,
   "metadata": {},
   "outputs": [],
   "source": [
    "grid_parms_lasso = {'alpha': [0.01, 0.1, 1, 10,100]}"
   ]
  },
  {
   "cell_type": "code",
   "execution_count": 72,
   "metadata": {},
   "outputs": [
    {
     "data": {
      "text/plain": [
       "GridSearchCV(cv=5, error_score='raise-deprecating',\n",
       "             estimator=Lasso(alpha=1.0, copy_X=True, fit_intercept=True,\n",
       "                             max_iter=1000, normalize=False, positive=False,\n",
       "                             precompute=False, random_state=None,\n",
       "                             selection='cyclic', tol=0.0001, warm_start=False),\n",
       "             iid='warn', n_jobs=-1,\n",
       "             param_grid={'alpha': [0.01, 0.1, 1, 10, 100]},\n",
       "             pre_dispatch='2*n_jobs', refit=True, return_train_score=True,\n",
       "             scoring=None, verbose=0)"
      ]
     },
     "execution_count": 72,
     "metadata": {},
     "output_type": "execute_result"
    },
    {
     "name": "stdout",
     "output_type": "stream",
     "text": [
      "Best parameters: {'alpha': 0.01}\n",
      "Best cross-validation score: 0.6686\n"
     ]
    }
   ],
   "source": [
    "lasso = Lasso()\n",
    "grid_search_lasso = GridSearchCV(estimator = lasso,param_grid = grid_parms_lasso,return_train_score=True,n_jobs=-1,cv=5)\n",
    "grid_search_lasso.fit(X_train_pca, y_train)\n",
    "print(\"Best parameters: {}\".format(grid_search_lasso.best_params_))\n",
    "print(\"Best cross-validation score: {:.4f}\".format(grid_search_lasso.best_score_))"
   ]
  },
  {
   "cell_type": "code",
   "execution_count": 73,
   "metadata": {},
   "outputs": [
    {
     "data": {
      "text/plain": [
       "Lasso(alpha=10, copy_X=True, fit_intercept=True, max_iter=1000, normalize=False,\n",
       "      positive=False, precompute=False, random_state=None, selection='cyclic',\n",
       "      tol=0.0001, warm_start=False)"
      ]
     },
     "execution_count": 73,
     "metadata": {},
     "output_type": "execute_result"
    },
    {
     "name": "stdout",
     "output_type": "stream",
     "text": [
      "0.0\n"
     ]
    },
    {
     "data": {
      "text/plain": [
       "-2.8005758561100436e-06"
      ]
     },
     "execution_count": 73,
     "metadata": {},
     "output_type": "execute_result"
    }
   ],
   "source": [
    "las = Lasso(alpha = 10)\n",
    "las.fit(X_train_pca, y_train)\n",
    "print(las.score(X_train_pca, y_train))\n",
    "las_test_score_ = las.score(X_test_pca, y_test)\n",
    "las_test_score_"
   ]
  },
  {
   "cell_type": "code",
   "execution_count": 74,
   "metadata": {},
   "outputs": [
    {
     "name": "stdout",
     "output_type": "stream",
     "text": [
      "Cross-validation scores:\n",
      "[-1.95811601e-03 -9.56784282e-05 -1.26085227e-04 -8.69436647e-04\n",
      " -3.47135988e-03 -2.09627356e-04]\n",
      "-0.0011217172578971146\n"
     ]
    }
   ],
   "source": [
    "from sklearn.model_selection import KFold\n",
    "from sklearn.model_selection import cross_val_score\n",
    "\n",
    "  \n",
    "kfold = KFold(n_splits=6)\n",
    "print(\"Cross-validation scores:\\n{}\".format(cross_val_score(lass , X_train_pca, y_train, cv=kfold)))\n",
    "scores = cross_val_score(lass , X_train_pca, y_train, cv=kfold)\n",
    "print(np.mean(scores))"
   ]
  },
  {
   "cell_type": "code",
   "execution_count": 75,
   "metadata": {},
   "outputs": [
    {
     "data": {
      "text/html": [
       "<div>\n",
       "<style scoped>\n",
       "    .dataframe tbody tr th:only-of-type {\n",
       "        vertical-align: middle;\n",
       "    }\n",
       "\n",
       "    .dataframe tbody tr th {\n",
       "        vertical-align: top;\n",
       "    }\n",
       "\n",
       "    .dataframe thead th {\n",
       "        text-align: right;\n",
       "    }\n",
       "</style>\n",
       "<table border=\"1\" class=\"dataframe\">\n",
       "  <thead>\n",
       "    <tr style=\"text-align: right;\">\n",
       "      <th></th>\n",
       "      <th>mean_fit_time</th>\n",
       "      <th>std_fit_time</th>\n",
       "      <th>mean_score_time</th>\n",
       "      <th>std_score_time</th>\n",
       "      <th>param_alpha</th>\n",
       "      <th>params</th>\n",
       "      <th>split0_test_score</th>\n",
       "      <th>split1_test_score</th>\n",
       "      <th>split2_test_score</th>\n",
       "      <th>split3_test_score</th>\n",
       "      <th>...</th>\n",
       "      <th>mean_test_score</th>\n",
       "      <th>std_test_score</th>\n",
       "      <th>rank_test_score</th>\n",
       "      <th>split0_train_score</th>\n",
       "      <th>split1_train_score</th>\n",
       "      <th>split2_train_score</th>\n",
       "      <th>split3_train_score</th>\n",
       "      <th>split4_train_score</th>\n",
       "      <th>mean_train_score</th>\n",
       "      <th>std_train_score</th>\n",
       "    </tr>\n",
       "  </thead>\n",
       "  <tbody>\n",
       "    <tr>\n",
       "      <th>0</th>\n",
       "      <td>0.001389</td>\n",
       "      <td>0.000533</td>\n",
       "      <td>0.000614</td>\n",
       "      <td>0.000501</td>\n",
       "      <td>0.01</td>\n",
       "      <td>{'alpha': 0.01}</td>\n",
       "      <td>0.641841</td>\n",
       "      <td>0.697043</td>\n",
       "      <td>0.654978</td>\n",
       "      <td>0.682145</td>\n",
       "      <td>...</td>\n",
       "      <td>0.668594</td>\n",
       "      <td>0.019490</td>\n",
       "      <td>1</td>\n",
       "      <td>0.684492</td>\n",
       "      <td>0.665666</td>\n",
       "      <td>0.676166</td>\n",
       "      <td>0.672546</td>\n",
       "      <td>0.672109</td>\n",
       "      <td>0.674196</td>\n",
       "      <td>0.006160</td>\n",
       "    </tr>\n",
       "    <tr>\n",
       "      <th>1</th>\n",
       "      <td>0.001371</td>\n",
       "      <td>0.000441</td>\n",
       "      <td>0.000626</td>\n",
       "      <td>0.000458</td>\n",
       "      <td>0.1</td>\n",
       "      <td>{'alpha': 0.1}</td>\n",
       "      <td>0.237759</td>\n",
       "      <td>0.282439</td>\n",
       "      <td>0.252224</td>\n",
       "      <td>0.239664</td>\n",
       "      <td>...</td>\n",
       "      <td>0.257819</td>\n",
       "      <td>0.018644</td>\n",
       "      <td>2</td>\n",
       "      <td>0.279529</td>\n",
       "      <td>0.228918</td>\n",
       "      <td>0.271879</td>\n",
       "      <td>0.276914</td>\n",
       "      <td>0.253888</td>\n",
       "      <td>0.262226</td>\n",
       "      <td>0.018906</td>\n",
       "    </tr>\n",
       "    <tr>\n",
       "      <th>2</th>\n",
       "      <td>0.001123</td>\n",
       "      <td>0.000380</td>\n",
       "      <td>0.000739</td>\n",
       "      <td>0.000598</td>\n",
       "      <td>1</td>\n",
       "      <td>{'alpha': 1}</td>\n",
       "      <td>-0.002549</td>\n",
       "      <td>-0.000035</td>\n",
       "      <td>-0.000146</td>\n",
       "      <td>-0.000992</td>\n",
       "      <td>...</td>\n",
       "      <td>-0.000864</td>\n",
       "      <td>0.000910</td>\n",
       "      <td>3</td>\n",
       "      <td>0.000000</td>\n",
       "      <td>0.000000</td>\n",
       "      <td>0.000000</td>\n",
       "      <td>0.000000</td>\n",
       "      <td>0.000000</td>\n",
       "      <td>0.000000</td>\n",
       "      <td>0.000000</td>\n",
       "    </tr>\n",
       "    <tr>\n",
       "      <th>3</th>\n",
       "      <td>0.000728</td>\n",
       "      <td>0.000383</td>\n",
       "      <td>0.000715</td>\n",
       "      <td>0.000475</td>\n",
       "      <td>10</td>\n",
       "      <td>{'alpha': 10}</td>\n",
       "      <td>-0.002549</td>\n",
       "      <td>-0.000035</td>\n",
       "      <td>-0.000146</td>\n",
       "      <td>-0.000992</td>\n",
       "      <td>...</td>\n",
       "      <td>-0.000864</td>\n",
       "      <td>0.000910</td>\n",
       "      <td>3</td>\n",
       "      <td>0.000000</td>\n",
       "      <td>0.000000</td>\n",
       "      <td>0.000000</td>\n",
       "      <td>0.000000</td>\n",
       "      <td>0.000000</td>\n",
       "      <td>0.000000</td>\n",
       "      <td>0.000000</td>\n",
       "    </tr>\n",
       "    <tr>\n",
       "      <th>4</th>\n",
       "      <td>0.000790</td>\n",
       "      <td>0.000396</td>\n",
       "      <td>0.000704</td>\n",
       "      <td>0.000401</td>\n",
       "      <td>100</td>\n",
       "      <td>{'alpha': 100}</td>\n",
       "      <td>-0.002549</td>\n",
       "      <td>-0.000035</td>\n",
       "      <td>-0.000146</td>\n",
       "      <td>-0.000992</td>\n",
       "      <td>...</td>\n",
       "      <td>-0.000864</td>\n",
       "      <td>0.000910</td>\n",
       "      <td>3</td>\n",
       "      <td>0.000000</td>\n",
       "      <td>0.000000</td>\n",
       "      <td>0.000000</td>\n",
       "      <td>0.000000</td>\n",
       "      <td>0.000000</td>\n",
       "      <td>0.000000</td>\n",
       "      <td>0.000000</td>\n",
       "    </tr>\n",
       "  </tbody>\n",
       "</table>\n",
       "<p>5 rows × 21 columns</p>\n",
       "</div>"
      ],
      "text/plain": [
       "   mean_fit_time  std_fit_time  mean_score_time  std_score_time param_alpha  \\\n",
       "0       0.001389      0.000533         0.000614        0.000501        0.01   \n",
       "1       0.001371      0.000441         0.000626        0.000458         0.1   \n",
       "2       0.001123      0.000380         0.000739        0.000598           1   \n",
       "3       0.000728      0.000383         0.000715        0.000475          10   \n",
       "4       0.000790      0.000396         0.000704        0.000401         100   \n",
       "\n",
       "            params  split0_test_score  split1_test_score  split2_test_score  \\\n",
       "0  {'alpha': 0.01}           0.641841           0.697043           0.654978   \n",
       "1   {'alpha': 0.1}           0.237759           0.282439           0.252224   \n",
       "2     {'alpha': 1}          -0.002549          -0.000035          -0.000146   \n",
       "3    {'alpha': 10}          -0.002549          -0.000035          -0.000146   \n",
       "4   {'alpha': 100}          -0.002549          -0.000035          -0.000146   \n",
       "\n",
       "   split3_test_score  ...  mean_test_score  std_test_score  rank_test_score  \\\n",
       "0           0.682145  ...         0.668594        0.019490                1   \n",
       "1           0.239664  ...         0.257819        0.018644                2   \n",
       "2          -0.000992  ...        -0.000864        0.000910                3   \n",
       "3          -0.000992  ...        -0.000864        0.000910                3   \n",
       "4          -0.000992  ...        -0.000864        0.000910                3   \n",
       "\n",
       "   split0_train_score  split1_train_score  split2_train_score  \\\n",
       "0            0.684492            0.665666            0.676166   \n",
       "1            0.279529            0.228918            0.271879   \n",
       "2            0.000000            0.000000            0.000000   \n",
       "3            0.000000            0.000000            0.000000   \n",
       "4            0.000000            0.000000            0.000000   \n",
       "\n",
       "   split3_train_score  split4_train_score  mean_train_score  std_train_score  \n",
       "0            0.672546            0.672109          0.674196         0.006160  \n",
       "1            0.276914            0.253888          0.262226         0.018906  \n",
       "2            0.000000            0.000000          0.000000         0.000000  \n",
       "3            0.000000            0.000000          0.000000         0.000000  \n",
       "4            0.000000            0.000000          0.000000         0.000000  \n",
       "\n",
       "[5 rows x 21 columns]"
      ]
     },
     "execution_count": 75,
     "metadata": {},
     "output_type": "execute_result"
    }
   ],
   "source": [
    "result_lasso = pd.DataFrame(grid_search_lasso.cv_results_)\n",
    "result_lasso"
   ]
  },
  {
   "cell_type": "code",
   "execution_count": 76,
   "metadata": {},
   "outputs": [
    {
     "data": {
      "text/plain": [
       "[<matplotlib.lines.Line2D at 0x1ee50a507b8>]"
      ]
     },
     "execution_count": 76,
     "metadata": {},
     "output_type": "execute_result"
    },
    {
     "data": {
      "text/plain": [
       "[<matplotlib.lines.Line2D at 0x1ee50979ef0>]"
      ]
     },
     "execution_count": 76,
     "metadata": {},
     "output_type": "execute_result"
    },
    {
     "data": {
      "text/plain": [
       "([<matplotlib.axis.XTick at 0x1ee50a37e48>,\n",
       "  <matplotlib.axis.XTick at 0x1ee50a377b8>,\n",
       "  <matplotlib.axis.XTick at 0x1ee50a374e0>,\n",
       "  <matplotlib.axis.XTick at 0x1ee50a601d0>,\n",
       "  <matplotlib.axis.XTick at 0x1ee50a606d8>],\n",
       " <a list of 5 Text xticklabel objects>)"
      ]
     },
     "execution_count": 76,
     "metadata": {},
     "output_type": "execute_result"
    },
    {
     "data": {
      "text/plain": [
       "[<matplotlib.lines.Line2D at 0x1ee50a50e80>]"
      ]
     },
     "execution_count": 76,
     "metadata": {},
     "output_type": "execute_result"
    },
    {
     "data": {
      "text/plain": [
       "[<matplotlib.lines.Line2D at 0x1ee50a604a8>]"
      ]
     },
     "execution_count": 76,
     "metadata": {},
     "output_type": "execute_result"
    },
    {
     "data": {
      "text/plain": [
       "<matplotlib.legend.Legend at 0x1ee50a50fd0>"
      ]
     },
     "execution_count": 76,
     "metadata": {},
     "output_type": "execute_result"
    },
    {
     "data": {
      "text/plain": [
       "Text(0.5, 0, 'Alpha')"
      ]
     },
     "execution_count": 76,
     "metadata": {},
     "output_type": "execute_result"
    },
    {
     "data": {
      "image/png": "[encoded data removed]",
      "text/plain": [
       "<Figure size 432x288 with 1 Axes>"
      ]
     },
     "metadata": {
      "needs_background": "light"
     },
     "output_type": "display_data"
    }
   ],
   "source": [
    "%matplotlib inline\n",
    "\n",
    "plt.plot(range(result_lasso.shape[0]), result_lasso['mean_train_score'], label = 'mean train score')\n",
    "plt.plot(range(result_lasso.shape[0]), result_lasso['mean_test_score'], label = 'mean test score')\n",
    "plt.xticks(range(result_lasso.shape[0]), result_lasso['param_alpha'], rotation = 90)\n",
    "plt.plot([grid_search_lasso.best_index_], result_lasso['mean_train_score'][grid_search_lasso.best_index_], 'o', markersize = 10, fillstyle = \"none\")\n",
    "plt.plot([grid_search_lasso.best_index_], result_lasso['mean_test_score'][grid_search_lasso.best_index_], 'o', markersize = 10, fillstyle = \"none\")\n",
    "plt.grid()\n",
    "plt.legend()\n",
    "plt.xlabel('Alpha')"
   ]
  },
  {
   "cell_type": "markdown",
   "metadata": {},
   "source": [
    "### Lasso Regression Summary:\n",
    "\n",
    "#### Train Score: 0.0\n",
    "\n",
    "#### Test Score: -2.8006\n",
    "\n",
    "#### Best Parameters: {'alpha' : 0.01}\n",
    "\n",
    "#### Best Cross - Validation Score: 0.6686"
   ]
  },
  {
   "cell_type": "markdown",
   "metadata": {},
   "source": [
    "## Polynomial Regression"
   ]
  },
  {
   "cell_type": "code",
   "execution_count": 77,
   "metadata": {},
   "outputs": [],
   "source": [
    "from sklearn.preprocessing import PolynomialFeatures\n",
    "from sklearn.linear_model import LinearRegression\n",
    "from sklearn.pipeline import make_pipeline\n",
    "\n",
    "def PolynomialRegression(degree=2, **kwargs):\n",
    "    return make_pipeline(PolynomialFeatures(degree),\n",
    "                         LinearRegression(**kwargs))"
   ]
  },
  {
   "cell_type": "code",
   "execution_count": 78,
   "metadata": {},
   "outputs": [],
   "source": [
    "param_grid_poly = {'polynomialfeatures__degree': np.arange(3)}\n",
    "\n",
    "grid_poly = GridSearchCV(PolynomialRegression(), param_grid_poly,return_train_score=True,n_jobs=-1,cv=5)"
   ]
  },
  {
   "cell_type": "code",
   "execution_count": 79,
   "metadata": {},
   "outputs": [
    {
     "data": {
      "text/plain": [
       "GridSearchCV(cv=5, error_score='raise-deprecating',\n",
       "             estimator=Pipeline(memory=None,\n",
       "                                steps=[('polynomialfeatures',\n",
       "                                        PolynomialFeatures(degree=2,\n",
       "                                                           include_bias=True,\n",
       "                                                           interaction_only=False,\n",
       "                                                           order='C')),\n",
       "                                       ('linearregression',\n",
       "                                        LinearRegression(copy_X=True,\n",
       "                                                         fit_intercept=True,\n",
       "                                                         n_jobs=None,\n",
       "                                                         normalize=False))],\n",
       "                                verbose=False),\n",
       "             iid='warn', n_jobs=-1,\n",
       "             param_grid={'polynomialfeatures__degree': array([0, 1, 2])},\n",
       "             pre_dispatch='2*n_jobs', refit=True, return_train_score=True,\n",
       "             scoring=None, verbose=0)"
      ]
     },
     "execution_count": 79,
     "metadata": {},
     "output_type": "execute_result"
    }
   ],
   "source": [
    "grid_poly.fit(X_train_pca, y_train)"
   ]
  },
  {
   "cell_type": "code",
   "execution_count": 80,
   "metadata": {},
   "outputs": [
    {
     "name": "stdout",
     "output_type": "stream",
     "text": [
      "Best parameters: {'polynomialfeatures__degree': 2}\n",
      "Best cross-validation score: 0.7070\n"
     ]
    }
   ],
   "source": [
    "print(\"Best parameters: {}\".format(grid_poly.best_params_))\n",
    "print(\"Best cross-validation score: {:.4f}\".format(grid_poly.best_score_))"
   ]
  },
  {
   "cell_type": "code",
   "execution_count": 81,
   "metadata": {},
   "outputs": [
    {
     "data": {
      "text/plain": [
       "LinearRegression(copy_X=True, fit_intercept=True, n_jobs=None, normalize=False)"
      ]
     },
     "execution_count": 81,
     "metadata": {},
     "output_type": "execute_result"
    },
    {
     "name": "stdout",
     "output_type": "stream",
     "text": [
      "0.7521345246769945\n"
     ]
    },
    {
     "data": {
      "text/plain": [
       "0.7053224874928257"
      ]
     },
     "execution_count": 81,
     "metadata": {},
     "output_type": "execute_result"
    }
   ],
   "source": [
    "pol = PolynomialFeatures(degree = 2)\n",
    "X_pol = pol.fit_transform(X_train_pca)\n",
    "Xt_pol = pol.fit_transform(X_test_pca)\n",
    "pol_reg = LinearRegression()\n",
    "pol_reg.fit(X_pol,y_train)\n",
    "print(pol_reg.score(X_pol, y_train))\n",
    "pol_reg_test_score = pol_reg.score(Xt_pol, y_test)\n",
    "pol_reg_test_score"
   ]
  },
  {
   "cell_type": "code",
   "execution_count": 82,
   "metadata": {},
   "outputs": [
    {
     "name": "stdout",
     "output_type": "stream",
     "text": [
      "Cross-validation scores:\n",
      "[0.68262275 0.75739177 0.72060185 0.69318027 0.69318301 0.68962393]\n",
      "0.7061005984499915\n"
     ]
    }
   ],
   "source": [
    "from sklearn.model_selection import KFold\n",
    "from sklearn.model_selection import cross_val_score\n",
    "\n",
    "  \n",
    "kfold = KFold(n_splits=6)\n",
    "print(\"Cross-validation scores:\\n{}\".format(cross_val_score(pol_reg , X_pol, y_train, cv=kfold)))\n",
    "scores = cross_val_score(pol_reg , X_pol, y_train, cv=kfold)\n",
    "print(np.mean(scores))"
   ]
  },
  {
   "cell_type": "code",
   "execution_count": 83,
   "metadata": {},
   "outputs": [
    {
     "data": {
      "text/html": [
       "<div>\n",
       "<style scoped>\n",
       "    .dataframe tbody tr th:only-of-type {\n",
       "        vertical-align: middle;\n",
       "    }\n",
       "\n",
       "    .dataframe tbody tr th {\n",
       "        vertical-align: top;\n",
       "    }\n",
       "\n",
       "    .dataframe thead th {\n",
       "        text-align: right;\n",
       "    }\n",
       "</style>\n",
       "<table border=\"1\" class=\"dataframe\">\n",
       "  <thead>\n",
       "    <tr style=\"text-align: right;\">\n",
       "      <th></th>\n",
       "      <th>mean_fit_time</th>\n",
       "      <th>std_fit_time</th>\n",
       "      <th>mean_score_time</th>\n",
       "      <th>std_score_time</th>\n",
       "      <th>param_polynomialfeatures__degree</th>\n",
       "      <th>params</th>\n",
       "      <th>split0_test_score</th>\n",
       "      <th>split1_test_score</th>\n",
       "      <th>split2_test_score</th>\n",
       "      <th>split3_test_score</th>\n",
       "      <th>...</th>\n",
       "      <th>mean_test_score</th>\n",
       "      <th>std_test_score</th>\n",
       "      <th>rank_test_score</th>\n",
       "      <th>split0_train_score</th>\n",
       "      <th>split1_train_score</th>\n",
       "      <th>split2_train_score</th>\n",
       "      <th>split3_train_score</th>\n",
       "      <th>split4_train_score</th>\n",
       "      <th>mean_train_score</th>\n",
       "      <th>std_train_score</th>\n",
       "    </tr>\n",
       "  </thead>\n",
       "  <tbody>\n",
       "    <tr>\n",
       "      <th>0</th>\n",
       "      <td>0.002567</td>\n",
       "      <td>0.000376</td>\n",
       "      <td>0.001874</td>\n",
       "      <td>0.000222</td>\n",
       "      <td>0</td>\n",
       "      <td>{'polynomialfeatures__degree': 0}</td>\n",
       "      <td>-0.002549</td>\n",
       "      <td>-0.000035</td>\n",
       "      <td>-0.000146</td>\n",
       "      <td>-0.000992</td>\n",
       "      <td>...</td>\n",
       "      <td>-0.000864</td>\n",
       "      <td>0.000910</td>\n",
       "      <td>3</td>\n",
       "      <td>0.000000</td>\n",
       "      <td>0.000000</td>\n",
       "      <td>0.000000</td>\n",
       "      <td>0.000000</td>\n",
       "      <td>0.000000</td>\n",
       "      <td>0.000000</td>\n",
       "      <td>0.000000</td>\n",
       "    </tr>\n",
       "    <tr>\n",
       "      <th>1</th>\n",
       "      <td>0.004365</td>\n",
       "      <td>0.000564</td>\n",
       "      <td>0.001870</td>\n",
       "      <td>0.000447</td>\n",
       "      <td>1</td>\n",
       "      <td>{'polynomialfeatures__degree': 1}</td>\n",
       "      <td>0.647628</td>\n",
       "      <td>0.717941</td>\n",
       "      <td>0.682920</td>\n",
       "      <td>0.699653</td>\n",
       "      <td>...</td>\n",
       "      <td>0.688448</td>\n",
       "      <td>0.023364</td>\n",
       "      <td>2</td>\n",
       "      <td>0.705899</td>\n",
       "      <td>0.688213</td>\n",
       "      <td>0.697795</td>\n",
       "      <td>0.693616</td>\n",
       "      <td>0.695159</td>\n",
       "      <td>0.696137</td>\n",
       "      <td>0.005799</td>\n",
       "    </tr>\n",
       "    <tr>\n",
       "      <th>2</th>\n",
       "      <td>0.016755</td>\n",
       "      <td>0.001716</td>\n",
       "      <td>0.004986</td>\n",
       "      <td>0.000889</td>\n",
       "      <td>2</td>\n",
       "      <td>{'polynomialfeatures__degree': 2}</td>\n",
       "      <td>0.672797</td>\n",
       "      <td>0.764937</td>\n",
       "      <td>0.688215</td>\n",
       "      <td>0.689420</td>\n",
       "      <td>...</td>\n",
       "      <td>0.707032</td>\n",
       "      <td>0.032735</td>\n",
       "      <td>1</td>\n",
       "      <td>0.764474</td>\n",
       "      <td>0.744550</td>\n",
       "      <td>0.759428</td>\n",
       "      <td>0.754729</td>\n",
       "      <td>0.756421</td>\n",
       "      <td>0.755920</td>\n",
       "      <td>0.006579</td>\n",
       "    </tr>\n",
       "  </tbody>\n",
       "</table>\n",
       "<p>3 rows × 21 columns</p>\n",
       "</div>"
      ],
      "text/plain": [
       "   mean_fit_time  std_fit_time  mean_score_time  std_score_time  \\\n",
       "0       0.002567      0.000376         0.001874        0.000222   \n",
       "1       0.004365      0.000564         0.001870        0.000447   \n",
       "2       0.016755      0.001716         0.004986        0.000889   \n",
       "\n",
       "  param_polynomialfeatures__degree                             params  \\\n",
       "0                                0  {'polynomialfeatures__degree': 0}   \n",
       "1                                1  {'polynomialfeatures__degree': 1}   \n",
       "2                                2  {'polynomialfeatures__degree': 2}   \n",
       "\n",
       "   split0_test_score  split1_test_score  split2_test_score  split3_test_score  \\\n",
       "0          -0.002549          -0.000035          -0.000146          -0.000992   \n",
       "1           0.647628           0.717941           0.682920           0.699653   \n",
       "2           0.672797           0.764937           0.688215           0.689420   \n",
       "\n",
       "   ...  mean_test_score  std_test_score  rank_test_score  split0_train_score  \\\n",
       "0  ...        -0.000864        0.000910                3            0.000000   \n",
       "1  ...         0.688448        0.023364                2            0.705899   \n",
       "2  ...         0.707032        0.032735                1            0.764474   \n",
       "\n",
       "   split1_train_score  split2_train_score  split3_train_score  \\\n",
       "0            0.000000            0.000000            0.000000   \n",
       "1            0.688213            0.697795            0.693616   \n",
       "2            0.744550            0.759428            0.754729   \n",
       "\n",
       "   split4_train_score  mean_train_score  std_train_score  \n",
       "0            0.000000          0.000000         0.000000  \n",
       "1            0.695159          0.696137         0.005799  \n",
       "2            0.756421          0.755920         0.006579  \n",
       "\n",
       "[3 rows x 21 columns]"
      ]
     },
     "execution_count": 83,
     "metadata": {},
     "output_type": "execute_result"
    }
   ],
   "source": [
    "result_poly = pd.DataFrame(grid_poly.cv_results_)\n",
    "result_poly"
   ]
  },
  {
   "cell_type": "code",
   "execution_count": 84,
   "metadata": {},
   "outputs": [
    {
     "data": {
      "text/plain": [
       "[<matplotlib.lines.Line2D at 0x1ee50c01a90>]"
      ]
     },
     "execution_count": 84,
     "metadata": {},
     "output_type": "execute_result"
    },
    {
     "data": {
      "text/plain": [
       "[<matplotlib.lines.Line2D at 0x1ee50c01eb8>]"
      ]
     },
     "execution_count": 84,
     "metadata": {},
     "output_type": "execute_result"
    },
    {
     "data": {
      "text/plain": [
       "([<matplotlib.axis.XTick at 0x1ee50ac7160>,\n",
       "  <matplotlib.axis.XTick at 0x1ee50ac4a90>,\n",
       "  <matplotlib.axis.XTick at 0x1ee50ac4518>],\n",
       " <a list of 3 Text xticklabel objects>)"
      ]
     },
     "execution_count": 84,
     "metadata": {},
     "output_type": "execute_result"
    },
    {
     "data": {
      "text/plain": [
       "[<matplotlib.lines.Line2D at 0x1ee50a99cf8>]"
      ]
     },
     "execution_count": 84,
     "metadata": {},
     "output_type": "execute_result"
    },
    {
     "data": {
      "text/plain": [
       "[<matplotlib.lines.Line2D at 0x1ee50c0e860>]"
      ]
     },
     "execution_count": 84,
     "metadata": {},
     "output_type": "execute_result"
    },
    {
     "data": {
      "text/plain": [
       "Text(0.5, 0, 'Degree')"
      ]
     },
     "execution_count": 84,
     "metadata": {},
     "output_type": "execute_result"
    },
    {
     "data": {
      "text/plain": [
       "<matplotlib.legend.Legend at 0x1ee50c0ef28>"
      ]
     },
     "execution_count": 84,
     "metadata": {},
     "output_type": "execute_result"
    },
    {
     "data": {
      "image/png": "[encoded data removed]",
      "text/plain": [
       "<Figure size 432x288 with 1 Axes>"
      ]
     },
     "metadata": {
      "needs_background": "light"
     },
     "output_type": "display_data"
    }
   ],
   "source": [
    "plt.plot(range(result_poly.shape[0]), result_poly['mean_train_score'], label = 'mean train score')\n",
    "plt.plot(range(result_poly.shape[0]), result_poly['mean_test_score'], label = 'mean test score')\n",
    "plt.xticks(range(result_poly.shape[0]), result_poly['param_polynomialfeatures__degree'], rotation = 90)\n",
    "plt.plot([grid_poly.best_index_], result_poly['mean_train_score'][grid_poly.best_index_], 'o', markersize = 10, fillstyle = \"none\")\n",
    "plt.plot([grid_poly.best_index_], result_poly['mean_test_score'][grid_poly.best_index_], 'o', markersize = 10, fillstyle = \"none\")\n",
    "plt.grid()\n",
    "plt.xlabel('Degree')\n",
    "plt.legend()"
   ]
  },
  {
   "cell_type": "markdown",
   "metadata": {},
   "source": [
    "### Polynomial Regression Summary:\n",
    "\n",
    "#### Train Score: 0.7521\n",
    "\n",
    "#### Test Score: 0.7053\n",
    "\n",
    "#### Best Parameters: {'polynomialfeatures_degree' : 2}\n",
    "\n",
    "#### Best Cross -  Validation Score: 0.7070"
   ]
  },
  {
   "cell_type": "markdown",
   "metadata": {},
   "source": [
    "## Linear SVR"
   ]
  },
  {
   "cell_type": "code",
   "execution_count": 85,
   "metadata": {},
   "outputs": [],
   "source": [
    "grid_parms_svrl = {'C': [0.01, 0.1, 1, 10, 100], 'epsilon' : [0.01, 0.1, 1, 10, 100]}"
   ]
  },
  {
   "cell_type": "code",
   "execution_count": 86,
   "metadata": {},
   "outputs": [],
   "source": [
    "linearsvr = LinearSVR()\n",
    "grid_svrl = GridSearchCV(estimator = linearsvr,param_grid = grid_parms_svrl,return_train_score=True,n_jobs= -1,cv=10)"
   ]
  },
  {
   "cell_type": "code",
   "execution_count": 87,
   "metadata": {},
   "outputs": [
    {
     "name": "stderr",
     "output_type": "stream",
     "text": [
      "C:\\Users\\dhurv\\Anaconda3\\lib\\site-packages\\sklearn\\svm\\base.py:929: ConvergenceWarning: Liblinear failed to converge, increase the number of iterations.\n",
      "  \"the number of iterations.\", ConvergenceWarning)\n"
     ]
    },
    {
     "data": {
      "text/plain": [
       "GridSearchCV(cv=10, error_score='raise-deprecating',\n",
       "             estimator=LinearSVR(C=1.0, dual=True, epsilon=0.0,\n",
       "                                 fit_intercept=True, intercept_scaling=1.0,\n",
       "                                 loss='epsilon_insensitive', max_iter=1000,\n",
       "                                 random_state=None, tol=0.0001, verbose=0),\n",
       "             iid='warn', n_jobs=-1,\n",
       "             param_grid={'C': [0.01, 0.1, 1, 10, 100],\n",
       "                         'epsilon': [0.01, 0.1, 1, 10, 100]},\n",
       "             pre_dispatch='2*n_jobs', refit=True, return_train_score=True,\n",
       "             scoring=None, verbose=0)"
      ]
     },
     "execution_count": 87,
     "metadata": {},
     "output_type": "execute_result"
    }
   ],
   "source": [
    "grid_svrl.fit(X_train_pca,y_train)"
   ]
  },
  {
   "cell_type": "code",
   "execution_count": 88,
   "metadata": {},
   "outputs": [
    {
     "name": "stdout",
     "output_type": "stream",
     "text": [
      "Best parameters: {'C': 0.1, 'epsilon': 0.1}\n",
      "Best cross-validation score: 0.6867\n"
     ]
    }
   ],
   "source": [
    "print(\"Best parameters: {}\".format(grid_svrl.best_params_))\n",
    "print(\"Best cross-validation score: {:.4f}\".format(grid_svrl.best_score_))"
   ]
  },
  {
   "cell_type": "code",
   "execution_count": 89,
   "metadata": {},
   "outputs": [
    {
     "name": "stderr",
     "output_type": "stream",
     "text": [
      "C:\\Users\\dhurv\\Anaconda3\\lib\\site-packages\\sklearn\\svm\\base.py:929: ConvergenceWarning: Liblinear failed to converge, increase the number of iterations.\n",
      "  \"the number of iterations.\", ConvergenceWarning)\n"
     ]
    },
    {
     "data": {
      "text/plain": [
       "LinearSVR(C=0.1, dual=True, epsilon=0.1, fit_intercept=True,\n",
       "          intercept_scaling=1.0, loss='epsilon_insensitive', max_iter=1000,\n",
       "          random_state=None, tol=0.0001, verbose=0)"
      ]
     },
     "execution_count": 89,
     "metadata": {},
     "output_type": "execute_result"
    },
    {
     "name": "stdout",
     "output_type": "stream",
     "text": [
      "0.6948118676692552\n"
     ]
    },
    {
     "data": {
      "text/plain": [
       "0.6802542121945057"
      ]
     },
     "execution_count": 89,
     "metadata": {},
     "output_type": "execute_result"
    }
   ],
   "source": [
    "lsvr = LinearSVR(C = 0.1, epsilon = 0.1)\n",
    "        \n",
    "lsvr.fit(X_train_pca, y_train)\n",
    "\n",
    "print(lsvr.score(X_train_pca, y_train))\n",
    "lsvr_test_score = lsvr.score(X_test_pca, y_test)\n",
    "lsvr_test_score"
   ]
  },
  {
   "cell_type": "code",
   "execution_count": 90,
   "metadata": {},
   "outputs": [
    {
     "name": "stderr",
     "output_type": "stream",
     "text": [
      "C:\\Users\\dhurv\\Anaconda3\\lib\\site-packages\\sklearn\\svm\\base.py:929: ConvergenceWarning: Liblinear failed to converge, increase the number of iterations.\n",
      "  \"the number of iterations.\", ConvergenceWarning)\n",
      "C:\\Users\\dhurv\\Anaconda3\\lib\\site-packages\\sklearn\\svm\\base.py:929: ConvergenceWarning: Liblinear failed to converge, increase the number of iterations.\n",
      "  \"the number of iterations.\", ConvergenceWarning)\n",
      "C:\\Users\\dhurv\\Anaconda3\\lib\\site-packages\\sklearn\\svm\\base.py:929: ConvergenceWarning: Liblinear failed to converge, increase the number of iterations.\n",
      "  \"the number of iterations.\", ConvergenceWarning)\n",
      "C:\\Users\\dhurv\\Anaconda3\\lib\\site-packages\\sklearn\\svm\\base.py:929: ConvergenceWarning: Liblinear failed to converge, increase the number of iterations.\n",
      "  \"the number of iterations.\", ConvergenceWarning)\n",
      "C:\\Users\\dhurv\\Anaconda3\\lib\\site-packages\\sklearn\\svm\\base.py:929: ConvergenceWarning: Liblinear failed to converge, increase the number of iterations.\n",
      "  \"the number of iterations.\", ConvergenceWarning)\n",
      "C:\\Users\\dhurv\\Anaconda3\\lib\\site-packages\\sklearn\\svm\\base.py:929: ConvergenceWarning: Liblinear failed to converge, increase the number of iterations.\n",
      "  \"the number of iterations.\", ConvergenceWarning)\n",
      "C:\\Users\\dhurv\\Anaconda3\\lib\\site-packages\\sklearn\\svm\\base.py:929: ConvergenceWarning: Liblinear failed to converge, increase the number of iterations.\n",
      "  \"the number of iterations.\", ConvergenceWarning)\n",
      "C:\\Users\\dhurv\\Anaconda3\\lib\\site-packages\\sklearn\\svm\\base.py:929: ConvergenceWarning: Liblinear failed to converge, increase the number of iterations.\n",
      "  \"the number of iterations.\", ConvergenceWarning)\n",
      "C:\\Users\\dhurv\\Anaconda3\\lib\\site-packages\\sklearn\\svm\\base.py:929: ConvergenceWarning: Liblinear failed to converge, increase the number of iterations.\n",
      "  \"the number of iterations.\", ConvergenceWarning)\n",
      "C:\\Users\\dhurv\\Anaconda3\\lib\\site-packages\\sklearn\\svm\\base.py:929: ConvergenceWarning: Liblinear failed to converge, increase the number of iterations.\n",
      "  \"the number of iterations.\", ConvergenceWarning)\n",
      "C:\\Users\\dhurv\\Anaconda3\\lib\\site-packages\\sklearn\\svm\\base.py:929: ConvergenceWarning: Liblinear failed to converge, increase the number of iterations.\n",
      "  \"the number of iterations.\", ConvergenceWarning)\n",
      "C:\\Users\\dhurv\\Anaconda3\\lib\\site-packages\\sklearn\\svm\\base.py:929: ConvergenceWarning: Liblinear failed to converge, increase the number of iterations.\n",
      "  \"the number of iterations.\", ConvergenceWarning)\n",
      "C:\\Users\\dhurv\\Anaconda3\\lib\\site-packages\\sklearn\\svm\\base.py:929: ConvergenceWarning: Liblinear failed to converge, increase the number of iterations.\n",
      "  \"the number of iterations.\", ConvergenceWarning)\n",
      "C:\\Users\\dhurv\\Anaconda3\\lib\\site-packages\\sklearn\\svm\\base.py:929: ConvergenceWarning: Liblinear failed to converge, increase the number of iterations.\n",
      "  \"the number of iterations.\", ConvergenceWarning)\n",
      "C:\\Users\\dhurv\\Anaconda3\\lib\\site-packages\\sklearn\\svm\\base.py:929: ConvergenceWarning: Liblinear failed to converge, increase the number of iterations.\n",
      "  \"the number of iterations.\", ConvergenceWarning)\n",
      "C:\\Users\\dhurv\\Anaconda3\\lib\\site-packages\\sklearn\\svm\\base.py:929: ConvergenceWarning: Liblinear failed to converge, increase the number of iterations.\n",
      "  \"the number of iterations.\", ConvergenceWarning)\n"
     ]
    },
    {
     "name": "stdout",
     "output_type": "stream",
     "text": [
      "Cross-validation scores:\n",
      "[0.6784012  0.61142764 0.75746969 0.66609235 0.72486611 0.64435077\n",
      " 0.67436107 0.72612311 0.73858256 0.64564558]\n"
     ]
    },
    {
     "name": "stderr",
     "output_type": "stream",
     "text": [
      "C:\\Users\\dhurv\\Anaconda3\\lib\\site-packages\\sklearn\\svm\\base.py:929: ConvergenceWarning: Liblinear failed to converge, increase the number of iterations.\n",
      "  \"the number of iterations.\", ConvergenceWarning)\n"
     ]
    },
    {
     "name": "stdout",
     "output_type": "stream",
     "text": [
      "0.6867527834969056\n"
     ]
    },
    {
     "name": "stderr",
     "output_type": "stream",
     "text": [
      "C:\\Users\\dhurv\\Anaconda3\\lib\\site-packages\\sklearn\\svm\\base.py:929: ConvergenceWarning: Liblinear failed to converge, increase the number of iterations.\n",
      "  \"the number of iterations.\", ConvergenceWarning)\n",
      "C:\\Users\\dhurv\\Anaconda3\\lib\\site-packages\\sklearn\\svm\\base.py:929: ConvergenceWarning: Liblinear failed to converge, increase the number of iterations.\n",
      "  \"the number of iterations.\", ConvergenceWarning)\n"
     ]
    }
   ],
   "source": [
    "from sklearn.model_selection import KFold\n",
    "from sklearn.model_selection import cross_val_score\n",
    "\n",
    "  \n",
    "kfold = KFold(n_splits=10)\n",
    "print(\"Cross-validation scores:\\n{}\".format(cross_val_score(lsvr , X_train_pca, y_train, cv=kfold)))\n",
    "scores = cross_val_score(lsvr, X_train_pca, y_train, cv=kfold)\n",
    "print(np.mean(scores))"
   ]
  },
  {
   "cell_type": "code",
   "execution_count": 91,
   "metadata": {},
   "outputs": [
    {
     "data": {
      "text/html": [
       "<div>\n",
       "<style scoped>\n",
       "    .dataframe tbody tr th:only-of-type {\n",
       "        vertical-align: middle;\n",
       "    }\n",
       "\n",
       "    .dataframe tbody tr th {\n",
       "        vertical-align: top;\n",
       "    }\n",
       "\n",
       "    .dataframe thead th {\n",
       "        text-align: right;\n",
       "    }\n",
       "</style>\n",
       "<table border=\"1\" class=\"dataframe\">\n",
       "  <thead>\n",
       "    <tr style=\"text-align: right;\">\n",
       "      <th></th>\n",
       "      <th>mean_fit_time</th>\n",
       "      <th>std_fit_time</th>\n",
       "      <th>mean_score_time</th>\n",
       "      <th>std_score_time</th>\n",
       "      <th>param_C</th>\n",
       "      <th>param_epsilon</th>\n",
       "      <th>params</th>\n",
       "      <th>split0_test_score</th>\n",
       "      <th>split1_test_score</th>\n",
       "      <th>split2_test_score</th>\n",
       "      <th>...</th>\n",
       "      <th>split2_train_score</th>\n",
       "      <th>split3_train_score</th>\n",
       "      <th>split4_train_score</th>\n",
       "      <th>split5_train_score</th>\n",
       "      <th>split6_train_score</th>\n",
       "      <th>split7_train_score</th>\n",
       "      <th>split8_train_score</th>\n",
       "      <th>split9_train_score</th>\n",
       "      <th>mean_train_score</th>\n",
       "      <th>std_train_score</th>\n",
       "    </tr>\n",
       "  </thead>\n",
       "  <tbody>\n",
       "    <tr>\n",
       "      <th>0</th>\n",
       "      <td>0.004972</td>\n",
       "      <td>0.000818</td>\n",
       "      <td>0.000722</td>\n",
       "      <td>0.000397</td>\n",
       "      <td>0.01</td>\n",
       "      <td>0.01</td>\n",
       "      <td>{'C': 0.01, 'epsilon': 0.01}</td>\n",
       "      <td>0.684228</td>\n",
       "      <td>0.609148</td>\n",
       "      <td>0.751710</td>\n",
       "      <td>...</td>\n",
       "      <td>0.683043</td>\n",
       "      <td>0.695891</td>\n",
       "      <td>0.689057</td>\n",
       "      <td>0.698055</td>\n",
       "      <td>0.694044</td>\n",
       "      <td>0.688142</td>\n",
       "      <td>0.687181</td>\n",
       "      <td>0.697096</td>\n",
       "      <td>0.692741</td>\n",
       "      <td>0.005382</td>\n",
       "    </tr>\n",
       "    <tr>\n",
       "      <th>1</th>\n",
       "      <td>0.006087</td>\n",
       "      <td>0.001446</td>\n",
       "      <td>0.000830</td>\n",
       "      <td>0.000431</td>\n",
       "      <td>0.01</td>\n",
       "      <td>0.1</td>\n",
       "      <td>{'C': 0.01, 'epsilon': 0.1}</td>\n",
       "      <td>0.677519</td>\n",
       "      <td>0.605177</td>\n",
       "      <td>0.748425</td>\n",
       "      <td>...</td>\n",
       "      <td>0.682220</td>\n",
       "      <td>0.695473</td>\n",
       "      <td>0.688364</td>\n",
       "      <td>0.696216</td>\n",
       "      <td>0.693590</td>\n",
       "      <td>0.687927</td>\n",
       "      <td>0.686750</td>\n",
       "      <td>0.696642</td>\n",
       "      <td>0.692001</td>\n",
       "      <td>0.005240</td>\n",
       "    </tr>\n",
       "    <tr>\n",
       "      <th>2</th>\n",
       "      <td>0.001592</td>\n",
       "      <td>0.000495</td>\n",
       "      <td>0.001301</td>\n",
       "      <td>0.000453</td>\n",
       "      <td>0.01</td>\n",
       "      <td>1</td>\n",
       "      <td>{'C': 0.01, 'epsilon': 1}</td>\n",
       "      <td>-10.562007</td>\n",
       "      <td>-11.829240</td>\n",
       "      <td>-8.465385</td>\n",
       "      <td>...</td>\n",
       "      <td>-10.821266</td>\n",
       "      <td>-10.558814</td>\n",
       "      <td>-10.513738</td>\n",
       "      <td>-10.399740</td>\n",
       "      <td>-10.355896</td>\n",
       "      <td>-10.657840</td>\n",
       "      <td>-10.642934</td>\n",
       "      <td>-10.432109</td>\n",
       "      <td>-10.531052</td>\n",
       "      <td>0.137191</td>\n",
       "    </tr>\n",
       "    <tr>\n",
       "      <th>3</th>\n",
       "      <td>0.001822</td>\n",
       "      <td>0.000402</td>\n",
       "      <td>0.001030</td>\n",
       "      <td>0.000646</td>\n",
       "      <td>0.01</td>\n",
       "      <td>10</td>\n",
       "      <td>{'C': 0.01, 'epsilon': 10}</td>\n",
       "      <td>-10.562007</td>\n",
       "      <td>-11.829240</td>\n",
       "      <td>-8.465385</td>\n",
       "      <td>...</td>\n",
       "      <td>-10.821266</td>\n",
       "      <td>-10.558814</td>\n",
       "      <td>-10.513738</td>\n",
       "      <td>-10.399740</td>\n",
       "      <td>-10.355896</td>\n",
       "      <td>-10.657840</td>\n",
       "      <td>-10.642934</td>\n",
       "      <td>-10.432109</td>\n",
       "      <td>-10.531052</td>\n",
       "      <td>0.137191</td>\n",
       "    </tr>\n",
       "    <tr>\n",
       "      <th>4</th>\n",
       "      <td>0.001097</td>\n",
       "      <td>0.000299</td>\n",
       "      <td>0.001109</td>\n",
       "      <td>0.000223</td>\n",
       "      <td>0.01</td>\n",
       "      <td>100</td>\n",
       "      <td>{'C': 0.01, 'epsilon': 100}</td>\n",
       "      <td>-10.562007</td>\n",
       "      <td>-11.829240</td>\n",
       "      <td>-8.465385</td>\n",
       "      <td>...</td>\n",
       "      <td>-10.821266</td>\n",
       "      <td>-10.558814</td>\n",
       "      <td>-10.513738</td>\n",
       "      <td>-10.399740</td>\n",
       "      <td>-10.355896</td>\n",
       "      <td>-10.657840</td>\n",
       "      <td>-10.642934</td>\n",
       "      <td>-10.432109</td>\n",
       "      <td>-10.531052</td>\n",
       "      <td>0.137191</td>\n",
       "    </tr>\n",
       "    <tr>\n",
       "      <th>5</th>\n",
       "      <td>0.044006</td>\n",
       "      <td>0.008296</td>\n",
       "      <td>0.001453</td>\n",
       "      <td>0.001704</td>\n",
       "      <td>0.1</td>\n",
       "      <td>0.01</td>\n",
       "      <td>{'C': 0.1, 'epsilon': 0.01}</td>\n",
       "      <td>0.682835</td>\n",
       "      <td>0.609998</td>\n",
       "      <td>0.757065</td>\n",
       "      <td>...</td>\n",
       "      <td>0.682932</td>\n",
       "      <td>0.695794</td>\n",
       "      <td>0.689074</td>\n",
       "      <td>0.697641</td>\n",
       "      <td>0.694499</td>\n",
       "      <td>0.687884</td>\n",
       "      <td>0.687125</td>\n",
       "      <td>0.697161</td>\n",
       "      <td>0.692699</td>\n",
       "      <td>0.005437</td>\n",
       "    </tr>\n",
       "    <tr>\n",
       "      <th>6</th>\n",
       "      <td>0.046222</td>\n",
       "      <td>0.018398</td>\n",
       "      <td>0.000962</td>\n",
       "      <td>0.000650</td>\n",
       "      <td>0.1</td>\n",
       "      <td>0.1</td>\n",
       "      <td>{'C': 0.1, 'epsilon': 0.1}</td>\n",
       "      <td>0.678101</td>\n",
       "      <td>0.611903</td>\n",
       "      <td>0.757334</td>\n",
       "      <td>...</td>\n",
       "      <td>0.685222</td>\n",
       "      <td>0.697605</td>\n",
       "      <td>0.691330</td>\n",
       "      <td>0.699895</td>\n",
       "      <td>0.696579</td>\n",
       "      <td>0.690786</td>\n",
       "      <td>0.689518</td>\n",
       "      <td>0.699497</td>\n",
       "      <td>0.694924</td>\n",
       "      <td>0.005248</td>\n",
       "    </tr>\n",
       "    <tr>\n",
       "      <th>7</th>\n",
       "      <td>0.001310</td>\n",
       "      <td>0.000450</td>\n",
       "      <td>0.001307</td>\n",
       "      <td>0.000458</td>\n",
       "      <td>0.1</td>\n",
       "      <td>1</td>\n",
       "      <td>{'C': 0.1, 'epsilon': 1}</td>\n",
       "      <td>-10.562007</td>\n",
       "      <td>-11.829240</td>\n",
       "      <td>-8.465385</td>\n",
       "      <td>...</td>\n",
       "      <td>-10.821266</td>\n",
       "      <td>-10.558814</td>\n",
       "      <td>-10.513738</td>\n",
       "      <td>-10.399740</td>\n",
       "      <td>-10.355896</td>\n",
       "      <td>-10.657840</td>\n",
       "      <td>-10.642934</td>\n",
       "      <td>-10.432109</td>\n",
       "      <td>-10.531052</td>\n",
       "      <td>0.137191</td>\n",
       "    </tr>\n",
       "    <tr>\n",
       "      <th>8</th>\n",
       "      <td>0.001605</td>\n",
       "      <td>0.000488</td>\n",
       "      <td>0.000893</td>\n",
       "      <td>0.000527</td>\n",
       "      <td>0.1</td>\n",
       "      <td>10</td>\n",
       "      <td>{'C': 0.1, 'epsilon': 10}</td>\n",
       "      <td>-10.562007</td>\n",
       "      <td>-11.829240</td>\n",
       "      <td>-8.465385</td>\n",
       "      <td>...</td>\n",
       "      <td>-10.821266</td>\n",
       "      <td>-10.558814</td>\n",
       "      <td>-10.513738</td>\n",
       "      <td>-10.399740</td>\n",
       "      <td>-10.355896</td>\n",
       "      <td>-10.657840</td>\n",
       "      <td>-10.642934</td>\n",
       "      <td>-10.432109</td>\n",
       "      <td>-10.531052</td>\n",
       "      <td>0.137191</td>\n",
       "    </tr>\n",
       "    <tr>\n",
       "      <th>9</th>\n",
       "      <td>0.001650</td>\n",
       "      <td>0.000532</td>\n",
       "      <td>0.001138</td>\n",
       "      <td>0.000447</td>\n",
       "      <td>0.1</td>\n",
       "      <td>100</td>\n",
       "      <td>{'C': 0.1, 'epsilon': 100}</td>\n",
       "      <td>-10.562007</td>\n",
       "      <td>-11.829240</td>\n",
       "      <td>-8.465385</td>\n",
       "      <td>...</td>\n",
       "      <td>-10.821266</td>\n",
       "      <td>-10.558814</td>\n",
       "      <td>-10.513738</td>\n",
       "      <td>-10.399740</td>\n",
       "      <td>-10.355896</td>\n",
       "      <td>-10.657840</td>\n",
       "      <td>-10.642934</td>\n",
       "      <td>-10.432109</td>\n",
       "      <td>-10.531052</td>\n",
       "      <td>0.137191</td>\n",
       "    </tr>\n",
       "    <tr>\n",
       "      <th>10</th>\n",
       "      <td>0.160484</td>\n",
       "      <td>0.017751</td>\n",
       "      <td>0.001230</td>\n",
       "      <td>0.000560</td>\n",
       "      <td>1</td>\n",
       "      <td>0.01</td>\n",
       "      <td>{'C': 1, 'epsilon': 0.01}</td>\n",
       "      <td>0.685693</td>\n",
       "      <td>0.608131</td>\n",
       "      <td>0.759070</td>\n",
       "      <td>...</td>\n",
       "      <td>0.680484</td>\n",
       "      <td>0.692493</td>\n",
       "      <td>0.688583</td>\n",
       "      <td>0.694825</td>\n",
       "      <td>0.692675</td>\n",
       "      <td>0.687827</td>\n",
       "      <td>0.683331</td>\n",
       "      <td>0.696750</td>\n",
       "      <td>0.691214</td>\n",
       "      <td>0.005882</td>\n",
       "    </tr>\n",
       "    <tr>\n",
       "      <th>11</th>\n",
       "      <td>0.175263</td>\n",
       "      <td>0.015393</td>\n",
       "      <td>0.001215</td>\n",
       "      <td>0.000399</td>\n",
       "      <td>1</td>\n",
       "      <td>0.1</td>\n",
       "      <td>{'C': 1, 'epsilon': 0.1}</td>\n",
       "      <td>0.676927</td>\n",
       "      <td>0.607622</td>\n",
       "      <td>0.757675</td>\n",
       "      <td>...</td>\n",
       "      <td>0.683756</td>\n",
       "      <td>0.696778</td>\n",
       "      <td>0.691061</td>\n",
       "      <td>0.698690</td>\n",
       "      <td>0.695592</td>\n",
       "      <td>0.690382</td>\n",
       "      <td>0.688441</td>\n",
       "      <td>0.696006</td>\n",
       "      <td>0.693768</td>\n",
       "      <td>0.005073</td>\n",
       "    </tr>\n",
       "    <tr>\n",
       "      <th>12</th>\n",
       "      <td>0.001435</td>\n",
       "      <td>0.000533</td>\n",
       "      <td>0.001074</td>\n",
       "      <td>0.000190</td>\n",
       "      <td>1</td>\n",
       "      <td>1</td>\n",
       "      <td>{'C': 1, 'epsilon': 1}</td>\n",
       "      <td>-10.562007</td>\n",
       "      <td>-11.829240</td>\n",
       "      <td>-8.465385</td>\n",
       "      <td>...</td>\n",
       "      <td>-10.821266</td>\n",
       "      <td>-10.558814</td>\n",
       "      <td>-10.513738</td>\n",
       "      <td>-10.399740</td>\n",
       "      <td>-10.355896</td>\n",
       "      <td>-10.657840</td>\n",
       "      <td>-10.642934</td>\n",
       "      <td>-10.432109</td>\n",
       "      <td>-10.531052</td>\n",
       "      <td>0.137191</td>\n",
       "    </tr>\n",
       "    <tr>\n",
       "      <th>13</th>\n",
       "      <td>0.001600</td>\n",
       "      <td>0.000466</td>\n",
       "      <td>0.001289</td>\n",
       "      <td>0.000508</td>\n",
       "      <td>1</td>\n",
       "      <td>10</td>\n",
       "      <td>{'C': 1, 'epsilon': 10}</td>\n",
       "      <td>-10.562007</td>\n",
       "      <td>-11.829240</td>\n",
       "      <td>-8.465385</td>\n",
       "      <td>...</td>\n",
       "      <td>-10.821266</td>\n",
       "      <td>-10.558814</td>\n",
       "      <td>-10.513738</td>\n",
       "      <td>-10.399740</td>\n",
       "      <td>-10.355896</td>\n",
       "      <td>-10.657840</td>\n",
       "      <td>-10.642934</td>\n",
       "      <td>-10.432109</td>\n",
       "      <td>-10.531052</td>\n",
       "      <td>0.137191</td>\n",
       "    </tr>\n",
       "    <tr>\n",
       "      <th>14</th>\n",
       "      <td>0.002262</td>\n",
       "      <td>0.001948</td>\n",
       "      <td>0.001191</td>\n",
       "      <td>0.000421</td>\n",
       "      <td>1</td>\n",
       "      <td>100</td>\n",
       "      <td>{'C': 1, 'epsilon': 100}</td>\n",
       "      <td>-10.562007</td>\n",
       "      <td>-11.829240</td>\n",
       "      <td>-8.465385</td>\n",
       "      <td>...</td>\n",
       "      <td>-10.821266</td>\n",
       "      <td>-10.558814</td>\n",
       "      <td>-10.513738</td>\n",
       "      <td>-10.399740</td>\n",
       "      <td>-10.355896</td>\n",
       "      <td>-10.657840</td>\n",
       "      <td>-10.642934</td>\n",
       "      <td>-10.432109</td>\n",
       "      <td>-10.531052</td>\n",
       "      <td>0.137191</td>\n",
       "    </tr>\n",
       "    <tr>\n",
       "      <th>15</th>\n",
       "      <td>0.255703</td>\n",
       "      <td>0.017807</td>\n",
       "      <td>0.001205</td>\n",
       "      <td>0.000415</td>\n",
       "      <td>10</td>\n",
       "      <td>0.01</td>\n",
       "      <td>{'C': 10, 'epsilon': 0.01}</td>\n",
       "      <td>0.613539</td>\n",
       "      <td>0.599819</td>\n",
       "      <td>0.717461</td>\n",
       "      <td>...</td>\n",
       "      <td>0.634204</td>\n",
       "      <td>0.655011</td>\n",
       "      <td>0.558993</td>\n",
       "      <td>0.538697</td>\n",
       "      <td>0.598704</td>\n",
       "      <td>0.576222</td>\n",
       "      <td>0.541665</td>\n",
       "      <td>0.600533</td>\n",
       "      <td>0.598368</td>\n",
       "      <td>0.041915</td>\n",
       "    </tr>\n",
       "    <tr>\n",
       "      <th>16</th>\n",
       "      <td>0.247802</td>\n",
       "      <td>0.019983</td>\n",
       "      <td>0.001224</td>\n",
       "      <td>0.000414</td>\n",
       "      <td>10</td>\n",
       "      <td>0.1</td>\n",
       "      <td>{'C': 10, 'epsilon': 0.1}</td>\n",
       "      <td>0.640232</td>\n",
       "      <td>0.578144</td>\n",
       "      <td>0.740798</td>\n",
       "      <td>...</td>\n",
       "      <td>0.656338</td>\n",
       "      <td>0.618696</td>\n",
       "      <td>0.673033</td>\n",
       "      <td>0.669244</td>\n",
       "      <td>0.642792</td>\n",
       "      <td>0.647346</td>\n",
       "      <td>0.614800</td>\n",
       "      <td>0.659090</td>\n",
       "      <td>0.650474</td>\n",
       "      <td>0.018920</td>\n",
       "    </tr>\n",
       "    <tr>\n",
       "      <th>17</th>\n",
       "      <td>0.001606</td>\n",
       "      <td>0.000491</td>\n",
       "      <td>0.001079</td>\n",
       "      <td>0.000307</td>\n",
       "      <td>10</td>\n",
       "      <td>1</td>\n",
       "      <td>{'C': 10, 'epsilon': 1}</td>\n",
       "      <td>-10.562007</td>\n",
       "      <td>-11.829240</td>\n",
       "      <td>-8.465385</td>\n",
       "      <td>...</td>\n",
       "      <td>-10.821266</td>\n",
       "      <td>-10.558814</td>\n",
       "      <td>-10.513738</td>\n",
       "      <td>-10.399740</td>\n",
       "      <td>-10.355896</td>\n",
       "      <td>-10.657840</td>\n",
       "      <td>-10.642934</td>\n",
       "      <td>-10.432109</td>\n",
       "      <td>-10.531052</td>\n",
       "      <td>0.137191</td>\n",
       "    </tr>\n",
       "    <tr>\n",
       "      <th>18</th>\n",
       "      <td>0.001440</td>\n",
       "      <td>0.000439</td>\n",
       "      <td>0.001252</td>\n",
       "      <td>0.000518</td>\n",
       "      <td>10</td>\n",
       "      <td>10</td>\n",
       "      <td>{'C': 10, 'epsilon': 10}</td>\n",
       "      <td>-10.562007</td>\n",
       "      <td>-11.829240</td>\n",
       "      <td>-8.465385</td>\n",
       "      <td>...</td>\n",
       "      <td>-10.821266</td>\n",
       "      <td>-10.558814</td>\n",
       "      <td>-10.513738</td>\n",
       "      <td>-10.399740</td>\n",
       "      <td>-10.355896</td>\n",
       "      <td>-10.657840</td>\n",
       "      <td>-10.642934</td>\n",
       "      <td>-10.432109</td>\n",
       "      <td>-10.531052</td>\n",
       "      <td>0.137191</td>\n",
       "    </tr>\n",
       "    <tr>\n",
       "      <th>19</th>\n",
       "      <td>0.001664</td>\n",
       "      <td>0.000398</td>\n",
       "      <td>0.001036</td>\n",
       "      <td>0.000366</td>\n",
       "      <td>10</td>\n",
       "      <td>100</td>\n",
       "      <td>{'C': 10, 'epsilon': 100}</td>\n",
       "      <td>-10.562007</td>\n",
       "      <td>-11.829240</td>\n",
       "      <td>-8.465385</td>\n",
       "      <td>...</td>\n",
       "      <td>-10.821266</td>\n",
       "      <td>-10.558814</td>\n",
       "      <td>-10.513738</td>\n",
       "      <td>-10.399740</td>\n",
       "      <td>-10.355896</td>\n",
       "      <td>-10.657840</td>\n",
       "      <td>-10.642934</td>\n",
       "      <td>-10.432109</td>\n",
       "      <td>-10.531052</td>\n",
       "      <td>0.137191</td>\n",
       "    </tr>\n",
       "    <tr>\n",
       "      <th>20</th>\n",
       "      <td>0.267016</td>\n",
       "      <td>0.016030</td>\n",
       "      <td>0.001266</td>\n",
       "      <td>0.000398</td>\n",
       "      <td>100</td>\n",
       "      <td>0.01</td>\n",
       "      <td>{'C': 100, 'epsilon': 0.01}</td>\n",
       "      <td>0.556764</td>\n",
       "      <td>0.413102</td>\n",
       "      <td>0.621732</td>\n",
       "      <td>...</td>\n",
       "      <td>0.464754</td>\n",
       "      <td>0.114815</td>\n",
       "      <td>0.372286</td>\n",
       "      <td>0.315559</td>\n",
       "      <td>0.375360</td>\n",
       "      <td>0.417336</td>\n",
       "      <td>0.152619</td>\n",
       "      <td>0.426163</td>\n",
       "      <td>0.363159</td>\n",
       "      <td>0.127584</td>\n",
       "    </tr>\n",
       "    <tr>\n",
       "      <th>21</th>\n",
       "      <td>0.242793</td>\n",
       "      <td>0.029054</td>\n",
       "      <td>0.000990</td>\n",
       "      <td>0.000448</td>\n",
       "      <td>100</td>\n",
       "      <td>0.1</td>\n",
       "      <td>{'C': 100, 'epsilon': 0.1}</td>\n",
       "      <td>0.411534</td>\n",
       "      <td>0.480182</td>\n",
       "      <td>0.696315</td>\n",
       "      <td>...</td>\n",
       "      <td>0.605790</td>\n",
       "      <td>0.611090</td>\n",
       "      <td>0.626803</td>\n",
       "      <td>0.595301</td>\n",
       "      <td>0.516362</td>\n",
       "      <td>0.561717</td>\n",
       "      <td>0.540281</td>\n",
       "      <td>0.606725</td>\n",
       "      <td>0.580575</td>\n",
       "      <td>0.037710</td>\n",
       "    </tr>\n",
       "    <tr>\n",
       "      <th>22</th>\n",
       "      <td>0.001536</td>\n",
       "      <td>0.000566</td>\n",
       "      <td>0.000798</td>\n",
       "      <td>0.000599</td>\n",
       "      <td>100</td>\n",
       "      <td>1</td>\n",
       "      <td>{'C': 100, 'epsilon': 1}</td>\n",
       "      <td>-10.562007</td>\n",
       "      <td>-11.829240</td>\n",
       "      <td>-8.465385</td>\n",
       "      <td>...</td>\n",
       "      <td>-10.821266</td>\n",
       "      <td>-10.558814</td>\n",
       "      <td>-10.513738</td>\n",
       "      <td>-10.399740</td>\n",
       "      <td>-10.355896</td>\n",
       "      <td>-10.657840</td>\n",
       "      <td>-10.642934</td>\n",
       "      <td>-10.432109</td>\n",
       "      <td>-10.531052</td>\n",
       "      <td>0.137191</td>\n",
       "    </tr>\n",
       "    <tr>\n",
       "      <th>23</th>\n",
       "      <td>0.001840</td>\n",
       "      <td>0.000310</td>\n",
       "      <td>0.001087</td>\n",
       "      <td>0.000549</td>\n",
       "      <td>100</td>\n",
       "      <td>10</td>\n",
       "      <td>{'C': 100, 'epsilon': 10}</td>\n",
       "      <td>-10.562007</td>\n",
       "      <td>-11.829240</td>\n",
       "      <td>-8.465385</td>\n",
       "      <td>...</td>\n",
       "      <td>-10.821266</td>\n",
       "      <td>-10.558814</td>\n",
       "      <td>-10.513738</td>\n",
       "      <td>-10.399740</td>\n",
       "      <td>-10.355896</td>\n",
       "      <td>-10.657840</td>\n",
       "      <td>-10.642934</td>\n",
       "      <td>-10.432109</td>\n",
       "      <td>-10.531052</td>\n",
       "      <td>0.137191</td>\n",
       "    </tr>\n",
       "    <tr>\n",
       "      <th>24</th>\n",
       "      <td>0.001524</td>\n",
       "      <td>0.000536</td>\n",
       "      <td>0.001087</td>\n",
       "      <td>0.000555</td>\n",
       "      <td>100</td>\n",
       "      <td>100</td>\n",
       "      <td>{'C': 100, 'epsilon': 100}</td>\n",
       "      <td>-10.562007</td>\n",
       "      <td>-11.829240</td>\n",
       "      <td>-8.465385</td>\n",
       "      <td>...</td>\n",
       "      <td>-10.821266</td>\n",
       "      <td>-10.558814</td>\n",
       "      <td>-10.513738</td>\n",
       "      <td>-10.399740</td>\n",
       "      <td>-10.355896</td>\n",
       "      <td>-10.657840</td>\n",
       "      <td>-10.642934</td>\n",
       "      <td>-10.432109</td>\n",
       "      <td>-10.531052</td>\n",
       "      <td>0.137191</td>\n",
       "    </tr>\n",
       "  </tbody>\n",
       "</table>\n",
       "<p>25 rows × 32 columns</p>\n",
       "</div>"
      ],
      "text/plain": [
       "    mean_fit_time  std_fit_time  mean_score_time  std_score_time param_C  \\\n",
       "0        0.004972      0.000818         0.000722        0.000397    0.01   \n",
       "1        0.006087      0.001446         0.000830        0.000431    0.01   \n",
       "2        0.001592      0.000495         0.001301        0.000453    0.01   \n",
       "3        0.001822      0.000402         0.001030        0.000646    0.01   \n",
       "4        0.001097      0.000299         0.001109        0.000223    0.01   \n",
       "5        0.044006      0.008296         0.001453        0.001704     0.1   \n",
       "6        0.046222      0.018398         0.000962        0.000650     0.1   \n",
       "7        0.001310      0.000450         0.001307        0.000458     0.1   \n",
       "8        0.001605      0.000488         0.000893        0.000527     0.1   \n",
       "9        0.001650      0.000532         0.001138        0.000447     0.1   \n",
       "10       0.160484      0.017751         0.001230        0.000560       1   \n",
       "11       0.175263      0.015393         0.001215        0.000399       1   \n",
       "12       0.001435      0.000533         0.001074        0.000190       1   \n",
       "13       0.001600      0.000466         0.001289        0.000508       1   \n",
       "14       0.002262      0.001948         0.001191        0.000421       1   \n",
       "15       0.255703      0.017807         0.001205        0.000415      10   \n",
       "16       0.247802      0.019983         0.001224        0.000414      10   \n",
       "17       0.001606      0.000491         0.001079        0.000307      10   \n",
       "18       0.001440      0.000439         0.001252        0.000518      10   \n",
       "19       0.001664      0.000398         0.001036        0.000366      10   \n",
       "20       0.267016      0.016030         0.001266        0.000398     100   \n",
       "21       0.242793      0.029054         0.000990        0.000448     100   \n",
       "22       0.001536      0.000566         0.000798        0.000599     100   \n",
       "23       0.001840      0.000310         0.001087        0.000549     100   \n",
       "24       0.001524      0.000536         0.001087        0.000555     100   \n",
       "\n",
       "   param_epsilon                        params  split0_test_score  \\\n",
       "0           0.01  {'C': 0.01, 'epsilon': 0.01}           0.684228   \n",
       "1            0.1   {'C': 0.01, 'epsilon': 0.1}           0.677519   \n",
       "2              1     {'C': 0.01, 'epsilon': 1}         -10.562007   \n",
       "3             10    {'C': 0.01, 'epsilon': 10}         -10.562007   \n",
       "4            100   {'C': 0.01, 'epsilon': 100}         -10.562007   \n",
       "5           0.01   {'C': 0.1, 'epsilon': 0.01}           0.682835   \n",
       "6            0.1    {'C': 0.1, 'epsilon': 0.1}           0.678101   \n",
       "7              1      {'C': 0.1, 'epsilon': 1}         -10.562007   \n",
       "8             10     {'C': 0.1, 'epsilon': 10}         -10.562007   \n",
       "9            100    {'C': 0.1, 'epsilon': 100}         -10.562007   \n",
       "10          0.01     {'C': 1, 'epsilon': 0.01}           0.685693   \n",
       "11           0.1      {'C': 1, 'epsilon': 0.1}           0.676927   \n",
       "12             1        {'C': 1, 'epsilon': 1}         -10.562007   \n",
       "13            10       {'C': 1, 'epsilon': 10}         -10.562007   \n",
       "14           100      {'C': 1, 'epsilon': 100}         -10.562007   \n",
       "15          0.01    {'C': 10, 'epsilon': 0.01}           0.613539   \n",
       "16           0.1     {'C': 10, 'epsilon': 0.1}           0.640232   \n",
       "17             1       {'C': 10, 'epsilon': 1}         -10.562007   \n",
       "18            10      {'C': 10, 'epsilon': 10}         -10.562007   \n",
       "19           100     {'C': 10, 'epsilon': 100}         -10.562007   \n",
       "20          0.01   {'C': 100, 'epsilon': 0.01}           0.556764   \n",
       "21           0.1    {'C': 100, 'epsilon': 0.1}           0.411534   \n",
       "22             1      {'C': 100, 'epsilon': 1}         -10.562007   \n",
       "23            10     {'C': 100, 'epsilon': 10}         -10.562007   \n",
       "24           100    {'C': 100, 'epsilon': 100}         -10.562007   \n",
       "\n",
       "    split1_test_score  split2_test_score  ...  split2_train_score  \\\n",
       "0            0.609148           0.751710  ...            0.683043   \n",
       "1            0.605177           0.748425  ...            0.682220   \n",
       "2          -11.829240          -8.465385  ...          -10.821266   \n",
       "3          -11.829240          -8.465385  ...          -10.821266   \n",
       "4          -11.829240          -8.465385  ...          -10.821266   \n",
       "5            0.609998           0.757065  ...            0.682932   \n",
       "6            0.611903           0.757334  ...            0.685222   \n",
       "7          -11.829240          -8.465385  ...          -10.821266   \n",
       "8          -11.829240          -8.465385  ...          -10.821266   \n",
       "9          -11.829240          -8.465385  ...          -10.821266   \n",
       "10           0.608131           0.759070  ...            0.680484   \n",
       "11           0.607622           0.757675  ...            0.683756   \n",
       "12         -11.829240          -8.465385  ...          -10.821266   \n",
       "13         -11.829240          -8.465385  ...          -10.821266   \n",
       "14         -11.829240          -8.465385  ...          -10.821266   \n",
       "15           0.599819           0.717461  ...            0.634204   \n",
       "16           0.578144           0.740798  ...            0.656338   \n",
       "17         -11.829240          -8.465385  ...          -10.821266   \n",
       "18         -11.829240          -8.465385  ...          -10.821266   \n",
       "19         -11.829240          -8.465385  ...          -10.821266   \n",
       "20           0.413102           0.621732  ...            0.464754   \n",
       "21           0.480182           0.696315  ...            0.605790   \n",
       "22         -11.829240          -8.465385  ...          -10.821266   \n",
       "23         -11.829240          -8.465385  ...          -10.821266   \n",
       "24         -11.829240          -8.465385  ...          -10.821266   \n",
       "\n",
       "    split3_train_score  split4_train_score  split5_train_score  \\\n",
       "0             0.695891            0.689057            0.698055   \n",
       "1             0.695473            0.688364            0.696216   \n",
       "2           -10.558814          -10.513738          -10.399740   \n",
       "3           -10.558814          -10.513738          -10.399740   \n",
       "4           -10.558814          -10.513738          -10.399740   \n",
       "5             0.695794            0.689074            0.697641   \n",
       "6             0.697605            0.691330            0.699895   \n",
       "7           -10.558814          -10.513738          -10.399740   \n",
       "8           -10.558814          -10.513738          -10.399740   \n",
       "9           -10.558814          -10.513738          -10.399740   \n",
       "10            0.692493            0.688583            0.694825   \n",
       "11            0.696778            0.691061            0.698690   \n",
       "12          -10.558814          -10.513738          -10.399740   \n",
       "13          -10.558814          -10.513738          -10.399740   \n",
       "14          -10.558814          -10.513738          -10.399740   \n",
       "15            0.655011            0.558993            0.538697   \n",
       "16            0.618696            0.673033            0.669244   \n",
       "17          -10.558814          -10.513738          -10.399740   \n",
       "18          -10.558814          -10.513738          -10.399740   \n",
       "19          -10.558814          -10.513738          -10.399740   \n",
       "20            0.114815            0.372286            0.315559   \n",
       "21            0.611090            0.626803            0.595301   \n",
       "22          -10.558814          -10.513738          -10.399740   \n",
       "23          -10.558814          -10.513738          -10.399740   \n",
       "24          -10.558814          -10.513738          -10.399740   \n",
       "\n",
       "    split6_train_score  split7_train_score  split8_train_score  \\\n",
       "0             0.694044            0.688142            0.687181   \n",
       "1             0.693590            0.687927            0.686750   \n",
       "2           -10.355896          -10.657840          -10.642934   \n",
       "3           -10.355896          -10.657840          -10.642934   \n",
       "4           -10.355896          -10.657840          -10.642934   \n",
       "5             0.694499            0.687884            0.687125   \n",
       "6             0.696579            0.690786            0.689518   \n",
       "7           -10.355896          -10.657840          -10.642934   \n",
       "8           -10.355896          -10.657840          -10.642934   \n",
       "9           -10.355896          -10.657840          -10.642934   \n",
       "10            0.692675            0.687827            0.683331   \n",
       "11            0.695592            0.690382            0.688441   \n",
       "12          -10.355896          -10.657840          -10.642934   \n",
       "13          -10.355896          -10.657840          -10.642934   \n",
       "14          -10.355896          -10.657840          -10.642934   \n",
       "15            0.598704            0.576222            0.541665   \n",
       "16            0.642792            0.647346            0.614800   \n",
       "17          -10.355896          -10.657840          -10.642934   \n",
       "18          -10.355896          -10.657840          -10.642934   \n",
       "19          -10.355896          -10.657840          -10.642934   \n",
       "20            0.375360            0.417336            0.152619   \n",
       "21            0.516362            0.561717            0.540281   \n",
       "22          -10.355896          -10.657840          -10.642934   \n",
       "23          -10.355896          -10.657840          -10.642934   \n",
       "24          -10.355896          -10.657840          -10.642934   \n",
       "\n",
       "    split9_train_score  mean_train_score  std_train_score  \n",
       "0             0.697096          0.692741         0.005382  \n",
       "1             0.696642          0.692001         0.005240  \n",
       "2           -10.432109        -10.531052         0.137191  \n",
       "3           -10.432109        -10.531052         0.137191  \n",
       "4           -10.432109        -10.531052         0.137191  \n",
       "5             0.697161          0.692699         0.005437  \n",
       "6             0.699497          0.694924         0.005248  \n",
       "7           -10.432109        -10.531052         0.137191  \n",
       "8           -10.432109        -10.531052         0.137191  \n",
       "9           -10.432109        -10.531052         0.137191  \n",
       "10            0.696750          0.691214         0.005882  \n",
       "11            0.696006          0.693768         0.005073  \n",
       "12          -10.432109        -10.531052         0.137191  \n",
       "13          -10.432109        -10.531052         0.137191  \n",
       "14          -10.432109        -10.531052         0.137191  \n",
       "15            0.600533          0.598368         0.041915  \n",
       "16            0.659090          0.650474         0.018920  \n",
       "17          -10.432109        -10.531052         0.137191  \n",
       "18          -10.432109        -10.531052         0.137191  \n",
       "19          -10.432109        -10.531052         0.137191  \n",
       "20            0.426163          0.363159         0.127584  \n",
       "21            0.606725          0.580575         0.037710  \n",
       "22          -10.432109        -10.531052         0.137191  \n",
       "23          -10.432109        -10.531052         0.137191  \n",
       "24          -10.432109        -10.531052         0.137191  \n",
       "\n",
       "[25 rows x 32 columns]"
      ]
     },
     "execution_count": 91,
     "metadata": {},
     "output_type": "execute_result"
    }
   ],
   "source": [
    "result_linearsvr = pd.DataFrame(grid_svrl.cv_results_)\n",
    "result_linearsvr"
   ]
  },
  {
   "cell_type": "code",
   "execution_count": 92,
   "metadata": {},
   "outputs": [
    {
     "data": {
      "text/plain": [
       "[<matplotlib.lines.Line2D at 0x1ee50cb6390>]"
      ]
     },
     "execution_count": 92,
     "metadata": {},
     "output_type": "execute_result"
    },
    {
     "data": {
      "text/plain": [
       "[<matplotlib.lines.Line2D at 0x1ee50cb6748>]"
      ]
     },
     "execution_count": 92,
     "metadata": {},
     "output_type": "execute_result"
    },
    {
     "data": {
      "text/plain": [
       "([<matplotlib.axis.XTick at 0x1ee50c595c0>,\n",
       "  <matplotlib.axis.XTick at 0x1ee50c61518>,\n",
       "  <matplotlib.axis.XTick at 0x1ee50c613c8>,\n",
       "  <matplotlib.axis.XTick at 0x1ee50cb6dd8>,\n",
       "  <matplotlib.axis.XTick at 0x1ee50cbf2b0>,\n",
       "  <matplotlib.axis.XTick at 0x1ee50cbf780>,\n",
       "  <matplotlib.axis.XTick at 0x1ee50cbfc88>,\n",
       "  <matplotlib.axis.XTick at 0x1ee50cc9198>,\n",
       "  <matplotlib.axis.XTick at 0x1ee50cc9668>,\n",
       "  <matplotlib.axis.XTick at 0x1ee50cc9b38>,\n",
       "  <matplotlib.axis.XTick at 0x1ee50ccf0b8>,\n",
       "  <matplotlib.axis.XTick at 0x1ee50cc97b8>,\n",
       "  <matplotlib.axis.XTick at 0x1ee50cbfc50>,\n",
       "  <matplotlib.axis.XTick at 0x1ee50cbf5f8>,\n",
       "  <matplotlib.axis.XTick at 0x1ee50ccf8d0>,\n",
       "  <matplotlib.axis.XTick at 0x1ee50ccfd30>,\n",
       "  <matplotlib.axis.XTick at 0x1ee50cd62b0>,\n",
       "  <matplotlib.axis.XTick at 0x1ee50cd6780>,\n",
       "  <matplotlib.axis.XTick at 0x1ee50cd6c50>,\n",
       "  <matplotlib.axis.XTick at 0x1ee50ce1198>,\n",
       "  <matplotlib.axis.XTick at 0x1ee50ce1630>,\n",
       "  <matplotlib.axis.XTick at 0x1ee50cd6828>,\n",
       "  <matplotlib.axis.XTick at 0x1ee50cb6be0>,\n",
       "  <matplotlib.axis.XTick at 0x1ee50ce1a20>,\n",
       "  <matplotlib.axis.XTick at 0x1ee50ce1240>],\n",
       " <a list of 25 Text xticklabel objects>)"
      ]
     },
     "execution_count": 92,
     "metadata": {},
     "output_type": "execute_result"
    },
    {
     "data": {
      "text/plain": [
       "[<matplotlib.lines.Line2D at 0x1ee50cb6860>]"
      ]
     },
     "execution_count": 92,
     "metadata": {},
     "output_type": "execute_result"
    },
    {
     "data": {
      "text/plain": [
       "[<matplotlib.lines.Line2D at 0x1ee50aad4e0>]"
      ]
     },
     "execution_count": 92,
     "metadata": {},
     "output_type": "execute_result"
    },
    {
     "data": {
      "text/plain": [
       "<matplotlib.legend.Legend at 0x1ee50cef668>"
      ]
     },
     "execution_count": 92,
     "metadata": {},
     "output_type": "execute_result"
    },
    {
     "data": {
      "text/plain": [
       "Text(0.5, 0, 'Alpha')"
      ]
     },
     "execution_count": 92,
     "metadata": {},
     "output_type": "execute_result"
    },
    {
     "data": {
      "image/png": "[encoded data removed]",
      "text/plain": [
       "<Figure size 432x288 with 1 Axes>"
      ]
     },
     "metadata": {
      "needs_background": "light"
     },
     "output_type": "display_data"
    }
   ],
   "source": [
    "plt.plot(range(result_linearsvr.shape[0]), result_linearsvr['mean_train_score'], label = 'mean train score')\n",
    "plt.plot(range(result_linearsvr.shape[0]), result_linearsvr['mean_test_score'], label = 'mean test score')\n",
    "plt.xticks(range(result_linearsvr.shape[0]), result_linearsvr['param_C'], rotation = 90)\n",
    "plt.plot([grid_svrl.best_index_], result_linearsvr['mean_train_score'][grid_svrl.best_index_], 'o', markersize = 10, fillstyle = \"none\")\n",
    "plt.plot([grid_svrl.best_index_], result_linearsvr['mean_test_score'][grid_svrl.best_index_], 'o', markersize = 10, fillstyle = \"none\")\n",
    "plt.grid()\n",
    "plt.legend()\n",
    "plt.xlabel('Alpha')"
   ]
  },
  {
   "cell_type": "markdown",
   "metadata": {},
   "source": [
    "### Linear SVR Summary:\n",
    "\n",
    "#### Train Score: 0.6948\n",
    "\n",
    "#### Test Score: 0.6803\n",
    "\n",
    "#### Best Parameters: {'C': 0.1, 'epsilon': 0.1}\n",
    "\n",
    "#### Best Cross - Validation Score: 0.6867\n",
    "\n"
   ]
  },
  {
   "cell_type": "markdown",
   "metadata": {},
   "source": [
    "## SVR with Kernel 'Linear'"
   ]
  },
  {
   "cell_type": "code",
   "execution_count": 93,
   "metadata": {},
   "outputs": [],
   "source": [
    "grid_parms_linear = {'C': [0.01,0.1, 1, 10, 100]}"
   ]
  },
  {
   "cell_type": "code",
   "execution_count": 94,
   "metadata": {},
   "outputs": [],
   "source": [
    "svr_linear = SVR(kernel='linear')\n",
    "grid_svr_linear = GridSearchCV(estimator = svr_linear,param_grid = grid_parms_linear,return_train_score=True,n_jobs= -1,cv=6)"
   ]
  },
  {
   "cell_type": "code",
   "execution_count": 95,
   "metadata": {},
   "outputs": [
    {
     "data": {
      "text/plain": [
       "GridSearchCV(cv=6, error_score='raise-deprecating',\n",
       "             estimator=SVR(C=1.0, cache_size=200, coef0=0.0, degree=3,\n",
       "                           epsilon=0.1, gamma='auto_deprecated',\n",
       "                           kernel='linear', max_iter=-1, shrinking=True,\n",
       "                           tol=0.001, verbose=False),\n",
       "             iid='warn', n_jobs=-1, param_grid={'C': [0.01, 0.1, 1, 10, 100]},\n",
       "             pre_dispatch='2*n_jobs', refit=True, return_train_score=True,\n",
       "             scoring=None, verbose=0)"
      ]
     },
     "execution_count": 95,
     "metadata": {},
     "output_type": "execute_result"
    }
   ],
   "source": [
    "grid_svr_linear.fit(X_train_pca,y_train)"
   ]
  },
  {
   "cell_type": "code",
   "execution_count": 96,
   "metadata": {},
   "outputs": [
    {
     "name": "stdout",
     "output_type": "stream",
     "text": [
      "Best parameters: {'C': 0.01}\n",
      "Best cross-validation score: 0.6899\n"
     ]
    }
   ],
   "source": [
    "print(\"Best parameters: {}\".format(grid_svr_linear.best_params_))\n",
    "print(\"Best cross-validation score: {:.4f}\".format(grid_svr_linear.best_score_))"
   ]
  },
  {
   "cell_type": "code",
   "execution_count": 97,
   "metadata": {},
   "outputs": [
    {
     "data": {
      "text/plain": [
       "SVR(C=100, cache_size=200, coef0=0.0, degree=3, epsilon=0.1,\n",
       "    gamma='auto_deprecated', kernel='linear', max_iter=-1, shrinking=True,\n",
       "    tol=0.001, verbose=False)"
      ]
     },
     "execution_count": 97,
     "metadata": {},
     "output_type": "execute_result"
    },
    {
     "name": "stdout",
     "output_type": "stream",
     "text": [
      "0.6947399660544613\n"
     ]
    },
    {
     "data": {
      "text/plain": [
       "0.6801070541465106"
      ]
     },
     "execution_count": 97,
     "metadata": {},
     "output_type": "execute_result"
    }
   ],
   "source": [
    "svr = SVR(kernel = 'linear',C = 100)\n",
    "        \n",
    "        #train the model\n",
    "svr.fit(X_train_pca, y_train)\n",
    "        \n",
    "        #evaluate the model\n",
    "print(svr.score(X_train_pca, y_train))\n",
    "svr_test_score = svr.score(X_test_pca, y_test)\n",
    "svr_test_score"
   ]
  },
  {
   "cell_type": "code",
   "execution_count": 98,
   "metadata": {},
   "outputs": [
    {
     "name": "stdout",
     "output_type": "stream",
     "text": [
      "Cross-validation scores:\n",
      "[0.65766366 0.70855705 0.6969277  0.68598263 0.72559424 0.66280935]\n",
      "0.6895891050826931\n"
     ]
    }
   ],
   "source": [
    "from sklearn.model_selection import KFold\n",
    "from sklearn.model_selection import cross_val_score\n",
    "\n",
    "kfold = KFold(n_splits=6)\n",
    "print(\"Cross-validation scores:\\n{}\".format(cross_val_score(svr , X_train_pca, y_train, cv=kfold)))\n",
    "scores = cross_val_score(svr , X_train_pca, y_train, cv=kfold)\n",
    "print(np.mean(scores))"
   ]
  },
  {
   "cell_type": "code",
   "execution_count": 99,
   "metadata": {},
   "outputs": [
    {
     "data": {
      "text/html": [
       "<div>\n",
       "<style scoped>\n",
       "    .dataframe tbody tr th:only-of-type {\n",
       "        vertical-align: middle;\n",
       "    }\n",
       "\n",
       "    .dataframe tbody tr th {\n",
       "        vertical-align: top;\n",
       "    }\n",
       "\n",
       "    .dataframe thead th {\n",
       "        text-align: right;\n",
       "    }\n",
       "</style>\n",
       "<table border=\"1\" class=\"dataframe\">\n",
       "  <thead>\n",
       "    <tr style=\"text-align: right;\">\n",
       "      <th></th>\n",
       "      <th>mean_fit_time</th>\n",
       "      <th>std_fit_time</th>\n",
       "      <th>mean_score_time</th>\n",
       "      <th>std_score_time</th>\n",
       "      <th>param_C</th>\n",
       "      <th>params</th>\n",
       "      <th>split0_test_score</th>\n",
       "      <th>split1_test_score</th>\n",
       "      <th>split2_test_score</th>\n",
       "      <th>split3_test_score</th>\n",
       "      <th>...</th>\n",
       "      <th>std_test_score</th>\n",
       "      <th>rank_test_score</th>\n",
       "      <th>split0_train_score</th>\n",
       "      <th>split1_train_score</th>\n",
       "      <th>split2_train_score</th>\n",
       "      <th>split3_train_score</th>\n",
       "      <th>split4_train_score</th>\n",
       "      <th>split5_train_score</th>\n",
       "      <th>mean_train_score</th>\n",
       "      <th>std_train_score</th>\n",
       "    </tr>\n",
       "  </thead>\n",
       "  <tbody>\n",
       "    <tr>\n",
       "      <th>0</th>\n",
       "      <td>0.080769</td>\n",
       "      <td>0.019168</td>\n",
       "      <td>0.005298</td>\n",
       "      <td>0.000487</td>\n",
       "      <td>0.01</td>\n",
       "      <td>{'C': 0.01}</td>\n",
       "      <td>0.657446</td>\n",
       "      <td>0.708318</td>\n",
       "      <td>0.698379</td>\n",
       "      <td>0.686100</td>\n",
       "      <td>...</td>\n",
       "      <td>0.024080</td>\n",
       "      <td>1</td>\n",
       "      <td>0.700408</td>\n",
       "      <td>0.690850</td>\n",
       "      <td>0.694316</td>\n",
       "      <td>0.696545</td>\n",
       "      <td>0.688417</td>\n",
       "      <td>0.700171</td>\n",
       "      <td>0.695118</td>\n",
       "      <td>0.004460</td>\n",
       "    </tr>\n",
       "    <tr>\n",
       "      <th>1</th>\n",
       "      <td>0.238054</td>\n",
       "      <td>0.028930</td>\n",
       "      <td>0.005519</td>\n",
       "      <td>0.000489</td>\n",
       "      <td>0.1</td>\n",
       "      <td>{'C': 0.1}</td>\n",
       "      <td>0.657651</td>\n",
       "      <td>0.708209</td>\n",
       "      <td>0.697002</td>\n",
       "      <td>0.685917</td>\n",
       "      <td>...</td>\n",
       "      <td>0.023973</td>\n",
       "      <td>4</td>\n",
       "      <td>0.700392</td>\n",
       "      <td>0.690577</td>\n",
       "      <td>0.694332</td>\n",
       "      <td>0.696602</td>\n",
       "      <td>0.688503</td>\n",
       "      <td>0.700447</td>\n",
       "      <td>0.695142</td>\n",
       "      <td>0.004535</td>\n",
       "    </tr>\n",
       "    <tr>\n",
       "      <th>2</th>\n",
       "      <td>1.034371</td>\n",
       "      <td>0.109331</td>\n",
       "      <td>0.004920</td>\n",
       "      <td>0.000529</td>\n",
       "      <td>1</td>\n",
       "      <td>{'C': 1}</td>\n",
       "      <td>0.657859</td>\n",
       "      <td>0.708477</td>\n",
       "      <td>0.697072</td>\n",
       "      <td>0.685971</td>\n",
       "      <td>...</td>\n",
       "      <td>0.023944</td>\n",
       "      <td>2</td>\n",
       "      <td>0.700357</td>\n",
       "      <td>0.690586</td>\n",
       "      <td>0.694407</td>\n",
       "      <td>0.696648</td>\n",
       "      <td>0.688545</td>\n",
       "      <td>0.700489</td>\n",
       "      <td>0.695172</td>\n",
       "      <td>0.004525</td>\n",
       "    </tr>\n",
       "    <tr>\n",
       "      <th>3</th>\n",
       "      <td>6.335639</td>\n",
       "      <td>0.322377</td>\n",
       "      <td>0.005828</td>\n",
       "      <td>0.000377</td>\n",
       "      <td>10</td>\n",
       "      <td>{'C': 10}</td>\n",
       "      <td>0.658171</td>\n",
       "      <td>0.708339</td>\n",
       "      <td>0.696906</td>\n",
       "      <td>0.685927</td>\n",
       "      <td>...</td>\n",
       "      <td>0.023837</td>\n",
       "      <td>3</td>\n",
       "      <td>0.700386</td>\n",
       "      <td>0.690548</td>\n",
       "      <td>0.694384</td>\n",
       "      <td>0.696648</td>\n",
       "      <td>0.688485</td>\n",
       "      <td>0.700487</td>\n",
       "      <td>0.695156</td>\n",
       "      <td>0.004552</td>\n",
       "    </tr>\n",
       "    <tr>\n",
       "      <th>4</th>\n",
       "      <td>44.760736</td>\n",
       "      <td>1.946701</td>\n",
       "      <td>0.004790</td>\n",
       "      <td>0.000677</td>\n",
       "      <td>100</td>\n",
       "      <td>{'C': 100}</td>\n",
       "      <td>0.657664</td>\n",
       "      <td>0.708557</td>\n",
       "      <td>0.696928</td>\n",
       "      <td>0.685983</td>\n",
       "      <td>...</td>\n",
       "      <td>0.024012</td>\n",
       "      <td>5</td>\n",
       "      <td>0.700333</td>\n",
       "      <td>0.690598</td>\n",
       "      <td>0.694405</td>\n",
       "      <td>0.696650</td>\n",
       "      <td>0.688422</td>\n",
       "      <td>0.700397</td>\n",
       "      <td>0.695134</td>\n",
       "      <td>0.004531</td>\n",
       "    </tr>\n",
       "  </tbody>\n",
       "</table>\n",
       "<p>5 rows × 23 columns</p>\n",
       "</div>"
      ],
      "text/plain": [
       "   mean_fit_time  std_fit_time  mean_score_time  std_score_time param_C  \\\n",
       "0       0.080769      0.019168         0.005298        0.000487    0.01   \n",
       "1       0.238054      0.028930         0.005519        0.000489     0.1   \n",
       "2       1.034371      0.109331         0.004920        0.000529       1   \n",
       "3       6.335639      0.322377         0.005828        0.000377      10   \n",
       "4      44.760736      1.946701         0.004790        0.000677     100   \n",
       "\n",
       "        params  split0_test_score  split1_test_score  split2_test_score  \\\n",
       "0  {'C': 0.01}           0.657446           0.708318           0.698379   \n",
       "1   {'C': 0.1}           0.657651           0.708209           0.697002   \n",
       "2     {'C': 1}           0.657859           0.708477           0.697072   \n",
       "3    {'C': 10}           0.658171           0.708339           0.696906   \n",
       "4   {'C': 100}           0.657664           0.708557           0.696928   \n",
       "\n",
       "   split3_test_score  ...  std_test_score  rank_test_score  \\\n",
       "0           0.686100  ...        0.024080                1   \n",
       "1           0.685917  ...        0.023973                4   \n",
       "2           0.685971  ...        0.023944                2   \n",
       "3           0.685927  ...        0.023837                3   \n",
       "4           0.685983  ...        0.024012                5   \n",
       "\n",
       "   split0_train_score  split1_train_score  split2_train_score  \\\n",
       "0            0.700408            0.690850            0.694316   \n",
       "1            0.700392            0.690577            0.694332   \n",
       "2            0.700357            0.690586            0.694407   \n",
       "3            0.700386            0.690548            0.694384   \n",
       "4            0.700333            0.690598            0.694405   \n",
       "\n",
       "   split3_train_score  split4_train_score  split5_train_score  \\\n",
       "0            0.696545            0.688417            0.700171   \n",
       "1            0.696602            0.688503            0.700447   \n",
       "2            0.696648            0.688545            0.700489   \n",
       "3            0.696648            0.688485            0.700487   \n",
       "4            0.696650            0.688422            0.700397   \n",
       "\n",
       "   mean_train_score  std_train_score  \n",
       "0          0.695118         0.004460  \n",
       "1          0.695142         0.004535  \n",
       "2          0.695172         0.004525  \n",
       "3          0.695156         0.004552  \n",
       "4          0.695134         0.004531  \n",
       "\n",
       "[5 rows x 23 columns]"
      ]
     },
     "execution_count": 99,
     "metadata": {},
     "output_type": "execute_result"
    }
   ],
   "source": [
    "result_svr_linear = pd.DataFrame(grid_svr_linear.cv_results_)\n",
    "result_svr_linear"
   ]
  },
  {
   "cell_type": "code",
   "execution_count": 100,
   "metadata": {},
   "outputs": [
    {
     "data": {
      "text/plain": [
       "[<matplotlib.lines.Line2D at 0x1ee50d4b358>]"
      ]
     },
     "execution_count": 100,
     "metadata": {},
     "output_type": "execute_result"
    },
    {
     "data": {
      "text/plain": [
       "[<matplotlib.lines.Line2D at 0x1ee50d4bb70>]"
      ]
     },
     "execution_count": 100,
     "metadata": {},
     "output_type": "execute_result"
    },
    {
     "data": {
      "text/plain": [
       "([<matplotlib.axis.XTick at 0x1ee50d38dd8>,\n",
       "  <matplotlib.axis.XTick at 0x1ee50d2ac88>,\n",
       "  <matplotlib.axis.XTick at 0x1ee50c515c0>,\n",
       "  <matplotlib.axis.XTick at 0x1ee50d5b1d0>,\n",
       "  <matplotlib.axis.XTick at 0x1ee50d5b6d8>],\n",
       " <a list of 5 Text xticklabel objects>)"
      ]
     },
     "execution_count": 100,
     "metadata": {},
     "output_type": "execute_result"
    },
    {
     "data": {
      "text/plain": [
       "[<matplotlib.lines.Line2D at 0x1ee50d4beb8>]"
      ]
     },
     "execution_count": 100,
     "metadata": {},
     "output_type": "execute_result"
    },
    {
     "data": {
      "text/plain": [
       "[<matplotlib.lines.Line2D at 0x1ee50a1de10>]"
      ]
     },
     "execution_count": 100,
     "metadata": {},
     "output_type": "execute_result"
    },
    {
     "data": {
      "text/plain": [
       "<matplotlib.legend.Legend at 0x1ee50d62518>"
      ]
     },
     "execution_count": 100,
     "metadata": {},
     "output_type": "execute_result"
    },
    {
     "data": {
      "text/plain": [
       "Text(0.5, 0, 'C')"
      ]
     },
     "execution_count": 100,
     "metadata": {},
     "output_type": "execute_result"
    },
    {
     "data": {
      "image/png": "[encoded data removed]",
      "text/plain": [
       "<Figure size 432x288 with 1 Axes>"
      ]
     },
     "metadata": {
      "needs_background": "light"
     },
     "output_type": "display_data"
    }
   ],
   "source": [
    "plt.plot(range(result_svr_linear.shape[0]), result_svr_linear['mean_train_score'], label = 'mean train score')\n",
    "plt.plot(range(result_svr_linear.shape[0]), result_svr_linear['mean_test_score'], label = 'mean test score')\n",
    "plt.xticks(range(result_svr_linear.shape[0]), result_svr_linear['param_C'], rotation = 90)\n",
    "plt.plot([grid_svr_linear.best_index_], result_svr_linear['mean_train_score'][grid_svr_linear.best_index_], 'o', markersize = 10, fillstyle = \"none\")\n",
    "plt.plot([grid_svr_linear.best_index_], result_svr_linear['mean_test_score'][grid_svr_linear.best_index_], 'o', markersize = 10, fillstyle = \"none\")\n",
    "plt.grid()\n",
    "plt.legend()\n",
    "plt.xlabel('C')"
   ]
  },
  {
   "cell_type": "markdown",
   "metadata": {},
   "source": [
    "### SVR with Kernel 'Linear' Summary:\n",
    "\n",
    "#### Train Score: 0.6947\n",
    "\n",
    "#### Test Score: 0.6801\n",
    "\n",
    "#### Best Parameters: {'C' : 0.01}\n",
    "\n",
    "#### Best Cross - Validation Score: 0.6899"
   ]
  },
  {
   "cell_type": "markdown",
   "metadata": {},
   "source": [
    "## SVR with Kernel 'Poly'"
   ]
  },
  {
   "cell_type": "code",
   "execution_count": 101,
   "metadata": {},
   "outputs": [],
   "source": [
    "grid_parms_svrp = {'C': [1, 10, 100],'degree':[1,3]}"
   ]
  },
  {
   "cell_type": "code",
   "execution_count": 102,
   "metadata": {},
   "outputs": [],
   "source": [
    "svr_poly = SVR(kernel='poly')\n",
    "grid_svr_poly = GridSearchCV(estimator = svr_poly,param_grid = grid_parms_svrp,return_train_score=True,n_jobs= -1,cv=3)"
   ]
  },
  {
   "cell_type": "code",
   "execution_count": 103,
   "metadata": {},
   "outputs": [
    {
     "name": "stderr",
     "output_type": "stream",
     "text": [
      "C:\\Users\\dhurv\\Anaconda3\\lib\\site-packages\\sklearn\\svm\\base.py:193: FutureWarning: The default value of gamma will change from 'auto' to 'scale' in version 0.22 to account better for unscaled features. Set gamma explicitly to 'auto' or 'scale' to avoid this warning.\n",
      "  \"avoid this warning.\", FutureWarning)\n"
     ]
    },
    {
     "data": {
      "text/plain": [
       "GridSearchCV(cv=3, error_score='raise-deprecating',\n",
       "             estimator=SVR(C=1.0, cache_size=200, coef0=0.0, degree=3,\n",
       "                           epsilon=0.1, gamma='auto_deprecated', kernel='poly',\n",
       "                           max_iter=-1, shrinking=True, tol=0.001,\n",
       "                           verbose=False),\n",
       "             iid='warn', n_jobs=-1,\n",
       "             param_grid={'C': [1, 10, 100], 'degree': [1, 3]},\n",
       "             pre_dispatch='2*n_jobs', refit=True, return_train_score=True,\n",
       "             scoring=None, verbose=0)"
      ]
     },
     "execution_count": 103,
     "metadata": {},
     "output_type": "execute_result"
    }
   ],
   "source": [
    "grid_svr_poly.fit(X_train_pca,y_train)"
   ]
  },
  {
   "cell_type": "code",
   "execution_count": 104,
   "metadata": {},
   "outputs": [
    {
     "name": "stdout",
     "output_type": "stream",
     "text": [
      "Best parameters: {'C': 1, 'degree': 1}\n",
      "Best cross-validation score: 0.6891\n"
     ]
    },
    {
     "data": {
      "text/html": [
       "<div>\n",
       "<style scoped>\n",
       "    .dataframe tbody tr th:only-of-type {\n",
       "        vertical-align: middle;\n",
       "    }\n",
       "\n",
       "    .dataframe tbody tr th {\n",
       "        vertical-align: top;\n",
       "    }\n",
       "\n",
       "    .dataframe thead th {\n",
       "        text-align: right;\n",
       "    }\n",
       "</style>\n",
       "<table border=\"1\" class=\"dataframe\">\n",
       "  <thead>\n",
       "    <tr style=\"text-align: right;\">\n",
       "      <th></th>\n",
       "      <th>mean_fit_time</th>\n",
       "      <th>std_fit_time</th>\n",
       "      <th>mean_score_time</th>\n",
       "      <th>std_score_time</th>\n",
       "      <th>param_C</th>\n",
       "      <th>param_degree</th>\n",
       "      <th>params</th>\n",
       "      <th>split0_test_score</th>\n",
       "      <th>split1_test_score</th>\n",
       "      <th>split2_test_score</th>\n",
       "      <th>mean_test_score</th>\n",
       "      <th>std_test_score</th>\n",
       "      <th>rank_test_score</th>\n",
       "      <th>split0_train_score</th>\n",
       "      <th>split1_train_score</th>\n",
       "      <th>split2_train_score</th>\n",
       "      <th>mean_train_score</th>\n",
       "      <th>std_train_score</th>\n",
       "    </tr>\n",
       "  </thead>\n",
       "  <tbody>\n",
       "    <tr>\n",
       "      <th>0</th>\n",
       "      <td>0.103663</td>\n",
       "      <td>0.035745</td>\n",
       "      <td>0.006615</td>\n",
       "      <td>0.001017</td>\n",
       "      <td>1</td>\n",
       "      <td>1</td>\n",
       "      <td>{'C': 1, 'degree': 1}</td>\n",
       "      <td>0.682567</td>\n",
       "      <td>0.690655</td>\n",
       "      <td>0.694203</td>\n",
       "      <td>0.689142</td>\n",
       "      <td>0.004870</td>\n",
       "      <td>1</td>\n",
       "      <td>0.696395</td>\n",
       "      <td>0.696349</td>\n",
       "      <td>0.694592</td>\n",
       "      <td>0.695779</td>\n",
       "      <td>0.000839</td>\n",
       "    </tr>\n",
       "    <tr>\n",
       "      <th>1</th>\n",
       "      <td>0.368321</td>\n",
       "      <td>0.071603</td>\n",
       "      <td>0.011324</td>\n",
       "      <td>0.001241</td>\n",
       "      <td>1</td>\n",
       "      <td>3</td>\n",
       "      <td>{'C': 1, 'degree': 3}</td>\n",
       "      <td>0.309821</td>\n",
       "      <td>0.318693</td>\n",
       "      <td>-0.029289</td>\n",
       "      <td>0.199742</td>\n",
       "      <td>0.161990</td>\n",
       "      <td>4</td>\n",
       "      <td>0.777762</td>\n",
       "      <td>0.766003</td>\n",
       "      <td>0.773397</td>\n",
       "      <td>0.772387</td>\n",
       "      <td>0.004853</td>\n",
       "    </tr>\n",
       "    <tr>\n",
       "      <th>2</th>\n",
       "      <td>0.620735</td>\n",
       "      <td>0.036334</td>\n",
       "      <td>0.007655</td>\n",
       "      <td>0.001224</td>\n",
       "      <td>10</td>\n",
       "      <td>1</td>\n",
       "      <td>{'C': 10, 'degree': 1}</td>\n",
       "      <td>0.682022</td>\n",
       "      <td>0.690603</td>\n",
       "      <td>0.694161</td>\n",
       "      <td>0.688928</td>\n",
       "      <td>0.005095</td>\n",
       "      <td>3</td>\n",
       "      <td>0.696258</td>\n",
       "      <td>0.696298</td>\n",
       "      <td>0.694568</td>\n",
       "      <td>0.695708</td>\n",
       "      <td>0.000807</td>\n",
       "    </tr>\n",
       "    <tr>\n",
       "      <th>3</th>\n",
       "      <td>5.995787</td>\n",
       "      <td>0.264079</td>\n",
       "      <td>0.013313</td>\n",
       "      <td>0.001060</td>\n",
       "      <td>10</td>\n",
       "      <td>3</td>\n",
       "      <td>{'C': 10, 'degree': 3}</td>\n",
       "      <td>-0.179353</td>\n",
       "      <td>-0.202416</td>\n",
       "      <td>-6.328244</td>\n",
       "      <td>-2.236671</td>\n",
       "      <td>2.893194</td>\n",
       "      <td>5</td>\n",
       "      <td>0.782029</td>\n",
       "      <td>0.773749</td>\n",
       "      <td>0.781357</td>\n",
       "      <td>0.779045</td>\n",
       "      <td>0.003755</td>\n",
       "    </tr>\n",
       "    <tr>\n",
       "      <th>4</th>\n",
       "      <td>4.937589</td>\n",
       "      <td>0.196495</td>\n",
       "      <td>0.008166</td>\n",
       "      <td>0.001453</td>\n",
       "      <td>100</td>\n",
       "      <td>1</td>\n",
       "      <td>{'C': 100, 'degree': 1}</td>\n",
       "      <td>0.682338</td>\n",
       "      <td>0.690438</td>\n",
       "      <td>0.694228</td>\n",
       "      <td>0.689001</td>\n",
       "      <td>0.004959</td>\n",
       "      <td>2</td>\n",
       "      <td>0.696315</td>\n",
       "      <td>0.696262</td>\n",
       "      <td>0.694630</td>\n",
       "      <td>0.695736</td>\n",
       "      <td>0.000782</td>\n",
       "    </tr>\n",
       "    <tr>\n",
       "      <th>5</th>\n",
       "      <td>75.115580</td>\n",
       "      <td>1.994058</td>\n",
       "      <td>0.012173</td>\n",
       "      <td>0.002968</td>\n",
       "      <td>100</td>\n",
       "      <td>3</td>\n",
       "      <td>{'C': 100, 'degree': 3}</td>\n",
       "      <td>-1.566335</td>\n",
       "      <td>-0.805437</td>\n",
       "      <td>-16.937669</td>\n",
       "      <td>-6.436480</td>\n",
       "      <td>7.431956</td>\n",
       "      <td>6</td>\n",
       "      <td>0.780452</td>\n",
       "      <td>0.773178</td>\n",
       "      <td>0.782151</td>\n",
       "      <td>0.778593</td>\n",
       "      <td>0.003892</td>\n",
       "    </tr>\n",
       "  </tbody>\n",
       "</table>\n",
       "</div>"
      ],
      "text/plain": [
       "   mean_fit_time  std_fit_time  mean_score_time  std_score_time param_C  \\\n",
       "0       0.103663      0.035745         0.006615        0.001017       1   \n",
       "1       0.368321      0.071603         0.011324        0.001241       1   \n",
       "2       0.620735      0.036334         0.007655        0.001224      10   \n",
       "3       5.995787      0.264079         0.013313        0.001060      10   \n",
       "4       4.937589      0.196495         0.008166        0.001453     100   \n",
       "5      75.115580      1.994058         0.012173        0.002968     100   \n",
       "\n",
       "  param_degree                   params  split0_test_score  split1_test_score  \\\n",
       "0            1    {'C': 1, 'degree': 1}           0.682567           0.690655   \n",
       "1            3    {'C': 1, 'degree': 3}           0.309821           0.318693   \n",
       "2            1   {'C': 10, 'degree': 1}           0.682022           0.690603   \n",
       "3            3   {'C': 10, 'degree': 3}          -0.179353          -0.202416   \n",
       "4            1  {'C': 100, 'degree': 1}           0.682338           0.690438   \n",
       "5            3  {'C': 100, 'degree': 3}          -1.566335          -0.805437   \n",
       "\n",
       "   split2_test_score  mean_test_score  std_test_score  rank_test_score  \\\n",
       "0           0.694203         0.689142        0.004870                1   \n",
       "1          -0.029289         0.199742        0.161990                4   \n",
       "2           0.694161         0.688928        0.005095                3   \n",
       "3          -6.328244        -2.236671        2.893194                5   \n",
       "4           0.694228         0.689001        0.004959                2   \n",
       "5         -16.937669        -6.436480        7.431956                6   \n",
       "\n",
       "   split0_train_score  split1_train_score  split2_train_score  \\\n",
       "0            0.696395            0.696349            0.694592   \n",
       "1            0.777762            0.766003            0.773397   \n",
       "2            0.696258            0.696298            0.694568   \n",
       "3            0.782029            0.773749            0.781357   \n",
       "4            0.696315            0.696262            0.694630   \n",
       "5            0.780452            0.773178            0.782151   \n",
       "\n",
       "   mean_train_score  std_train_score  \n",
       "0          0.695779         0.000839  \n",
       "1          0.772387         0.004853  \n",
       "2          0.695708         0.000807  \n",
       "3          0.779045         0.003755  \n",
       "4          0.695736         0.000782  \n",
       "5          0.778593         0.003892  "
      ]
     },
     "execution_count": 104,
     "metadata": {},
     "output_type": "execute_result"
    }
   ],
   "source": [
    "print(\"Best parameters: {}\".format(grid_svr_poly.best_params_))\n",
    "print(\"Best cross-validation score: {:.4f}\".format(grid_svr_poly.best_score_))\n",
    "pd.DataFrame(grid_svr_poly.cv_results_)"
   ]
  },
  {
   "cell_type": "code",
   "execution_count": 105,
   "metadata": {},
   "outputs": [
    {
     "name": "stderr",
     "output_type": "stream",
     "text": [
      "C:\\Users\\dhurv\\Anaconda3\\lib\\site-packages\\sklearn\\svm\\base.py:193: FutureWarning: The default value of gamma will change from 'auto' to 'scale' in version 0.22 to account better for unscaled features. Set gamma explicitly to 'auto' or 'scale' to avoid this warning.\n",
      "  \"avoid this warning.\", FutureWarning)\n"
     ]
    },
    {
     "data": {
      "text/plain": [
       "SVR(C=100, cache_size=200, coef0=0.0, degree=1, epsilon=0.1,\n",
       "    gamma='auto_deprecated', kernel='poly', max_iter=-1, shrinking=True,\n",
       "    tol=0.001, verbose=False)"
      ]
     },
     "execution_count": 105,
     "metadata": {},
     "output_type": "execute_result"
    },
    {
     "data": {
      "text/plain": [
       "0.6948087842105182"
      ]
     },
     "execution_count": 105,
     "metadata": {},
     "output_type": "execute_result"
    },
    {
     "data": {
      "text/plain": [
       "0.6800778869836632"
      ]
     },
     "execution_count": 105,
     "metadata": {},
     "output_type": "execute_result"
    }
   ],
   "source": [
    "svr_p = SVR(kernel='poly',C=100,degree = 1)\n",
    "svr_p.fit(X_train_pca, y_train)\n",
    "svr_p.score(X_train_pca, y_train)\n",
    "svrp_test_score = svr_p.score(X_test_pca, y_test)\n",
    "svrp_test_score"
   ]
  },
  {
   "cell_type": "code",
   "execution_count": 106,
   "metadata": {},
   "outputs": [
    {
     "name": "stderr",
     "output_type": "stream",
     "text": [
      "C:\\Users\\dhurv\\Anaconda3\\lib\\site-packages\\sklearn\\svm\\base.py:193: FutureWarning: The default value of gamma will change from 'auto' to 'scale' in version 0.22 to account better for unscaled features. Set gamma explicitly to 'auto' or 'scale' to avoid this warning.\n",
      "  \"avoid this warning.\", FutureWarning)\n",
      "C:\\Users\\dhurv\\Anaconda3\\lib\\site-packages\\sklearn\\svm\\base.py:193: FutureWarning: The default value of gamma will change from 'auto' to 'scale' in version 0.22 to account better for unscaled features. Set gamma explicitly to 'auto' or 'scale' to avoid this warning.\n",
      "  \"avoid this warning.\", FutureWarning)\n",
      "C:\\Users\\dhurv\\Anaconda3\\lib\\site-packages\\sklearn\\svm\\base.py:193: FutureWarning: The default value of gamma will change from 'auto' to 'scale' in version 0.22 to account better for unscaled features. Set gamma explicitly to 'auto' or 'scale' to avoid this warning.\n",
      "  \"avoid this warning.\", FutureWarning)\n",
      "C:\\Users\\dhurv\\Anaconda3\\lib\\site-packages\\sklearn\\svm\\base.py:193: FutureWarning: The default value of gamma will change from 'auto' to 'scale' in version 0.22 to account better for unscaled features. Set gamma explicitly to 'auto' or 'scale' to avoid this warning.\n",
      "  \"avoid this warning.\", FutureWarning)\n",
      "C:\\Users\\dhurv\\Anaconda3\\lib\\site-packages\\sklearn\\svm\\base.py:193: FutureWarning: The default value of gamma will change from 'auto' to 'scale' in version 0.22 to account better for unscaled features. Set gamma explicitly to 'auto' or 'scale' to avoid this warning.\n",
      "  \"avoid this warning.\", FutureWarning)\n",
      "C:\\Users\\dhurv\\Anaconda3\\lib\\site-packages\\sklearn\\svm\\base.py:193: FutureWarning: The default value of gamma will change from 'auto' to 'scale' in version 0.22 to account better for unscaled features. Set gamma explicitly to 'auto' or 'scale' to avoid this warning.\n",
      "  \"avoid this warning.\", FutureWarning)\n"
     ]
    },
    {
     "name": "stdout",
     "output_type": "stream",
     "text": [
      "Cross-validation scores:\n",
      "[0.65721761 0.70856763 0.69712583 0.68597541 0.72571079 0.6630408 ]\n"
     ]
    },
    {
     "name": "stderr",
     "output_type": "stream",
     "text": [
      "C:\\Users\\dhurv\\Anaconda3\\lib\\site-packages\\sklearn\\svm\\base.py:193: FutureWarning: The default value of gamma will change from 'auto' to 'scale' in version 0.22 to account better for unscaled features. Set gamma explicitly to 'auto' or 'scale' to avoid this warning.\n",
      "  \"avoid this warning.\", FutureWarning)\n",
      "C:\\Users\\dhurv\\Anaconda3\\lib\\site-packages\\sklearn\\svm\\base.py:193: FutureWarning: The default value of gamma will change from 'auto' to 'scale' in version 0.22 to account better for unscaled features. Set gamma explicitly to 'auto' or 'scale' to avoid this warning.\n",
      "  \"avoid this warning.\", FutureWarning)\n",
      "C:\\Users\\dhurv\\Anaconda3\\lib\\site-packages\\sklearn\\svm\\base.py:193: FutureWarning: The default value of gamma will change from 'auto' to 'scale' in version 0.22 to account better for unscaled features. Set gamma explicitly to 'auto' or 'scale' to avoid this warning.\n",
      "  \"avoid this warning.\", FutureWarning)\n",
      "C:\\Users\\dhurv\\Anaconda3\\lib\\site-packages\\sklearn\\svm\\base.py:193: FutureWarning: The default value of gamma will change from 'auto' to 'scale' in version 0.22 to account better for unscaled features. Set gamma explicitly to 'auto' or 'scale' to avoid this warning.\n",
      "  \"avoid this warning.\", FutureWarning)\n",
      "C:\\Users\\dhurv\\Anaconda3\\lib\\site-packages\\sklearn\\svm\\base.py:193: FutureWarning: The default value of gamma will change from 'auto' to 'scale' in version 0.22 to account better for unscaled features. Set gamma explicitly to 'auto' or 'scale' to avoid this warning.\n",
      "  \"avoid this warning.\", FutureWarning)\n",
      "C:\\Users\\dhurv\\Anaconda3\\lib\\site-packages\\sklearn\\svm\\base.py:193: FutureWarning: The default value of gamma will change from 'auto' to 'scale' in version 0.22 to account better for unscaled features. Set gamma explicitly to 'auto' or 'scale' to avoid this warning.\n",
      "  \"avoid this warning.\", FutureWarning)\n"
     ]
    },
    {
     "name": "stdout",
     "output_type": "stream",
     "text": [
      "0.6896063446975841\n"
     ]
    }
   ],
   "source": [
    "from sklearn.model_selection import KFold\n",
    "from sklearn.model_selection import cross_val_score\n",
    "#scores = cross_val_score(logreg, iris.data, iris.target)\n",
    "kfold = KFold(n_splits=6)\n",
    "print(\"Cross-validation scores:\\n{}\".format(cross_val_score(svr_p, X_train_pca, y_train, cv=kfold)))\n",
    "scores = cross_val_score(svr_p, X_train_pca, y_train, cv=kfold)\n",
    "print(np.mean(scores))"
   ]
  },
  {
   "cell_type": "code",
   "execution_count": 107,
   "metadata": {},
   "outputs": [
    {
     "data": {
      "text/html": [
       "<div>\n",
       "<style scoped>\n",
       "    .dataframe tbody tr th:only-of-type {\n",
       "        vertical-align: middle;\n",
       "    }\n",
       "\n",
       "    .dataframe tbody tr th {\n",
       "        vertical-align: top;\n",
       "    }\n",
       "\n",
       "    .dataframe thead th {\n",
       "        text-align: right;\n",
       "    }\n",
       "</style>\n",
       "<table border=\"1\" class=\"dataframe\">\n",
       "  <thead>\n",
       "    <tr style=\"text-align: right;\">\n",
       "      <th></th>\n",
       "      <th>mean_fit_time</th>\n",
       "      <th>std_fit_time</th>\n",
       "      <th>mean_score_time</th>\n",
       "      <th>std_score_time</th>\n",
       "      <th>param_C</th>\n",
       "      <th>param_degree</th>\n",
       "      <th>params</th>\n",
       "      <th>split0_test_score</th>\n",
       "      <th>split1_test_score</th>\n",
       "      <th>split2_test_score</th>\n",
       "      <th>mean_test_score</th>\n",
       "      <th>std_test_score</th>\n",
       "      <th>rank_test_score</th>\n",
       "      <th>split0_train_score</th>\n",
       "      <th>split1_train_score</th>\n",
       "      <th>split2_train_score</th>\n",
       "      <th>mean_train_score</th>\n",
       "      <th>std_train_score</th>\n",
       "    </tr>\n",
       "  </thead>\n",
       "  <tbody>\n",
       "    <tr>\n",
       "      <th>0</th>\n",
       "      <td>0.103663</td>\n",
       "      <td>0.035745</td>\n",
       "      <td>0.006615</td>\n",
       "      <td>0.001017</td>\n",
       "      <td>1</td>\n",
       "      <td>1</td>\n",
       "      <td>{'C': 1, 'degree': 1}</td>\n",
       "      <td>0.682567</td>\n",
       "      <td>0.690655</td>\n",
       "      <td>0.694203</td>\n",
       "      <td>0.689142</td>\n",
       "      <td>0.004870</td>\n",
       "      <td>1</td>\n",
       "      <td>0.696395</td>\n",
       "      <td>0.696349</td>\n",
       "      <td>0.694592</td>\n",
       "      <td>0.695779</td>\n",
       "      <td>0.000839</td>\n",
       "    </tr>\n",
       "    <tr>\n",
       "      <th>1</th>\n",
       "      <td>0.368321</td>\n",
       "      <td>0.071603</td>\n",
       "      <td>0.011324</td>\n",
       "      <td>0.001241</td>\n",
       "      <td>1</td>\n",
       "      <td>3</td>\n",
       "      <td>{'C': 1, 'degree': 3}</td>\n",
       "      <td>0.309821</td>\n",
       "      <td>0.318693</td>\n",
       "      <td>-0.029289</td>\n",
       "      <td>0.199742</td>\n",
       "      <td>0.161990</td>\n",
       "      <td>4</td>\n",
       "      <td>0.777762</td>\n",
       "      <td>0.766003</td>\n",
       "      <td>0.773397</td>\n",
       "      <td>0.772387</td>\n",
       "      <td>0.004853</td>\n",
       "    </tr>\n",
       "    <tr>\n",
       "      <th>2</th>\n",
       "      <td>0.620735</td>\n",
       "      <td>0.036334</td>\n",
       "      <td>0.007655</td>\n",
       "      <td>0.001224</td>\n",
       "      <td>10</td>\n",
       "      <td>1</td>\n",
       "      <td>{'C': 10, 'degree': 1}</td>\n",
       "      <td>0.682022</td>\n",
       "      <td>0.690603</td>\n",
       "      <td>0.694161</td>\n",
       "      <td>0.688928</td>\n",
       "      <td>0.005095</td>\n",
       "      <td>3</td>\n",
       "      <td>0.696258</td>\n",
       "      <td>0.696298</td>\n",
       "      <td>0.694568</td>\n",
       "      <td>0.695708</td>\n",
       "      <td>0.000807</td>\n",
       "    </tr>\n",
       "    <tr>\n",
       "      <th>3</th>\n",
       "      <td>5.995787</td>\n",
       "      <td>0.264079</td>\n",
       "      <td>0.013313</td>\n",
       "      <td>0.001060</td>\n",
       "      <td>10</td>\n",
       "      <td>3</td>\n",
       "      <td>{'C': 10, 'degree': 3}</td>\n",
       "      <td>-0.179353</td>\n",
       "      <td>-0.202416</td>\n",
       "      <td>-6.328244</td>\n",
       "      <td>-2.236671</td>\n",
       "      <td>2.893194</td>\n",
       "      <td>5</td>\n",
       "      <td>0.782029</td>\n",
       "      <td>0.773749</td>\n",
       "      <td>0.781357</td>\n",
       "      <td>0.779045</td>\n",
       "      <td>0.003755</td>\n",
       "    </tr>\n",
       "    <tr>\n",
       "      <th>4</th>\n",
       "      <td>4.937589</td>\n",
       "      <td>0.196495</td>\n",
       "      <td>0.008166</td>\n",
       "      <td>0.001453</td>\n",
       "      <td>100</td>\n",
       "      <td>1</td>\n",
       "      <td>{'C': 100, 'degree': 1}</td>\n",
       "      <td>0.682338</td>\n",
       "      <td>0.690438</td>\n",
       "      <td>0.694228</td>\n",
       "      <td>0.689001</td>\n",
       "      <td>0.004959</td>\n",
       "      <td>2</td>\n",
       "      <td>0.696315</td>\n",
       "      <td>0.696262</td>\n",
       "      <td>0.694630</td>\n",
       "      <td>0.695736</td>\n",
       "      <td>0.000782</td>\n",
       "    </tr>\n",
       "    <tr>\n",
       "      <th>5</th>\n",
       "      <td>75.115580</td>\n",
       "      <td>1.994058</td>\n",
       "      <td>0.012173</td>\n",
       "      <td>0.002968</td>\n",
       "      <td>100</td>\n",
       "      <td>3</td>\n",
       "      <td>{'C': 100, 'degree': 3}</td>\n",
       "      <td>-1.566335</td>\n",
       "      <td>-0.805437</td>\n",
       "      <td>-16.937669</td>\n",
       "      <td>-6.436480</td>\n",
       "      <td>7.431956</td>\n",
       "      <td>6</td>\n",
       "      <td>0.780452</td>\n",
       "      <td>0.773178</td>\n",
       "      <td>0.782151</td>\n",
       "      <td>0.778593</td>\n",
       "      <td>0.003892</td>\n",
       "    </tr>\n",
       "  </tbody>\n",
       "</table>\n",
       "</div>"
      ],
      "text/plain": [
       "   mean_fit_time  std_fit_time  mean_score_time  std_score_time param_C  \\\n",
       "0       0.103663      0.035745         0.006615        0.001017       1   \n",
       "1       0.368321      0.071603         0.011324        0.001241       1   \n",
       "2       0.620735      0.036334         0.007655        0.001224      10   \n",
       "3       5.995787      0.264079         0.013313        0.001060      10   \n",
       "4       4.937589      0.196495         0.008166        0.001453     100   \n",
       "5      75.115580      1.994058         0.012173        0.002968     100   \n",
       "\n",
       "  param_degree                   params  split0_test_score  split1_test_score  \\\n",
       "0            1    {'C': 1, 'degree': 1}           0.682567           0.690655   \n",
       "1            3    {'C': 1, 'degree': 3}           0.309821           0.318693   \n",
       "2            1   {'C': 10, 'degree': 1}           0.682022           0.690603   \n",
       "3            3   {'C': 10, 'degree': 3}          -0.179353          -0.202416   \n",
       "4            1  {'C': 100, 'degree': 1}           0.682338           0.690438   \n",
       "5            3  {'C': 100, 'degree': 3}          -1.566335          -0.805437   \n",
       "\n",
       "   split2_test_score  mean_test_score  std_test_score  rank_test_score  \\\n",
       "0           0.694203         0.689142        0.004870                1   \n",
       "1          -0.029289         0.199742        0.161990                4   \n",
       "2           0.694161         0.688928        0.005095                3   \n",
       "3          -6.328244        -2.236671        2.893194                5   \n",
       "4           0.694228         0.689001        0.004959                2   \n",
       "5         -16.937669        -6.436480        7.431956                6   \n",
       "\n",
       "   split0_train_score  split1_train_score  split2_train_score  \\\n",
       "0            0.696395            0.696349            0.694592   \n",
       "1            0.777762            0.766003            0.773397   \n",
       "2            0.696258            0.696298            0.694568   \n",
       "3            0.782029            0.773749            0.781357   \n",
       "4            0.696315            0.696262            0.694630   \n",
       "5            0.780452            0.773178            0.782151   \n",
       "\n",
       "   mean_train_score  std_train_score  \n",
       "0          0.695779         0.000839  \n",
       "1          0.772387         0.004853  \n",
       "2          0.695708         0.000807  \n",
       "3          0.779045         0.003755  \n",
       "4          0.695736         0.000782  \n",
       "5          0.778593         0.003892  "
      ]
     },
     "execution_count": 107,
     "metadata": {},
     "output_type": "execute_result"
    }
   ],
   "source": [
    "result_svr_poly= pd.DataFrame(grid_svr_poly.cv_results_)\n",
    "result_svr_poly"
   ]
  },
  {
   "cell_type": "code",
   "execution_count": 108,
   "metadata": {},
   "outputs": [
    {
     "data": {
      "text/plain": [
       "[<matplotlib.lines.Line2D at 0x1ee50dd3d30>]"
      ]
     },
     "execution_count": 108,
     "metadata": {},
     "output_type": "execute_result"
    },
    {
     "data": {
      "text/plain": [
       "[<matplotlib.lines.Line2D at 0x1ee50d91588>]"
      ]
     },
     "execution_count": 108,
     "metadata": {},
     "output_type": "execute_result"
    },
    {
     "data": {
      "text/plain": [
       "([<matplotlib.axis.XTick at 0x1ee50dba358>,\n",
       "  <matplotlib.axis.XTick at 0x1ee50db1c88>,\n",
       "  <matplotlib.axis.XTick at 0x1ee50db1898>,\n",
       "  <matplotlib.axis.XTick at 0x1ee50ddf198>,\n",
       "  <matplotlib.axis.XTick at 0x1ee50ddfeb8>,\n",
       "  <matplotlib.axis.XTick at 0x1ee50de7400>],\n",
       " <a list of 6 Text xticklabel objects>)"
      ]
     },
     "execution_count": 108,
     "metadata": {},
     "output_type": "execute_result"
    },
    {
     "data": {
      "text/plain": [
       "[<matplotlib.lines.Line2D at 0x1ee50ddf550>]"
      ]
     },
     "execution_count": 108,
     "metadata": {},
     "output_type": "execute_result"
    },
    {
     "data": {
      "text/plain": [
       "[<matplotlib.lines.Line2D at 0x1ee50de7e48>]"
      ]
     },
     "execution_count": 108,
     "metadata": {},
     "output_type": "execute_result"
    },
    {
     "data": {
      "text/plain": [
       "<matplotlib.legend.Legend at 0x1ee50de75c0>"
      ]
     },
     "execution_count": 108,
     "metadata": {},
     "output_type": "execute_result"
    },
    {
     "data": {
      "image/png": "[encoded data removed]",
      "text/plain": [
       "<Figure size 432x288 with 1 Axes>"
      ]
     },
     "metadata": {
      "needs_background": "light"
     },
     "output_type": "display_data"
    }
   ],
   "source": [
    "plt.plot(range(result_svr_poly.shape[0]), result_svr_poly['mean_train_score'], label = 'mean train score')\n",
    "plt.plot(range(result_svr_poly.shape[0]), result_svr_poly['mean_test_score'], label = 'mean test score')\n",
    "plt.xticks(range(result_svr_poly.shape[0]), result_svr_poly['param_C'], rotation = 90)\n",
    "plt.plot([grid_svr_poly.best_index_], result_svr_poly['mean_train_score'][grid_svr_poly.best_index_], 'o', markersize = 10, fillstyle = \"none\")\n",
    "plt.plot([grid_svr_poly.best_index_], result_svr_poly['mean_test_score'][grid_svr_poly.best_index_], 'o', markersize = 10, fillstyle = \"none\")\n",
    "plt.grid()\n",
    "plt.legend()"
   ]
  },
  {
   "cell_type": "markdown",
   "metadata": {},
   "source": [
    "### SVR with Kernel 'Poly' Summary:\n",
    "\n",
    "#### Train Score: 0.6948\n",
    "\n",
    "#### Test Score: 0.6801\n",
    "\n",
    "#### Best Parameters: {'C': 1, 'degree': 1}\n",
    "\n",
    "#### Best Cross - Validation Score: 0.6891"
   ]
  },
  {
   "cell_type": "markdown",
   "metadata": {},
   "source": [
    "## SVR with Kernel 'rbf'"
   ]
  },
  {
   "cell_type": "code",
   "execution_count": 109,
   "metadata": {},
   "outputs": [],
   "source": [
    "grid_parms_rbf = {'C': [0.1, 1, 10, 100],'gamma':[0.1, 1, 10, 100]}"
   ]
  },
  {
   "cell_type": "code",
   "execution_count": 110,
   "metadata": {},
   "outputs": [],
   "source": [
    "svr_rbf = SVR(kernel='rbf')\n",
    "grid_svr_rbf = GridSearchCV(estimator = svr_rbf,param_grid = grid_parms_rbf,return_train_score=True,n_jobs= -1,cv=3)"
   ]
  },
  {
   "cell_type": "code",
   "execution_count": 111,
   "metadata": {},
   "outputs": [
    {
     "data": {
      "text/plain": [
       "GridSearchCV(cv=3, error_score='raise-deprecating',\n",
       "             estimator=SVR(C=1.0, cache_size=200, coef0=0.0, degree=3,\n",
       "                           epsilon=0.1, gamma='auto_deprecated', kernel='rbf',\n",
       "                           max_iter=-1, shrinking=True, tol=0.001,\n",
       "                           verbose=False),\n",
       "             iid='warn', n_jobs=-1,\n",
       "             param_grid={'C': [0.1, 1, 10, 100], 'gamma': [0.1, 1, 10, 100]},\n",
       "             pre_dispatch='2*n_jobs', refit=True, return_train_score=True,\n",
       "             scoring=None, verbose=0)"
      ]
     },
     "execution_count": 111,
     "metadata": {},
     "output_type": "execute_result"
    }
   ],
   "source": [
    "grid_svr_rbf.fit(X_train_pca,y_train)"
   ]
  },
  {
   "cell_type": "code",
   "execution_count": 112,
   "metadata": {},
   "outputs": [
    {
     "name": "stdout",
     "output_type": "stream",
     "text": [
      "Best parameters: {'C': 1, 'gamma': 0.1}\n",
      "Best cross-validation score: 0.6637\n"
     ]
    }
   ],
   "source": [
    "print(\"Best parameters: {}\".format(grid_svr_rbf.best_params_))\n",
    "print(\"Best cross-validation score: {:.4f}\".format(grid_svr_rbf.best_score_))"
   ]
  },
  {
   "cell_type": "code",
   "execution_count": 113,
   "metadata": {},
   "outputs": [
    {
     "data": {
      "text/plain": [
       "SVR(C=100, cache_size=200, coef0=0.0, degree=3, epsilon=0.1, gamma=0.1,\n",
       "    kernel='rbf', max_iter=-1, shrinking=True, tol=0.001, verbose=False)"
      ]
     },
     "execution_count": 113,
     "metadata": {},
     "output_type": "execute_result"
    },
    {
     "data": {
      "text/plain": [
       "0.8600747140301671"
      ]
     },
     "execution_count": 113,
     "metadata": {},
     "output_type": "execute_result"
    },
    {
     "data": {
      "text/plain": [
       "0.5393493958278313"
      ]
     },
     "execution_count": 113,
     "metadata": {},
     "output_type": "execute_result"
    }
   ],
   "source": [
    "svr_rbf = SVR(kernel='rbf',C=100,gamma=0.1)\n",
    "svr_rbf.fit(X_train_pca, y_train)\n",
    "svr_rbf.score(X_train_pca, y_train)\n",
    "svr_rbf_test_score = svr_rbf.score(X_test_pca, y_test)\n",
    "svr_rbf_test_score"
   ]
  },
  {
   "cell_type": "code",
   "execution_count": 114,
   "metadata": {},
   "outputs": [
    {
     "name": "stdout",
     "output_type": "stream",
     "text": [
      "Cross-validation scores:\n",
      "[0.61101697 0.62841202 0.59188209 0.58989257 0.59973473 0.59099321]\n",
      "0.6019885963246779\n"
     ]
    }
   ],
   "source": [
    "from sklearn.model_selection import KFold\n",
    "from sklearn.model_selection import cross_val_score\n",
    "kfold = KFold(n_splits=6)\n",
    "print(\"Cross-validation scores:\\n{}\".format(cross_val_score(svr_rbf, X_train_pca, y_train, cv=kfold)))\n",
    "scores = cross_val_score(svr_rbf, X_train_pca, y_train, cv=kfold)\n",
    "print(np.mean(scores))"
   ]
  },
  {
   "cell_type": "code",
   "execution_count": 115,
   "metadata": {},
   "outputs": [
    {
     "data": {
      "text/html": [
       "<div>\n",
       "<style scoped>\n",
       "    .dataframe tbody tr th:only-of-type {\n",
       "        vertical-align: middle;\n",
       "    }\n",
       "\n",
       "    .dataframe tbody tr th {\n",
       "        vertical-align: top;\n",
       "    }\n",
       "\n",
       "    .dataframe thead th {\n",
       "        text-align: right;\n",
       "    }\n",
       "</style>\n",
       "<table border=\"1\" class=\"dataframe\">\n",
       "  <thead>\n",
       "    <tr style=\"text-align: right;\">\n",
       "      <th></th>\n",
       "      <th>mean_fit_time</th>\n",
       "      <th>std_fit_time</th>\n",
       "      <th>mean_score_time</th>\n",
       "      <th>std_score_time</th>\n",
       "      <th>param_C</th>\n",
       "      <th>param_gamma</th>\n",
       "      <th>params</th>\n",
       "      <th>split0_test_score</th>\n",
       "      <th>split1_test_score</th>\n",
       "      <th>split2_test_score</th>\n",
       "      <th>mean_test_score</th>\n",
       "      <th>std_test_score</th>\n",
       "      <th>rank_test_score</th>\n",
       "      <th>split0_train_score</th>\n",
       "      <th>split1_train_score</th>\n",
       "      <th>split2_train_score</th>\n",
       "      <th>mean_train_score</th>\n",
       "      <th>std_train_score</th>\n",
       "    </tr>\n",
       "  </thead>\n",
       "  <tbody>\n",
       "    <tr>\n",
       "      <th>0</th>\n",
       "      <td>0.058465</td>\n",
       "      <td>0.002525</td>\n",
       "      <td>0.014301</td>\n",
       "      <td>0.002612</td>\n",
       "      <td>0.1</td>\n",
       "      <td>0.1</td>\n",
       "      <td>{'C': 0.1, 'gamma': 0.1}</td>\n",
       "      <td>0.643627</td>\n",
       "      <td>0.654478</td>\n",
       "      <td>0.647687</td>\n",
       "      <td>0.648597</td>\n",
       "      <td>0.004477</td>\n",
       "      <td>2</td>\n",
       "      <td>0.747270</td>\n",
       "      <td>0.747831</td>\n",
       "      <td>0.743444</td>\n",
       "      <td>0.746182</td>\n",
       "      <td>0.001950</td>\n",
       "    </tr>\n",
       "    <tr>\n",
       "      <th>1</th>\n",
       "      <td>0.092396</td>\n",
       "      <td>0.013784</td>\n",
       "      <td>0.030649</td>\n",
       "      <td>0.005806</td>\n",
       "      <td>0.1</td>\n",
       "      <td>1</td>\n",
       "      <td>{'C': 0.1, 'gamma': 1}</td>\n",
       "      <td>0.077404</td>\n",
       "      <td>0.082293</td>\n",
       "      <td>0.067362</td>\n",
       "      <td>0.075686</td>\n",
       "      <td>0.006215</td>\n",
       "      <td>8</td>\n",
       "      <td>0.504675</td>\n",
       "      <td>0.493443</td>\n",
       "      <td>0.504388</td>\n",
       "      <td>0.500835</td>\n",
       "      <td>0.005228</td>\n",
       "    </tr>\n",
       "    <tr>\n",
       "      <th>2</th>\n",
       "      <td>0.112345</td>\n",
       "      <td>0.012555</td>\n",
       "      <td>0.022735</td>\n",
       "      <td>0.001225</td>\n",
       "      <td>0.1</td>\n",
       "      <td>10</td>\n",
       "      <td>{'C': 0.1, 'gamma': 10}</td>\n",
       "      <td>-0.000727</td>\n",
       "      <td>-0.000383</td>\n",
       "      <td>-0.015475</td>\n",
       "      <td>-0.005528</td>\n",
       "      <td>0.007035</td>\n",
       "      <td>9</td>\n",
       "      <td>0.473397</td>\n",
       "      <td>0.454660</td>\n",
       "      <td>0.467935</td>\n",
       "      <td>0.465331</td>\n",
       "      <td>0.007868</td>\n",
       "    </tr>\n",
       "    <tr>\n",
       "      <th>3</th>\n",
       "      <td>0.159410</td>\n",
       "      <td>0.010241</td>\n",
       "      <td>0.050031</td>\n",
       "      <td>0.003737</td>\n",
       "      <td>0.1</td>\n",
       "      <td>100</td>\n",
       "      <td>{'C': 0.1, 'gamma': 100}</td>\n",
       "      <td>-0.001676</td>\n",
       "      <td>-0.001624</td>\n",
       "      <td>-0.015465</td>\n",
       "      <td>-0.006255</td>\n",
       "      <td>0.006512</td>\n",
       "      <td>13</td>\n",
       "      <td>0.473200</td>\n",
       "      <td>0.454666</td>\n",
       "      <td>0.467520</td>\n",
       "      <td>0.465129</td>\n",
       "      <td>0.007753</td>\n",
       "    </tr>\n",
       "    <tr>\n",
       "      <th>4</th>\n",
       "      <td>0.118071</td>\n",
       "      <td>0.008566</td>\n",
       "      <td>0.014900</td>\n",
       "      <td>0.000826</td>\n",
       "      <td>1</td>\n",
       "      <td>0.1</td>\n",
       "      <td>{'C': 1, 'gamma': 0.1}</td>\n",
       "      <td>0.658039</td>\n",
       "      <td>0.659721</td>\n",
       "      <td>0.673304</td>\n",
       "      <td>0.663688</td>\n",
       "      <td>0.006834</td>\n",
       "      <td>1</td>\n",
       "      <td>0.838128</td>\n",
       "      <td>0.846661</td>\n",
       "      <td>0.844749</td>\n",
       "      <td>0.843179</td>\n",
       "      <td>0.003656</td>\n",
       "    </tr>\n",
       "    <tr>\n",
       "      <th>5</th>\n",
       "      <td>0.108773</td>\n",
       "      <td>0.017845</td>\n",
       "      <td>0.027454</td>\n",
       "      <td>0.006283</td>\n",
       "      <td>1</td>\n",
       "      <td>1</td>\n",
       "      <td>{'C': 1, 'gamma': 1}</td>\n",
       "      <td>0.125634</td>\n",
       "      <td>0.118724</td>\n",
       "      <td>0.127941</td>\n",
       "      <td>0.124100</td>\n",
       "      <td>0.003916</td>\n",
       "      <td>5</td>\n",
       "      <td>0.825999</td>\n",
       "      <td>0.829066</td>\n",
       "      <td>0.830193</td>\n",
       "      <td>0.828420</td>\n",
       "      <td>0.001772</td>\n",
       "    </tr>\n",
       "    <tr>\n",
       "      <th>6</th>\n",
       "      <td>0.112883</td>\n",
       "      <td>0.010936</td>\n",
       "      <td>0.026524</td>\n",
       "      <td>0.001792</td>\n",
       "      <td>1</td>\n",
       "      <td>10</td>\n",
       "      <td>{'C': 1, 'gamma': 10}</td>\n",
       "      <td>-0.004696</td>\n",
       "      <td>-0.010390</td>\n",
       "      <td>-0.001677</td>\n",
       "      <td>-0.005588</td>\n",
       "      <td>0.003612</td>\n",
       "      <td>10</td>\n",
       "      <td>0.820707</td>\n",
       "      <td>0.825112</td>\n",
       "      <td>0.823968</td>\n",
       "      <td>0.823263</td>\n",
       "      <td>0.001866</td>\n",
       "    </tr>\n",
       "    <tr>\n",
       "      <th>7</th>\n",
       "      <td>0.197876</td>\n",
       "      <td>0.028126</td>\n",
       "      <td>0.066315</td>\n",
       "      <td>0.006267</td>\n",
       "      <td>1</td>\n",
       "      <td>100</td>\n",
       "      <td>{'C': 1, 'gamma': 100}</td>\n",
       "      <td>-0.005696</td>\n",
       "      <td>-0.011553</td>\n",
       "      <td>-0.001930</td>\n",
       "      <td>-0.006393</td>\n",
       "      <td>0.003959</td>\n",
       "      <td>14</td>\n",
       "      <td>0.820812</td>\n",
       "      <td>0.825150</td>\n",
       "      <td>0.823991</td>\n",
       "      <td>0.823318</td>\n",
       "      <td>0.001834</td>\n",
       "    </tr>\n",
       "    <tr>\n",
       "      <th>8</th>\n",
       "      <td>0.255404</td>\n",
       "      <td>0.018097</td>\n",
       "      <td>0.017025</td>\n",
       "      <td>0.000821</td>\n",
       "      <td>10</td>\n",
       "      <td>0.1</td>\n",
       "      <td>{'C': 10, 'gamma': 0.1}</td>\n",
       "      <td>0.611408</td>\n",
       "      <td>0.597553</td>\n",
       "      <td>0.641277</td>\n",
       "      <td>0.616746</td>\n",
       "      <td>0.018245</td>\n",
       "      <td>3</td>\n",
       "      <td>0.854408</td>\n",
       "      <td>0.864775</td>\n",
       "      <td>0.859809</td>\n",
       "      <td>0.859664</td>\n",
       "      <td>0.004234</td>\n",
       "    </tr>\n",
       "    <tr>\n",
       "      <th>9</th>\n",
       "      <td>0.106985</td>\n",
       "      <td>0.005939</td>\n",
       "      <td>0.025566</td>\n",
       "      <td>0.006514</td>\n",
       "      <td>10</td>\n",
       "      <td>1</td>\n",
       "      <td>{'C': 10, 'gamma': 1}</td>\n",
       "      <td>0.125634</td>\n",
       "      <td>0.118724</td>\n",
       "      <td>0.127941</td>\n",
       "      <td>0.124100</td>\n",
       "      <td>0.003916</td>\n",
       "      <td>5</td>\n",
       "      <td>0.825999</td>\n",
       "      <td>0.829066</td>\n",
       "      <td>0.830193</td>\n",
       "      <td>0.828420</td>\n",
       "      <td>0.001772</td>\n",
       "    </tr>\n",
       "    <tr>\n",
       "      <th>10</th>\n",
       "      <td>0.131109</td>\n",
       "      <td>0.011194</td>\n",
       "      <td>0.025420</td>\n",
       "      <td>0.004343</td>\n",
       "      <td>10</td>\n",
       "      <td>10</td>\n",
       "      <td>{'C': 10, 'gamma': 10}</td>\n",
       "      <td>-0.004696</td>\n",
       "      <td>-0.010390</td>\n",
       "      <td>-0.001677</td>\n",
       "      <td>-0.005588</td>\n",
       "      <td>0.003612</td>\n",
       "      <td>10</td>\n",
       "      <td>0.820707</td>\n",
       "      <td>0.825112</td>\n",
       "      <td>0.823968</td>\n",
       "      <td>0.823263</td>\n",
       "      <td>0.001866</td>\n",
       "    </tr>\n",
       "    <tr>\n",
       "      <th>11</th>\n",
       "      <td>0.178828</td>\n",
       "      <td>0.016511</td>\n",
       "      <td>0.056789</td>\n",
       "      <td>0.001567</td>\n",
       "      <td>10</td>\n",
       "      <td>100</td>\n",
       "      <td>{'C': 10, 'gamma': 100}</td>\n",
       "      <td>-0.005696</td>\n",
       "      <td>-0.011553</td>\n",
       "      <td>-0.001930</td>\n",
       "      <td>-0.006393</td>\n",
       "      <td>0.003959</td>\n",
       "      <td>14</td>\n",
       "      <td>0.820812</td>\n",
       "      <td>0.825150</td>\n",
       "      <td>0.823991</td>\n",
       "      <td>0.823318</td>\n",
       "      <td>0.001834</td>\n",
       "    </tr>\n",
       "    <tr>\n",
       "      <th>12</th>\n",
       "      <td>0.212806</td>\n",
       "      <td>0.011244</td>\n",
       "      <td>0.015520</td>\n",
       "      <td>0.000712</td>\n",
       "      <td>100</td>\n",
       "      <td>0.1</td>\n",
       "      <td>{'C': 100, 'gamma': 0.1}</td>\n",
       "      <td>0.598564</td>\n",
       "      <td>0.583609</td>\n",
       "      <td>0.625706</td>\n",
       "      <td>0.602626</td>\n",
       "      <td>0.017425</td>\n",
       "      <td>4</td>\n",
       "      <td>0.857395</td>\n",
       "      <td>0.866296</td>\n",
       "      <td>0.860651</td>\n",
       "      <td>0.861448</td>\n",
       "      <td>0.003677</td>\n",
       "    </tr>\n",
       "    <tr>\n",
       "      <th>13</th>\n",
       "      <td>0.096109</td>\n",
       "      <td>0.004042</td>\n",
       "      <td>0.024308</td>\n",
       "      <td>0.005466</td>\n",
       "      <td>100</td>\n",
       "      <td>1</td>\n",
       "      <td>{'C': 100, 'gamma': 1}</td>\n",
       "      <td>0.125634</td>\n",
       "      <td>0.118724</td>\n",
       "      <td>0.127941</td>\n",
       "      <td>0.124100</td>\n",
       "      <td>0.003916</td>\n",
       "      <td>5</td>\n",
       "      <td>0.825999</td>\n",
       "      <td>0.829066</td>\n",
       "      <td>0.830193</td>\n",
       "      <td>0.828420</td>\n",
       "      <td>0.001772</td>\n",
       "    </tr>\n",
       "    <tr>\n",
       "      <th>14</th>\n",
       "      <td>0.137239</td>\n",
       "      <td>0.004541</td>\n",
       "      <td>0.023845</td>\n",
       "      <td>0.003803</td>\n",
       "      <td>100</td>\n",
       "      <td>10</td>\n",
       "      <td>{'C': 100, 'gamma': 10}</td>\n",
       "      <td>-0.004696</td>\n",
       "      <td>-0.010390</td>\n",
       "      <td>-0.001677</td>\n",
       "      <td>-0.005588</td>\n",
       "      <td>0.003612</td>\n",
       "      <td>10</td>\n",
       "      <td>0.820707</td>\n",
       "      <td>0.825112</td>\n",
       "      <td>0.823968</td>\n",
       "      <td>0.823263</td>\n",
       "      <td>0.001866</td>\n",
       "    </tr>\n",
       "    <tr>\n",
       "      <th>15</th>\n",
       "      <td>0.121457</td>\n",
       "      <td>0.010148</td>\n",
       "      <td>0.033644</td>\n",
       "      <td>0.004540</td>\n",
       "      <td>100</td>\n",
       "      <td>100</td>\n",
       "      <td>{'C': 100, 'gamma': 100}</td>\n",
       "      <td>-0.005696</td>\n",
       "      <td>-0.011553</td>\n",
       "      <td>-0.001930</td>\n",
       "      <td>-0.006393</td>\n",
       "      <td>0.003959</td>\n",
       "      <td>14</td>\n",
       "      <td>0.820812</td>\n",
       "      <td>0.825150</td>\n",
       "      <td>0.823991</td>\n",
       "      <td>0.823318</td>\n",
       "      <td>0.001834</td>\n",
       "    </tr>\n",
       "  </tbody>\n",
       "</table>\n",
       "</div>"
      ],
      "text/plain": [
       "    mean_fit_time  std_fit_time  mean_score_time  std_score_time param_C  \\\n",
       "0        0.058465      0.002525         0.014301        0.002612     0.1   \n",
       "1        0.092396      0.013784         0.030649        0.005806     0.1   \n",
       "2        0.112345      0.012555         0.022735        0.001225     0.1   \n",
       "3        0.159410      0.010241         0.050031        0.003737     0.1   \n",
       "4        0.118071      0.008566         0.014900        0.000826       1   \n",
       "5        0.108773      0.017845         0.027454        0.006283       1   \n",
       "6        0.112883      0.010936         0.026524        0.001792       1   \n",
       "7        0.197876      0.028126         0.066315        0.006267       1   \n",
       "8        0.255404      0.018097         0.017025        0.000821      10   \n",
       "9        0.106985      0.005939         0.025566        0.006514      10   \n",
       "10       0.131109      0.011194         0.025420        0.004343      10   \n",
       "11       0.178828      0.016511         0.056789        0.001567      10   \n",
       "12       0.212806      0.011244         0.015520        0.000712     100   \n",
       "13       0.096109      0.004042         0.024308        0.005466     100   \n",
       "14       0.137239      0.004541         0.023845        0.003803     100   \n",
       "15       0.121457      0.010148         0.033644        0.004540     100   \n",
       "\n",
       "   param_gamma                    params  split0_test_score  \\\n",
       "0          0.1  {'C': 0.1, 'gamma': 0.1}           0.643627   \n",
       "1            1    {'C': 0.1, 'gamma': 1}           0.077404   \n",
       "2           10   {'C': 0.1, 'gamma': 10}          -0.000727   \n",
       "3          100  {'C': 0.1, 'gamma': 100}          -0.001676   \n",
       "4          0.1    {'C': 1, 'gamma': 0.1}           0.658039   \n",
       "5            1      {'C': 1, 'gamma': 1}           0.125634   \n",
       "6           10     {'C': 1, 'gamma': 10}          -0.004696   \n",
       "7          100    {'C': 1, 'gamma': 100}          -0.005696   \n",
       "8          0.1   {'C': 10, 'gamma': 0.1}           0.611408   \n",
       "9            1     {'C': 10, 'gamma': 1}           0.125634   \n",
       "10          10    {'C': 10, 'gamma': 10}          -0.004696   \n",
       "11         100   {'C': 10, 'gamma': 100}          -0.005696   \n",
       "12         0.1  {'C': 100, 'gamma': 0.1}           0.598564   \n",
       "13           1    {'C': 100, 'gamma': 1}           0.125634   \n",
       "14          10   {'C': 100, 'gamma': 10}          -0.004696   \n",
       "15         100  {'C': 100, 'gamma': 100}          -0.005696   \n",
       "\n",
       "    split1_test_score  split2_test_score  mean_test_score  std_test_score  \\\n",
       "0            0.654478           0.647687         0.648597        0.004477   \n",
       "1            0.082293           0.067362         0.075686        0.006215   \n",
       "2           -0.000383          -0.015475        -0.005528        0.007035   \n",
       "3           -0.001624          -0.015465        -0.006255        0.006512   \n",
       "4            0.659721           0.673304         0.663688        0.006834   \n",
       "5            0.118724           0.127941         0.124100        0.003916   \n",
       "6           -0.010390          -0.001677        -0.005588        0.003612   \n",
       "7           -0.011553          -0.001930        -0.006393        0.003959   \n",
       "8            0.597553           0.641277         0.616746        0.018245   \n",
       "9            0.118724           0.127941         0.124100        0.003916   \n",
       "10          -0.010390          -0.001677        -0.005588        0.003612   \n",
       "11          -0.011553          -0.001930        -0.006393        0.003959   \n",
       "12           0.583609           0.625706         0.602626        0.017425   \n",
       "13           0.118724           0.127941         0.124100        0.003916   \n",
       "14          -0.010390          -0.001677        -0.005588        0.003612   \n",
       "15          -0.011553          -0.001930        -0.006393        0.003959   \n",
       "\n",
       "    rank_test_score  split0_train_score  split1_train_score  \\\n",
       "0                 2            0.747270            0.747831   \n",
       "1                 8            0.504675            0.493443   \n",
       "2                 9            0.473397            0.454660   \n",
       "3                13            0.473200            0.454666   \n",
       "4                 1            0.838128            0.846661   \n",
       "5                 5            0.825999            0.829066   \n",
       "6                10            0.820707            0.825112   \n",
       "7                14            0.820812            0.825150   \n",
       "8                 3            0.854408            0.864775   \n",
       "9                 5            0.825999            0.829066   \n",
       "10               10            0.820707            0.825112   \n",
       "11               14            0.820812            0.825150   \n",
       "12                4            0.857395            0.866296   \n",
       "13                5            0.825999            0.829066   \n",
       "14               10            0.820707            0.825112   \n",
       "15               14            0.820812            0.825150   \n",
       "\n",
       "    split2_train_score  mean_train_score  std_train_score  \n",
       "0             0.743444          0.746182         0.001950  \n",
       "1             0.504388          0.500835         0.005228  \n",
       "2             0.467935          0.465331         0.007868  \n",
       "3             0.467520          0.465129         0.007753  \n",
       "4             0.844749          0.843179         0.003656  \n",
       "5             0.830193          0.828420         0.001772  \n",
       "6             0.823968          0.823263         0.001866  \n",
       "7             0.823991          0.823318         0.001834  \n",
       "8             0.859809          0.859664         0.004234  \n",
       "9             0.830193          0.828420         0.001772  \n",
       "10            0.823968          0.823263         0.001866  \n",
       "11            0.823991          0.823318         0.001834  \n",
       "12            0.860651          0.861448         0.003677  \n",
       "13            0.830193          0.828420         0.001772  \n",
       "14            0.823968          0.823263         0.001866  \n",
       "15            0.823991          0.823318         0.001834  "
      ]
     },
     "execution_count": 115,
     "metadata": {},
     "output_type": "execute_result"
    }
   ],
   "source": [
    "result_rbf = pd.DataFrame(grid_svr_rbf.cv_results_)\n",
    "result_rbf"
   ]
  },
  {
   "cell_type": "code",
   "execution_count": 116,
   "metadata": {},
   "outputs": [
    {
     "data": {
      "text/plain": [
       "[<matplotlib.lines.Line2D at 0x1ee52008b00>]"
      ]
     },
     "execution_count": 116,
     "metadata": {},
     "output_type": "execute_result"
    },
    {
     "data": {
      "text/plain": [
       "[<matplotlib.lines.Line2D at 0x1ee52008f28>]"
      ]
     },
     "execution_count": 116,
     "metadata": {},
     "output_type": "execute_result"
    },
    {
     "data": {
      "text/plain": [
       "([<matplotlib.axis.XTick at 0x1ee51ff8198>,\n",
       "  <matplotlib.axis.XTick at 0x1ee51ff5b00>,\n",
       "  <matplotlib.axis.XTick at 0x1ee51ff5a20>,\n",
       "  <matplotlib.axis.XTick at 0x1ee5201c5f8>,\n",
       "  <matplotlib.axis.XTick at 0x1ee5201cb00>,\n",
       "  <matplotlib.axis.XTick at 0x1ee5201f160>],\n",
       " <a list of 6 Text xticklabel objects>)"
      ]
     },
     "execution_count": 116,
     "metadata": {},
     "output_type": "execute_result"
    },
    {
     "data": {
      "text/plain": [
       "[<matplotlib.lines.Line2D at 0x1ee52008e80>]"
      ]
     },
     "execution_count": 116,
     "metadata": {},
     "output_type": "execute_result"
    },
    {
     "data": {
      "text/plain": [
       "[<matplotlib.lines.Line2D at 0x1ee51ff5630>]"
      ]
     },
     "execution_count": 116,
     "metadata": {},
     "output_type": "execute_result"
    },
    {
     "data": {
      "text/plain": [
       "<matplotlib.legend.Legend at 0x1ee5201ff28>"
      ]
     },
     "execution_count": 116,
     "metadata": {},
     "output_type": "execute_result"
    },
    {
     "data": {
      "image/png": "[encoded data removed]",
      "text/plain": [
       "<Figure size 432x288 with 1 Axes>"
      ]
     },
     "metadata": {
      "needs_background": "light"
     },
     "output_type": "display_data"
    }
   ],
   "source": [
    "plt.plot(range(result_rbf.shape[0]), result_rbf['mean_train_score'], label = 'mean train score')\n",
    "plt.plot(range(result_rbf.shape[0]), result_rbf['mean_test_score'], label = 'mean test score')\n",
    "plt.xticks(range(result_svr_poly.shape[0]), result_rbf['param_C'], rotation = 90)\n",
    "plt.plot([grid_svr_rbf.best_index_], result_rbf['mean_train_score'][grid_svr_rbf.best_index_], 'o', markersize = 10, fillstyle = \"none\")\n",
    "plt.plot([grid_svr_rbf.best_index_], result_rbf['mean_test_score'][grid_svr_rbf.best_index_], 'o', markersize = 10, fillstyle = \"none\")\n",
    "plt.grid()\n",
    "plt.legend()"
   ]
  },
  {
   "cell_type": "markdown",
   "metadata": {},
   "source": [
    "### SVR with Kernel 'rbf' Summary:\n",
    "\n",
    "#### Train Score: 0.8601\n",
    "\n",
    "#### Test Score: 0.5393\n",
    "\n",
    "#### Best Parameters: {'C': 1, 'gamma': 0.1}\n",
    "\n",
    "#### Best Cross - Validation Score: 0.6637"
   ]
  },
  {
   "cell_type": "markdown",
   "metadata": {},
   "source": [
    "## Without PCA"
   ]
  },
  {
   "cell_type": "code",
   "execution_count": 117,
   "metadata": {},
   "outputs": [],
   "source": [
    "d = {'Model': ['Linear Regression', 'KNN Regression','Ridge Regression','Lasso Regression',\n",
    "               'Polynominal Regression','Simple SVR','SVR with Linear kernel','SVR with Poly kernel',\n",
    "               'SVR with rbf kernel'], \n",
    "     'Cross-Validation Score':[0.711074, 0.550138, 0.709673, 0.601946, 0.709610, 0.706442, 0.711354, 0.737803,\n",
    "                              0.742461]}"
   ]
  },
  {
   "cell_type": "code",
   "execution_count": 118,
   "metadata": {},
   "outputs": [
    {
     "data": {
      "text/html": [
       "<div>\n",
       "<style scoped>\n",
       "    .dataframe tbody tr th:only-of-type {\n",
       "        vertical-align: middle;\n",
       "    }\n",
       "\n",
       "    .dataframe tbody tr th {\n",
       "        vertical-align: top;\n",
       "    }\n",
       "\n",
       "    .dataframe thead th {\n",
       "        text-align: right;\n",
       "    }\n",
       "</style>\n",
       "<table border=\"1\" class=\"dataframe\">\n",
       "  <thead>\n",
       "    <tr style=\"text-align: right;\">\n",
       "      <th></th>\n",
       "      <th>Model</th>\n",
       "      <th>Cross-Validation Score</th>\n",
       "    </tr>\n",
       "  </thead>\n",
       "  <tbody>\n",
       "    <tr>\n",
       "      <th>0</th>\n",
       "      <td>Linear Regression</td>\n",
       "      <td>0.711074</td>\n",
       "    </tr>\n",
       "    <tr>\n",
       "      <th>1</th>\n",
       "      <td>KNN Regression</td>\n",
       "      <td>0.550138</td>\n",
       "    </tr>\n",
       "    <tr>\n",
       "      <th>2</th>\n",
       "      <td>Ridge Regression</td>\n",
       "      <td>0.709673</td>\n",
       "    </tr>\n",
       "    <tr>\n",
       "      <th>3</th>\n",
       "      <td>Lasso Regression</td>\n",
       "      <td>0.601946</td>\n",
       "    </tr>\n",
       "    <tr>\n",
       "      <th>4</th>\n",
       "      <td>Polynominal Regression</td>\n",
       "      <td>0.709610</td>\n",
       "    </tr>\n",
       "    <tr>\n",
       "      <th>5</th>\n",
       "      <td>Simple SVR</td>\n",
       "      <td>0.706442</td>\n",
       "    </tr>\n",
       "    <tr>\n",
       "      <th>6</th>\n",
       "      <td>SVR with Linear kernel</td>\n",
       "      <td>0.711354</td>\n",
       "    </tr>\n",
       "    <tr>\n",
       "      <th>7</th>\n",
       "      <td>SVR with Poly kernel</td>\n",
       "      <td>0.737803</td>\n",
       "    </tr>\n",
       "    <tr>\n",
       "      <th>8</th>\n",
       "      <td>SVR with rbf kernel</td>\n",
       "      <td>0.742461</td>\n",
       "    </tr>\n",
       "  </tbody>\n",
       "</table>\n",
       "</div>"
      ],
      "text/plain": [
       "                    Model  Cross-Validation Score\n",
       "0       Linear Regression                0.711074\n",
       "1          KNN Regression                0.550138\n",
       "2        Ridge Regression                0.709673\n",
       "3        Lasso Regression                0.601946\n",
       "4  Polynominal Regression                0.709610\n",
       "5              Simple SVR                0.706442\n",
       "6  SVR with Linear kernel                0.711354\n",
       "7    SVR with Poly kernel                0.737803\n",
       "8     SVR with rbf kernel                0.742461"
      ]
     },
     "execution_count": 118,
     "metadata": {},
     "output_type": "execute_result"
    }
   ],
   "source": [
    "result = pd.DataFrame(data=d)\n",
    "result"
   ]
  },
  {
   "cell_type": "markdown",
   "metadata": {},
   "source": [
    "## Note : The above results are from Project 1 - Regression Task"
   ]
  },
  {
   "cell_type": "markdown",
   "metadata": {},
   "source": [
    "## With PCA"
   ]
  },
  {
   "cell_type": "code",
   "execution_count": 119,
   "metadata": {},
   "outputs": [],
   "source": [
    "result = {'Model': ['Linear Regression', 'KNN Regression','Ridge Regression','Lasso Regression',\n",
    "                    'Polynominal Regression','Simple SVR','SVR with Linear kernel','SVR with Poly kernel',\n",
    "                    'SVR with rbf kernel'],\n",
    "          'Cross-Validation Score': [grid_search_lr.best_score_, grid_search_knn.best_score_, \n",
    "                                     grid_search_ridge.best_score_, grid_search_lasso.best_score_, \n",
    "                                     grid_poly.best_score_, grid_svrl.best_score_, grid_svr_linear.best_score_,\n",
    "                                     grid_svr_poly.best_score_, grid_svr_rbf.best_score_]}"
   ]
  },
  {
   "cell_type": "code",
   "execution_count": 120,
   "metadata": {},
   "outputs": [
    {
     "data": {
      "text/html": [
       "<div>\n",
       "<style scoped>\n",
       "    .dataframe tbody tr th:only-of-type {\n",
       "        vertical-align: middle;\n",
       "    }\n",
       "\n",
       "    .dataframe tbody tr th {\n",
       "        vertical-align: top;\n",
       "    }\n",
       "\n",
       "    .dataframe thead th {\n",
       "        text-align: right;\n",
       "    }\n",
       "</style>\n",
       "<table border=\"1\" class=\"dataframe\">\n",
       "  <thead>\n",
       "    <tr style=\"text-align: right;\">\n",
       "      <th></th>\n",
       "      <th>Model</th>\n",
       "      <th>Cross-Validation Score</th>\n",
       "    </tr>\n",
       "  </thead>\n",
       "  <tbody>\n",
       "    <tr>\n",
       "      <th>0</th>\n",
       "      <td>Linear Regression</td>\n",
       "      <td>0.689648</td>\n",
       "    </tr>\n",
       "    <tr>\n",
       "      <th>1</th>\n",
       "      <td>KNN Regression</td>\n",
       "      <td>0.625835</td>\n",
       "    </tr>\n",
       "    <tr>\n",
       "      <th>2</th>\n",
       "      <td>Ridge Regression</td>\n",
       "      <td>0.688463</td>\n",
       "    </tr>\n",
       "    <tr>\n",
       "      <th>3</th>\n",
       "      <td>Lasso Regression</td>\n",
       "      <td>0.668594</td>\n",
       "    </tr>\n",
       "    <tr>\n",
       "      <th>4</th>\n",
       "      <td>Polynominal Regression</td>\n",
       "      <td>0.707032</td>\n",
       "    </tr>\n",
       "    <tr>\n",
       "      <th>5</th>\n",
       "      <td>Simple SVR</td>\n",
       "      <td>0.686692</td>\n",
       "    </tr>\n",
       "    <tr>\n",
       "      <th>6</th>\n",
       "      <td>SVR with Linear kernel</td>\n",
       "      <td>0.689862</td>\n",
       "    </tr>\n",
       "    <tr>\n",
       "      <th>7</th>\n",
       "      <td>SVR with Poly kernel</td>\n",
       "      <td>0.689142</td>\n",
       "    </tr>\n",
       "    <tr>\n",
       "      <th>8</th>\n",
       "      <td>SVR with rbf kernel</td>\n",
       "      <td>0.663688</td>\n",
       "    </tr>\n",
       "  </tbody>\n",
       "</table>\n",
       "</div>"
      ],
      "text/plain": [
       "                    Model  Cross-Validation Score\n",
       "0       Linear Regression                0.689648\n",
       "1          KNN Regression                0.625835\n",
       "2        Ridge Regression                0.688463\n",
       "3        Lasso Regression                0.668594\n",
       "4  Polynominal Regression                0.707032\n",
       "5              Simple SVR                0.686692\n",
       "6  SVR with Linear kernel                0.689862\n",
       "7    SVR with Poly kernel                0.689142\n",
       "8     SVR with rbf kernel                0.663688"
      ]
     },
     "execution_count": 120,
     "metadata": {},
     "output_type": "execute_result"
    }
   ],
   "source": [
    "result = pd.DataFrame(data=result)\n",
    "result"
   ]
  },
  {
   "cell_type": "markdown",
   "metadata": {},
   "source": [
    "## We obtained better results with PCA for KNN Regression and Lasso Regression. Overall, it turns out to be almost same and not much of a difference after applying PCA."
   ]
  },
  {
   "cell_type": "markdown",
   "metadata": {},
   "source": [
    "## Deep Learning Model"
   ]
  },
  {
   "cell_type": "code",
   "execution_count": 121,
   "metadata": {},
   "outputs": [
    {
     "name": "stdout",
     "output_type": "stream",
     "text": [
      "Requirement already satisfied: tensorflow in c:\\users\\dhurv\\anaconda3\\lib\\site-packages (1.14.0)\n",
      "Requirement already satisfied: absl-py>=0.7.0 in c:\\users\\dhurv\\anaconda3\\lib\\site-packages (from tensorflow) (0.9.0)\n",
      "Collecting google-pasta>=0.1.6\n",
      "  Downloading google_pasta-0.2.0-py3-none-any.whl (57 kB)\n",
      "Requirement already satisfied: six>=1.10.0 in c:\\users\\dhurv\\anaconda3\\lib\\site-packages (from tensorflow) (1.12.0)\n",
      "Requirement already satisfied: gast>=0.2.0 in c:\\users\\dhurv\\anaconda3\\lib\\site-packages (from tensorflow) (0.3.3)\n",
      "Requirement already satisfied: tensorflow-estimator<1.15.0rc0,>=1.14.0rc0 in c:\\users\\dhurv\\anaconda3\\lib\\site-packages (from tensorflow) (1.14.0)\n",
      "Requirement already satisfied: tensorboard<1.15.0,>=1.14.0 in c:\\users\\dhurv\\anaconda3\\lib\\site-packages (from tensorflow) (1.14.0)\n",
      "Requirement already satisfied: termcolor>=1.1.0 in c:\\users\\dhurv\\anaconda3\\lib\\site-packages (from tensorflow) (1.1.0)\n",
      "Requirement already satisfied: wheel>=0.26 in c:\\users\\dhurv\\anaconda3\\lib\\site-packages (from tensorflow) (0.33.4)\n",
      "Requirement already satisfied: grpcio>=1.8.6 in c:\\users\\dhurv\\anaconda3\\lib\\site-packages (from tensorflow) (1.16.1)\n",
      "Requirement already satisfied: numpy<2.0,>=1.14.5 in c:\\users\\dhurv\\anaconda3\\lib\\site-packages (from tensorflow) (1.16.4)\n",
      "Requirement already satisfied: protobuf>=3.6.1 in c:\\users\\dhurv\\anaconda3\\lib\\site-packages (from tensorflow) (3.8.0)\n",
      "Requirement already satisfied: keras-applications>=1.0.6 in c:\\users\\dhurv\\anaconda3\\lib\\site-packages (from tensorflow) (1.0.8)\n",
      "Requirement already satisfied: wrapt>=1.11.1 in c:\\users\\dhurv\\anaconda3\\lib\\site-packages (from tensorflow) (1.11.2)\n",
      "Requirement already satisfied: astor>=0.6.0 in c:\\users\\dhurv\\anaconda3\\lib\\site-packages (from tensorflow) (0.8.0)\n",
      "Requirement already satisfied: keras-preprocessing>=1.0.5 in c:\\users\\dhurv\\anaconda3\\lib\\site-packages (from tensorflow) (1.1.0)\n",
      "Requirement already satisfied: setuptools>=41.0.0 in c:\\users\\dhurv\\anaconda3\\lib\\site-packages (from tensorboard<1.15.0,>=1.14.0->tensorflow) (41.0.1)\n",
      "Requirement already satisfied: werkzeug>=0.11.15 in c:\\users\\dhurv\\anaconda3\\lib\\site-packages (from tensorboard<1.15.0,>=1.14.0->tensorflow) (0.15.4)\n",
      "Requirement already satisfied: markdown>=2.6.8 in c:\\users\\dhurv\\anaconda3\\lib\\site-packages (from tensorboard<1.15.0,>=1.14.0->tensorflow) (3.1.1)\n",
      "Requirement already satisfied: h5py in c:\\users\\dhurv\\anaconda3\\lib\\site-packages (from keras-applications>=1.0.6->tensorflow) (2.9.0)\n",
      "Installing collected packages: google-pasta\n",
      "Successfully installed google-pasta-0.2.0\n",
      "Note: you may need to restart the kernel to use updated packages.\n"
     ]
    },
    {
     "name": "stderr",
     "output_type": "stream",
     "text": [
      "WARNING: You are using pip version 20.2.2; however, version 20.2.4 is available.\n",
      "You should consider upgrading via the 'C:\\Users\\dhurv\\Anaconda3\\python.exe -m pip install --upgrade pip' command.\n"
     ]
    }
   ],
   "source": [
    "pip install tensorflow"
   ]
  },
  {
   "cell_type": "code",
   "execution_count": 122,
   "metadata": {},
   "outputs": [
    {
     "name": "stdout",
     "output_type": "stream",
     "text": [
      "Requirement already satisfied: keras in c:\\users\\dhurv\\anaconda3\\lib\\site-packages (2.3.1)\n",
      "Requirement already satisfied: numpy>=1.9.1 in c:\\users\\dhurv\\anaconda3\\lib\\site-packages (from keras) (1.16.4)\n",
      "Requirement already satisfied: scipy>=0.14 in c:\\users\\dhurv\\anaconda3\\lib\\site-packages (from keras) (1.2.1)\n",
      "Requirement already satisfied: six>=1.9.0 in c:\\users\\dhurv\\anaconda3\\lib\\site-packages (from keras) (1.12.0)\n",
      "Requirement already satisfied: pyyaml in c:\\users\\dhurv\\anaconda3\\lib\\site-packages (from keras) (5.1.1)\n",
      "Requirement already satisfied: h5py in c:\\users\\dhurv\\anaconda3\\lib\\site-packages (from keras) (2.9.0)\n",
      "Requirement already satisfied: keras_applications>=1.0.6 in c:\\users\\dhurv\\anaconda3\\lib\\site-packages (from keras) (1.0.8)\n",
      "Requirement already satisfied: keras_preprocessing>=1.0.5 in c:\\users\\dhurv\\anaconda3\\lib\\site-packages (from keras) (1.1.0)\n",
      "Note: you may need to restart the kernel to use updated packages.\n"
     ]
    },
    {
     "name": "stderr",
     "output_type": "stream",
     "text": [
      "WARNING: You are using pip version 20.2.2; however, version 20.2.4 is available.\n",
      "You should consider upgrading via the 'C:\\Users\\dhurv\\Anaconda3\\python.exe -m pip install --upgrade pip' command.\n"
     ]
    }
   ],
   "source": [
    "pip install keras"
   ]
  },
  {
   "cell_type": "code",
   "execution_count": 123,
   "metadata": {},
   "outputs": [
    {
     "name": "stderr",
     "output_type": "stream",
     "text": [
      "Using TensorFlow backend.\n"
     ]
    }
   ],
   "source": [
    "# %matplotlib inline\n",
    "import numpy as np\n",
    "import tensorflow as tf\n",
    "\n",
    "from tensorflow.keras.models import Sequential\n",
    "from tensorflow.keras.layers import Dense, Activation\n",
    "from keras.optimizers import SGD\n",
    "from keras.utils import np_utils"
   ]
  },
  {
   "cell_type": "code",
   "execution_count": 124,
   "metadata": {},
   "outputs": [],
   "source": [
    "X_train_nn = np.asarray(X_train_scale)\n",
    "X_test_nn = np.asarray(X_test_scale)\n",
    "y_train = np.asarray(y_train)\n",
    "y_test = np.asarray(y_test)"
   ]
  },
  {
   "cell_type": "code",
   "execution_count": 125,
   "metadata": {},
   "outputs": [
    {
     "data": {
      "text/plain": [
       "(1512, 14)"
      ]
     },
     "execution_count": 125,
     "metadata": {},
     "output_type": "execute_result"
    }
   ],
   "source": [
    "X_train_nn.shape"
   ]
  },
  {
   "cell_type": "code",
   "execution_count": 126,
   "metadata": {},
   "outputs": [
    {
     "name": "stdout",
     "output_type": "stream",
     "text": [
      "WARNING:tensorflow:From C:\\Users\\dhurv\\Anaconda3\\lib\\site-packages\\tensorflow\\python\\ops\\init_ops.py:1251: calling VarianceScaling.__init__ (from tensorflow.python.ops.init_ops) with dtype is deprecated and will be removed in a future version.\n",
      "Instructions for updating:\n",
      "Call initializer instance with the dtype argument instead of passing it to the constructor\n",
      "Epoch 1/1000\n",
      "1512/1512 [==============================] - 1s 449us/sample - loss: 0.0837\n",
      "Epoch 2/1000\n",
      "1512/1512 [==============================] - 0s 15us/sample - loss: 0.0692\n",
      "Epoch 3/1000\n",
      "1512/1512 [==============================] - 0s 18us/sample - loss: 0.0587\n",
      "Epoch 4/1000\n",
      "1512/1512 [==============================] - 0s 21us/sample - loss: 0.0514\n",
      "Epoch 5/1000\n",
      "1512/1512 [==============================] - 0s 23us/sample - loss: 0.0469\n",
      "Epoch 6/1000\n",
      "1512/1512 [==============================] - 0s 22us/sample - loss: 0.0435\n",
      "Epoch 7/1000\n",
      "1512/1512 [==============================] - 0s 22us/sample - loss: 0.0407\n",
      "Epoch 8/1000\n",
      "1512/1512 [==============================] - 0s 23us/sample - loss: 0.0382\n",
      "Epoch 9/1000\n",
      "1512/1512 [==============================] - 0s 21us/sample - loss: 0.0359\n",
      "Epoch 10/1000\n",
      "1512/1512 [==============================] - 0s 22us/sample - loss: 0.0338\n",
      "Epoch 11/1000\n",
      "1512/1512 [==============================] - 0s 22us/sample - loss: 0.0320\n",
      "Epoch 12/1000\n",
      "1512/1512 [==============================] - 0s 21us/sample - loss: 0.0303\n",
      "Epoch 13/1000\n",
      "1512/1512 [==============================] - 0s 21us/sample - loss: 0.0287\n",
      "Epoch 14/1000\n",
      "1512/1512 [==============================] - 0s 22us/sample - loss: 0.0271\n",
      "Epoch 15/1000\n",
      "1512/1512 [==============================] - 0s 21us/sample - loss: 0.0258\n",
      "Epoch 16/1000\n",
      "1512/1512 [==============================] - 0s 21us/sample - loss: 0.0246\n",
      "Epoch 17/1000\n",
      "1512/1512 [==============================] - 0s 21us/sample - loss: 0.0235\n",
      "Epoch 18/1000\n",
      "1512/1512 [==============================] - 0s 24us/sample - loss: 0.0224\n",
      "Epoch 19/1000\n",
      "1512/1512 [==============================] - 0s 21us/sample - loss: 0.0215\n",
      "Epoch 20/1000\n",
      "1512/1512 [==============================] - 0s 22us/sample - loss: 0.0206\n",
      "Epoch 21/1000\n",
      "1512/1512 [==============================] - 0s 22us/sample - loss: 0.0198\n",
      "Epoch 22/1000\n",
      "1512/1512 [==============================] - 0s 24us/sample - loss: 0.0191\n",
      "Epoch 23/1000\n",
      "1512/1512 [==============================] - 0s 16us/sample - loss: 0.0184\n",
      "Epoch 24/1000\n",
      "1512/1512 [==============================] - 0s 10us/sample - loss: 0.0179\n",
      "Epoch 25/1000\n",
      "1512/1512 [==============================] - 0s 20us/sample - loss: 0.0173\n",
      "Epoch 26/1000\n",
      "1512/1512 [==============================] - 0s 20us/sample - loss: 0.0168\n",
      "Epoch 27/1000\n",
      "1512/1512 [==============================] - 0s 21us/sample - loss: 0.0163\n",
      "Epoch 28/1000\n",
      "1512/1512 [==============================] - 0s 20us/sample - loss: 0.0159\n",
      "Epoch 29/1000\n",
      "1512/1512 [==============================] - 0s 21us/sample - loss: 0.0155\n",
      "Epoch 30/1000\n",
      "1512/1512 [==============================] - 0s 21us/sample - loss: 0.0152\n",
      "Epoch 31/1000\n",
      "1512/1512 [==============================] - 0s 20us/sample - loss: 0.0149\n",
      "Epoch 32/1000\n",
      "1512/1512 [==============================] - 0s 22us/sample - loss: 0.0146\n",
      "Epoch 33/1000\n",
      "1512/1512 [==============================] - 0s 20us/sample - loss: 0.0143\n",
      "Epoch 34/1000\n",
      "1512/1512 [==============================] - 0s 20us/sample - loss: 0.0141\n",
      "Epoch 35/1000\n",
      "1512/1512 [==============================] - 0s 20us/sample - loss: 0.0139\n",
      "Epoch 36/1000\n",
      "1512/1512 [==============================] - 0s 21us/sample - loss: 0.0137\n",
      "Epoch 37/1000\n",
      "1512/1512 [==============================] - 0s 21us/sample - loss: 0.0135\n",
      "Epoch 38/1000\n",
      "1512/1512 [==============================] - 0s 20us/sample - loss: 0.0133\n",
      "Epoch 39/1000\n",
      "1512/1512 [==============================] - 0s 19us/sample - loss: 0.0131\n",
      "Epoch 40/1000\n",
      "1512/1512 [==============================] - 0s 21us/sample - loss: 0.0130\n",
      "Epoch 41/1000\n",
      "1512/1512 [==============================] - 0s 20us/sample - loss: 0.0128\n",
      "Epoch 42/1000\n",
      "1512/1512 [==============================] - 0s 20us/sample - loss: 0.0127\n",
      "Epoch 43/1000\n",
      "1512/1512 [==============================] - 0s 20us/sample - loss: 0.0126\n",
      "Epoch 44/1000\n",
      "1512/1512 [==============================] - 0s 20us/sample - loss: 0.0125\n",
      "Epoch 45/1000\n",
      "1512/1512 [==============================] - 0s 20us/sample - loss: 0.0124\n",
      "Epoch 46/1000\n",
      "1512/1512 [==============================] - 0s 20us/sample - loss: 0.0123\n",
      "Epoch 47/1000\n",
      "1512/1512 [==============================] - 0s 22us/sample - loss: 0.0122\n",
      "Epoch 48/1000\n",
      "1512/1512 [==============================] - 0s 24us/sample - loss: 0.0121\n",
      "Epoch 49/1000\n",
      "1512/1512 [==============================] - 0s 21us/sample - loss: 0.0120\n",
      "Epoch 50/1000\n",
      "1512/1512 [==============================] - 0s 20us/sample - loss: 0.0120\n",
      "Epoch 51/1000\n",
      "1512/1512 [==============================] - 0s 20us/sample - loss: 0.0119\n",
      "Epoch 52/1000\n",
      "1512/1512 [==============================] - 0s 22us/sample - loss: 0.0118\n",
      "Epoch 53/1000\n",
      "1512/1512 [==============================] - 0s 20us/sample - loss: 0.0118\n",
      "Epoch 54/1000\n",
      "1512/1512 [==============================] - 0s 21us/sample - loss: 0.0117\n",
      "Epoch 55/1000\n",
      "1512/1512 [==============================] - 0s 22us/sample - loss: 0.0116\n",
      "Epoch 56/1000\n",
      "1512/1512 [==============================] - 0s 21us/sample - loss: 0.0116\n",
      "Epoch 57/1000\n",
      "1512/1512 [==============================] - 0s 10us/sample - loss: 0.0115\n",
      "Epoch 58/1000\n",
      "1512/1512 [==============================] - 0s 17us/sample - loss: 0.0115\n",
      "Epoch 59/1000\n",
      "1512/1512 [==============================] - 0s 21us/sample - loss: 0.0114\n",
      "Epoch 60/1000\n",
      "1512/1512 [==============================] - 0s 20us/sample - loss: 0.0114\n",
      "Epoch 61/1000\n",
      "1512/1512 [==============================] - 0s 21us/sample - loss: 0.0113\n",
      "Epoch 62/1000\n",
      "1512/1512 [==============================] - 0s 24us/sample - loss: 0.0113\n",
      "Epoch 63/1000\n",
      "1512/1512 [==============================] - 0s 21us/sample - loss: 0.0113\n",
      "Epoch 64/1000\n",
      "1512/1512 [==============================] - 0s 21us/sample - loss: 0.0112\n",
      "Epoch 65/1000\n",
      "1512/1512 [==============================] - 0s 20us/sample - loss: 0.0112\n",
      "Epoch 66/1000\n",
      "1512/1512 [==============================] - 0s 22us/sample - loss: 0.0111\n",
      "Epoch 67/1000\n",
      "1512/1512 [==============================] - 0s 24us/sample - loss: 0.0111\n",
      "Epoch 68/1000\n",
      "1512/1512 [==============================] - 0s 22us/sample - loss: 0.0110\n",
      "Epoch 69/1000\n",
      "1512/1512 [==============================] - 0s 21us/sample - loss: 0.0110\n",
      "Epoch 70/1000\n",
      "1512/1512 [==============================] - 0s 23us/sample - loss: 0.0110\n",
      "Epoch 71/1000\n",
      "1512/1512 [==============================] - 0s 24us/sample - loss: 0.0109\n",
      "Epoch 72/1000\n",
      "1512/1512 [==============================] - 0s 21us/sample - loss: 0.0109\n",
      "Epoch 73/1000\n",
      "1512/1512 [==============================] - 0s 20us/sample - loss: 0.0108\n",
      "Epoch 74/1000\n",
      "1512/1512 [==============================] - 0s 20us/sample - loss: 0.0108\n",
      "Epoch 75/1000\n",
      "1512/1512 [==============================] - 0s 21us/sample - loss: 0.0108\n",
      "Epoch 76/1000\n",
      "1512/1512 [==============================] - 0s 20us/sample - loss: 0.0108\n",
      "Epoch 77/1000\n",
      "1512/1512 [==============================] - 0s 22us/sample - loss: 0.0107\n",
      "Epoch 78/1000\n",
      "1512/1512 [==============================] - 0s 21us/sample - loss: 0.0107\n",
      "Epoch 79/1000\n",
      "1512/1512 [==============================] - 0s 21us/sample - loss: 0.0107\n",
      "Epoch 80/1000\n",
      "1512/1512 [==============================] - 0s 22us/sample - loss: 0.0107\n",
      "Epoch 81/1000\n",
      "1512/1512 [==============================] - 0s 21us/sample - loss: 0.0106\n",
      "Epoch 82/1000\n",
      "1512/1512 [==============================] - 0s 22us/sample - loss: 0.0106\n",
      "Epoch 83/1000\n",
      "1512/1512 [==============================] - 0s 22us/sample - loss: 0.0106\n",
      "Epoch 84/1000\n",
      "1512/1512 [==============================] - 0s 20us/sample - loss: 0.0106\n",
      "Epoch 85/1000\n",
      "1512/1512 [==============================] - 0s 21us/sample - loss: 0.0106\n",
      "Epoch 86/1000\n",
      "1512/1512 [==============================] - 0s 20us/sample - loss: 0.0105\n",
      "Epoch 87/1000\n",
      "1512/1512 [==============================] - 0s 22us/sample - loss: 0.0105\n",
      "Epoch 88/1000\n",
      "1512/1512 [==============================] - 0s 21us/sample - loss: 0.0105\n",
      "Epoch 89/1000\n"
     ]
    },
    {
     "name": "stdout",
     "output_type": "stream",
     "text": [
      "1512/1512 [==============================] - 0s 12us/sample - loss: 0.0105\n",
      "Epoch 90/1000\n",
      "1512/1512 [==============================] - 0s 13us/sample - loss: 0.0105\n",
      "Epoch 91/1000\n",
      "1512/1512 [==============================] - 0s 21us/sample - loss: 0.0105\n",
      "Epoch 92/1000\n",
      "1512/1512 [==============================] - 0s 20us/sample - loss: 0.0104\n",
      "Epoch 93/1000\n",
      "1512/1512 [==============================] - 0s 21us/sample - loss: 0.0104\n",
      "Epoch 94/1000\n",
      "1512/1512 [==============================] - 0s 20us/sample - loss: 0.0104\n",
      "Epoch 95/1000\n",
      "1512/1512 [==============================] - 0s 20us/sample - loss: 0.0104\n",
      "Epoch 96/1000\n",
      "1512/1512 [==============================] - 0s 20us/sample - loss: 0.0104\n",
      "Epoch 97/1000\n",
      "1512/1512 [==============================] - 0s 21us/sample - loss: 0.0104\n",
      "Epoch 98/1000\n",
      "1512/1512 [==============================] - 0s 19us/sample - loss: 0.0104\n",
      "Epoch 99/1000\n",
      "1512/1512 [==============================] - 0s 21us/sample - loss: 0.0103\n",
      "Epoch 100/1000\n",
      "1512/1512 [==============================] - 0s 20us/sample - loss: 0.0103\n",
      "Epoch 101/1000\n",
      "1512/1512 [==============================] - 0s 21us/sample - loss: 0.0103\n",
      "Epoch 102/1000\n",
      "1512/1512 [==============================] - 0s 22us/sample - loss: 0.0103\n",
      "Epoch 103/1000\n",
      "1512/1512 [==============================] - 0s 17us/sample - loss: 0.0103\n",
      "Epoch 104/1000\n",
      "1512/1512 [==============================] - 0s 14us/sample - loss: 0.0103\n",
      "Epoch 105/1000\n",
      "1512/1512 [==============================] - 0s 13us/sample - loss: 0.0103\n",
      "Epoch 106/1000\n",
      "1512/1512 [==============================] - 0s 16us/sample - loss: 0.0103\n",
      "Epoch 107/1000\n",
      "1512/1512 [==============================] - 0s 21us/sample - loss: 0.0102\n",
      "Epoch 108/1000\n",
      "1512/1512 [==============================] - 0s 22us/sample - loss: 0.0102\n",
      "Epoch 109/1000\n",
      "1512/1512 [==============================] - 0s 22us/sample - loss: 0.0102\n",
      "Epoch 110/1000\n",
      "1512/1512 [==============================] - 0s 20us/sample - loss: 0.0102\n",
      "Epoch 111/1000\n",
      "1512/1512 [==============================] - 0s 20us/sample - loss: 0.0102\n",
      "Epoch 112/1000\n",
      "1512/1512 [==============================] - 0s 22us/sample - loss: 0.0102\n",
      "Epoch 113/1000\n",
      "1512/1512 [==============================] - 0s 21us/sample - loss: 0.0102\n",
      "Epoch 114/1000\n",
      "1512/1512 [==============================] - 0s 20us/sample - loss: 0.0101\n",
      "Epoch 115/1000\n",
      "1512/1512 [==============================] - 0s 21us/sample - loss: 0.0102\n",
      "Epoch 116/1000\n",
      "1512/1512 [==============================] - 0s 22us/sample - loss: 0.0102\n",
      "Epoch 117/1000\n",
      "1512/1512 [==============================] - 0s 20us/sample - loss: 0.0101\n",
      "Epoch 118/1000\n",
      "1512/1512 [==============================] - 0s 21us/sample - loss: 0.0101\n",
      "Epoch 119/1000\n",
      "1512/1512 [==============================] - 0s 22us/sample - loss: 0.0101\n",
      "Epoch 120/1000\n",
      "1512/1512 [==============================] - 0s 21us/sample - loss: 0.0101\n",
      "Epoch 121/1000\n",
      "1512/1512 [==============================] - 0s 21us/sample - loss: 0.0101\n",
      "Epoch 122/1000\n",
      "1512/1512 [==============================] - 0s 20us/sample - loss: 0.0101\n",
      "Epoch 123/1000\n",
      "1512/1512 [==============================] - 0s 11us/sample - loss: 0.0101\n",
      "Epoch 124/1000\n",
      "1512/1512 [==============================] - 0s 14us/sample - loss: 0.0101\n",
      "Epoch 125/1000\n",
      "1512/1512 [==============================] - 0s 21us/sample - loss: 0.0101\n",
      "Epoch 126/1000\n",
      "1512/1512 [==============================] - 0s 22us/sample - loss: 0.0100\n",
      "Epoch 127/1000\n",
      "1512/1512 [==============================] - 0s 22us/sample - loss: 0.0100\n",
      "Epoch 128/1000\n",
      "1512/1512 [==============================] - 0s 21us/sample - loss: 0.0100\n",
      "Epoch 129/1000\n",
      "1512/1512 [==============================] - 0s 21us/sample - loss: 0.0101\n",
      "Epoch 130/1000\n",
      "1512/1512 [==============================] - 0s 21us/sample - loss: 0.0100\n",
      "Epoch 131/1000\n",
      "1512/1512 [==============================] - 0s 20us/sample - loss: 0.0100\n",
      "Epoch 132/1000\n",
      "1512/1512 [==============================] - 0s 20us/sample - loss: 0.0100\n",
      "Epoch 133/1000\n",
      "1512/1512 [==============================] - 0s 21us/sample - loss: 0.0100\n",
      "Epoch 134/1000\n",
      "1512/1512 [==============================] - 0s 20us/sample - loss: 0.0100\n",
      "Epoch 135/1000\n",
      "1512/1512 [==============================] - 0s 21us/sample - loss: 0.0099\n",
      "Epoch 136/1000\n",
      "1512/1512 [==============================] - 0s 20us/sample - loss: 0.0099\n",
      "Epoch 137/1000\n",
      "1512/1512 [==============================] - 0s 22us/sample - loss: 0.0099\n",
      "Epoch 138/1000\n",
      "1512/1512 [==============================] - 0s 19us/sample - loss: 0.0099\n",
      "Epoch 139/1000\n",
      "1512/1512 [==============================] - 0s 20us/sample - loss: 0.0099\n",
      "Epoch 140/1000\n",
      "1512/1512 [==============================] - 0s 19us/sample - loss: 0.0099\n",
      "Epoch 141/1000\n",
      "1512/1512 [==============================] - 0s 21us/sample - loss: 0.0099\n",
      "Epoch 142/1000\n",
      "1512/1512 [==============================] - 0s 20us/sample - loss: 0.0099\n",
      "Epoch 143/1000\n",
      "1512/1512 [==============================] - 0s 22us/sample - loss: 0.0099\n",
      "Epoch 144/1000\n",
      "1512/1512 [==============================] - 0s 20us/sample - loss: 0.0099\n",
      "Epoch 145/1000\n",
      "1512/1512 [==============================] - 0s 20us/sample - loss: 0.0098\n",
      "Epoch 146/1000\n",
      "1512/1512 [==============================] - 0s 20us/sample - loss: 0.0098\n",
      "Epoch 147/1000\n",
      "1512/1512 [==============================] - 0s 20us/sample - loss: 0.0098\n",
      "Epoch 148/1000\n",
      "1512/1512 [==============================] - 0s 21us/sample - loss: 0.0098\n",
      "Epoch 149/1000\n",
      "1512/1512 [==============================] - 0s 20us/sample - loss: 0.0098\n",
      "Epoch 150/1000\n",
      "1512/1512 [==============================] - 0s 20us/sample - loss: 0.0098\n",
      "Epoch 151/1000\n",
      "1512/1512 [==============================] - 0s 20us/sample - loss: 0.0098\n",
      "Epoch 152/1000\n",
      "1512/1512 [==============================] - 0s 22us/sample - loss: 0.0098\n",
      "Epoch 153/1000\n",
      "1512/1512 [==============================] - 0s 27us/sample - loss: 0.0098\n",
      "Epoch 154/1000\n",
      "1512/1512 [==============================] - 0s 16us/sample - loss: 0.0098\n",
      "Epoch 155/1000\n",
      "1512/1512 [==============================] - 0s 22us/sample - loss: 0.0097\n",
      "Epoch 156/1000\n",
      "1512/1512 [==============================] - 0s 20us/sample - loss: 0.0097\n",
      "Epoch 157/1000\n",
      "1512/1512 [==============================] - 0s 17us/sample - loss: 0.0097\n",
      "Epoch 158/1000\n",
      "1512/1512 [==============================] - 0s 17us/sample - loss: 0.0097\n",
      "Epoch 159/1000\n",
      "1512/1512 [==============================] - 0s 15us/sample - loss: 0.0097\n",
      "Epoch 160/1000\n",
      "1512/1512 [==============================] - 0s 20us/sample - loss: 0.0097\n",
      "Epoch 161/1000\n",
      "1512/1512 [==============================] - 0s 20us/sample - loss: 0.0097\n",
      "Epoch 162/1000\n",
      "1512/1512 [==============================] - 0s 21us/sample - loss: 0.0097\n",
      "Epoch 163/1000\n",
      "1512/1512 [==============================] - 0s 24us/sample - loss: 0.0097\n",
      "Epoch 164/1000\n",
      "1512/1512 [==============================] - 0s 20us/sample - loss: 0.0097\n",
      "Epoch 165/1000\n",
      "1512/1512 [==============================] - 0s 22us/sample - loss: 0.0097\n",
      "Epoch 166/1000\n",
      "1512/1512 [==============================] - 0s 22us/sample - loss: 0.0096\n",
      "Epoch 167/1000\n",
      "1512/1512 [==============================] - 0s 22us/sample - loss: 0.0096\n",
      "Epoch 168/1000\n",
      "1512/1512 [==============================] - 0s 21us/sample - loss: 0.0096\n",
      "Epoch 169/1000\n",
      "1512/1512 [==============================] - 0s 21us/sample - loss: 0.0096\n",
      "Epoch 170/1000\n",
      "1512/1512 [==============================] - 0s 20us/sample - loss: 0.0096\n",
      "Epoch 171/1000\n",
      "1512/1512 [==============================] - 0s 20us/sample - loss: 0.0096\n",
      "Epoch 172/1000\n",
      "1512/1512 [==============================] - 0s 21us/sample - loss: 0.0096\n",
      "Epoch 173/1000\n",
      "1512/1512 [==============================] - 0s 21us/sample - loss: 0.0096\n",
      "Epoch 174/1000\n",
      "1512/1512 [==============================] - 0s 25us/sample - loss: 0.0096\n",
      "Epoch 175/1000\n",
      "1512/1512 [==============================] - 0s 32us/sample - loss: 0.0095\n",
      "Epoch 176/1000\n",
      "1512/1512 [==============================] - 0s 15us/sample - loss: 0.0096\n",
      "Epoch 177/1000\n",
      "1512/1512 [==============================] - 0s 10us/sample - loss: 0.0095\n",
      "Epoch 178/1000\n",
      "1512/1512 [==============================] - 0s 11us/sample - loss: 0.0095\n",
      "Epoch 179/1000\n",
      "1512/1512 [==============================] - 0s 13us/sample - loss: 0.0095\n",
      "Epoch 180/1000\n"
     ]
    },
    {
     "name": "stdout",
     "output_type": "stream",
     "text": [
      "1512/1512 [==============================] - 0s 21us/sample - loss: 0.0095\n",
      "Epoch 181/1000\n",
      "1512/1512 [==============================] - 0s 22us/sample - loss: 0.0095\n",
      "Epoch 182/1000\n",
      "1512/1512 [==============================] - 0s 21us/sample - loss: 0.0095\n",
      "Epoch 183/1000\n",
      "1512/1512 [==============================] - 0s 21us/sample - loss: 0.0095\n",
      "Epoch 184/1000\n",
      "1512/1512 [==============================] - 0s 17us/sample - loss: 0.0095\n",
      "Epoch 185/1000\n",
      "1512/1512 [==============================] - 0s 24us/sample - loss: 0.0095\n",
      "Epoch 186/1000\n",
      "1512/1512 [==============================] - 0s 23us/sample - loss: 0.0095\n",
      "Epoch 187/1000\n",
      "1512/1512 [==============================] - 0s 21us/sample - loss: 0.0095\n",
      "Epoch 188/1000\n",
      "1512/1512 [==============================] - 0s 22us/sample - loss: 0.0095\n",
      "Epoch 189/1000\n",
      "1512/1512 [==============================] - 0s 17us/sample - loss: 0.0095\n",
      "Epoch 190/1000\n",
      "1512/1512 [==============================] - 0s 17us/sample - loss: 0.0094\n",
      "Epoch 191/1000\n",
      "1512/1512 [==============================] - 0s 18us/sample - loss: 0.0094\n",
      "Epoch 192/1000\n",
      "1512/1512 [==============================] - 0s 21us/sample - loss: 0.0094\n",
      "Epoch 193/1000\n",
      "1512/1512 [==============================] - 0s 20us/sample - loss: 0.0094\n",
      "Epoch 194/1000\n",
      "1512/1512 [==============================] - 0s 29us/sample - loss: 0.0094\n",
      "Epoch 195/1000\n",
      "1512/1512 [==============================] - 0s 25us/sample - loss: 0.0094\n",
      "Epoch 196/1000\n",
      "1512/1512 [==============================] - 0s 24us/sample - loss: 0.0094\n",
      "Epoch 197/1000\n",
      "1512/1512 [==============================] - 0s 25us/sample - loss: 0.0094\n",
      "Epoch 198/1000\n",
      "1512/1512 [==============================] - 0s 24us/sample - loss: 0.0094\n",
      "Epoch 199/1000\n",
      "1512/1512 [==============================] - 0s 25us/sample - loss: 0.0094\n",
      "Epoch 200/1000\n",
      "1512/1512 [==============================] - 0s 23us/sample - loss: 0.0094\n",
      "Epoch 201/1000\n",
      "1512/1512 [==============================] - 0s 24us/sample - loss: 0.0094\n",
      "Epoch 202/1000\n",
      "1512/1512 [==============================] - 0s 26us/sample - loss: 0.0094\n",
      "Epoch 203/1000\n",
      "1512/1512 [==============================] - 0s 24us/sample - loss: 0.0093\n",
      "Epoch 204/1000\n",
      "1512/1512 [==============================] - 0s 21us/sample - loss: 0.0093\n",
      "Epoch 205/1000\n",
      "1512/1512 [==============================] - 0s 23us/sample - loss: 0.0093\n",
      "Epoch 206/1000\n",
      "1512/1512 [==============================] - 0s 22us/sample - loss: 0.0093\n",
      "Epoch 207/1000\n",
      "1512/1512 [==============================] - 0s 22us/sample - loss: 0.0093\n",
      "Epoch 208/1000\n",
      "1512/1512 [==============================] - 0s 22us/sample - loss: 0.0093\n",
      "Epoch 209/1000\n",
      "1512/1512 [==============================] - 0s 23us/sample - loss: 0.0093\n",
      "Epoch 210/1000\n",
      "1512/1512 [==============================] - 0s 22us/sample - loss: 0.0094\n",
      "Epoch 211/1000\n",
      "1512/1512 [==============================] - 0s 24us/sample - loss: 0.0093\n",
      "Epoch 212/1000\n",
      "1512/1512 [==============================] - 0s 26us/sample - loss: 0.0093\n",
      "Epoch 213/1000\n",
      "1512/1512 [==============================] - 0s 22us/sample - loss: 0.0093\n",
      "Epoch 214/1000\n",
      "1512/1512 [==============================] - 0s 21us/sample - loss: 0.0093\n",
      "Epoch 215/1000\n",
      "1512/1512 [==============================] - 0s 19us/sample - loss: 0.0093\n",
      "Epoch 216/1000\n",
      "1512/1512 [==============================] - 0s 23us/sample - loss: 0.0093\n",
      "Epoch 217/1000\n",
      "1512/1512 [==============================] - 0s 25us/sample - loss: 0.0093\n",
      "Epoch 218/1000\n",
      "1512/1512 [==============================] - 0s 23us/sample - loss: 0.0093\n",
      "Epoch 219/1000\n",
      "1512/1512 [==============================] - 0s 16us/sample - loss: 0.0093\n",
      "Epoch 220/1000\n",
      "1512/1512 [==============================] - 0s 15us/sample - loss: 0.0092\n",
      "Epoch 221/1000\n",
      "1512/1512 [==============================] - 0s 11us/sample - loss: 0.0093\n",
      "Epoch 222/1000\n",
      "1512/1512 [==============================] - 0s 15us/sample - loss: 0.0093\n",
      "Epoch 223/1000\n",
      "1512/1512 [==============================] - 0s 21us/sample - loss: 0.0092\n",
      "Epoch 224/1000\n",
      "1512/1512 [==============================] - 0s 21us/sample - loss: 0.0093\n",
      "Epoch 225/1000\n",
      "1512/1512 [==============================] - 0s 22us/sample - loss: 0.0092\n",
      "Epoch 226/1000\n",
      "1512/1512 [==============================] - 0s 21us/sample - loss: 0.0092\n",
      "Epoch 227/1000\n",
      "1512/1512 [==============================] - 0s 21us/sample - loss: 0.0092\n",
      "Epoch 228/1000\n",
      "1512/1512 [==============================] - 0s 20us/sample - loss: 0.0092\n",
      "Epoch 229/1000\n",
      "1512/1512 [==============================] - 0s 21us/sample - loss: 0.0092\n",
      "Epoch 230/1000\n",
      "1512/1512 [==============================] - 0s 21us/sample - loss: 0.0092\n",
      "Epoch 231/1000\n",
      "1512/1512 [==============================] - 0s 22us/sample - loss: 0.0092\n",
      "Epoch 232/1000\n",
      "1512/1512 [==============================] - 0s 20us/sample - loss: 0.0092\n",
      "Epoch 233/1000\n",
      "1512/1512 [==============================] - 0s 21us/sample - loss: 0.0092\n",
      "Epoch 234/1000\n",
      "1512/1512 [==============================] - 0s 21us/sample - loss: 0.0092\n",
      "Epoch 235/1000\n",
      "1512/1512 [==============================] - 0s 20us/sample - loss: 0.0092\n",
      "Epoch 236/1000\n",
      "1512/1512 [==============================] - 0s 20us/sample - loss: 0.0092\n",
      "Epoch 237/1000\n",
      "1512/1512 [==============================] - 0s 20us/sample - loss: 0.0092\n",
      "Epoch 238/1000\n",
      "1512/1512 [==============================] - 0s 20us/sample - loss: 0.0092\n",
      "Epoch 239/1000\n",
      "1512/1512 [==============================] - 0s 19us/sample - loss: 0.0092\n",
      "Epoch 240/1000\n",
      "1512/1512 [==============================] - 0s 21us/sample - loss: 0.0092\n",
      "Epoch 241/1000\n",
      "1512/1512 [==============================] - 0s 20us/sample - loss: 0.0092\n",
      "Epoch 242/1000\n",
      "1512/1512 [==============================] - 0s 21us/sample - loss: 0.0091\n",
      "Epoch 243/1000\n",
      "1512/1512 [==============================] - 0s 21us/sample - loss: 0.0091\n",
      "Epoch 244/1000\n",
      "1512/1512 [==============================] - 0s 21us/sample - loss: 0.0092\n",
      "Epoch 245/1000\n",
      "1512/1512 [==============================] - 0s 21us/sample - loss: 0.0091\n",
      "Epoch 246/1000\n",
      "1512/1512 [==============================] - 0s 20us/sample - loss: 0.0091\n",
      "Epoch 247/1000\n",
      "1512/1512 [==============================] - 0s 21us/sample - loss: 0.0091\n",
      "Epoch 248/1000\n",
      "1512/1512 [==============================] - 0s 22us/sample - loss: 0.0091\n",
      "Epoch 249/1000\n",
      "1512/1512 [==============================] - 0s 20us/sample - loss: 0.0091\n",
      "Epoch 250/1000\n",
      "1512/1512 [==============================] - 0s 20us/sample - loss: 0.0091\n",
      "Epoch 251/1000\n",
      "1512/1512 [==============================] - 0s 23us/sample - loss: 0.0091\n",
      "Epoch 252/1000\n",
      "1512/1512 [==============================] - 0s 20us/sample - loss: 0.0091\n",
      "Epoch 253/1000\n",
      "1512/1512 [==============================] - 0s 11us/sample - loss: 0.0091\n",
      "Epoch 254/1000\n",
      "1512/1512 [==============================] - 0s 13us/sample - loss: 0.0091\n",
      "Epoch 255/1000\n",
      "1512/1512 [==============================] - 0s 22us/sample - loss: 0.0091\n",
      "Epoch 256/1000\n",
      "1512/1512 [==============================] - 0s 22us/sample - loss: 0.0091\n",
      "Epoch 257/1000\n",
      "1512/1512 [==============================] - 0s 20us/sample - loss: 0.0091\n",
      "Epoch 258/1000\n",
      "1512/1512 [==============================] - 0s 22us/sample - loss: 0.0090\n",
      "Epoch 259/1000\n",
      "1512/1512 [==============================] - 0s 22us/sample - loss: 0.0091\n",
      "Epoch 260/1000\n",
      "1512/1512 [==============================] - 0s 19us/sample - loss: 0.0090\n",
      "Epoch 261/1000\n",
      "1512/1512 [==============================] - 0s 21us/sample - loss: 0.0090\n",
      "Epoch 262/1000\n",
      "1512/1512 [==============================] - 0s 23us/sample - loss: 0.0090\n",
      "Epoch 263/1000\n",
      "1512/1512 [==============================] - 0s 24us/sample - loss: 0.0090\n",
      "Epoch 264/1000\n",
      "1512/1512 [==============================] - 0s 20us/sample - loss: 0.0090\n",
      "Epoch 265/1000\n",
      "1512/1512 [==============================] - 0s 21us/sample - loss: 0.0090\n",
      "Epoch 266/1000\n",
      "1512/1512 [==============================] - 0s 19us/sample - loss: 0.0090\n",
      "Epoch 267/1000\n",
      "1512/1512 [==============================] - 0s 20us/sample - loss: 0.0090\n",
      "Epoch 268/1000\n",
      "1512/1512 [==============================] - 0s 18us/sample - loss: 0.0090\n",
      "Epoch 269/1000\n",
      "1512/1512 [==============================] - 0s 19us/sample - loss: 0.0090\n",
      "Epoch 270/1000\n",
      "1512/1512 [==============================] - 0s 20us/sample - loss: 0.0090\n",
      "Epoch 271/1000\n"
     ]
    },
    {
     "name": "stdout",
     "output_type": "stream",
     "text": [
      "1512/1512 [==============================] - 0s 20us/sample - loss: 0.0090\n",
      "Epoch 272/1000\n",
      "1512/1512 [==============================] - 0s 20us/sample - loss: 0.0090\n",
      "Epoch 273/1000\n",
      "1512/1512 [==============================] - 0s 20us/sample - loss: 0.0090\n",
      "Epoch 274/1000\n",
      "1512/1512 [==============================] - 0s 21us/sample - loss: 0.0090\n",
      "Epoch 275/1000\n",
      "1512/1512 [==============================] - 0s 20us/sample - loss: 0.0090\n",
      "Epoch 276/1000\n",
      "1512/1512 [==============================] - 0s 20us/sample - loss: 0.0090\n",
      "Epoch 277/1000\n",
      "1512/1512 [==============================] - 0s 20us/sample - loss: 0.0090\n",
      "Epoch 278/1000\n",
      "1512/1512 [==============================] - 0s 21us/sample - loss: 0.0089\n",
      "Epoch 279/1000\n",
      "1512/1512 [==============================] - 0s 20us/sample - loss: 0.0089\n",
      "Epoch 280/1000\n",
      "1512/1512 [==============================] - 0s 20us/sample - loss: 0.0089\n",
      "Epoch 281/1000\n",
      "1512/1512 [==============================] - 0s 21us/sample - loss: 0.0089\n",
      "Epoch 282/1000\n",
      "1512/1512 [==============================] - 0s 20us/sample - loss: 0.0089\n",
      "Epoch 283/1000\n",
      "1512/1512 [==============================] - 0s 20us/sample - loss: 0.0090\n",
      "Epoch 284/1000\n",
      "1512/1512 [==============================] - 0s 19us/sample - loss: 0.0090\n",
      "Epoch 285/1000\n",
      "1512/1512 [==============================] - 0s 20us/sample - loss: 0.0089\n",
      "Epoch 286/1000\n",
      "1512/1512 [==============================] - 0s 18us/sample - loss: 0.0089\n",
      "Epoch 287/1000\n",
      "1512/1512 [==============================] - 0s 11us/sample - loss: 0.0089\n",
      "Epoch 288/1000\n",
      "1512/1512 [==============================] - 0s 12us/sample - loss: 0.0089\n",
      "Epoch 289/1000\n",
      "1512/1512 [==============================] - 0s 18us/sample - loss: 0.0089\n",
      "Epoch 290/1000\n",
      "1512/1512 [==============================] - 0s 23us/sample - loss: 0.0089\n",
      "Epoch 291/1000\n",
      "1512/1512 [==============================] - 0s 22us/sample - loss: 0.0089\n",
      "Epoch 292/1000\n",
      "1512/1512 [==============================] - 0s 20us/sample - loss: 0.0089\n",
      "Epoch 293/1000\n",
      "1512/1512 [==============================] - 0s 21us/sample - loss: 0.0089\n",
      "Epoch 294/1000\n",
      "1512/1512 [==============================] - 0s 22us/sample - loss: 0.0089\n",
      "Epoch 295/1000\n",
      "1512/1512 [==============================] - 0s 21us/sample - loss: 0.0089\n",
      "Epoch 296/1000\n",
      "1512/1512 [==============================] - 0s 21us/sample - loss: 0.0089\n",
      "Epoch 297/1000\n",
      "1512/1512 [==============================] - 0s 19us/sample - loss: 0.0089\n",
      "Epoch 298/1000\n",
      "1512/1512 [==============================] - 0s 20us/sample - loss: 0.0089\n",
      "Epoch 299/1000\n",
      "1512/1512 [==============================] - 0s 20us/sample - loss: 0.0088\n",
      "Epoch 300/1000\n",
      "1512/1512 [==============================] - 0s 21us/sample - loss: 0.0088\n",
      "Epoch 301/1000\n",
      "1512/1512 [==============================] - 0s 21us/sample - loss: 0.0089\n",
      "Epoch 302/1000\n",
      "1512/1512 [==============================] - 0s 20us/sample - loss: 0.0088\n",
      "Epoch 303/1000\n",
      "1512/1512 [==============================] - 0s 20us/sample - loss: 0.0089\n",
      "Epoch 304/1000\n",
      "1512/1512 [==============================] - 0s 20us/sample - loss: 0.0088\n",
      "Epoch 305/1000\n",
      "1512/1512 [==============================] - 0s 22us/sample - loss: 0.0088\n",
      "Epoch 306/1000\n",
      "1512/1512 [==============================] - 0s 22us/sample - loss: 0.0088\n",
      "Epoch 307/1000\n",
      "1512/1512 [==============================] - 0s 20us/sample - loss: 0.0088\n",
      "Epoch 308/1000\n",
      "1512/1512 [==============================] - 0s 22us/sample - loss: 0.0088\n",
      "Epoch 309/1000\n",
      "1512/1512 [==============================] - 0s 20us/sample - loss: 0.0088\n",
      "Epoch 310/1000\n",
      "1512/1512 [==============================] - 0s 21us/sample - loss: 0.0088\n",
      "Epoch 311/1000\n",
      "1512/1512 [==============================] - 0s 22us/sample - loss: 0.0088\n",
      "Epoch 312/1000\n",
      "1512/1512 [==============================] - 0s 20us/sample - loss: 0.0088\n",
      "Epoch 313/1000\n",
      "1512/1512 [==============================] - 0s 20us/sample - loss: 0.0088\n",
      "Epoch 314/1000\n",
      "1512/1512 [==============================] - 0s 19us/sample - loss: 0.0088\n",
      "Epoch 315/1000\n",
      "1512/1512 [==============================] - 0s 21us/sample - loss: 0.0088\n",
      "Epoch 316/1000\n",
      "1512/1512 [==============================] - 0s 20us/sample - loss: 0.0088\n",
      "Epoch 317/1000\n",
      "1512/1512 [==============================] - 0s 20us/sample - loss: 0.0088\n",
      "Epoch 318/1000\n",
      "1512/1512 [==============================] - 0s 25us/sample - loss: 0.0088\n",
      "Epoch 319/1000\n",
      "1512/1512 [==============================] - 0s 24us/sample - loss: 0.0088\n",
      "Epoch 320/1000\n",
      "1512/1512 [==============================] - 0s 24us/sample - loss: 0.0088\n",
      "Epoch 321/1000\n",
      "1512/1512 [==============================] - 0s 22us/sample - loss: 0.0087\n",
      "Epoch 322/1000\n",
      "1512/1512 [==============================] - 0s 24us/sample - loss: 0.0087\n",
      "Epoch 323/1000\n",
      "1512/1512 [==============================] - 0s 21us/sample - loss: 0.0088\n",
      "Epoch 324/1000\n",
      "1512/1512 [==============================] - 0s 21us/sample - loss: 0.0087\n",
      "Epoch 325/1000\n",
      "1512/1512 [==============================] - 0s 21us/sample - loss: 0.0088\n",
      "Epoch 326/1000\n",
      "1512/1512 [==============================] - 0s 20us/sample - loss: 0.0087\n",
      "Epoch 327/1000\n",
      "1512/1512 [==============================] - 0s 21us/sample - loss: 0.0088\n",
      "Epoch 328/1000\n",
      "1512/1512 [==============================] - 0s 24us/sample - loss: 0.0087\n",
      "Epoch 329/1000\n",
      "1512/1512 [==============================] - 0s 22us/sample - loss: 0.0087\n",
      "Epoch 330/1000\n",
      "1512/1512 [==============================] - 0s 22us/sample - loss: 0.0087\n",
      "Epoch 331/1000\n",
      "1512/1512 [==============================] - 0s 24us/sample - loss: 0.0087\n",
      "Epoch 332/1000\n",
      "1512/1512 [==============================] - 0s 22us/sample - loss: 0.0087\n",
      "Epoch 333/1000\n",
      "1512/1512 [==============================] - 0s 20us/sample - loss: 0.0087\n",
      "Epoch 334/1000\n",
      "1512/1512 [==============================] - 0s 20us/sample - loss: 0.0087\n",
      "Epoch 335/1000\n",
      "1512/1512 [==============================] - 0s 20us/sample - loss: 0.0087\n",
      "Epoch 336/1000\n",
      "1512/1512 [==============================] - 0s 20us/sample - loss: 0.0087\n",
      "Epoch 337/1000\n",
      "1512/1512 [==============================] - 0s 24us/sample - loss: 0.0087\n",
      "Epoch 338/1000\n",
      "1512/1512 [==============================] - 0s 23us/sample - loss: 0.0087\n",
      "Epoch 339/1000\n",
      "1512/1512 [==============================] - 0s 24us/sample - loss: 0.0087\n",
      "Epoch 340/1000\n",
      "1512/1512 [==============================] - 0s 22us/sample - loss: 0.0087\n",
      "Epoch 341/1000\n",
      "1512/1512 [==============================] - 0s 20us/sample - loss: 0.0087\n",
      "Epoch 342/1000\n",
      "1512/1512 [==============================] - 0s 20us/sample - loss: 0.0087\n",
      "Epoch 343/1000\n",
      "1512/1512 [==============================] - 0s 18us/sample - loss: 0.0087\n",
      "Epoch 344/1000\n",
      "1512/1512 [==============================] - 0s 20us/sample - loss: 0.0087\n",
      "Epoch 345/1000\n",
      "1512/1512 [==============================] - 0s 21us/sample - loss: 0.0087\n",
      "Epoch 346/1000\n",
      "1512/1512 [==============================] - 0s 21us/sample - loss: 0.0087\n",
      "Epoch 347/1000\n",
      "1512/1512 [==============================] - 0s 20us/sample - loss: 0.0087\n",
      "Epoch 348/1000\n",
      "1512/1512 [==============================] - 0s 20us/sample - loss: 0.0087\n",
      "Epoch 349/1000\n",
      "1512/1512 [==============================] - 0s 23us/sample - loss: 0.0086\n",
      "Epoch 350/1000\n",
      "1512/1512 [==============================] - 0s 26us/sample - loss: 0.0087\n",
      "Epoch 351/1000\n",
      "1512/1512 [==============================] - 0s 25us/sample - loss: 0.0086\n",
      "Epoch 352/1000\n",
      "1512/1512 [==============================] - 0s 20us/sample - loss: 0.0086\n",
      "Epoch 353/1000\n",
      "1512/1512 [==============================] - 0s 19us/sample - loss: 0.0086\n",
      "Epoch 354/1000\n",
      "1512/1512 [==============================] - 0s 20us/sample - loss: 0.0086\n",
      "Epoch 355/1000\n",
      "1512/1512 [==============================] - 0s 21us/sample - loss: 0.0086\n",
      "Epoch 356/1000\n",
      "1512/1512 [==============================] - 0s 22us/sample - loss: 0.0086\n",
      "Epoch 357/1000\n",
      "1512/1512 [==============================] - 0s 22us/sample - loss: 0.0086\n",
      "Epoch 358/1000\n",
      "1512/1512 [==============================] - 0s 23us/sample - loss: 0.0086\n",
      "Epoch 359/1000\n",
      "1512/1512 [==============================] - 0s 24us/sample - loss: 0.0086\n",
      "Epoch 360/1000\n",
      "1512/1512 [==============================] - 0s 22us/sample - loss: 0.0086\n",
      "Epoch 361/1000\n",
      "1512/1512 [==============================] - 0s 20us/sample - loss: 0.0086\n",
      "Epoch 362/1000\n"
     ]
    },
    {
     "name": "stdout",
     "output_type": "stream",
     "text": [
      "1512/1512 [==============================] - 0s 22us/sample - loss: 0.0086\n",
      "Epoch 363/1000\n",
      "1512/1512 [==============================] - 0s 20us/sample - loss: 0.0086\n",
      "Epoch 364/1000\n",
      "1512/1512 [==============================] - 0s 22us/sample - loss: 0.0086\n",
      "Epoch 365/1000\n",
      "1512/1512 [==============================] - 0s 24us/sample - loss: 0.0086\n",
      "Epoch 366/1000\n",
      "1512/1512 [==============================] - 0s 25us/sample - loss: 0.0086\n",
      "Epoch 367/1000\n",
      "1512/1512 [==============================] - 0s 22us/sample - loss: 0.0086\n",
      "Epoch 368/1000\n",
      "1512/1512 [==============================] - 0s 20us/sample - loss: 0.0086\n",
      "Epoch 369/1000\n",
      "1512/1512 [==============================] - 0s 21us/sample - loss: 0.0086\n",
      "Epoch 370/1000\n",
      "1512/1512 [==============================] - 0s 14us/sample - loss: 0.0086\n",
      "Epoch 371/1000\n",
      "1512/1512 [==============================] - 0s 19us/sample - loss: 0.0086\n",
      "Epoch 372/1000\n",
      "1512/1512 [==============================] - 0s 21us/sample - loss: 0.0086\n",
      "Epoch 373/1000\n",
      "1512/1512 [==============================] - 0s 20us/sample - loss: 0.0086\n",
      "Epoch 374/1000\n",
      "1512/1512 [==============================] - 0s 20us/sample - loss: 0.0086\n",
      "Epoch 375/1000\n",
      "1512/1512 [==============================] - 0s 21us/sample - loss: 0.0086\n",
      "Epoch 376/1000\n",
      "1512/1512 [==============================] - 0s 20us/sample - loss: 0.0085\n",
      "Epoch 377/1000\n",
      "1512/1512 [==============================] - 0s 21us/sample - loss: 0.0086\n",
      "Epoch 378/1000\n",
      "1512/1512 [==============================] - 0s 22us/sample - loss: 0.0086\n",
      "Epoch 379/1000\n",
      "1512/1512 [==============================] - 0s 23us/sample - loss: 0.0086\n",
      "Epoch 380/1000\n",
      "1512/1512 [==============================] - 0s 23us/sample - loss: 0.0085\n",
      "Epoch 381/1000\n",
      "1512/1512 [==============================] - 0s 24us/sample - loss: 0.0085\n",
      "Epoch 382/1000\n",
      "1512/1512 [==============================] - 0s 24us/sample - loss: 0.0085\n",
      "Epoch 383/1000\n",
      "1512/1512 [==============================] - 0s 22us/sample - loss: 0.0085\n",
      "Epoch 384/1000\n",
      "1512/1512 [==============================] - 0s 18us/sample - loss: 0.0085\n",
      "Epoch 385/1000\n",
      "1512/1512 [==============================] - 0s 18us/sample - loss: 0.0085\n",
      "Epoch 386/1000\n",
      "1512/1512 [==============================] - 0s 21us/sample - loss: 0.0085\n",
      "Epoch 387/1000\n",
      "1512/1512 [==============================] - 0s 19us/sample - loss: 0.0085\n",
      "Epoch 388/1000\n",
      "1512/1512 [==============================] - 0s 20us/sample - loss: 0.0085\n",
      "Epoch 389/1000\n",
      "1512/1512 [==============================] - 0s 21us/sample - loss: 0.0085\n",
      "Epoch 390/1000\n",
      "1512/1512 [==============================] - 0s 21us/sample - loss: 0.0085\n",
      "Epoch 391/1000\n",
      "1512/1512 [==============================] - 0s 20us/sample - loss: 0.0085\n",
      "Epoch 392/1000\n",
      "1512/1512 [==============================] - 0s 22us/sample - loss: 0.0085\n",
      "Epoch 393/1000\n",
      "1512/1512 [==============================] - 0s 24us/sample - loss: 0.0085\n",
      "Epoch 394/1000\n",
      "1512/1512 [==============================] - 0s 24us/sample - loss: 0.0085\n",
      "Epoch 395/1000\n",
      "1512/1512 [==============================] - 0s 23us/sample - loss: 0.0085\n",
      "Epoch 396/1000\n",
      "1512/1512 [==============================] - 0s 22us/sample - loss: 0.0085\n",
      "Epoch 397/1000\n",
      "1512/1512 [==============================] - 0s 21us/sample - loss: 0.0085\n",
      "Epoch 398/1000\n",
      "1512/1512 [==============================] - 0s 20us/sample - loss: 0.0085\n",
      "Epoch 399/1000\n",
      "1512/1512 [==============================] - 0s 20us/sample - loss: 0.0085\n",
      "Epoch 400/1000\n",
      "1512/1512 [==============================] - 0s 20us/sample - loss: 0.0085\n",
      "Epoch 401/1000\n",
      "1512/1512 [==============================] - 0s 21us/sample - loss: 0.0085\n",
      "Epoch 402/1000\n",
      "1512/1512 [==============================] - 0s 21us/sample - loss: 0.0085\n",
      "Epoch 403/1000\n",
      "1512/1512 [==============================] - 0s 20us/sample - loss: 0.0085\n",
      "Epoch 404/1000\n",
      "1512/1512 [==============================] - 0s 23us/sample - loss: 0.0085\n",
      "Epoch 405/1000\n",
      "1512/1512 [==============================] - 0s 23us/sample - loss: 0.0085\n",
      "Epoch 406/1000\n",
      "1512/1512 [==============================] - 0s 21us/sample - loss: 0.0085\n",
      "Epoch 407/1000\n",
      "1512/1512 [==============================] - 0s 22us/sample - loss: 0.0085\n",
      "Epoch 408/1000\n",
      "1512/1512 [==============================] - 0s 20us/sample - loss: 0.0085\n",
      "Epoch 409/1000\n",
      "1512/1512 [==============================] - 0s 20us/sample - loss: 0.0085\n",
      "Epoch 410/1000\n",
      "1512/1512 [==============================] - 0s 20us/sample - loss: 0.0085\n",
      "Epoch 411/1000\n",
      "1512/1512 [==============================] - 0s 23us/sample - loss: 0.0085\n",
      "Epoch 412/1000\n",
      "1512/1512 [==============================] - 0s 23us/sample - loss: 0.0085\n",
      "Epoch 413/1000\n",
      "1512/1512 [==============================] - 0s 24us/sample - loss: 0.0085\n",
      "Epoch 414/1000\n",
      "1512/1512 [==============================] - 0s 35us/sample - loss: 0.0084\n",
      "Epoch 415/1000\n",
      "1512/1512 [==============================] - 0s 16us/sample - loss: 0.0084\n",
      "Epoch 416/1000\n",
      "1512/1512 [==============================] - 0s 14us/sample - loss: 0.0085\n",
      "Epoch 417/1000\n",
      "1512/1512 [==============================] - 0s 19us/sample - loss: 0.0084\n",
      "Epoch 418/1000\n",
      "1512/1512 [==============================] - 0s 22us/sample - loss: 0.0084\n",
      "Epoch 419/1000\n",
      "1512/1512 [==============================] - 0s 21us/sample - loss: 0.0085\n",
      "Epoch 420/1000\n",
      "1512/1512 [==============================] - 0s 20us/sample - loss: 0.0085\n",
      "Epoch 421/1000\n",
      "1512/1512 [==============================] - 0s 20us/sample - loss: 0.0084\n",
      "Epoch 422/1000\n",
      "1512/1512 [==============================] - 0s 20us/sample - loss: 0.0084\n",
      "Epoch 423/1000\n",
      "1512/1512 [==============================] - 0s 20us/sample - loss: 0.0084\n",
      "Epoch 424/1000\n",
      "1512/1512 [==============================] - 0s 20us/sample - loss: 0.0084\n",
      "Epoch 425/1000\n",
      "1512/1512 [==============================] - 0s 20us/sample - loss: 0.0084\n",
      "Epoch 426/1000\n",
      "1512/1512 [==============================] - 0s 23us/sample - loss: 0.0084\n",
      "Epoch 427/1000\n",
      "1512/1512 [==============================] - 0s 21us/sample - loss: 0.0084\n",
      "Epoch 428/1000\n",
      "1512/1512 [==============================] - 0s 23us/sample - loss: 0.0084\n",
      "Epoch 429/1000\n",
      "1512/1512 [==============================] - 0s 23us/sample - loss: 0.0084\n",
      "Epoch 430/1000\n",
      "1512/1512 [==============================] - 0s 24us/sample - loss: 0.0084\n",
      "Epoch 431/1000\n",
      "1512/1512 [==============================] - 0s 15us/sample - loss: 0.0084\n",
      "Epoch 432/1000\n",
      "1512/1512 [==============================] - 0s 22us/sample - loss: 0.0084\n",
      "Epoch 433/1000\n",
      "1512/1512 [==============================] - 0s 21us/sample - loss: 0.0084\n",
      "Epoch 434/1000\n",
      "1512/1512 [==============================] - 0s 40us/sample - loss: 0.0084\n",
      "Epoch 435/1000\n",
      "1512/1512 [==============================] - 0s 13us/sample - loss: 0.0085\n",
      "Epoch 436/1000\n",
      "1512/1512 [==============================] - 0s 11us/sample - loss: 0.0084\n",
      "Epoch 437/1000\n",
      "1512/1512 [==============================] - 0s 7us/sample - loss: 0.0084\n",
      "Epoch 438/1000\n",
      "1512/1512 [==============================] - 0s 9us/sample - loss: 0.0084\n",
      "Epoch 439/1000\n",
      "1512/1512 [==============================] - 0s 8us/sample - loss: 0.0084\n",
      "Epoch 440/1000\n",
      "1512/1512 [==============================] - 0s 9us/sample - loss: 0.0084\n",
      "Epoch 441/1000\n",
      "1512/1512 [==============================] - 0s 9us/sample - loss: 0.0084\n",
      "Epoch 442/1000\n",
      "1512/1512 [==============================] - 0s 9us/sample - loss: 0.0084\n",
      "Epoch 443/1000\n",
      "1512/1512 [==============================] - 0s 10us/sample - loss: 0.0084\n",
      "Epoch 444/1000\n",
      "1512/1512 [==============================] - 0s 9us/sample - loss: 0.0084\n",
      "Epoch 445/1000\n",
      "1512/1512 [==============================] - 0s 9us/sample - loss: 0.0084\n",
      "Epoch 446/1000\n",
      "1512/1512 [==============================] - 0s 10us/sample - loss: 0.0084\n",
      "Epoch 447/1000\n",
      "1512/1512 [==============================] - 0s 11us/sample - loss: 0.0084\n",
      "Epoch 448/1000\n",
      "1512/1512 [==============================] - 0s 11us/sample - loss: 0.0084\n",
      "Epoch 449/1000\n",
      "1512/1512 [==============================] - 0s 16us/sample - loss: 0.0084\n",
      "Epoch 450/1000\n",
      "1512/1512 [==============================] - 0s 20us/sample - loss: 0.0084\n",
      "Epoch 451/1000\n",
      "1512/1512 [==============================] - 0s 19us/sample - loss: 0.0084\n",
      "Epoch 452/1000\n",
      "1512/1512 [==============================] - 0s 20us/sample - loss: 0.0084\n",
      "Epoch 453/1000\n"
     ]
    },
    {
     "name": "stdout",
     "output_type": "stream",
     "text": [
      "1512/1512 [==============================] - 0s 22us/sample - loss: 0.0084\n",
      "Epoch 454/1000\n",
      "1512/1512 [==============================] - 0s 23us/sample - loss: 0.0084\n",
      "Epoch 455/1000\n",
      "1512/1512 [==============================] - 0s 21us/sample - loss: 0.0084\n",
      "Epoch 456/1000\n",
      "1512/1512 [==============================] - 0s 19us/sample - loss: 0.0084\n",
      "Epoch 457/1000\n",
      "1512/1512 [==============================] - 0s 20us/sample - loss: 0.0084\n",
      "Epoch 458/1000\n",
      "1512/1512 [==============================] - 0s 21us/sample - loss: 0.0084\n",
      "Epoch 459/1000\n",
      "1512/1512 [==============================] - 0s 20us/sample - loss: 0.0084\n",
      "Epoch 460/1000\n",
      "1512/1512 [==============================] - 0s 19us/sample - loss: 0.0084\n",
      "Epoch 461/1000\n",
      "1512/1512 [==============================] - 0s 21us/sample - loss: 0.0084\n",
      "Epoch 462/1000\n",
      "1512/1512 [==============================] - 0s 21us/sample - loss: 0.0084\n",
      "Epoch 463/1000\n",
      "1512/1512 [==============================] - 0s 24us/sample - loss: 0.0084\n",
      "Epoch 464/1000\n",
      "1512/1512 [==============================] - 0s 25us/sample - loss: 0.0083\n",
      "Epoch 465/1000\n",
      "1512/1512 [==============================] - 0s 24us/sample - loss: 0.0084\n",
      "Epoch 466/1000\n",
      "1512/1512 [==============================] - 0s 24us/sample - loss: 0.0083\n",
      "Epoch 467/1000\n",
      "1512/1512 [==============================] - 0s 24us/sample - loss: 0.0083\n",
      "Epoch 468/1000\n",
      "1512/1512 [==============================] - 0s 23us/sample - loss: 0.0083\n",
      "Epoch 469/1000\n",
      "1512/1512 [==============================] - 0s 24us/sample - loss: 0.0084\n",
      "Epoch 470/1000\n",
      "1512/1512 [==============================] - 0s 20us/sample - loss: 0.0083\n",
      "Epoch 471/1000\n",
      "1512/1512 [==============================] - 0s 19us/sample - loss: 0.0084\n",
      "Epoch 472/1000\n",
      "1512/1512 [==============================] - 0s 20us/sample - loss: 0.0083\n",
      "Epoch 473/1000\n",
      "1512/1512 [==============================] - 0s 20us/sample - loss: 0.0084\n",
      "Epoch 474/1000\n",
      "1512/1512 [==============================] - 0s 21us/sample - loss: 0.0084\n",
      "Epoch 475/1000\n",
      "1512/1512 [==============================] - 0s 23us/sample - loss: 0.0084\n",
      "Epoch 476/1000\n",
      "1512/1512 [==============================] - 0s 24us/sample - loss: 0.0084\n",
      "Epoch 477/1000\n",
      "1512/1512 [==============================] - 0s 23us/sample - loss: 0.0083\n",
      "Epoch 478/1000\n",
      "1512/1512 [==============================] - 0s 22us/sample - loss: 0.0083\n",
      "Epoch 479/1000\n",
      "1512/1512 [==============================] - 0s 17us/sample - loss: 0.0083\n",
      "Epoch 480/1000\n",
      "1512/1512 [==============================] - 0s 19us/sample - loss: 0.0083\n",
      "Epoch 481/1000\n",
      "1512/1512 [==============================] - 0s 19us/sample - loss: 0.0083\n",
      "Epoch 482/1000\n",
      "1512/1512 [==============================] - 0s 20us/sample - loss: 0.0083\n",
      "Epoch 483/1000\n",
      "1512/1512 [==============================] - 0s 22us/sample - loss: 0.0083\n",
      "Epoch 484/1000\n",
      "1512/1512 [==============================] - 0s 20us/sample - loss: 0.0083\n",
      "Epoch 485/1000\n",
      "1512/1512 [==============================] - 0s 22us/sample - loss: 0.0083\n",
      "Epoch 486/1000\n",
      "1512/1512 [==============================] - 0s 22us/sample - loss: 0.0083\n",
      "Epoch 487/1000\n",
      "1512/1512 [==============================] - 0s 22us/sample - loss: 0.0083\n",
      "Epoch 488/1000\n",
      "1512/1512 [==============================] - 0s 24us/sample - loss: 0.0083\n",
      "Epoch 489/1000\n",
      "1512/1512 [==============================] - 0s 22us/sample - loss: 0.0083\n",
      "Epoch 490/1000\n",
      "1512/1512 [==============================] - 0s 22us/sample - loss: 0.0083\n",
      "Epoch 491/1000\n",
      "1512/1512 [==============================] - 0s 21us/sample - loss: 0.0083\n",
      "Epoch 492/1000\n",
      "1512/1512 [==============================] - 0s 22us/sample - loss: 0.0083\n",
      "Epoch 493/1000\n",
      "1512/1512 [==============================] - 0s 19us/sample - loss: 0.0084\n",
      "Epoch 494/1000\n",
      "1512/1512 [==============================] - 0s 19us/sample - loss: 0.0083\n",
      "Epoch 495/1000\n",
      "1512/1512 [==============================] - 0s 18us/sample - loss: 0.0083\n",
      "Epoch 496/1000\n",
      "1512/1512 [==============================] - 0s 16us/sample - loss: 0.0083\n",
      "Epoch 497/1000\n",
      "1512/1512 [==============================] - 0s 14us/sample - loss: 0.0083\n",
      "Epoch 498/1000\n",
      "1512/1512 [==============================] - 0s 13us/sample - loss: 0.0083\n",
      "Epoch 499/1000\n",
      "1512/1512 [==============================] - 0s 22us/sample - loss: 0.0083\n",
      "Epoch 500/1000\n",
      "1512/1512 [==============================] - 0s 20us/sample - loss: 0.0083\n",
      "Epoch 501/1000\n",
      "1512/1512 [==============================] - 0s 21us/sample - loss: 0.0083\n",
      "Epoch 502/1000\n",
      "1512/1512 [==============================] - 0s 24us/sample - loss: 0.0083\n",
      "Epoch 503/1000\n",
      "1512/1512 [==============================] - 0s 22us/sample - loss: 0.0083\n",
      "Epoch 504/1000\n",
      "1512/1512 [==============================] - 0s 22us/sample - loss: 0.0083\n",
      "Epoch 505/1000\n",
      "1512/1512 [==============================] - 0s 17us/sample - loss: 0.0083\n",
      "Epoch 506/1000\n",
      "1512/1512 [==============================] - 0s 21us/sample - loss: 0.0083\n",
      "Epoch 507/1000\n",
      "1512/1512 [==============================] - 0s 16us/sample - loss: 0.0083\n",
      "Epoch 508/1000\n",
      "1512/1512 [==============================] - 0s 18us/sample - loss: 0.0083\n",
      "Epoch 509/1000\n",
      "1512/1512 [==============================] - 0s 20us/sample - loss: 0.0083\n",
      "Epoch 510/1000\n",
      "1512/1512 [==============================] - 0s 20us/sample - loss: 0.0083\n",
      "Epoch 511/1000\n",
      "1512/1512 [==============================] - 0s 21us/sample - loss: 0.0083\n",
      "Epoch 512/1000\n",
      "1512/1512 [==============================] - 0s 20us/sample - loss: 0.0083\n",
      "Epoch 513/1000\n",
      "1512/1512 [==============================] - 0s 19us/sample - loss: 0.0083\n",
      "Epoch 514/1000\n",
      "1512/1512 [==============================] - 0s 21us/sample - loss: 0.0083\n",
      "Epoch 515/1000\n",
      "1512/1512 [==============================] - 0s 22us/sample - loss: 0.0083\n",
      "Epoch 516/1000\n",
      "1512/1512 [==============================] - 0s 20us/sample - loss: 0.0083\n",
      "Epoch 517/1000\n",
      "1512/1512 [==============================] - 0s 21us/sample - loss: 0.0083\n",
      "Epoch 518/1000\n",
      "1512/1512 [==============================] - 0s 20us/sample - loss: 0.0083\n",
      "Epoch 519/1000\n",
      "1512/1512 [==============================] - 0s 23us/sample - loss: 0.0083\n",
      "Epoch 520/1000\n",
      "1512/1512 [==============================] - 0s 23us/sample - loss: 0.0083\n",
      "Epoch 521/1000\n",
      "1512/1512 [==============================] - 0s 18us/sample - loss: 0.0083\n",
      "Epoch 522/1000\n",
      "1512/1512 [==============================] - 0s 13us/sample - loss: 0.0083\n",
      "Epoch 523/1000\n",
      "1512/1512 [==============================] - 0s 16us/sample - loss: 0.0083\n",
      "Epoch 524/1000\n",
      "1512/1512 [==============================] - 0s 20us/sample - loss: 0.0083\n",
      "Epoch 525/1000\n",
      "1512/1512 [==============================] - 0s 21us/sample - loss: 0.0083\n",
      "Epoch 526/1000\n",
      "1512/1512 [==============================] - 0s 22us/sample - loss: 0.0083\n",
      "Epoch 527/1000\n",
      "1512/1512 [==============================] - 0s 20us/sample - loss: 0.0083\n",
      "Epoch 528/1000\n",
      "1512/1512 [==============================] - 0s 22us/sample - loss: 0.0083\n",
      "Epoch 529/1000\n",
      "1512/1512 [==============================] - 0s 21us/sample - loss: 0.0083\n",
      "Epoch 530/1000\n",
      "1512/1512 [==============================] - 0s 20us/sample - loss: 0.0083\n",
      "Epoch 531/1000\n",
      "1512/1512 [==============================] - 0s 21us/sample - loss: 0.0083\n",
      "Epoch 532/1000\n",
      "1512/1512 [==============================] - 0s 21us/sample - loss: 0.0083\n",
      "Epoch 533/1000\n",
      "1512/1512 [==============================] - 0s 17us/sample - loss: 0.0083\n",
      "Epoch 534/1000\n",
      "1512/1512 [==============================] - 0s 22us/sample - loss: 0.0083\n",
      "Epoch 535/1000\n",
      "1512/1512 [==============================] - 0s 21us/sample - loss: 0.0083\n",
      "Epoch 536/1000\n",
      "1512/1512 [==============================] - 0s 20us/sample - loss: 0.0083\n",
      "Epoch 537/1000\n",
      "1512/1512 [==============================] - 0s 19us/sample - loss: 0.0083\n",
      "Epoch 538/1000\n",
      "1512/1512 [==============================] - 0s 20us/sample - loss: 0.0082\n",
      "Epoch 539/1000\n",
      "1512/1512 [==============================] - 0s 21us/sample - loss: 0.0082\n",
      "Epoch 540/1000\n",
      "1512/1512 [==============================] - 0s 20us/sample - loss: 0.0082\n",
      "Epoch 541/1000\n",
      "1512/1512 [==============================] - 0s 19us/sample - loss: 0.0083\n",
      "Epoch 542/1000\n",
      "1512/1512 [==============================] - 0s 16us/sample - loss: 0.0083\n",
      "Epoch 543/1000\n",
      "1512/1512 [==============================] - 0s 19us/sample - loss: 0.0083\n",
      "Epoch 544/1000\n"
     ]
    },
    {
     "name": "stdout",
     "output_type": "stream",
     "text": [
      "1512/1512 [==============================] - 0s 20us/sample - loss: 0.0083\n",
      "Epoch 545/1000\n",
      "1512/1512 [==============================] - 0s 16us/sample - loss: 0.0082\n",
      "Epoch 546/1000\n",
      "1512/1512 [==============================] - 0s 21us/sample - loss: 0.0082\n",
      "Epoch 547/1000\n",
      "1512/1512 [==============================] - 0s 21us/sample - loss: 0.0083\n",
      "Epoch 548/1000\n",
      "1512/1512 [==============================] - 0s 21us/sample - loss: 0.0083\n",
      "Epoch 549/1000\n",
      "1512/1512 [==============================] - 0s 20us/sample - loss: 0.0083\n",
      "Epoch 550/1000\n",
      "1512/1512 [==============================] - 0s 21us/sample - loss: 0.0083\n",
      "Epoch 551/1000\n",
      "1512/1512 [==============================] - 0s 20us/sample - loss: 0.0082\n",
      "Epoch 552/1000\n",
      "1512/1512 [==============================] - 0s 20us/sample - loss: 0.0082\n",
      "Epoch 553/1000\n",
      "1512/1512 [==============================] - 0s 21us/sample - loss: 0.0082\n",
      "Epoch 554/1000\n",
      "1512/1512 [==============================] - 0s 17us/sample - loss: 0.0082\n",
      "Epoch 555/1000\n",
      "1512/1512 [==============================] - 0s 21us/sample - loss: 0.0082\n",
      "Epoch 556/1000\n",
      "1512/1512 [==============================] - 0s 12us/sample - loss: 0.0082\n",
      "Epoch 557/1000\n",
      "1512/1512 [==============================] - 0s 19us/sample - loss: 0.0082\n",
      "Epoch 558/1000\n",
      "1512/1512 [==============================] - 0s 20us/sample - loss: 0.0082\n",
      "Epoch 559/1000\n",
      "1512/1512 [==============================] - 0s 20us/sample - loss: 0.0082\n",
      "Epoch 560/1000\n",
      "1512/1512 [==============================] - 0s 20us/sample - loss: 0.0082\n",
      "Epoch 561/1000\n",
      "1512/1512 [==============================] - 0s 20us/sample - loss: 0.0082\n",
      "Epoch 562/1000\n",
      "1512/1512 [==============================] - 0s 20us/sample - loss: 0.0082\n",
      "Epoch 563/1000\n",
      "1512/1512 [==============================] - 0s 20us/sample - loss: 0.0082\n",
      "Epoch 564/1000\n",
      "1512/1512 [==============================] - 0s 20us/sample - loss: 0.0082\n",
      "Epoch 565/1000\n",
      "1512/1512 [==============================] - ETA: 0s - loss: 0.009 - 0s 22us/sample - loss: 0.0082\n",
      "Epoch 566/1000\n",
      "1512/1512 [==============================] - 0s 19us/sample - loss: 0.0082\n",
      "Epoch 567/1000\n",
      "1512/1512 [==============================] - 0s 21us/sample - loss: 0.0082\n",
      "Epoch 568/1000\n",
      "1512/1512 [==============================] - 0s 20us/sample - loss: 0.0082\n",
      "Epoch 569/1000\n",
      "1512/1512 [==============================] - 0s 22us/sample - loss: 0.0083\n",
      "Epoch 570/1000\n",
      "1512/1512 [==============================] - 0s 22us/sample - loss: 0.0082\n",
      "Epoch 571/1000\n",
      "1512/1512 [==============================] - 0s 22us/sample - loss: 0.0082\n",
      "Epoch 572/1000\n",
      "1512/1512 [==============================] - 0s 22us/sample - loss: 0.0082\n",
      "Epoch 573/1000\n",
      "1512/1512 [==============================] - 0s 21us/sample - loss: 0.0082\n",
      "Epoch 574/1000\n",
      "1512/1512 [==============================] - 0s 20us/sample - loss: 0.0082\n",
      "Epoch 575/1000\n",
      "1512/1512 [==============================] - 0s 21us/sample - loss: 0.0082\n",
      "Epoch 576/1000\n",
      "1512/1512 [==============================] - 0s 22us/sample - loss: 0.0082\n",
      "Epoch 577/1000\n",
      "1512/1512 [==============================] - 0s 22us/sample - loss: 0.0082\n",
      "Epoch 578/1000\n",
      "1512/1512 [==============================] - 0s 20us/sample - loss: 0.0082\n",
      "Epoch 579/1000\n",
      "1512/1512 [==============================] - 0s 20us/sample - loss: 0.0082\n",
      "Epoch 580/1000\n",
      "1512/1512 [==============================] - 0s 21us/sample - loss: 0.0082\n",
      "Epoch 581/1000\n",
      "1512/1512 [==============================] - 0s 20us/sample - loss: 0.0082\n",
      "Epoch 582/1000\n",
      "1512/1512 [==============================] - 0s 22us/sample - loss: 0.0082\n",
      "Epoch 583/1000\n",
      "1512/1512 [==============================] - 0s 21us/sample - loss: 0.0082\n",
      "Epoch 584/1000\n",
      "1512/1512 [==============================] - 0s 22us/sample - loss: 0.0082\n",
      "Epoch 585/1000\n",
      "1512/1512 [==============================] - 0s 21us/sample - loss: 0.0082\n",
      "Epoch 586/1000\n",
      "1512/1512 [==============================] - 0s 20us/sample - loss: 0.0082\n",
      "Epoch 587/1000\n",
      "1512/1512 [==============================] - 0s 23us/sample - loss: 0.0082\n",
      "Epoch 588/1000\n",
      "1512/1512 [==============================] - 0s 16us/sample - loss: 0.0082\n",
      "Epoch 589/1000\n",
      "1512/1512 [==============================] - 0s 19us/sample - loss: 0.0082\n",
      "Epoch 590/1000\n",
      "1512/1512 [==============================] - 0s 20us/sample - loss: 0.0082\n",
      "Epoch 591/1000\n",
      "1512/1512 [==============================] - 0s 21us/sample - loss: 0.0082\n",
      "Epoch 592/1000\n",
      "1512/1512 [==============================] - 0s 21us/sample - loss: 0.0082\n",
      "Epoch 593/1000\n",
      "1512/1512 [==============================] - 0s 20us/sample - loss: 0.0082\n",
      "Epoch 594/1000\n",
      "1512/1512 [==============================] - 0s 21us/sample - loss: 0.0082\n",
      "Epoch 595/1000\n",
      "1512/1512 [==============================] - 0s 21us/sample - loss: 0.0082\n",
      "Epoch 596/1000\n",
      "1512/1512 [==============================] - 0s 20us/sample - loss: 0.0082\n",
      "Epoch 597/1000\n",
      "1512/1512 [==============================] - 0s 22us/sample - loss: 0.0082\n",
      "Epoch 598/1000\n",
      "1512/1512 [==============================] - 0s 20us/sample - loss: 0.0082\n",
      "Epoch 599/1000\n",
      "1512/1512 [==============================] - 0s 20us/sample - loss: 0.0082\n",
      "Epoch 600/1000\n",
      "1512/1512 [==============================] - 0s 20us/sample - loss: 0.0082\n",
      "Epoch 601/1000\n",
      "1512/1512 [==============================] - 0s 21us/sample - loss: 0.0082\n",
      "Epoch 602/1000\n",
      "1512/1512 [==============================] - 0s 21us/sample - loss: 0.0082\n",
      "Epoch 603/1000\n",
      "1512/1512 [==============================] - 0s 20us/sample - loss: 0.0082\n",
      "Epoch 604/1000\n",
      "1512/1512 [==============================] - 0s 20us/sample - loss: 0.0082\n",
      "Epoch 605/1000\n",
      "1512/1512 [==============================] - 0s 20us/sample - loss: 0.0082\n",
      "Epoch 606/1000\n",
      "1512/1512 [==============================] - 0s 18us/sample - loss: 0.0082\n",
      "Epoch 607/1000\n",
      "1512/1512 [==============================] - 0s 15us/sample - loss: 0.0082\n",
      "Epoch 608/1000\n",
      "1512/1512 [==============================] - 0s 24us/sample - loss: 0.0082\n",
      "Epoch 609/1000\n",
      "1512/1512 [==============================] - 0s 26us/sample - loss: 0.0082\n",
      "Epoch 610/1000\n",
      "1512/1512 [==============================] - 0s 25us/sample - loss: 0.0081\n",
      "Epoch 611/1000\n",
      "1512/1512 [==============================] - 0s 20us/sample - loss: 0.0082\n",
      "Epoch 612/1000\n",
      "1512/1512 [==============================] - 0s 20us/sample - loss: 0.0082\n",
      "Epoch 613/1000\n",
      "1512/1512 [==============================] - 0s 21us/sample - loss: 0.0081\n",
      "Epoch 614/1000\n",
      "1512/1512 [==============================] - 0s 21us/sample - loss: 0.0082\n",
      "Epoch 615/1000\n",
      "1512/1512 [==============================] - 0s 20us/sample - loss: 0.0082\n",
      "Epoch 616/1000\n",
      "1512/1512 [==============================] - 0s 20us/sample - loss: 0.0082\n",
      "Epoch 617/1000\n",
      "1512/1512 [==============================] - 0s 22us/sample - loss: 0.0082\n",
      "Epoch 618/1000\n",
      "1512/1512 [==============================] - 0s 21us/sample - loss: 0.0082\n",
      "Epoch 619/1000\n",
      "1512/1512 [==============================] - 0s 22us/sample - loss: 0.0082\n",
      "Epoch 620/1000\n",
      "1512/1512 [==============================] - 0s 22us/sample - loss: 0.0081\n",
      "Epoch 621/1000\n",
      "1512/1512 [==============================] - 0s 21us/sample - loss: 0.0082\n",
      "Epoch 622/1000\n",
      "1512/1512 [==============================] - 0s 21us/sample - loss: 0.0082\n",
      "Epoch 623/1000\n",
      "1512/1512 [==============================] - 0s 20us/sample - loss: 0.0082\n",
      "Epoch 624/1000\n",
      "1512/1512 [==============================] - 0s 21us/sample - loss: 0.0081\n",
      "Epoch 625/1000\n",
      "1512/1512 [==============================] - 0s 21us/sample - loss: 0.0081\n",
      "Epoch 626/1000\n",
      "1512/1512 [==============================] - 0s 21us/sample - loss: 0.0082\n",
      "Epoch 627/1000\n",
      "1512/1512 [==============================] - 0s 20us/sample - loss: 0.0082\n",
      "Epoch 628/1000\n",
      "1512/1512 [==============================] - 0s 21us/sample - loss: 0.0082\n",
      "Epoch 629/1000\n",
      "1512/1512 [==============================] - 0s 20us/sample - loss: 0.0081\n",
      "Epoch 630/1000\n",
      "1512/1512 [==============================] - 0s 21us/sample - loss: 0.0081\n",
      "Epoch 631/1000\n",
      "1512/1512 [==============================] - 0s 21us/sample - loss: 0.0081\n",
      "Epoch 632/1000\n",
      "1512/1512 [==============================] - 0s 19us/sample - loss: 0.0081\n",
      "Epoch 633/1000\n",
      "1512/1512 [==============================] - 0s 20us/sample - loss: 0.0081\n",
      "Epoch 634/1000\n",
      "1512/1512 [==============================] - 0s 20us/sample - loss: 0.0082\n"
     ]
    },
    {
     "name": "stdout",
     "output_type": "stream",
     "text": [
      "Epoch 635/1000\n",
      "1512/1512 [==============================] - 0s 21us/sample - loss: 0.0082\n",
      "Epoch 636/1000\n",
      "1512/1512 [==============================] - 0s 20us/sample - loss: 0.0082\n",
      "Epoch 637/1000\n",
      "1512/1512 [==============================] - 0s 20us/sample - loss: 0.0082\n",
      "Epoch 638/1000\n",
      "1512/1512 [==============================] - 0s 21us/sample - loss: 0.0082\n",
      "Epoch 639/1000\n",
      "1512/1512 [==============================] - 0s 20us/sample - loss: 0.0081\n",
      "Epoch 640/1000\n",
      "1512/1512 [==============================] - 0s 18us/sample - loss: 0.0082\n",
      "Epoch 641/1000\n",
      "1512/1512 [==============================] - 0s 19us/sample - loss: 0.0081\n",
      "Epoch 642/1000\n",
      "1512/1512 [==============================] - 0s 20us/sample - loss: 0.0081\n",
      "Epoch 643/1000\n",
      "1512/1512 [==============================] - 0s 21us/sample - loss: 0.0081\n",
      "Epoch 644/1000\n",
      "1512/1512 [==============================] - 0s 21us/sample - loss: 0.0081\n",
      "Epoch 645/1000\n",
      "1512/1512 [==============================] - 0s 20us/sample - loss: 0.0081\n",
      "Epoch 646/1000\n",
      "1512/1512 [==============================] - 0s 20us/sample - loss: 0.0082\n",
      "Epoch 647/1000\n",
      "1512/1512 [==============================] - 0s 21us/sample - loss: 0.0081\n",
      "Epoch 648/1000\n",
      "1512/1512 [==============================] - 0s 20us/sample - loss: 0.0081\n",
      "Epoch 649/1000\n",
      "1512/1512 [==============================] - 0s 20us/sample - loss: 0.0081\n",
      "Epoch 650/1000\n",
      "1512/1512 [==============================] - 0s 21us/sample - loss: 0.0082\n",
      "Epoch 651/1000\n",
      "1512/1512 [==============================] - 0s 21us/sample - loss: 0.0081\n",
      "Epoch 652/1000\n",
      "1512/1512 [==============================] - 0s 21us/sample - loss: 0.0081\n",
      "Epoch 653/1000\n",
      "1512/1512 [==============================] - 0s 22us/sample - loss: 0.0081\n",
      "Epoch 654/1000\n",
      "1512/1512 [==============================] - 0s 18us/sample - loss: 0.0081\n",
      "Epoch 655/1000\n",
      "1512/1512 [==============================] - 0s 11us/sample - loss: 0.0081\n",
      "Epoch 656/1000\n",
      "1512/1512 [==============================] - 0s 16us/sample - loss: 0.0081\n",
      "Epoch 657/1000\n",
      "1512/1512 [==============================] - 0s 20us/sample - loss: 0.0081\n",
      "Epoch 658/1000\n",
      "1512/1512 [==============================] - 0s 21us/sample - loss: 0.0081\n",
      "Epoch 659/1000\n",
      "1512/1512 [==============================] - 0s 20us/sample - loss: 0.0081\n",
      "Epoch 660/1000\n",
      "1512/1512 [==============================] - 0s 20us/sample - loss: 0.0081\n",
      "Epoch 661/1000\n",
      "1512/1512 [==============================] - 0s 20us/sample - loss: 0.0082\n",
      "Epoch 662/1000\n",
      "1512/1512 [==============================] - 0s 19us/sample - loss: 0.0081\n",
      "Epoch 663/1000\n",
      "1512/1512 [==============================] - 0s 19us/sample - loss: 0.0081\n",
      "Epoch 664/1000\n",
      "1512/1512 [==============================] - 0s 17us/sample - loss: 0.0081\n",
      "Epoch 665/1000\n",
      "1512/1512 [==============================] - 0s 16us/sample - loss: 0.0081\n",
      "Epoch 666/1000\n",
      "1512/1512 [==============================] - 0s 20us/sample - loss: 0.0081\n",
      "Epoch 667/1000\n",
      "1512/1512 [==============================] - 0s 20us/sample - loss: 0.0081\n",
      "Epoch 668/1000\n",
      "1512/1512 [==============================] - 0s 20us/sample - loss: 0.0081\n",
      "Epoch 669/1000\n",
      "1512/1512 [==============================] - 0s 20us/sample - loss: 0.0081\n",
      "Epoch 670/1000\n",
      "1512/1512 [==============================] - 0s 20us/sample - loss: 0.0081\n",
      "Epoch 671/1000\n",
      "1512/1512 [==============================] - 0s 21us/sample - loss: 0.0081\n",
      "Epoch 672/1000\n",
      "1512/1512 [==============================] - 0s 20us/sample - loss: 0.0081\n",
      "Epoch 673/1000\n",
      "1512/1512 [==============================] - 0s 18us/sample - loss: 0.0081\n",
      "Epoch 674/1000\n",
      "1512/1512 [==============================] - 0s 20us/sample - loss: 0.0081\n",
      "Epoch 675/1000\n",
      "1512/1512 [==============================] - 0s 20us/sample - loss: 0.0081\n",
      "Epoch 676/1000\n",
      "1512/1512 [==============================] - 0s 21us/sample - loss: 0.0081\n",
      "Epoch 677/1000\n",
      "1512/1512 [==============================] - 0s 20us/sample - loss: 0.0081\n",
      "Epoch 678/1000\n",
      "1512/1512 [==============================] - 0s 20us/sample - loss: 0.0081\n",
      "Epoch 679/1000\n",
      "1512/1512 [==============================] - 0s 22us/sample - loss: 0.0081\n",
      "Epoch 680/1000\n",
      "1512/1512 [==============================] - 0s 21us/sample - loss: 0.0081\n",
      "Epoch 681/1000\n",
      "1512/1512 [==============================] - 0s 22us/sample - loss: 0.0081\n",
      "Epoch 682/1000\n",
      "1512/1512 [==============================] - 0s 20us/sample - loss: 0.0081\n",
      "Epoch 683/1000\n",
      "1512/1512 [==============================] - 0s 21us/sample - loss: 0.0081\n",
      "Epoch 684/1000\n",
      "1512/1512 [==============================] - 0s 20us/sample - loss: 0.0081\n",
      "Epoch 685/1000\n",
      "1512/1512 [==============================] - 0s 21us/sample - loss: 0.0081\n",
      "Epoch 686/1000\n",
      "1512/1512 [==============================] - 0s 22us/sample - loss: 0.0081\n",
      "Epoch 687/1000\n",
      "1512/1512 [==============================] - 0s 22us/sample - loss: 0.0081\n",
      "Epoch 688/1000\n",
      "1512/1512 [==============================] - 0s 22us/sample - loss: 0.0081\n",
      "Epoch 689/1000\n",
      "1512/1512 [==============================] - 0s 22us/sample - loss: 0.0081\n",
      "Epoch 690/1000\n",
      "1512/1512 [==============================] - 0s 22us/sample - loss: 0.0081\n",
      "Epoch 691/1000\n",
      "1512/1512 [==============================] - 0s 22us/sample - loss: 0.0081\n",
      "Epoch 692/1000\n",
      "1512/1512 [==============================] - 0s 20us/sample - loss: 0.0081\n",
      "Epoch 693/1000\n",
      "1512/1512 [==============================] - 0s 20us/sample - loss: 0.0081\n",
      "Epoch 694/1000\n",
      "1512/1512 [==============================] - 0s 20us/sample - loss: 0.0081\n",
      "Epoch 695/1000\n",
      "1512/1512 [==============================] - 0s 21us/sample - loss: 0.0081\n",
      "Epoch 696/1000\n",
      "1512/1512 [==============================] - 0s 21us/sample - loss: 0.0081\n",
      "Epoch 697/1000\n",
      "1512/1512 [==============================] - 0s 20us/sample - loss: 0.0081\n",
      "Epoch 698/1000\n",
      "1512/1512 [==============================] - 0s 20us/sample - loss: 0.0081\n",
      "Epoch 699/1000\n",
      "1512/1512 [==============================] - 0s 20us/sample - loss: 0.0081\n",
      "Epoch 700/1000\n",
      "1512/1512 [==============================] - 0s 20us/sample - loss: 0.0081\n",
      "Epoch 701/1000\n",
      "1512/1512 [==============================] - 0s 20us/sample - loss: 0.0081\n",
      "Epoch 702/1000\n",
      "1512/1512 [==============================] - 0s 19us/sample - loss: 0.0081\n",
      "Epoch 703/1000\n",
      "1512/1512 [==============================] - 0s 20us/sample - loss: 0.0081\n",
      "Epoch 704/1000\n",
      "1512/1512 [==============================] - 0s 20us/sample - loss: 0.0081\n",
      "Epoch 705/1000\n",
      "1512/1512 [==============================] - 0s 15us/sample - loss: 0.0081\n",
      "Epoch 706/1000\n",
      "1512/1512 [==============================] - 0s 14us/sample - loss: 0.0081\n",
      "Epoch 707/1000\n",
      "1512/1512 [==============================] - 0s 18us/sample - loss: 0.0081\n",
      "Epoch 708/1000\n",
      "1512/1512 [==============================] - 0s 20us/sample - loss: 0.0081\n",
      "Epoch 709/1000\n",
      "1512/1512 [==============================] - 0s 20us/sample - loss: 0.0081\n",
      "Epoch 710/1000\n",
      "1512/1512 [==============================] - 0s 19us/sample - loss: 0.0081\n",
      "Epoch 711/1000\n",
      "1512/1512 [==============================] - 0s 21us/sample - loss: 0.0081\n",
      "Epoch 712/1000\n",
      "1512/1512 [==============================] - 0s 20us/sample - loss: 0.0080\n",
      "Epoch 713/1000\n",
      "1512/1512 [==============================] - 0s 21us/sample - loss: 0.0081\n",
      "Epoch 714/1000\n",
      "1512/1512 [==============================] - 0s 21us/sample - loss: 0.0081\n",
      "Epoch 715/1000\n",
      "1512/1512 [==============================] - 0s 21us/sample - loss: 0.0081\n",
      "Epoch 716/1000\n",
      "1512/1512 [==============================] - 0s 20us/sample - loss: 0.0080\n",
      "Epoch 717/1000\n",
      "1512/1512 [==============================] - 0s 22us/sample - loss: 0.0081\n",
      "Epoch 718/1000\n",
      "1512/1512 [==============================] - 0s 19us/sample - loss: 0.0080\n",
      "Epoch 719/1000\n",
      "1512/1512 [==============================] - 0s 20us/sample - loss: 0.0081\n",
      "Epoch 720/1000\n",
      "1512/1512 [==============================] - 0s 21us/sample - loss: 0.0081\n",
      "Epoch 721/1000\n",
      "1512/1512 [==============================] - 0s 22us/sample - loss: 0.0080\n",
      "Epoch 722/1000\n",
      "1512/1512 [==============================] - 0s 22us/sample - loss: 0.0081\n",
      "Epoch 723/1000\n",
      "1512/1512 [==============================] - 0s 15us/sample - loss: 0.0081\n",
      "Epoch 724/1000\n",
      "1512/1512 [==============================] - 0s 13us/sample - loss: 0.0081\n",
      "Epoch 725/1000\n",
      "1512/1512 [==============================] - 0s 20us/sample - loss: 0.0081\n",
      "Epoch 726/1000\n"
     ]
    },
    {
     "name": "stdout",
     "output_type": "stream",
     "text": [
      "1512/1512 [==============================] - 0s 20us/sample - loss: 0.0081\n",
      "Epoch 727/1000\n",
      "1512/1512 [==============================] - 0s 20us/sample - loss: 0.0081\n",
      "Epoch 728/1000\n",
      "1512/1512 [==============================] - 0s 20us/sample - loss: 0.0081\n",
      "Epoch 729/1000\n",
      "1512/1512 [==============================] - 0s 20us/sample - loss: 0.0081\n",
      "Epoch 730/1000\n",
      "1512/1512 [==============================] - 0s 20us/sample - loss: 0.0080\n",
      "Epoch 731/1000\n",
      "1512/1512 [==============================] - 0s 20us/sample - loss: 0.0080\n",
      "Epoch 732/1000\n",
      "1512/1512 [==============================] - 0s 21us/sample - loss: 0.0080\n",
      "Epoch 733/1000\n",
      "1512/1512 [==============================] - 0s 19us/sample - loss: 0.0080\n",
      "Epoch 734/1000\n",
      "1512/1512 [==============================] - 0s 20us/sample - loss: 0.0080\n",
      "Epoch 735/1000\n",
      "1512/1512 [==============================] - 0s 20us/sample - loss: 0.0081\n",
      "Epoch 736/1000\n",
      "1512/1512 [==============================] - 0s 20us/sample - loss: 0.0081\n",
      "Epoch 737/1000\n",
      "1512/1512 [==============================] - 0s 20us/sample - loss: 0.0080\n",
      "Epoch 738/1000\n",
      "1512/1512 [==============================] - 0s 20us/sample - loss: 0.0081\n",
      "Epoch 739/1000\n",
      "1512/1512 [==============================] - 0s 22us/sample - loss: 0.0081\n",
      "Epoch 740/1000\n",
      "1512/1512 [==============================] - 0s 22us/sample - loss: 0.0081\n",
      "Epoch 741/1000\n",
      "1512/1512 [==============================] - 0s 19us/sample - loss: 0.0081\n",
      "Epoch 742/1000\n",
      "1512/1512 [==============================] - 0s 20us/sample - loss: 0.0081\n",
      "Epoch 743/1000\n",
      "1512/1512 [==============================] - 0s 21us/sample - loss: 0.0081\n",
      "Epoch 744/1000\n",
      "1512/1512 [==============================] - 0s 23us/sample - loss: 0.0081\n",
      "Epoch 745/1000\n",
      "1512/1512 [==============================] - 0s 20us/sample - loss: 0.0081\n",
      "Epoch 746/1000\n",
      "1512/1512 [==============================] - 0s 22us/sample - loss: 0.0081\n",
      "Epoch 747/1000\n",
      "1512/1512 [==============================] - 0s 21us/sample - loss: 0.0081\n",
      "Epoch 748/1000\n",
      "1512/1512 [==============================] - 0s 18us/sample - loss: 0.0081\n",
      "Epoch 749/1000\n",
      "1512/1512 [==============================] - 0s 19us/sample - loss: 0.0081\n",
      "Epoch 750/1000\n",
      "1512/1512 [==============================] - 0s 20us/sample - loss: 0.0080\n",
      "Epoch 751/1000\n",
      "1512/1512 [==============================] - 0s 20us/sample - loss: 0.0080\n",
      "Epoch 752/1000\n",
      "1512/1512 [==============================] - 0s 19us/sample - loss: 0.0081\n",
      "Epoch 753/1000\n",
      "1512/1512 [==============================] - 0s 21us/sample - loss: 0.0081\n",
      "Epoch 754/1000\n",
      "1512/1512 [==============================] - 0s 20us/sample - loss: 0.0081\n",
      "Epoch 755/1000\n",
      "1512/1512 [==============================] - 0s 23us/sample - loss: 0.0080\n",
      "Epoch 756/1000\n",
      "1512/1512 [==============================] - 0s 21us/sample - loss: 0.0080\n",
      "Epoch 757/1000\n",
      "1512/1512 [==============================] - 0s 20us/sample - loss: 0.0080\n",
      "Epoch 758/1000\n",
      "1512/1512 [==============================] - 0s 21us/sample - loss: 0.0080\n",
      "Epoch 759/1000\n",
      "1512/1512 [==============================] - 0s 21us/sample - loss: 0.0080\n",
      "Epoch 760/1000\n",
      "1512/1512 [==============================] - 0s 21us/sample - loss: 0.0080\n",
      "Epoch 761/1000\n",
      "1512/1512 [==============================] - 0s 20us/sample - loss: 0.0081\n",
      "Epoch 762/1000\n",
      "1512/1512 [==============================] - 0s 22us/sample - loss: 0.0080\n",
      "Epoch 763/1000\n",
      "1512/1512 [==============================] - 0s 20us/sample - loss: 0.0081\n",
      "Epoch 764/1000\n",
      "1512/1512 [==============================] - 0s 22us/sample - loss: 0.0081\n",
      "Epoch 765/1000\n",
      "1512/1512 [==============================] - 0s 21us/sample - loss: 0.0080\n",
      "Epoch 766/1000\n",
      "1512/1512 [==============================] - 0s 21us/sample - loss: 0.0080\n",
      "Epoch 767/1000\n",
      "1512/1512 [==============================] - 0s 20us/sample - loss: 0.0080\n",
      "Epoch 768/1000\n",
      "1512/1512 [==============================] - 0s 22us/sample - loss: 0.0080\n",
      "Epoch 769/1000\n",
      "1512/1512 [==============================] - 0s 20us/sample - loss: 0.0081\n",
      "Epoch 770/1000\n",
      "1512/1512 [==============================] - 0s 20us/sample - loss: 0.0081\n",
      "Epoch 771/1000\n",
      "1512/1512 [==============================] - 0s 21us/sample - loss: 0.0080\n",
      "Epoch 772/1000\n",
      "1512/1512 [==============================] - 0s 20us/sample - loss: 0.0081\n",
      "Epoch 773/1000\n",
      "1512/1512 [==============================] - 0s 21us/sample - loss: 0.0080\n",
      "Epoch 774/1000\n",
      "1512/1512 [==============================] - 0s 21us/sample - loss: 0.0080\n",
      "Epoch 775/1000\n",
      "1512/1512 [==============================] - 0s 21us/sample - loss: 0.0080\n",
      "Epoch 776/1000\n",
      "1512/1512 [==============================] - 0s 22us/sample - loss: 0.0081\n",
      "Epoch 777/1000\n",
      "1512/1512 [==============================] - 0s 21us/sample - loss: 0.0080\n",
      "Epoch 778/1000\n",
      "1512/1512 [==============================] - 0s 21us/sample - loss: 0.0080\n",
      "Epoch 779/1000\n",
      "1512/1512 [==============================] - 0s 20us/sample - loss: 0.0080\n",
      "Epoch 780/1000\n",
      "1512/1512 [==============================] - 0s 22us/sample - loss: 0.0080\n",
      "Epoch 781/1000\n",
      "1512/1512 [==============================] - 0s 20us/sample - loss: 0.0080\n",
      "Epoch 782/1000\n",
      "1512/1512 [==============================] - 0s 21us/sample - loss: 0.0080\n",
      "Epoch 783/1000\n",
      "1512/1512 [==============================] - 0s 20us/sample - loss: 0.0080\n",
      "Epoch 784/1000\n",
      "1512/1512 [==============================] - 0s 21us/sample - loss: 0.0080\n",
      "Epoch 785/1000\n",
      "1512/1512 [==============================] - 0s 19us/sample - loss: 0.0080\n",
      "Epoch 786/1000\n",
      "1512/1512 [==============================] - 0s 20us/sample - loss: 0.0080\n",
      "Epoch 787/1000\n",
      "1512/1512 [==============================] - 0s 20us/sample - loss: 0.0080\n",
      "Epoch 788/1000\n",
      "1512/1512 [==============================] - 0s 20us/sample - loss: 0.0080\n",
      "Epoch 789/1000\n",
      "1512/1512 [==============================] - 0s 21us/sample - loss: 0.0080\n",
      "Epoch 790/1000\n",
      "1512/1512 [==============================] - 0s 20us/sample - loss: 0.0080\n",
      "Epoch 791/1000\n",
      "1512/1512 [==============================] - 0s 20us/sample - loss: 0.0080\n",
      "Epoch 792/1000\n",
      "1512/1512 [==============================] - 0s 20us/sample - loss: 0.0080\n",
      "Epoch 793/1000\n",
      "1512/1512 [==============================] - 0s 19us/sample - loss: 0.0080\n",
      "Epoch 794/1000\n",
      "1512/1512 [==============================] - 0s 21us/sample - loss: 0.0080\n",
      "Epoch 795/1000\n",
      "1512/1512 [==============================] - 0s 20us/sample - loss: 0.0080\n",
      "Epoch 796/1000\n",
      "1512/1512 [==============================] - 0s 22us/sample - loss: 0.0080\n",
      "Epoch 797/1000\n",
      "1512/1512 [==============================] - 0s 20us/sample - loss: 0.0080\n",
      "Epoch 798/1000\n",
      "1512/1512 [==============================] - 0s 21us/sample - loss: 0.0080\n",
      "Epoch 799/1000\n",
      "1512/1512 [==============================] - 0s 20us/sample - loss: 0.0080\n",
      "Epoch 800/1000\n",
      "1512/1512 [==============================] - 0s 20us/sample - loss: 0.0080\n",
      "Epoch 801/1000\n",
      "1512/1512 [==============================] - 0s 21us/sample - loss: 0.0080\n",
      "Epoch 802/1000\n",
      "1512/1512 [==============================] - 0s 20us/sample - loss: 0.0080\n",
      "Epoch 803/1000\n",
      "1512/1512 [==============================] - 0s 20us/sample - loss: 0.0080\n",
      "Epoch 804/1000\n",
      "1512/1512 [==============================] - 0s 21us/sample - loss: 0.0080\n",
      "Epoch 805/1000\n",
      "1512/1512 [==============================] - 0s 21us/sample - loss: 0.0080\n",
      "Epoch 806/1000\n",
      "1512/1512 [==============================] - 0s 20us/sample - loss: 0.0080\n",
      "Epoch 807/1000\n",
      "1512/1512 [==============================] - 0s 21us/sample - loss: 0.0081\n",
      "Epoch 808/1000\n",
      "1512/1512 [==============================] - 0s 19us/sample - loss: 0.0081\n",
      "Epoch 809/1000\n",
      "1512/1512 [==============================] - 0s 21us/sample - loss: 0.0080\n",
      "Epoch 810/1000\n",
      "1512/1512 [==============================] - 0s 20us/sample - loss: 0.0080\n",
      "Epoch 811/1000\n",
      "1512/1512 [==============================] - 0s 18us/sample - loss: 0.0080\n",
      "Epoch 812/1000\n",
      "1512/1512 [==============================] - 0s 21us/sample - loss: 0.0080\n",
      "Epoch 813/1000\n",
      "1512/1512 [==============================] - 0s 20us/sample - loss: 0.0080\n",
      "Epoch 814/1000\n",
      "1512/1512 [==============================] - 0s 20us/sample - loss: 0.0080\n",
      "Epoch 815/1000\n",
      "1512/1512 [==============================] - 0s 20us/sample - loss: 0.0080\n",
      "Epoch 816/1000\n",
      "1512/1512 [==============================] - 0s 18us/sample - loss: 0.0080\n",
      "Epoch 817/1000\n"
     ]
    },
    {
     "name": "stdout",
     "output_type": "stream",
     "text": [
      "1512/1512 [==============================] - 0s 20us/sample - loss: 0.0080\n",
      "Epoch 818/1000\n",
      "1512/1512 [==============================] - 0s 20us/sample - loss: 0.0080\n",
      "Epoch 819/1000\n",
      "1512/1512 [==============================] - 0s 20us/sample - loss: 0.0080\n",
      "Epoch 820/1000\n",
      "1512/1512 [==============================] - 0s 20us/sample - loss: 0.0080\n",
      "Epoch 821/1000\n",
      "1512/1512 [==============================] - 0s 19us/sample - loss: 0.0080\n",
      "Epoch 822/1000\n",
      "1512/1512 [==============================] - 0s 20us/sample - loss: 0.0080\n",
      "Epoch 823/1000\n",
      "1512/1512 [==============================] - 0s 22us/sample - loss: 0.0080\n",
      "Epoch 824/1000\n",
      "1512/1512 [==============================] - 0s 14us/sample - loss: 0.0080\n",
      "Epoch 825/1000\n",
      "1512/1512 [==============================] - 0s 15us/sample - loss: 0.0080\n",
      "Epoch 826/1000\n",
      "1512/1512 [==============================] - 0s 24us/sample - loss: 0.0080\n",
      "Epoch 827/1000\n",
      "1512/1512 [==============================] - 0s 21us/sample - loss: 0.0080\n",
      "Epoch 828/1000\n",
      "1512/1512 [==============================] - 0s 20us/sample - loss: 0.0080\n",
      "Epoch 829/1000\n",
      "1512/1512 [==============================] - 0s 20us/sample - loss: 0.0080\n",
      "Epoch 830/1000\n",
      "1512/1512 [==============================] - 0s 20us/sample - loss: 0.0080\n",
      "Epoch 831/1000\n",
      "1512/1512 [==============================] - 0s 21us/sample - loss: 0.0080\n",
      "Epoch 832/1000\n",
      "1512/1512 [==============================] - 0s 21us/sample - loss: 0.0080\n",
      "Epoch 833/1000\n",
      "1512/1512 [==============================] - 0s 19us/sample - loss: 0.0080\n",
      "Epoch 834/1000\n",
      "1512/1512 [==============================] - 0s 19us/sample - loss: 0.0080\n",
      "Epoch 835/1000\n",
      "1512/1512 [==============================] - 0s 21us/sample - loss: 0.0080\n",
      "Epoch 836/1000\n",
      "1512/1512 [==============================] - 0s 20us/sample - loss: 0.0080\n",
      "Epoch 837/1000\n",
      "1512/1512 [==============================] - 0s 20us/sample - loss: 0.0080\n",
      "Epoch 838/1000\n",
      "1512/1512 [==============================] - 0s 20us/sample - loss: 0.0080\n",
      "Epoch 839/1000\n",
      "1512/1512 [==============================] - 0s 21us/sample - loss: 0.0080\n",
      "Epoch 840/1000\n",
      "1512/1512 [==============================] - 0s 19us/sample - loss: 0.0080\n",
      "Epoch 841/1000\n",
      "1512/1512 [==============================] - 0s 17us/sample - loss: 0.0080\n",
      "Epoch 842/1000\n",
      "1512/1512 [==============================] - 0s 20us/sample - loss: 0.0080\n",
      "Epoch 843/1000\n",
      "1512/1512 [==============================] - 0s 21us/sample - loss: 0.0080\n",
      "Epoch 844/1000\n",
      "1512/1512 [==============================] - 0s 20us/sample - loss: 0.0080\n",
      "Epoch 845/1000\n",
      "1512/1512 [==============================] - 0s 20us/sample - loss: 0.0080\n",
      "Epoch 846/1000\n",
      "1512/1512 [==============================] - 0s 20us/sample - loss: 0.0080\n",
      "Epoch 847/1000\n",
      "1512/1512 [==============================] - 0s 20us/sample - loss: 0.0080\n",
      "Epoch 848/1000\n",
      "1512/1512 [==============================] - 0s 21us/sample - loss: 0.0080\n",
      "Epoch 849/1000\n",
      "1512/1512 [==============================] - 0s 20us/sample - loss: 0.0080\n",
      "Epoch 850/1000\n",
      "1512/1512 [==============================] - 0s 20us/sample - loss: 0.0080\n",
      "Epoch 851/1000\n",
      "1512/1512 [==============================] - 0s 20us/sample - loss: 0.0080\n",
      "Epoch 852/1000\n",
      "1512/1512 [==============================] - 0s 21us/sample - loss: 0.0080\n",
      "Epoch 853/1000\n",
      "1512/1512 [==============================] - 0s 20us/sample - loss: 0.0080\n",
      "Epoch 854/1000\n",
      "1512/1512 [==============================] - 0s 22us/sample - loss: 0.0080\n",
      "Epoch 855/1000\n",
      "1512/1512 [==============================] - 0s 21us/sample - loss: 0.0079\n",
      "Epoch 856/1000\n",
      "1512/1512 [==============================] - 0s 23us/sample - loss: 0.0080\n",
      "Epoch 857/1000\n",
      "1512/1512 [==============================] - 0s 16us/sample - loss: 0.0080\n",
      "Epoch 858/1000\n",
      "1512/1512 [==============================] - 0s 10us/sample - loss: 0.0080\n",
      "Epoch 859/1000\n",
      "1512/1512 [==============================] - 0s 20us/sample - loss: 0.0080\n",
      "Epoch 860/1000\n",
      "1512/1512 [==============================] - 0s 19us/sample - loss: 0.0080\n",
      "Epoch 861/1000\n",
      "1512/1512 [==============================] - 0s 19us/sample - loss: 0.0080\n",
      "Epoch 862/1000\n",
      "1512/1512 [==============================] - 0s 20us/sample - loss: 0.0080\n",
      "Epoch 863/1000\n",
      "1512/1512 [==============================] - 0s 20us/sample - loss: 0.0080\n",
      "Epoch 864/1000\n",
      "1512/1512 [==============================] - 0s 20us/sample - loss: 0.0080\n",
      "Epoch 865/1000\n",
      "1512/1512 [==============================] - 0s 21us/sample - loss: 0.0080\n",
      "Epoch 866/1000\n",
      "1512/1512 [==============================] - 0s 20us/sample - loss: 0.0080\n",
      "Epoch 867/1000\n",
      "1512/1512 [==============================] - 0s 20us/sample - loss: 0.0080\n",
      "Epoch 868/1000\n",
      "1512/1512 [==============================] - 0s 20us/sample - loss: 0.0080\n",
      "Epoch 869/1000\n",
      "1512/1512 [==============================] - 0s 21us/sample - loss: 0.0080\n",
      "Epoch 870/1000\n",
      "1512/1512 [==============================] - 0s 21us/sample - loss: 0.0080\n",
      "Epoch 871/1000\n",
      "1512/1512 [==============================] - 0s 20us/sample - loss: 0.0080\n",
      "Epoch 872/1000\n",
      "1512/1512 [==============================] - 0s 20us/sample - loss: 0.0080\n",
      "Epoch 873/1000\n",
      "1512/1512 [==============================] - 0s 20us/sample - loss: 0.0080\n",
      "Epoch 874/1000\n",
      "1512/1512 [==============================] - 0s 21us/sample - loss: 0.0080\n",
      "Epoch 875/1000\n",
      "1512/1512 [==============================] - 0s 21us/sample - loss: 0.0079\n",
      "Epoch 876/1000\n",
      "1512/1512 [==============================] - 0s 21us/sample - loss: 0.0080\n",
      "Epoch 877/1000\n",
      "1512/1512 [==============================] - 0s 18us/sample - loss: 0.0080\n",
      "Epoch 878/1000\n",
      "1512/1512 [==============================] - 0s 22us/sample - loss: 0.0079\n",
      "Epoch 879/1000\n",
      "1512/1512 [==============================] - 0s 23us/sample - loss: 0.0080\n",
      "Epoch 880/1000\n",
      "1512/1512 [==============================] - 0s 23us/sample - loss: 0.0080\n",
      "Epoch 881/1000\n",
      "1512/1512 [==============================] - 0s 20us/sample - loss: 0.0080\n",
      "Epoch 882/1000\n",
      "1512/1512 [==============================] - 0s 19us/sample - loss: 0.0080\n",
      "Epoch 883/1000\n",
      "1512/1512 [==============================] - 0s 20us/sample - loss: 0.0080\n",
      "Epoch 884/1000\n",
      "1512/1512 [==============================] - 0s 20us/sample - loss: 0.0080\n",
      "Epoch 885/1000\n",
      "1512/1512 [==============================] - 0s 20us/sample - loss: 0.0080\n",
      "Epoch 886/1000\n",
      "1512/1512 [==============================] - 0s 20us/sample - loss: 0.0080\n",
      "Epoch 887/1000\n",
      "1512/1512 [==============================] - 0s 20us/sample - loss: 0.0080\n",
      "Epoch 888/1000\n",
      "1512/1512 [==============================] - 0s 20us/sample - loss: 0.0080\n",
      "Epoch 889/1000\n",
      "1512/1512 [==============================] - 0s 21us/sample - loss: 0.0080\n",
      "Epoch 890/1000\n",
      "1512/1512 [==============================] - 0s 23us/sample - loss: 0.0080\n",
      "Epoch 891/1000\n",
      "1512/1512 [==============================] - 0s 19us/sample - loss: 0.0079\n",
      "Epoch 892/1000\n",
      "1512/1512 [==============================] - 0s 13us/sample - loss: 0.0079\n",
      "Epoch 893/1000\n",
      "1512/1512 [==============================] - 0s 20us/sample - loss: 0.0080\n",
      "Epoch 894/1000\n",
      "1512/1512 [==============================] - 0s 20us/sample - loss: 0.0079\n",
      "Epoch 895/1000\n",
      "1512/1512 [==============================] - 0s 20us/sample - loss: 0.0079\n",
      "Epoch 896/1000\n",
      "1512/1512 [==============================] - 0s 21us/sample - loss: 0.0080\n",
      "Epoch 897/1000\n",
      "1512/1512 [==============================] - 0s 20us/sample - loss: 0.0080\n",
      "Epoch 898/1000\n",
      "1512/1512 [==============================] - 0s 21us/sample - loss: 0.0080\n",
      "Epoch 899/1000\n",
      "1512/1512 [==============================] - 0s 20us/sample - loss: 0.0080\n",
      "Epoch 900/1000\n",
      "1512/1512 [==============================] - 0s 20us/sample - loss: 0.0080\n",
      "Epoch 901/1000\n",
      "1512/1512 [==============================] - 0s 20us/sample - loss: 0.0080\n",
      "Epoch 902/1000\n",
      "1512/1512 [==============================] - 0s 20us/sample - loss: 0.0080\n",
      "Epoch 903/1000\n",
      "1512/1512 [==============================] - 0s 20us/sample - loss: 0.0080\n",
      "Epoch 904/1000\n",
      "1512/1512 [==============================] - 0s 20us/sample - loss: 0.0080\n",
      "Epoch 905/1000\n",
      "1512/1512 [==============================] - 0s 18us/sample - loss: 0.0080\n",
      "Epoch 906/1000\n",
      "1512/1512 [==============================] - 0s 17us/sample - loss: 0.0080\n",
      "Epoch 907/1000\n",
      "1512/1512 [==============================] - 0s 21us/sample - loss: 0.0079\n",
      "Epoch 908/1000\n"
     ]
    },
    {
     "name": "stdout",
     "output_type": "stream",
     "text": [
      "1512/1512 [==============================] - 0s 20us/sample - loss: 0.0080\n",
      "Epoch 909/1000\n",
      "1512/1512 [==============================] - 0s 21us/sample - loss: 0.0079\n",
      "Epoch 910/1000\n",
      "1512/1512 [==============================] - 0s 20us/sample - loss: 0.0079\n",
      "Epoch 911/1000\n",
      "1512/1512 [==============================] - 0s 21us/sample - loss: 0.0080\n",
      "Epoch 912/1000\n",
      "1512/1512 [==============================] - 0s 18us/sample - loss: 0.0080\n",
      "Epoch 913/1000\n",
      "1512/1512 [==============================] - 0s 21us/sample - loss: 0.0080\n",
      "Epoch 914/1000\n",
      "1512/1512 [==============================] - 0s 22us/sample - loss: 0.0080\n",
      "Epoch 915/1000\n",
      "1512/1512 [==============================] - 0s 20us/sample - loss: 0.0080\n",
      "Epoch 916/1000\n",
      "1512/1512 [==============================] - 0s 20us/sample - loss: 0.0079\n",
      "Epoch 917/1000\n",
      "1512/1512 [==============================] - 0s 19us/sample - loss: 0.0079\n",
      "Epoch 918/1000\n",
      "1512/1512 [==============================] - 0s 21us/sample - loss: 0.0079\n",
      "Epoch 919/1000\n",
      "1512/1512 [==============================] - 0s 20us/sample - loss: 0.0079\n",
      "Epoch 920/1000\n",
      "1512/1512 [==============================] - 0s 21us/sample - loss: 0.0080\n",
      "Epoch 921/1000\n",
      "1512/1512 [==============================] - 0s 20us/sample - loss: 0.0079\n",
      "Epoch 922/1000\n",
      "1512/1512 [==============================] - 0s 22us/sample - loss: 0.0080\n",
      "Epoch 923/1000\n",
      "1512/1512 [==============================] - 0s 25us/sample - loss: 0.0079\n",
      "Epoch 924/1000\n",
      "1512/1512 [==============================] - 0s 19us/sample - loss: 0.0080\n",
      "Epoch 925/1000\n",
      "1512/1512 [==============================] - 0s 15us/sample - loss: 0.0080\n",
      "Epoch 926/1000\n",
      "1512/1512 [==============================] - 0s 19us/sample - loss: 0.0080\n",
      "Epoch 927/1000\n",
      "1512/1512 [==============================] - 0s 18us/sample - loss: 0.0080\n",
      "Epoch 928/1000\n",
      "1512/1512 [==============================] - 0s 21us/sample - loss: 0.0080\n",
      "Epoch 929/1000\n",
      "1512/1512 [==============================] - 0s 22us/sample - loss: 0.0080\n",
      "Epoch 930/1000\n",
      "1512/1512 [==============================] - 0s 21us/sample - loss: 0.0080\n",
      "Epoch 931/1000\n",
      "1512/1512 [==============================] - 0s 21us/sample - loss: 0.0080\n",
      "Epoch 932/1000\n",
      "1512/1512 [==============================] - 0s 20us/sample - loss: 0.0080\n",
      "Epoch 933/1000\n",
      "1512/1512 [==============================] - 0s 20us/sample - loss: 0.0079\n",
      "Epoch 934/1000\n",
      "1512/1512 [==============================] - 0s 21us/sample - loss: 0.0079\n",
      "Epoch 935/1000\n",
      "1512/1512 [==============================] - 0s 21us/sample - loss: 0.0079\n",
      "Epoch 936/1000\n",
      "1512/1512 [==============================] - 0s 22us/sample - loss: 0.0079\n",
      "Epoch 937/1000\n",
      "1512/1512 [==============================] - 0s 22us/sample - loss: 0.0079\n",
      "Epoch 938/1000\n",
      "1512/1512 [==============================] - 0s 20us/sample - loss: 0.0080\n",
      "Epoch 939/1000\n",
      "1512/1512 [==============================] - 0s 22us/sample - loss: 0.0080\n",
      "Epoch 940/1000\n",
      "1512/1512 [==============================] - 0s 20us/sample - loss: 0.0079\n",
      "Epoch 941/1000\n",
      "1512/1512 [==============================] - 0s 22us/sample - loss: 0.0080\n",
      "Epoch 942/1000\n",
      "1512/1512 [==============================] - 0s 20us/sample - loss: 0.0079\n",
      "Epoch 943/1000\n",
      "1512/1512 [==============================] - 0s 18us/sample - loss: 0.0079\n",
      "Epoch 944/1000\n",
      "1512/1512 [==============================] - 0s 21us/sample - loss: 0.0079\n",
      "Epoch 945/1000\n",
      "1512/1512 [==============================] - 0s 21us/sample - loss: 0.0079\n",
      "Epoch 946/1000\n",
      "1512/1512 [==============================] - 0s 21us/sample - loss: 0.0079\n",
      "Epoch 947/1000\n",
      "1512/1512 [==============================] - 0s 20us/sample - loss: 0.0080\n",
      "Epoch 948/1000\n",
      "1512/1512 [==============================] - 0s 21us/sample - loss: 0.0079\n",
      "Epoch 949/1000\n",
      "1512/1512 [==============================] - 0s 14us/sample - loss: 0.0079\n",
      "Epoch 950/1000\n",
      "1512/1512 [==============================] - 0s 20us/sample - loss: 0.0079\n",
      "Epoch 951/1000\n",
      "1512/1512 [==============================] - 0s 20us/sample - loss: 0.0080\n",
      "Epoch 952/1000\n",
      "1512/1512 [==============================] - 0s 21us/sample - loss: 0.0079\n",
      "Epoch 953/1000\n",
      "1512/1512 [==============================] - 0s 21us/sample - loss: 0.0079\n",
      "Epoch 954/1000\n",
      "1512/1512 [==============================] - 0s 20us/sample - loss: 0.0079\n",
      "Epoch 955/1000\n",
      "1512/1512 [==============================] - 0s 20us/sample - loss: 0.0079\n",
      "Epoch 956/1000\n",
      "1512/1512 [==============================] - 0s 24us/sample - loss: 0.0079\n",
      "Epoch 957/1000\n",
      "1512/1512 [==============================] - 0s 23us/sample - loss: 0.0079\n",
      "Epoch 958/1000\n",
      "1512/1512 [==============================] - 0s 22us/sample - loss: 0.0080\n",
      "Epoch 959/1000\n",
      "1512/1512 [==============================] - 0s 22us/sample - loss: 0.0079\n",
      "Epoch 960/1000\n",
      "1512/1512 [==============================] - 0s 23us/sample - loss: 0.0079\n",
      "Epoch 961/1000\n",
      "1512/1512 [==============================] - 0s 20us/sample - loss: 0.0079\n",
      "Epoch 962/1000\n",
      "1512/1512 [==============================] - 0s 20us/sample - loss: 0.0080\n",
      "Epoch 963/1000\n",
      "1512/1512 [==============================] - 0s 19us/sample - loss: 0.0079\n",
      "Epoch 964/1000\n",
      "1512/1512 [==============================] - 0s 22us/sample - loss: 0.0079\n",
      "Epoch 965/1000\n",
      "1512/1512 [==============================] - 0s 22us/sample - loss: 0.0079\n",
      "Epoch 966/1000\n",
      "1512/1512 [==============================] - 0s 21us/sample - loss: 0.0080\n",
      "Epoch 967/1000\n",
      "1512/1512 [==============================] - 0s 20us/sample - loss: 0.0080\n",
      "Epoch 968/1000\n",
      "1512/1512 [==============================] - 0s 20us/sample - loss: 0.0080\n",
      "Epoch 969/1000\n",
      "1512/1512 [==============================] - 0s 20us/sample - loss: 0.0080\n",
      "Epoch 970/1000\n",
      "1512/1512 [==============================] - 0s 20us/sample - loss: 0.0080\n",
      "Epoch 971/1000\n",
      "1512/1512 [==============================] - 0s 21us/sample - loss: 0.0080\n",
      "Epoch 972/1000\n",
      "1512/1512 [==============================] - 0s 20us/sample - loss: 0.0080\n",
      "Epoch 973/1000\n",
      "1512/1512 [==============================] - 0s 20us/sample - loss: 0.0080\n",
      "Epoch 974/1000\n",
      "1512/1512 [==============================] - 0s 20us/sample - loss: 0.0080\n",
      "Epoch 975/1000\n",
      "1512/1512 [==============================] - 0s 20us/sample - loss: 0.0079\n",
      "Epoch 976/1000\n",
      "1512/1512 [==============================] - 0s 23us/sample - loss: 0.0080\n",
      "Epoch 977/1000\n",
      "1512/1512 [==============================] - 0s 20us/sample - loss: 0.0079\n",
      "Epoch 978/1000\n",
      "1512/1512 [==============================] - 0s 20us/sample - loss: 0.0080\n",
      "Epoch 979/1000\n",
      "1512/1512 [==============================] - 0s 16us/sample - loss: 0.0080\n",
      "Epoch 980/1000\n",
      "1512/1512 [==============================] - 0s 18us/sample - loss: 0.0079\n",
      "Epoch 981/1000\n",
      "1512/1512 [==============================] - 0s 21us/sample - loss: 0.0079\n",
      "Epoch 982/1000\n",
      "1512/1512 [==============================] - 0s 20us/sample - loss: 0.0079\n",
      "Epoch 983/1000\n",
      "1512/1512 [==============================] - 0s 20us/sample - loss: 0.0079\n",
      "Epoch 984/1000\n",
      "1512/1512 [==============================] - 0s 22us/sample - loss: 0.0079\n",
      "Epoch 985/1000\n",
      "1512/1512 [==============================] - 0s 20us/sample - loss: 0.0079\n",
      "Epoch 986/1000\n",
      "1512/1512 [==============================] - 0s 22us/sample - loss: 0.0079\n",
      "Epoch 987/1000\n",
      "1512/1512 [==============================] - 0s 22us/sample - loss: 0.0079\n",
      "Epoch 988/1000\n",
      "1512/1512 [==============================] - 0s 20us/sample - loss: 0.0079\n",
      "Epoch 989/1000\n",
      "1512/1512 [==============================] - 0s 20us/sample - loss: 0.0080\n",
      "Epoch 990/1000\n",
      "1512/1512 [==============================] - 0s 22us/sample - loss: 0.0080\n",
      "Epoch 991/1000\n",
      "1512/1512 [==============================] - 0s 18us/sample - loss: 0.0079\n",
      "Epoch 992/1000\n",
      "1512/1512 [==============================] - 0s 11us/sample - loss: 0.0079\n",
      "Epoch 993/1000\n",
      "1512/1512 [==============================] - 0s 15us/sample - loss: 0.0079\n",
      "Epoch 994/1000\n",
      "1512/1512 [==============================] - 0s 20us/sample - loss: 0.0080\n",
      "Epoch 995/1000\n",
      "1512/1512 [==============================] - 0s 21us/sample - loss: 0.0079\n",
      "Epoch 996/1000\n",
      "1512/1512 [==============================] - ETA: 0s - loss: 0.006 - 0s 22us/sample - loss: 0.0079\n",
      "Epoch 997/1000\n",
      "1512/1512 [==============================] - 0s 20us/sample - loss: 0.0079\n",
      "Epoch 998/1000\n",
      "1512/1512 [==============================] - 0s 21us/sample - loss: 0.0079\n"
     ]
    },
    {
     "name": "stdout",
     "output_type": "stream",
     "text": [
      "Epoch 999/1000\n",
      "1512/1512 [==============================] - 0s 21us/sample - loss: 0.0079\n",
      "Epoch 1000/1000\n",
      "1512/1512 [==============================] - 0s 21us/sample - loss: 0.0079\n"
     ]
    },
    {
     "data": {
      "text/plain": [
       "<tensorflow.python.keras.callbacks.History at 0x1ee64b7b630>"
      ]
     },
     "execution_count": 126,
     "metadata": {},
     "output_type": "execute_result"
    }
   ],
   "source": [
    "# step 1: build the model\n",
    "model1 = Sequential()\n",
    "#input layer\n",
    "model1.add(Dense(10, input_dim = 14, activation = 'relu'))\n",
    "#hidden layer\n",
    "model1.add(Dense(5, activation = 'relu'))\n",
    "#output layer\n",
    "model1.add(Dense(1, activation = 'sigmoid'))\n",
    "\n",
    "\n",
    "# step 2: build the computational graph - compile\n",
    "model1.compile(loss = 'mean_squared_error', optimizer = 'adam')\n",
    "\n",
    "# step 3: train the model\n",
    "model1.fit(X_train_nn, y_train, epochs = 1000, batch_size = 100)"
   ]
  },
  {
   "cell_type": "code",
   "execution_count": 127,
   "metadata": {},
   "outputs": [
    {
     "name": "stdout",
     "output_type": "stream",
     "text": [
      "1512/1512 [==============================] - 0s 81us/sample - loss: 0.0079\n"
     ]
    },
    {
     "data": {
      "text/plain": [
       "0.0078816687707942"
      ]
     },
     "execution_count": 127,
     "metadata": {},
     "output_type": "execute_result"
    }
   ],
   "source": [
    "model1.evaluate(X_train_nn, y_train)"
   ]
  },
  {
   "cell_type": "code",
   "execution_count": 128,
   "metadata": {},
   "outputs": [
    {
     "name": "stdout",
     "output_type": "stream",
     "text": [
      "505/505 [==============================] - 0s 36us/sample - loss: 0.0141\n"
     ]
    },
    {
     "data": {
      "text/plain": [
       "0.014101203910932683"
      ]
     },
     "execution_count": 128,
     "metadata": {},
     "output_type": "execute_result"
    }
   ],
   "source": [
    "model1.evaluate(X_test_nn, y_test)"
   ]
  }
 ],
 "metadata": {
  "kernelspec": {
   "display_name": "Python 3",
   "language": "python",
   "name": "python3"
  },
  "language_info": {
   "codemirror_mode": {
    "name": "ipython",
    "version": 3
   },
   "file_extension": ".py",
   "mimetype": "text/x-python",
   "name": "python",
   "nbconvert_exporter": "python",
   "pygments_lexer": "ipython3",
   "version": "3.7.3"
  }
 },
 "nbformat": 4,
 "nbformat_minor": 2
}
